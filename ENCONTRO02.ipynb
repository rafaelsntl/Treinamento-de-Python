{
  "nbformat": 4,
  "nbformat_minor": 0,
  "metadata": {
    "colab": {
      "name": "ENCONTRO 02 - TREINAMENTO DE PYTHON ",
      "provenance": []
    },
    "kernelspec": {
      "name": "python3",
      "display_name": "Python 3"
    },
    "language_info": {
      "name": "python"
    }
  },
  "cells": [
    {
      "cell_type": "markdown",
      "metadata": {
        "id": "vaQodCu-nhIV"
      },
      "source": [
        "#**README**#\n",
        "\n",
        "O Treinamento de Python é um projeto desenvolvido pelo Laboratório de\n",
        "Instrumentação Eletrônica e Controle (LIEC) e pelo Programa de Educação Tutorial\n",
        "de Engenharia Elétrica da Universidade Federal de Campina Grande (PET Elétrica\n",
        "UFCG), que tem como objetivo principal, durante a sua execução, desenvolver\n",
        "habilidades relacionadas a linguagem de programação Python, com foco em\n",
        "aplicações para engenheiros e para cientistas.\n",
        "\n",
        "Todo conteúdo produzido neste notebook foi adaptado por Rafael dos Santos Lima e por Tâmara Ruth Dantas dos Santos. Algumas sintaxes foram revisadas com auxilio da documentação do Python (https://docs.python.org/3/tutorial/index.html), do W3Schools (https://www.w3schools.com/python/default.asp) e do PYCUBATOR (http://df.python.org.br/pycubator/index.html).\n",
        "\n",
        "Este notebook será atualizado frequentemente.\n",
        "\n",
        "---\n",
        "\n",
        "Para mais informações e/ou sanar eventuais dúvidas, entrar em contato com:\n",
        "*   Rafael - rafaelsantos.lima@ee.ufcg.edu.br\n",
        "*   Tâmara - tamara.santos@ee.ufcg.edu.br"
      ]
    },
    {
      "cell_type": "markdown",
      "metadata": {
        "id": "xf9laIjXn3nC"
      },
      "source": [
        "# **Funções**"
      ]
    },
    {
      "cell_type": "markdown",
      "metadata": {
        "id": "d0sI63ASn45g"
      },
      "source": [
        "## **Introdução**\n",
        "\n",
        "Funções são blocos de código nomeados, concebidos para realizar uma tarefa específica. Quando queremos executar uma tarefa em particular, definida em uma função, chamamos o nome da função responsável por ela. \n",
        "\n",
        "> Em Python, uma função é definida pela sintaxe ***def***:\n",
        "```\n",
        "def hello_world():\n",
        "  print(\"Hello World!\")\n",
        "```\n",
        "\n",
        "> Para utilizar essa função basta chamá-la pelo nome escolhido e ela executará a função que lhe foi atribuída:\n",
        "```\n",
        "hello_world()\n",
        "```\n",
        "\n",
        "Nesse exemplo a frase Hello World! é exibida."
      ]
    },
    {
      "cell_type": "code",
      "metadata": {
        "colab": {
          "base_uri": "https://localhost:8080/"
        },
        "id": "M5z39GZUlgtk",
        "outputId": "13065323-d3fb-458c-c235-90a72e2cd1f4"
      },
      "source": [
        "def hello_world():\n",
        "  print(\"Hello World!\")\n",
        "\n",
        "hello_world()"
      ],
      "execution_count": null,
      "outputs": [
        {
          "output_type": "stream",
          "name": "stdout",
          "text": [
            "Hello World!\n"
          ]
        }
      ]
    },
    {
      "cell_type": "markdown",
      "metadata": {
        "id": "QxBMDF61oD8a"
      },
      "source": [
        "## **Argumentos**\n",
        "\n",
        "Também é possível passar argumentos/parâmetros nas nossas funções. Os argumentos são utilizados para a passagem de informações para a função criada. Cada argumento é constituído de um nome de variável e de um valor, ou por meio de listas e dicionários de valores que são separados por meio de uma vírgula."
      ]
    },
    {
      "cell_type": "code",
      "metadata": {
        "id": "o1glGWOnoE9d"
      },
      "source": [
        "def saudacao(primeiro_nome, ultimo_nome):\n",
        "  nome_completo = primeiro_nome.strip() + ' ' + ultimo_nome.strip()\n",
        "  print('Olá, ' + nome_completo.title())\n",
        "  \n",
        "nome = input(\"Digite seu nome: \")\n",
        "sobrenome = input(\"Digite seu sobrenome: \")\n",
        "saudacao(nome, sobrenome)"
      ],
      "execution_count": null,
      "outputs": []
    },
    {
      "cell_type": "markdown",
      "metadata": {
        "id": "0vEEk2FuoUfw"
      },
      "source": [
        " **Valores padrão**\n",
        "\n",
        "Podemos definir um valor padrão para os argumentos nossa função. Desse modo, caso o usuário não preencha os argumentos da função, ela utilizará o padrão indicado."
      ]
    },
    {
      "cell_type": "code",
      "metadata": {
        "colab": {
          "base_uri": "https://localhost:8080/"
        },
        "id": "FnJonFTgoVBS",
        "outputId": "1492d8e8-a36f-4abb-d1a7-fd7050f71b79"
      },
      "source": [
        "def saudacao(primeiro_nome= 'Carlos', ultimo_nome='Antônio'):\n",
        "  nome_completo = primeiro_nome + ' ' + ultimo_nome\n",
        "  print('Olá ' + nome_completo.title())\n",
        "\n",
        "saudacao('RaFAel', 'Santos')\n",
        "saudacao(ultimo_nome='ruth', primeiro_nome='Tâmara')\n",
        "saudacao()"
      ],
      "execution_count": null,
      "outputs": [
        {
          "output_type": "stream",
          "name": "stdout",
          "text": [
            "Olá Rafael Santos\n",
            "Olá Tâmara Ruth\n",
            "Olá Carlos Antônio\n"
          ]
        }
      ]
    },
    {
      "cell_type": "markdown",
      "metadata": {
        "id": "iaSe0MHDoqBL"
      },
      "source": [
        "**Passando uma lista como argumento**\n",
        "\n",
        "Você pode enviar qualquer tipo de dados como argumento para uma função (string, numero, lista, dicionário, etc.). Esse dado será tratado como o mesmo tipo de dados dentro da função.\n",
        "\n",
        "> Perceba que nós tratamos o dado do nosso argumento da mesma forma que trataríamos se estivessem acessando essa lista sem uma função."
      ]
    },
    {
      "cell_type": "code",
      "metadata": {
        "colab": {
          "base_uri": "https://localhost:8080/"
        },
        "id": "cliFjkODora0",
        "outputId": "037b2f0f-8c0f-4016-a7ca-7d65c10ebb2a"
      },
      "source": [
        "def minhas_frutas(frutas):\n",
        "  # print (frutas)\n",
        "  for fruta in frutas:\n",
        "    print(fruta)\n",
        "\n",
        "frutas = ['Manga', 'Maçã', 'Melão']\n",
        "minhas_frutas(frutas)"
      ],
      "execution_count": null,
      "outputs": [
        {
          "output_type": "stream",
          "name": "stdout",
          "text": [
            "Manga\n",
            "Maçã\n",
            "Melão\n"
          ]
        }
      ]
    },
    {
      "cell_type": "markdown",
      "metadata": {
        "id": "X7_QoJI2owLy"
      },
      "source": [
        "## **Retornando valores**\n",
        "\n",
        "Podemos deixar uma função retornar um valor, para isso utilizamos a declaração de retorno “return value”:\n",
        "\n",
        "> Perceba que nossa função retorna um valor que pode ser atribuído a uma variável, caso queiramos."
      ]
    },
    {
      "cell_type": "code",
      "metadata": {
        "colab": {
          "base_uri": "https://localhost:8080/"
        },
        "id": "mkYTZM5Qox5A",
        "outputId": "13bf083d-9a4b-4b44-92b6-d82fbac0c1ba"
      },
      "source": [
        "def somar_5(num):\n",
        "  return num + 5\n",
        "\n",
        "numero = somar_5(10)\n",
        "print(numero)\n",
        "print(somar_5(-10))"
      ],
      "execution_count": null,
      "outputs": [
        {
          "output_type": "stream",
          "name": "stdout",
          "text": [
            "15\n",
            "-5\n"
          ]
        }
      ]
    },
    {
      "cell_type": "markdown",
      "metadata": {
        "id": "SXrS818apr4v"
      },
      "source": [
        "# **Tuplas, conjuntos e dicionários** "
      ]
    },
    {
      "cell_type": "markdown",
      "metadata": {
        "id": "6URiriMhcU8v"
      },
      "source": [
        "\n",
        "|  **TIPO**  |   **DESCRIÇÃO** | **SINTAXE**|\n",
        "|:----------:|:---------------:|:-----------:|\n",
        "|**tuple**|**tupla: uma sequência de dados que é imutável** |*vogais = ('a','e','i','o','u')*|\n",
        "| **set**  | **conjunto: elementos não possuem ordem e não se repetem** |*alg_decimais = {0,1,2,3,4,5,6,7,8,9}* |\n",
        "| **dict** | **dicionário: são indexaxos por uma chave keys** | *alg_romanos = {'I':1,\"II\":2,'III':3,'IV':4,'V':5,'X':10}* |"
      ]
    },
    {
      "cell_type": "markdown",
      "metadata": {
        "id": "L07ckYtDhN0c"
      },
      "source": [
        "## **Tuplas**"
      ]
    },
    {
      "cell_type": "markdown",
      "metadata": {
        "id": "mXA_cVFciPLH"
      },
      "source": [
        "Tuplas são usadas para armazenar vários itens em uma única variável;\n",
        "> É uma coleção ordenada, seus itens têm uma ordem definida e essa ordem não mudará;\n",
        "\n",
        "> É imutável, nós não podemos mudar, adicionar ou remover itens após a tupla ter sido criada;\n",
        "\n",
        "> As tuplas são escritas com colchetes."
      ]
    },
    {
      "cell_type": "code",
      "metadata": {
        "colab": {
          "base_uri": "https://localhost:8080/",
          "height": 35
        },
        "id": "bls7QbY9flpY",
        "outputId": "b6d0ea3c-bed2-4058-dd1b-e415a2aa177f"
      },
      "source": [
        "vogais = ('a','e','i','o','u')\n",
        "vogais[0]"
      ],
      "execution_count": null,
      "outputs": [
        {
          "output_type": "execute_result",
          "data": {
            "application/vnd.google.colaboratory.intrinsic+json": {
              "type": "string"
            },
            "text/plain": [
              "'a'"
            ]
          },
          "metadata": {},
          "execution_count": 58
        }
      ]
    },
    {
      "cell_type": "markdown",
      "metadata": {
        "id": "8FPRmdl8vdbM"
      },
      "source": [
        "**Também podemos fatiar:**"
      ]
    },
    {
      "cell_type": "code",
      "metadata": {
        "colab": {
          "base_uri": "https://localhost:8080/"
        },
        "id": "HsIz5hevvc7Q",
        "outputId": "99e9d192-1ccb-4d89-ccae-ba1f579349ed"
      },
      "source": [
        "print (vogais[0:2])\n",
        "print (vogais[1:])\n",
        "print (vogais[-5])"
      ],
      "execution_count": null,
      "outputs": [
        {
          "output_type": "stream",
          "name": "stdout",
          "text": [
            "('a', 'e')\n",
            "('e', 'i', 'o', 'u')\n",
            "a\n"
          ]
        }
      ]
    },
    {
      "cell_type": "markdown",
      "metadata": {
        "id": "sYDo0N1YwBju"
      },
      "source": [
        "**Tuplas são imutáveis:**"
      ]
    },
    {
      "cell_type": "code",
      "metadata": {
        "colab": {
          "base_uri": "https://localhost:8080/",
          "height": 189
        },
        "id": "laLmr_BFgVa3",
        "outputId": "12fe2744-63b8-4e5e-ef3a-0012924dd9af"
      },
      "source": [
        "#O objeto não suporta atribuição.\n",
        "vogais = ('a','e','i','o','u')\n",
        "vogais[0] = 'c'"
      ],
      "execution_count": null,
      "outputs": [
        {
          "output_type": "error",
          "ename": "TypeError",
          "evalue": "ignored",
          "traceback": [
            "\u001b[0;31m---------------------------------------------------------------------------\u001b[0m",
            "\u001b[0;31mTypeError\u001b[0m                                 Traceback (most recent call last)",
            "\u001b[0;32m<ipython-input-6-913c0bc5f1eb>\u001b[0m in \u001b[0;36m<module>\u001b[0;34m()\u001b[0m\n\u001b[1;32m      1\u001b[0m \u001b[0mvogais\u001b[0m \u001b[0;34m=\u001b[0m \u001b[0;34m(\u001b[0m\u001b[0;34m'a'\u001b[0m\u001b[0;34m,\u001b[0m\u001b[0;34m'e'\u001b[0m\u001b[0;34m,\u001b[0m\u001b[0;34m'i'\u001b[0m\u001b[0;34m,\u001b[0m\u001b[0;34m'o'\u001b[0m\u001b[0;34m,\u001b[0m\u001b[0;34m'u'\u001b[0m\u001b[0;34m)\u001b[0m\u001b[0;34m\u001b[0m\u001b[0;34m\u001b[0m\u001b[0m\n\u001b[0;32m----> 2\u001b[0;31m \u001b[0mvogais\u001b[0m\u001b[0;34m[\u001b[0m\u001b[0;36m0\u001b[0m\u001b[0;34m]\u001b[0m \u001b[0;34m=\u001b[0m \u001b[0;34m'c'\u001b[0m\u001b[0;34m\u001b[0m\u001b[0;34m\u001b[0m\u001b[0m\n\u001b[0m",
            "\u001b[0;31mTypeError\u001b[0m: 'tuple' object does not support item assignment"
          ]
        }
      ]
    },
    {
      "cell_type": "markdown",
      "metadata": {
        "id": "XpCVJQ13gxb-"
      },
      "source": [
        "**Usando o for:**"
      ]
    },
    {
      "cell_type": "code",
      "metadata": {
        "colab": {
          "base_uri": "https://localhost:8080/"
        },
        "id": "CeT6agk2xL-n",
        "outputId": "f5c8fa9b-8133-4926-adf6-077b1eb0df74"
      },
      "source": [
        "for i in vogais:#Para cada \"vogal\" na tupla de \"vogais\"\n",
        "    print(i)"
      ],
      "execution_count": null,
      "outputs": [
        {
          "output_type": "stream",
          "name": "stdout",
          "text": [
            "a\n",
            "e\n",
            "i\n",
            "o\n",
            "u\n"
          ]
        }
      ]
    },
    {
      "cell_type": "code",
      "metadata": {
        "colab": {
          "base_uri": "https://localhost:8080/"
        },
        "id": "qSYJ-kaW7YDr",
        "outputId": "3b1a17d1-8fb7-4c6f-d54b-beb4a40c7085"
      },
      "source": [
        "for i in range(len(vogais)):\n",
        "  print(vogais[i])"
      ],
      "execution_count": null,
      "outputs": [
        {
          "output_type": "stream",
          "name": "stdout",
          "text": [
            "a\n",
            "e\n",
            "i\n",
            "o\n",
            "u\n"
          ]
        }
      ]
    },
    {
      "cell_type": "code",
      "metadata": {
        "colab": {
          "base_uri": "https://localhost:8080/"
        },
        "id": "nTLrTY5ubtWQ",
        "outputId": "a55707fb-d1dc-4fc2-95c4-4c8210da1776"
      },
      "source": [
        "for i in enumerate(vogais):#enumerate adiciona um contador a um interável\n",
        "  print(i[1])"
      ],
      "execution_count": null,
      "outputs": [
        {
          "output_type": "stream",
          "name": "stdout",
          "text": [
            "a\n",
            "e\n",
            "i\n",
            "o\n",
            "u\n"
          ]
        }
      ]
    },
    {
      "cell_type": "markdown",
      "metadata": {
        "id": "FqW0W6Tsj0U-"
      },
      "source": [
        "**Os itens de tupla podem ser de qualquer tipo de dados:**"
      ]
    },
    {
      "cell_type": "code",
      "metadata": {
        "id": "r2mW0wYPj3tb",
        "colab": {
          "base_uri": "https://localhost:8080/"
        },
        "outputId": "28c6f6e7-5a33-4b5f-da80-9023d8c63f85"
      },
      "source": [
        "tupla1 = (\"apple\", \"banana\", \"cherry\")\n",
        "tupla2 = (1, 5, 7, 9, 3)\n",
        "tupla3 = (True, False, False)\n",
        "print (tupla1)\n",
        "print (tupla2)\n",
        "print (tupla3)"
      ],
      "execution_count": null,
      "outputs": [
        {
          "output_type": "stream",
          "name": "stdout",
          "text": [
            "('apple', 'banana', 'cherry')\n",
            "(1, 5, 7, 9, 3)\n",
            "(True, False, False)\n"
          ]
        }
      ]
    },
    {
      "cell_type": "markdown",
      "metadata": {
        "id": "GIcetypnj_tJ"
      },
      "source": [
        "**Uma tupla pode conter diferentes tipos de dados:**"
      ]
    },
    {
      "cell_type": "code",
      "metadata": {
        "id": "eOxS-PLzj51V",
        "colab": {
          "base_uri": "https://localhost:8080/"
        },
        "outputId": "5d142410-dfbc-4b91-c5aa-ad95f25bbb63"
      },
      "source": [
        "tuple1 = (\"abc\", 34, True, 40, \"cachorro\")\n",
        "tuple1"
      ],
      "execution_count": null,
      "outputs": [
        {
          "output_type": "execute_result",
          "data": {
            "text/plain": [
              "('abc', 34, True, 40, 'cachorro')"
            ]
          },
          "metadata": {},
          "execution_count": 63
        }
      ]
    },
    {
      "cell_type": "markdown",
      "metadata": {
        "id": "eWlrbmT_kRcS"
      },
      "source": [
        "\n",
        "**O construtor tupla ()**\n",
        "\n",
        "> Também é possível usar o construtor tuple () para fazer uma tupla:"
      ]
    },
    {
      "cell_type": "code",
      "metadata": {
        "colab": {
          "base_uri": "https://localhost:8080/"
        },
        "id": "g8TxWzugkIWh",
        "outputId": "1306fb2d-c211-4bf4-ccd7-7b242d0125e0"
      },
      "source": [
        "estaTupla = tuple((\"apple\", \"banana\", \"cherry\"))#note os colchetes duplos\n",
        "print(estaTupla)"
      ],
      "execution_count": null,
      "outputs": [
        {
          "output_type": "stream",
          "name": "stdout",
          "text": [
            "('apple', 'banana', 'cherry')\n"
          ]
        }
      ]
    },
    {
      "cell_type": "markdown",
      "metadata": {
        "id": "LRDOuNHt8_Ug"
      },
      "source": [
        "**Para apagar uma Tupla, usamos o del:**"
      ]
    },
    {
      "cell_type": "code",
      "metadata": {
        "colab": {
          "base_uri": "https://localhost:8080/",
          "height": 197
        },
        "id": "bXHz6Qnr9C8-",
        "outputId": "616e4de2-cc18-41a7-ee37-0b3fac441f4c"
      },
      "source": [
        "comidas = (\"apple\", \"banana\", \"cherry\")\n",
        "del(comidas) \n",
        "print (comidas)"
      ],
      "execution_count": null,
      "outputs": [
        {
          "output_type": "error",
          "ename": "NameError",
          "evalue": "ignored",
          "traceback": [
            "\u001b[0;31m---------------------------------------------------------------------------\u001b[0m",
            "\u001b[0;31mNameError\u001b[0m                                 Traceback (most recent call last)",
            "\u001b[0;32m<ipython-input-21-96640b4719eb>\u001b[0m in \u001b[0;36m<module>\u001b[0;34m()\u001b[0m\n\u001b[1;32m      1\u001b[0m \u001b[0mcomidas\u001b[0m \u001b[0;34m=\u001b[0m \u001b[0;34m(\u001b[0m\u001b[0;34m\"apple\"\u001b[0m\u001b[0;34m,\u001b[0m \u001b[0;34m\"banana\"\u001b[0m\u001b[0;34m,\u001b[0m \u001b[0;34m\"cherry\"\u001b[0m\u001b[0;34m)\u001b[0m\u001b[0;34m\u001b[0m\u001b[0;34m\u001b[0m\u001b[0m\n\u001b[1;32m      2\u001b[0m \u001b[0;32mdel\u001b[0m\u001b[0;34m(\u001b[0m\u001b[0mcomidas\u001b[0m\u001b[0;34m)\u001b[0m\u001b[0;34m\u001b[0m\u001b[0;34m\u001b[0m\u001b[0m\n\u001b[0;32m----> 3\u001b[0;31m \u001b[0mprint\u001b[0m \u001b[0;34m(\u001b[0m\u001b[0mcomidas\u001b[0m\u001b[0;34m)\u001b[0m\u001b[0;34m\u001b[0m\u001b[0;34m\u001b[0m\u001b[0m\n\u001b[0m",
            "\u001b[0;31mNameError\u001b[0m: name 'comidas' is not defined"
          ]
        }
      ]
    },
    {
      "cell_type": "markdown",
      "metadata": {
        "id": "YjMWdFonuDUm"
      },
      "source": [
        "## **Conjuntos**"
      ]
    },
    {
      "cell_type": "markdown",
      "metadata": {
        "id": "IwExb34ypKjQ"
      },
      "source": [
        "Os conjuntos são usados ​​para armazenar vários itens em uma única variável.\n",
        "\n",
        "> Um conjunto é uma coleção não ordenada e não indexada;\n",
        "\n",
        "> Os conjuntos são escritos com colchetes."
      ]
    },
    {
      "cell_type": "code",
      "metadata": {
        "colab": {
          "base_uri": "https://localhost:8080/"
        },
        "id": "-oMTWNB8pDEI",
        "outputId": "ec53f325-5eb2-4ec5-bfd3-5ec19ffcc4c8"
      },
      "source": [
        "set_variaveis = {'e','i','o','a','u'}\n",
        "set_variaveis"
      ],
      "execution_count": null,
      "outputs": [
        {
          "output_type": "execute_result",
          "data": {
            "text/plain": [
              "{'a', 'e', 'i', 'o', 'u'}"
            ]
          },
          "metadata": {},
          "execution_count": 22
        }
      ]
    },
    {
      "cell_type": "markdown",
      "metadata": {
        "id": "JQFLHbk9qEq_"
      },
      "source": [
        "Perceba, pela saída, que a ordem não importa aqui."
      ]
    },
    {
      "cell_type": "markdown",
      "metadata": {
        "id": "4yDrE26kpXKS"
      },
      "source": [
        "**Não são indexáveis:**"
      ]
    },
    {
      "cell_type": "code",
      "metadata": {
        "colab": {
          "base_uri": "https://localhost:8080/",
          "height": 171
        },
        "id": "jS-T1K-PpbwO",
        "outputId": "4c96dd14-e3fe-469f-d8a7-1b3ca3a6eeb5"
      },
      "source": [
        "set_variaveis[0]"
      ],
      "execution_count": null,
      "outputs": [
        {
          "output_type": "error",
          "ename": "TypeError",
          "evalue": "ignored",
          "traceback": [
            "\u001b[0;31m---------------------------------------------------------------------------\u001b[0m",
            "\u001b[0;31mTypeError\u001b[0m                                 Traceback (most recent call last)",
            "\u001b[0;32m<ipython-input-19-5b245a1be934>\u001b[0m in \u001b[0;36m<module>\u001b[0;34m()\u001b[0m\n\u001b[0;32m----> 1\u001b[0;31m \u001b[0mset_variaveis\u001b[0m\u001b[0;34m[\u001b[0m\u001b[0;36m0\u001b[0m\u001b[0;34m]\u001b[0m\u001b[0;34m\u001b[0m\u001b[0;34m\u001b[0m\u001b[0m\n\u001b[0m",
            "\u001b[0;31mTypeError\u001b[0m: 'set' object is not subscriptable"
          ]
        }
      ]
    },
    {
      "cell_type": "markdown",
      "metadata": {
        "id": "vpRqiZW3pus2"
      },
      "source": [
        "**Os elementos não se repetem:**"
      ]
    },
    {
      "cell_type": "code",
      "metadata": {
        "colab": {
          "base_uri": "https://localhost:8080/"
        },
        "id": "5QcgxErHpihX",
        "outputId": "31b0eba3-a76d-472a-a804-85e242a719a0"
      },
      "source": [
        "set_var = {'a','e','i','o','a'} #perceba que eu estou repetindo o 'a'\n",
        "set_var"
      ],
      "execution_count": null,
      "outputs": [
        {
          "output_type": "execute_result",
          "data": {
            "text/plain": [
              "{'a', 'e', 'i', 'o'}"
            ]
          },
          "metadata": {},
          "execution_count": 64
        }
      ]
    },
    {
      "cell_type": "markdown",
      "metadata": {
        "id": "Lx3jNCmVq2cE"
      },
      "source": [
        "**Métodos:**\n",
        "\n",
        "|  **TIPO**  |   **DESCRIÇÃO** | \n",
        "|:----------:|:---------------:|\n",
        "s.add(v) | adiciona um valor no set\n",
        "s.remove(v) | remove v. Deve disparar um erro se v não estiver em s\n",
        "s.discard(v) | remove v. Não disparar erro\n",
        "s.difference(s2) ou s - s2 | elementos em s, mas não em s2\n",
        "s.union(s2) ou s \\| s2 | elementos em s ou s2\n",
        "s.intersection(s2) ou s & s2 | elementos em s e s2\n",
        "s.update(s2) ou s = s \\| s2 | atualiza s com valores de s2"
      ]
    },
    {
      "cell_type": "code",
      "metadata": {
        "colab": {
          "base_uri": "https://localhost:8080/"
        },
        "id": "KjtxuN1NqqOO",
        "outputId": "de304534-ba74-4848-e1e3-bf11c22e04cb"
      },
      "source": [
        "conj1 = {'a','b','c','d'}\n",
        "conj2 = {'a','e','i','o','u'}\n",
        "x = conj1.difference(conj2)\n",
        "print(x)"
      ],
      "execution_count": null,
      "outputs": [
        {
          "output_type": "stream",
          "name": "stdout",
          "text": [
            "{'b', 'c', 'd'}\n"
          ]
        }
      ]
    },
    {
      "cell_type": "markdown",
      "metadata": {
        "id": "02VLD5-ut4Dw"
      },
      "source": [
        "## **Dicionários**"
      ]
    },
    {
      "cell_type": "markdown",
      "metadata": {
        "id": "I43r2jP3s0Ij"
      },
      "source": [
        "Os dicionários são usados para armazenar valores de dados na chave: pares de valores.\n",
        "\n",
        "> Um dicionário é uma coleção ordenada*, modificável e não permite duplicatas.\n",
        "\n",
        "> Diferentemente das listas em que os elementos são acessados através de uma posição ou índice, nos dicionários o acesso às informações ocorrem através de chaves.\n",
        "\n",
        "\n",
        "*São ordenados a partir do Python versão 3.7. No Python 3.6 e anteriores, os dicionários não são ordenados."
      ]
    },
    {
      "cell_type": "code",
      "metadata": {
        "colab": {
          "base_uri": "https://localhost:8080/"
        },
        "id": "etYMsV4_s9E2",
        "outputId": "616285ac-391d-4e7c-d328-1c77971f41dd"
      },
      "source": [
        "dict01 = {\n",
        "  \"marca\": \"Ford\",\n",
        "  \"modelo\": \"Mustang\",\n",
        "  \"ano\": 1964}\n",
        "print(dict01)"
      ],
      "execution_count": null,
      "outputs": [
        {
          "output_type": "stream",
          "name": "stdout",
          "text": [
            "{'marca': 'Ford', 'modelo': 'Mustang', 'ano': 1964}\n"
          ]
        }
      ]
    },
    {
      "cell_type": "markdown",
      "metadata": {
        "id": "IzT8nT1quw4w"
      },
      "source": [
        "**O dicionário não é indexado como as listas. Então, se colocarmos dict01[0], teremos um erro: **"
      ]
    },
    {
      "cell_type": "code",
      "metadata": {
        "colab": {
          "base_uri": "https://localhost:8080/",
          "height": 171
        },
        "id": "Jl4A0gBUu9Sf",
        "outputId": "ce885185-a2c8-4378-a580-7e59870f708a"
      },
      "source": [
        "print(dict01[0])"
      ],
      "execution_count": null,
      "outputs": [
        {
          "output_type": "error",
          "ename": "KeyError",
          "evalue": "ignored",
          "traceback": [
            "\u001b[0;31m---------------------------------------------------------------------------\u001b[0m",
            "\u001b[0;31mKeyError\u001b[0m                                  Traceback (most recent call last)",
            "\u001b[0;32m<ipython-input-29-4667b72b35d5>\u001b[0m in \u001b[0;36m<module>\u001b[0;34m()\u001b[0m\n\u001b[0;32m----> 1\u001b[0;31m \u001b[0mprint\u001b[0m\u001b[0;34m(\u001b[0m\u001b[0mdict01\u001b[0m\u001b[0;34m[\u001b[0m\u001b[0;36m0\u001b[0m\u001b[0;34m]\u001b[0m\u001b[0;34m)\u001b[0m\u001b[0;34m\u001b[0m\u001b[0;34m\u001b[0m\u001b[0m\n\u001b[0m",
            "\u001b[0;31mKeyError\u001b[0m: 0"
          ]
        }
      ]
    },
    {
      "cell_type": "markdown",
      "metadata": {
        "id": "uSkNT7gLvA4c"
      },
      "source": [
        "**Os dicionários são indexados com suas chaves:**"
      ]
    },
    {
      "cell_type": "code",
      "metadata": {
        "colab": {
          "base_uri": "https://localhost:8080/"
        },
        "id": "cmkZ7RrfvSBb",
        "outputId": "510c98f4-81fb-44aa-9fd1-0e882f40dca3"
      },
      "source": [
        "dict01['ano']"
      ],
      "execution_count": null,
      "outputs": [
        {
          "output_type": "execute_result",
          "data": {
            "text/plain": [
              "1964"
            ]
          },
          "metadata": {},
          "execution_count": 69
        }
      ]
    },
    {
      "cell_type": "markdown",
      "metadata": {
        "id": "tUioM42H-nE6"
      },
      "source": [
        "**Para adicionar algum elemento:**"
      ]
    },
    {
      "cell_type": "code",
      "metadata": {
        "colab": {
          "base_uri": "https://localhost:8080/"
        },
        "id": "Yg7bQdnD-rai",
        "outputId": "de2c5272-3393-47c0-8e29-40edad73512b"
      },
      "source": [
        "dict01['Estado'] = 'Seminovo'\n",
        "dict01"
      ],
      "execution_count": null,
      "outputs": [
        {
          "output_type": "execute_result",
          "data": {
            "text/plain": [
              "{'Estado': 'Seminovo', 'ano': 1964, 'marca': 'Ford', 'modelo': 'Mustang'}"
            ]
          },
          "metadata": {},
          "execution_count": 71
        }
      ]
    },
    {
      "cell_type": "markdown",
      "metadata": {
        "id": "qd-As6gx--8f"
      },
      "source": [
        "**Para remover algum elemento:**"
      ]
    },
    {
      "cell_type": "code",
      "metadata": {
        "colab": {
          "base_uri": "https://localhost:8080/"
        },
        "id": "f0HuUsoV--8g",
        "outputId": "326b3072-7ec8-4b26-cb83-416f9e3d44dd"
      },
      "source": [
        "del dict01['Estado'] \n",
        "print(dict01)"
      ],
      "execution_count": null,
      "outputs": [
        {
          "output_type": "stream",
          "name": "stdout",
          "text": [
            "{'marca': 'Ford', 'modelo': 'Mustang', 'ano': 1964}\n"
          ]
        }
      ]
    },
    {
      "cell_type": "markdown",
      "metadata": {
        "id": "qktqMFkmvqiY"
      },
      "source": [
        "**Métodos:**\n",
        "\n",
        "|  **TIPO**  |   **DESCRIÇÃO** | \n",
        "|:----------:|:---------------:|\n",
        ".items() | Retorna os itens do dicionário\n",
        ".keys()\t | \tRetorna as chaves do dicionário\n",
        ".values() | Retorna os valores do dicionário\n",
        ".pop(key) | Remove a chave especificada e retorna o valor do item\n",
        ".copy()| Retorna uma cópia\n",
        ".clear() | Remove os itens\n",
        ".get(key) | Retornas a váriável em key"
      ]
    },
    {
      "cell_type": "markdown",
      "metadata": {
        "id": "aEbzqeWKxRdU"
      },
      "source": [
        "Para remover um valor utilizando o .pop() teremos que passar a chave, e não o índice."
      ]
    },
    {
      "cell_type": "code",
      "metadata": {
        "colab": {
          "base_uri": "https://localhost:8080/"
        },
        "id": "m4telA6hxADa",
        "outputId": "8c2a030c-779c-471e-fb71-92f97bc89b57"
      },
      "source": [
        "alg_romanos = {'I':1,'II':2,'III':3,'IV':4}\n",
        "\n",
        "a = alg_romanos.pop('IV')\n",
        "alg_romanos"
      ],
      "execution_count": null,
      "outputs": [
        {
          "output_type": "execute_result",
          "data": {
            "text/plain": [
              "{'I': 1, 'II': 2, 'III': 3}"
            ]
          },
          "metadata": {},
          "execution_count": 40
        }
      ]
    },
    {
      "cell_type": "code",
      "metadata": {
        "colab": {
          "base_uri": "https://localhost:8080/"
        },
        "id": "Ldwf_C8AOsPw",
        "outputId": "6560d639-2f6d-4093-c40f-35e45f056e56"
      },
      "source": [
        "alg_romanos.items()"
      ],
      "execution_count": null,
      "outputs": [
        {
          "output_type": "execute_result",
          "data": {
            "text/plain": [
              "dict_items([('I', 1), ('II', 2), ('III', 3)])"
            ]
          },
          "metadata": {},
          "execution_count": 44
        }
      ]
    },
    {
      "cell_type": "markdown",
      "metadata": {
        "id": "By775M6SAw1Z"
      },
      "source": [
        "**No dicionário, eu não posso usar o enumerate. Mas podemos usar o for assim:**"
      ]
    },
    {
      "cell_type": "code",
      "metadata": {
        "colab": {
          "base_uri": "https://localhost:8080/"
        },
        "id": "6UcSUxRc_0AO",
        "outputId": "2399c672-19f8-4517-e04e-63becc1df447"
      },
      "source": [
        "filme = {'titulo': 'Star Wars',\n",
        "         'ano': 1977,\n",
        "         'diretor': 'George Lucas'}  \n",
        "# for i in filme.items():\n",
        "#   print (i[1])\n",
        "for k, v in filme.items():  \n",
        "    print(f'O {k} é {v}')  "
      ],
      "execution_count": null,
      "outputs": [
        {
          "output_type": "stream",
          "name": "stdout",
          "text": [
            "O titulo é Star Wars\n",
            "O ano é 1977\n",
            "O diretor é George Lucas\n"
          ]
        }
      ]
    },
    {
      "cell_type": "markdown",
      "metadata": {
        "id": "kd9Oc4NayMA5"
      },
      "source": [
        "**Transformando esses elementos em uma lista com 3 elementos, onde cada elemento dessa lista é uma tupla que contém a chave e o elemento.**"
      ]
    },
    {
      "cell_type": "code",
      "metadata": {
        "colab": {
          "base_uri": "https://localhost:8080/"
        },
        "id": "USQty7i5yG2f",
        "outputId": "e369753d-a311-4db1-dfec-509b4389e28a"
      },
      "source": [
        "x = list(alg_romanos.items())\n",
        "x"
      ],
      "execution_count": null,
      "outputs": [
        {
          "output_type": "execute_result",
          "data": {
            "text/plain": [
              "[('I', 1), ('II', 2), ('III', 3)]"
            ]
          },
          "metadata": {},
          "execution_count": 53
        }
      ]
    },
    {
      "cell_type": "markdown",
      "metadata": {
        "id": "P6ooFLR6y11Y"
      },
      "source": [
        "**Se quisermos pegar algum elemento dessa tupla:**"
      ]
    },
    {
      "cell_type": "code",
      "metadata": {
        "colab": {
          "base_uri": "https://localhost:8080/",
          "height": 35
        },
        "id": "o-GX_OBGyh8z",
        "outputId": "13e8526c-3a43-4147-9fca-800164336671"
      },
      "source": [
        "x[1][0]"
      ],
      "execution_count": null,
      "outputs": [
        {
          "output_type": "execute_result",
          "data": {
            "application/vnd.google.colaboratory.intrinsic+json": {
              "type": "string"
            },
            "text/plain": [
              "'II'"
            ]
          },
          "metadata": {},
          "execution_count": 54
        }
      ]
    },
    {
      "cell_type": "markdown",
      "metadata": {
        "id": "orBomB8nzGPv"
      },
      "source": [
        "**Retornando os valores do dicionário**"
      ]
    },
    {
      "cell_type": "code",
      "metadata": {
        "colab": {
          "base_uri": "https://localhost:8080/"
        },
        "id": "SRSqA1jBzCsk",
        "outputId": "f09b4e89-c27d-4d8c-ad8e-9c2c16b8346f"
      },
      "source": [
        "list(alg_romanos.values())"
      ],
      "execution_count": null,
      "outputs": [
        {
          "output_type": "execute_result",
          "data": {
            "text/plain": [
              "[1, 2, 3]"
            ]
          },
          "metadata": {},
          "execution_count": 55
        }
      ]
    },
    {
      "cell_type": "markdown",
      "metadata": {
        "id": "vYvl-StQWGjB"
      },
      "source": [
        "Visto isso, temos que uma lista é uma sequência de elementos em uma ordem específica. Você pode acessar elementos com um índice numérico, por exemplo, the_list[3].\n",
        "\n",
        "Uma tupla é basicamente uma lista imutável, o que significa que você não pode adicionar, remover ou replace nenhum elemento.\n",
        "\n",
        "Um conjunto não tem ordem, mas tem a vantagem sobre uma lista que testar se o conjunto contém um elemento é muito mais rápido, quase independentemente do tamanho do conjunto. Ele também tem algumas operações úteis, como união e interseção.\n",
        "\n",
        "Um dictionary é um mapeamento de chaves para valores em que as chaves podem ser todos os tipos de objects diferentes, em contraste com as listas nas quais as ‘chaves’ podem ser apenas números."
      ]
    },
    {
      "cell_type": "markdown",
      "metadata": {
        "id": "JqPxJA3FADqd"
      },
      "source": [
        "# **Arquivos**"
      ]
    },
    {
      "cell_type": "markdown",
      "metadata": {
        "id": "YLKZZTVZAKfq"
      },
      "source": [
        "## **Abrir**"
      ]
    },
    {
      "cell_type": "markdown",
      "metadata": {
        "id": "Jv98byx8AOuL"
      },
      "source": [
        "**open(name, mode)** retorna um objeto do tipo file\n",
        "\n",
        "> name é o caminho do arquivo a ser aberto;\n",
        "\n",
        "> mode:\n",
        "\n",
        "*   '**r**' (read - leitura): o arquivo é aberto em modo somente leitura\n",
        "*   '**w**' (write - escrita): o arquivo é aberto em modo somente escrita, e é truncado.\n",
        "*   '**a**' (append - adição): como 'e' mas acrescenta no arquivo sem truncar.\n",
        "*   '**x**': como 'w' mas o arquivo não deve existir.\n",
        "\n",
        "> open(name) padrão para leitura: open(name, 'rt')\n"
      ]
    },
    {
      "cell_type": "markdown",
      "metadata": {
        "id": "p_2AzQ6bCiuc"
      },
      "source": [
        "## **Escrever**"
      ]
    },
    {
      "cell_type": "markdown",
      "metadata": {
        "id": "5YYANfhhComH"
      },
      "source": [
        "> **f.write(string)** escreve string (sem adicionar **\\n**)\n",
        "\n",
        "> **f.writelines(sequence)** escreve uma sequência de conteúdo (também sem adicionar **\\n**)"
      ]
    },
    {
      "cell_type": "code",
      "metadata": {
        "id": "J1VEZ6GCauDS"
      },
      "source": [
        "objeto = 'rafael'\n",
        "\n",
        "with open('exemplo1.txt', 'w') as f:\n",
        "  f.write(objeto)"
      ],
      "execution_count": null,
      "outputs": []
    },
    {
      "cell_type": "code",
      "metadata": {
        "id": "bfoO3Sq4C4Qe"
      },
      "source": [
        "pessoas = ['Maria ', 'Pedro ', 'Ana ', 'João ']\n",
        "\n",
        "with open('exemplo2.txt', 'w') as f:\n",
        "  f.writelines(pessoas)"
      ],
      "execution_count": null,
      "outputs": []
    },
    {
      "cell_type": "code",
      "metadata": {
        "id": "YFJm5VyabXvG"
      },
      "source": [
        "convidados = ['Cecília ', 'Marcos ', 'Bruno ', 'Fernanda ']\n",
        "\n",
        "with open('exemplo2.txt', 'a') as f:\n",
        "  f.writelines(convidados)"
      ],
      "execution_count": null,
      "outputs": []
    },
    {
      "cell_type": "markdown",
      "metadata": {
        "id": "K2CQkPBVBzBf"
      },
      "source": [
        "## **Ler**"
      ]
    },
    {
      "cell_type": "markdown",
      "metadata": {
        "id": "nn9HcM1cB0zm"
      },
      "source": [
        "> **f.read()** faz a leitura de todo o arquivo (até EOF)\n",
        "\n",
        "> **f.read(index)** faz a leitura do arquivo até index"
      ]
    },
    {
      "cell_type": "code",
      "metadata": {
        "id": "8FADEWv9daip",
        "colab": {
          "base_uri": "https://localhost:8080/"
        },
        "outputId": "fc96e240-6a40-4a25-bd98-7490aa547084"
      },
      "source": [
        "with open('exemplo1.txt', 'r') as f:\n",
        "  aux = f.read()\n",
        "  print('Leitura concluída')\n",
        "\n",
        "print(aux)"
      ],
      "execution_count": null,
      "outputs": [
        {
          "output_type": "stream",
          "name": "stdout",
          "text": [
            "Leitura concluída\n",
            "rafael\n"
          ]
        }
      ]
    },
    {
      "cell_type": "code",
      "metadata": {
        "id": "el6neOf5CgIO",
        "colab": {
          "base_uri": "https://localhost:8080/"
        },
        "outputId": "ac9f64ed-3ae5-429b-f679-339e4ec94480"
      },
      "source": [
        "#Imprimi as informações do arquivo\n",
        "with open('exemplo2.txt') as f:\n",
        "  for l in f:\n",
        "    print(l)"
      ],
      "execution_count": null,
      "outputs": [
        {
          "output_type": "stream",
          "name": "stdout",
          "text": [
            "Maria Pedro Ana João Cecília Marcos Bruno Fernanda \n"
          ]
        }
      ]
    },
    {
      "cell_type": "markdown",
      "metadata": {
        "id": "7BhsfDDOBVj3"
      },
      "source": [
        "## **Fechar**"
      ]
    },
    {
      "cell_type": "markdown",
      "metadata": {
        "id": "BOxwAVErBXZS"
      },
      "source": [
        "**f.close():**\n",
        "\n",
        "> Escreve o contéudo do objeto file no disco."
      ]
    },
    {
      "cell_type": "markdown",
      "metadata": {
        "id": "STajRs20BkfS"
      },
      "source": [
        "Pode ser feito de forma alternativa usando a declaração **with**:"
      ]
    },
    {
      "cell_type": "code",
      "metadata": {
        "id": "KelYNkIQBsZR",
        "colab": {
          "base_uri": "https://localhost:8080/"
        },
        "outputId": "7d7be1a4-8f6c-4c54-f3b6-f8df0670a36a"
      },
      "source": [
        "with open('exemplo2.txt') as f:\n",
        "  print(f.read())\n",
        "  f.close"
      ],
      "execution_count": null,
      "outputs": [
        {
          "output_type": "stream",
          "name": "stdout",
          "text": [
            "Maria Pedro Ana João Cecília Marcos Bruno Fernanda \n"
          ]
        }
      ]
    },
    {
      "cell_type": "markdown",
      "metadata": {
        "id": "13FcGwBfEVb6"
      },
      "source": [
        "# **Erros e Exceções**"
      ]
    },
    {
      "cell_type": "markdown",
      "metadata": {
        "id": "TcSEzO0kxjyC"
      },
      "source": [
        "##**Erros de Sintaxe**"
      ]
    },
    {
      "cell_type": "code",
      "metadata": {
        "id": "kNGdLp9IrUE2",
        "colab": {
          "base_uri": "https://localhost:8080/",
          "height": 128
        },
        "outputId": "64f7a0dd-0dfc-446c-9507-00bddc9e38d8"
      },
      "source": [
        "while True print('Treinamento de Python')"
      ],
      "execution_count": null,
      "outputs": [
        {
          "output_type": "error",
          "ename": "SyntaxError",
          "evalue": "ignored",
          "traceback": [
            "\u001b[0;36m  File \u001b[0;32m\"<ipython-input-9-e86ecff04f94>\"\u001b[0;36m, line \u001b[0;32m1\u001b[0m\n\u001b[0;31m    while True print('Treinamento de Python')\u001b[0m\n\u001b[0m                   ^\u001b[0m\n\u001b[0;31mSyntaxError\u001b[0m\u001b[0;31m:\u001b[0m invalid syntax\n"
          ]
        }
      ]
    },
    {
      "cell_type": "markdown",
      "metadata": {
        "id": "UpMy_ydjqW6K"
      },
      "source": [
        "##**Exceções**"
      ]
    },
    {
      "cell_type": "code",
      "metadata": {
        "id": "PVokfINrn7T-",
        "colab": {
          "base_uri": "https://localhost:8080/",
          "height": 162
        },
        "outputId": "9fdac8da-5459-46c3-c17c-c6dee3dad8fa"
      },
      "source": [
        "print(info)"
      ],
      "execution_count": null,
      "outputs": [
        {
          "output_type": "error",
          "ename": "NameError",
          "evalue": "ignored",
          "traceback": [
            "\u001b[0;31m---------------------------------------------------------------------------\u001b[0m",
            "\u001b[0;31mNameError\u001b[0m                                 Traceback (most recent call last)",
            "\u001b[0;32m<ipython-input-10-a4f7abf517dd>\u001b[0m in \u001b[0;36m<module>\u001b[0;34m()\u001b[0m\n\u001b[0;32m----> 1\u001b[0;31m \u001b[0mprint\u001b[0m\u001b[0;34m(\u001b[0m\u001b[0minfo\u001b[0m\u001b[0;34m)\u001b[0m\u001b[0;34m\u001b[0m\u001b[0;34m\u001b[0m\u001b[0m\n\u001b[0m",
            "\u001b[0;31mNameError\u001b[0m: name 'info' is not defined"
          ]
        }
      ]
    },
    {
      "cell_type": "code",
      "metadata": {
        "id": "jhAZI0hqoC23",
        "colab": {
          "base_uri": "https://localhost:8080/",
          "height": 178
        },
        "outputId": "168648f9-86c1-4b1c-c244-62119d772ac6"
      },
      "source": [
        "num = int(input('Digite um número: '))"
      ],
      "execution_count": null,
      "outputs": [
        {
          "name": "stdout",
          "output_type": "stream",
          "text": [
            "Digite um número: matheus\n"
          ]
        },
        {
          "output_type": "error",
          "ename": "ValueError",
          "evalue": "ignored",
          "traceback": [
            "\u001b[0;31m---------------------------------------------------------------------------\u001b[0m",
            "\u001b[0;31mValueError\u001b[0m                                Traceback (most recent call last)",
            "\u001b[0;32m<ipython-input-11-04cc9624d822>\u001b[0m in \u001b[0;36m<module>\u001b[0;34m()\u001b[0m\n\u001b[0;32m----> 1\u001b[0;31m \u001b[0mnum\u001b[0m \u001b[0;34m=\u001b[0m \u001b[0mint\u001b[0m\u001b[0;34m(\u001b[0m\u001b[0minput\u001b[0m\u001b[0;34m(\u001b[0m\u001b[0;34m'Digite um número: '\u001b[0m\u001b[0;34m)\u001b[0m\u001b[0;34m)\u001b[0m\u001b[0;34m\u001b[0m\u001b[0;34m\u001b[0m\u001b[0m\n\u001b[0m",
            "\u001b[0;31mValueError\u001b[0m: invalid literal for int() with base 10: 'matheus'"
          ]
        }
      ]
    },
    {
      "cell_type": "code",
      "metadata": {
        "id": "aduiHZ2JoqHW",
        "colab": {
          "base_uri": "https://localhost:8080/",
          "height": 229
        },
        "outputId": "f9820255-1698-4537-84da-70794c45d585"
      },
      "source": [
        "num = int(input('Numerador: '))\n",
        "den = int(input('Denominador: '))\n",
        "\n",
        "print(num/den)"
      ],
      "execution_count": null,
      "outputs": [
        {
          "name": "stdout",
          "output_type": "stream",
          "text": [
            "Numerador: 10\n",
            "Denominador: 0\n"
          ]
        },
        {
          "output_type": "error",
          "ename": "ZeroDivisionError",
          "evalue": "ignored",
          "traceback": [
            "\u001b[0;31m---------------------------------------------------------------------------\u001b[0m",
            "\u001b[0;31mZeroDivisionError\u001b[0m                         Traceback (most recent call last)",
            "\u001b[0;32m<ipython-input-12-82e81ccedb3d>\u001b[0m in \u001b[0;36m<module>\u001b[0;34m()\u001b[0m\n\u001b[1;32m      2\u001b[0m \u001b[0mden\u001b[0m \u001b[0;34m=\u001b[0m \u001b[0mint\u001b[0m\u001b[0;34m(\u001b[0m\u001b[0minput\u001b[0m\u001b[0;34m(\u001b[0m\u001b[0;34m'Denominador: '\u001b[0m\u001b[0;34m)\u001b[0m\u001b[0;34m)\u001b[0m\u001b[0;34m\u001b[0m\u001b[0;34m\u001b[0m\u001b[0m\n\u001b[1;32m      3\u001b[0m \u001b[0;34m\u001b[0m\u001b[0m\n\u001b[0;32m----> 4\u001b[0;31m \u001b[0mprint\u001b[0m\u001b[0;34m(\u001b[0m\u001b[0mnum\u001b[0m\u001b[0;34m/\u001b[0m\u001b[0mden\u001b[0m\u001b[0;34m)\u001b[0m\u001b[0;34m\u001b[0m\u001b[0;34m\u001b[0m\u001b[0m\n\u001b[0m",
            "\u001b[0;31mZeroDivisionError\u001b[0m: division by zero"
          ]
        }
      ]
    },
    {
      "cell_type": "markdown",
      "metadata": {
        "id": "Z4Kem8KxEbPs"
      },
      "source": [
        "##**Capturando Exceções**\n",
        " "
      ]
    },
    {
      "cell_type": "markdown",
      "metadata": {
        "id": "QQj4BJh_zW1g"
      },
      "source": [
        "###**Capturando uma exceção**"
      ]
    },
    {
      "cell_type": "code",
      "metadata": {
        "id": "PhiCU8vgtM6E",
        "colab": {
          "base_uri": "https://localhost:8080/"
        },
        "outputId": "16dc318f-9691-468a-d406-540dd4bfc64d"
      },
      "source": [
        "while True:\n",
        "  try:\n",
        "    num = int(input('Digite um número: '))\n",
        "    break\n",
        "  except ValueError:\n",
        "    print('\\nA informação inserida não é um número inteiro.\\nPor favor, digite novamente.\\n')\n",
        "\n",
        "print('\\n\\tSucesso!')"
      ],
      "execution_count": null,
      "outputs": [
        {
          "output_type": "stream",
          "name": "stdout",
          "text": [
            "Digite um número: biancca\n",
            "\n",
            "A informação inserida não é um número inteiro.\n",
            "Por favor, digite novamente.\n",
            "\n",
            "Digite um número: sarah\n",
            "\n",
            "A informação inserida não é um número inteiro.\n",
            "Por favor, digite novamente.\n",
            "\n",
            "Digite um número: 100\n",
            "\n",
            "\tSucesso!\n"
          ]
        }
      ]
    },
    {
      "cell_type": "markdown",
      "metadata": {
        "id": "fthnbeO20i-D"
      },
      "source": [
        "###**Capturando todas exceções**"
      ]
    },
    {
      "cell_type": "code",
      "metadata": {
        "id": "lszJyCBJuQ9K"
      },
      "source": [
        "while True:\n",
        "  try:\n",
        "    num = int(input('Digite um número: '))\n",
        "    break\n",
        "  except:\n",
        "    print('\\nA informação inserida não é um número inteiro.\\nPor favor, digite novamente.\\n')\n"
      ],
      "execution_count": null,
      "outputs": []
    },
    {
      "cell_type": "markdown",
      "metadata": {
        "id": "GckUl1XauY3P"
      },
      "source": [
        "####Riscos:\n",
        "*   Disparos de saída do sistema\n",
        "*   Erros de memória\n",
        "*   Qualquer coisa que você pode não ter considerado"
      ]
    },
    {
      "cell_type": "markdown",
      "metadata": {
        "id": "GdZDTXUsvPb4"
      },
      "source": [
        "###**Capturando múltiplas exceções**"
      ]
    },
    {
      "cell_type": "code",
      "metadata": {
        "id": "xeijkCRXvUvY",
        "colab": {
          "base_uri": "https://localhost:8080/"
        },
        "outputId": "e5c11db1-bdcf-4f07-b6b9-1479877f85d0"
      },
      "source": [
        "while True:\n",
        "  try:\n",
        "    num = int(input('Numerador: '))\n",
        "    den = int(input('Denominador: '))\n",
        "\n",
        "    print(num/den)\n",
        "    break\n",
        "  \n",
        "  except (ValueError, ZeroDivisionError):\n",
        "    print('\\nEntrada inválida!\\nInsira novamente!\\n')\n",
        "\n",
        "\n",
        "  #except ValueError: \n",
        "    #print('Entrada não é um número do tipo inteiro! Insira novamente!')\n",
        "  #except ZeroDivisionError:\n",
        "    #print('Não é possível realizar divisão por 0. Insira outro valor!')"
      ],
      "execution_count": null,
      "outputs": [
        {
          "output_type": "stream",
          "name": "stdout",
          "text": [
            "Numerador: pedro\n",
            "\n",
            "Entrada inválida!\n",
            "Insira novamente!\n",
            "\n",
            "Numerador: 67\n",
            "Denominador: 0\n",
            "\n",
            "Entrada inválida!\n",
            "Insira novamente!\n",
            "\n",
            "Numerador: 10\n",
            "Denominador: 2\n",
            "5.0\n"
          ]
        }
      ]
    },
    {
      "cell_type": "markdown",
      "metadata": {
        "id": "dG_GiGNI0vDP"
      },
      "source": [
        "##**Acessando Exceções**\n",
        "\n"
      ]
    },
    {
      "cell_type": "code",
      "metadata": {
        "id": "AtPic_SSxqpl",
        "colab": {
          "base_uri": "https://localhost:8080/"
        },
        "outputId": "7df04dde-6e5f-4af5-9c29-7cb569c6817e"
      },
      "source": [
        "while True:\n",
        "  try:\n",
        "    num = int(input('Numerador: '))\n",
        "    den = int(input('Denominador: '))\n",
        "\n",
        "    print(num/den)\n",
        "    break\n",
        "\n",
        "  except ValueError as e1:\n",
        "    print('\\nERRO', e1) \n",
        "    print('Entrada não é um número do tipo inteiro! Insira novamente!\\n')\n",
        "  \n",
        "  except ZeroDivisionError as e2:\n",
        "    print('\\nERRO', e2)\n",
        "    print('Não é possível realizar divisão por 0. Insira outro valor!\\n')"
      ],
      "execution_count": null,
      "outputs": [
        {
          "output_type": "stream",
          "name": "stdout",
          "text": [
            "Numerador: python\n",
            "\n",
            "ERRO invalid literal for int() with base 10: 'python'\n",
            "Entrada não é um número do tipo inteiro! Insira novamente!\n",
            "\n",
            "Numerador: 11899\n",
            "Denominador: 0\n",
            "\n",
            "ERRO division by zero\n",
            "Não é possível realizar divisão por 0. Insira outro valor!\n",
            "\n",
            "Numerador: 1\n",
            "Denominador: 1\n",
            "1.0\n"
          ]
        }
      ]
    },
    {
      "cell_type": "markdown",
      "metadata": {
        "id": "VfU_dr7u1Avp"
      },
      "source": [
        "##**Tipos de Exceções**"
      ]
    },
    {
      "cell_type": "markdown",
      "metadata": {
        "id": "VLqhlqsW1Ji2"
      },
      "source": [
        "|  **TIPO**  |   **MOTIVO** |\n",
        "|:----------:|:-----------:|\n",
        "|**ArithmeticError**| Inconformidade em qualquer operação aritmética |\n",
        "| **ZeroDivisionError**  | Divisão por zero |\n",
        "| **ImportError** | Inconformidade em carregar um módulo ou importar arquivo |\n",
        "|**IndexError**| Inconformidade ao tentar acessar um índice que não existe dentro de uma lista ou string |\n",
        "| **ValueError**  | Atribuição inválida para a variável |\n",
        "| **TypeError** | Operação com tipos incompatíveis de dados |\n",
        "| **Exception** | Qualquer outra exceção que possa ocorrar |"
      ]
    },
    {
      "cell_type": "markdown",
      "metadata": {
        "id": "p10Rk7ploLO5"
      },
      "source": [
        "# **Orientação a objeto**\n"
      ]
    },
    {
      "cell_type": "markdown",
      "metadata": {
        "id": "FQxjb-BXoRsP"
      },
      "source": [
        "##**Declaração de Classe**"
      ]
    },
    {
      "cell_type": "markdown",
      "metadata": {
        "id": "gMOZciD8Qkx_"
      },
      "source": [
        "As classes são mecanismos que proporcionam uma forma de organizar dados e funcionalidades em um só local.\n",
        "\n"
      ]
    },
    {
      "cell_type": "markdown",
      "metadata": {
        "id": "WF0r2H0MSArG"
      },
      "source": [
        "> Variáveis definidas no corpo da classe são atributos de classe\n",
        "\n",
        "> Funções definidas no corpo da classe são métodos de instância"
      ]
    },
    {
      "cell_type": "code",
      "metadata": {
        "id": "8f6ivGq0PtXg"
      },
      "source": [
        "class NomeDaClasse:\n",
        "  ..."
      ],
      "execution_count": null,
      "outputs": []
    },
    {
      "cell_type": "markdown",
      "metadata": {
        "id": "VHila_w6PQ7O"
      },
      "source": [
        "##**Construtor**"
      ]
    },
    {
      "cell_type": "markdown",
      "metadata": {
        "id": "t35sFavtRfx9"
      },
      "source": [
        "Estrutura mais conhecida por ser responsável em conter os recursos necessários para o funcionamento do objeto que será definido.\n",
        "\n"
      ]
    },
    {
      "cell_type": "markdown",
      "metadata": {
        "id": "hQD_BvUtScml"
      },
      "source": [
        "```\n",
        "__init__ inicializa uma instância da classe\n",
        "```"
      ]
    },
    {
      "cell_type": "markdown",
      "metadata": {
        "id": "C6Y1NM-qoNoJ"
      },
      "source": [
        "###**Exemplo I**"
      ]
    },
    {
      "cell_type": "code",
      "metadata": {
        "id": "1KjoqOH-XheV",
        "colab": {
          "base_uri": "https://localhost:8080/"
        },
        "outputId": "a0b3f6fb-08cf-4d61-e805-4e993bfef419"
      },
      "source": [
        "#Construindo a classe\n",
        "class Carro:\n",
        "  \n",
        "  #Inicializando o objeto e atribuindo os argumentos\n",
        "    def __init__(self, corCarro, marcaCarro, anoCarro):\n",
        "        self.cor = corCarro\n",
        "        self.marca = marcaCarro\n",
        "        self.ano = anoCarro\n",
        "\n",
        "#Criando o objeto\n",
        "novoCarro = Carro('vermelho', 'Fiat', 2010)\n",
        "\n",
        "#Exibindo as informações\n",
        "print(novoCarro.cor)\n",
        "print(novoCarro.marca)\n",
        "print(novoCarro.ano)\n"
      ],
      "execution_count": null,
      "outputs": [
        {
          "output_type": "stream",
          "name": "stdout",
          "text": [
            "vermelho\n",
            "Fiat\n",
            "2010\n"
          ]
        }
      ]
    },
    {
      "cell_type": "markdown",
      "metadata": {
        "id": "huldP5RWY8Wx"
      },
      "source": [
        "**Importante!!**\n",
        "\n",
        "```\n",
        "novoCarro = Carro('preto', 'Jeep', 2020)\n",
        "\n",
        "Significa:\n",
        "\n",
        "*   Criação de um objeto tipo Carro\n",
        "*   Chamada da parte Carro.__init__(self)\n",
        "*   Ligação do self com o nome novoCarro\n",
        "```"
      ]
    },
    {
      "cell_type": "markdown",
      "metadata": {
        "id": "_S2JPSfwoTMW"
      },
      "source": [
        "###**Exemplo II**"
      ]
    },
    {
      "cell_type": "code",
      "metadata": {
        "id": "1NL6XU9DPt1F",
        "colab": {
          "base_uri": "https://localhost:8080/"
        },
        "outputId": "163b6412-5492-4525-ed09-87788c553d78"
      },
      "source": [
        "#Construindo a classe\n",
        "class Triangulo:\n",
        "  \n",
        "  #Inicializando o objeto e atribuindo os argumentos\n",
        "  def __init__(self, base, altura):\n",
        "    self.b = base\n",
        "    self.a = altura\n",
        "    \n",
        "  #Como os argumentos já foram passados antes, não precisa passar novamente os valores dentro dos ()\n",
        "  def area(self):\n",
        "    return (self.b * self.a / 2)\n",
        "\n",
        "#Criando o objeto no código -> passando os argumentos\n",
        "x = Triangulo(2,3)\n",
        "\n",
        "#Calculando a área do triângulo\n",
        "x.area()"
      ],
      "execution_count": null,
      "outputs": [
        {
          "output_type": "execute_result",
          "data": {
            "text/plain": [
              "3.0"
            ]
          },
          "metadata": {},
          "execution_count": 18
        }
      ]
    },
    {
      "cell_type": "markdown",
      "metadata": {
        "id": "LgyUgoIHWQjT"
      },
      "source": [
        "**Importante!!**\n",
        "\n",
        "```\n",
        "x = Triangulo(2,3)\n",
        "\n",
        "Significa:\n",
        "\n",
        "*   Criação de um objeto tipo Triangulo\n",
        "*   Chamada da parte Triangulo.__init__(self)\n",
        "*   Ligação do self com o nome x\n",
        "```"
      ]
    },
    {
      "cell_type": "markdown",
      "metadata": {
        "id": "Lfi-oAHlgXgw"
      },
      "source": [
        "##**Variáveis Privadas**"
      ]
    },
    {
      "cell_type": "markdown",
      "metadata": {
        "id": "h5QMyO1PgtvY"
      },
      "source": [
        "Variáveis \"privadas\", ou seja, que não podem ser acessadas, exceto de dentro de um objeto, **não existem em Python**. \n",
        "\n",
        "No entanto, há uma convenção que é **seguida pela maioria dos códigos**: um nome precedido de um sublinhado deve ser tratado como uma parte não pública"
      ]
    },
    {
      "cell_type": "markdown",
      "metadata": {
        "id": "k2WoktyTqaWw"
      },
      "source": [
        "**Modo de Usar**\n",
        "```\n",
        "class Circulo:\n",
        "  _pi = 3.14\n",
        "\n",
        "  ...\n",
        "\n",
        "  def get_perimter(self):\n",
        "    return 2 * self._pi * self.r\n",
        "```\n",
        "\n"
      ]
    },
    {
      "cell_type": "code",
      "metadata": {
        "id": "clMKqVqGp168",
        "colab": {
          "base_uri": "https://localhost:8080/"
        },
        "outputId": "6a2b5fa6-28f5-42f2-a4e5-506c337b1fe8"
      },
      "source": [
        "class Area:\n",
        "    _num = 2\n",
        "    \n",
        "    def __init__(self, altura, largura):\n",
        "        self.altura = altura\n",
        "        self.largura = largura\n",
        "\n",
        "    def area(self):\n",
        "        return self.altura * self.largura * self._num\n",
        "\n",
        "b = Area(2, 3)\n",
        "b.area()"
      ],
      "execution_count": null,
      "outputs": [
        {
          "output_type": "execute_result",
          "data": {
            "text/plain": [
              "12"
            ]
          },
          "metadata": {},
          "execution_count": 19
        }
      ]
    },
    {
      "cell_type": "markdown",
      "metadata": {
        "id": "BJ6IS0RnPdit"
      },
      "source": [
        "##**Herança**"
      ]
    },
    {
      "cell_type": "markdown",
      "metadata": {
        "id": "XVTZ9GniPlp4"
      },
      "source": [
        "###**Herança Simples**"
      ]
    },
    {
      "cell_type": "code",
      "metadata": {
        "id": "SkluHMkvbNZX",
        "colab": {
          "base_uri": "https://localhost:8080/"
        },
        "outputId": "54634398-7145-4588-d9f6-fa0475ce8331"
      },
      "source": [
        "#Primeira classe\n",
        "class Animal:\n",
        "  som = None\n",
        "  \n",
        "  #Definição da função para exibir ao usuário o som do animal\n",
        "  def somAnimal(self):\n",
        "    print(self.som)\n",
        "\n",
        "#Segunda classe -> Recebendo herança simples\n",
        "class Gato(Animal):\n",
        "    som = \"meow\"\n",
        "\n",
        "#Terceira classe -> Recebendo herança simples\n",
        "class Pato(Animal):\n",
        "    som = \"quack\"\n",
        "\n",
        "#Conectando e exibindos as informações\n",
        "\n",
        "g = Gato()\n",
        "g.somAnimal()\n",
        "\n",
        "p = Pato()\n",
        "p.somAnimal()"
      ],
      "execution_count": null,
      "outputs": [
        {
          "output_type": "stream",
          "name": "stdout",
          "text": [
            "meow\n",
            "quack\n"
          ]
        }
      ]
    },
    {
      "cell_type": "markdown",
      "metadata": {
        "id": "uC3gnjTkPqNh"
      },
      "source": [
        "###**Herança Múltipla**"
      ]
    },
    {
      "cell_type": "code",
      "metadata": {
        "id": "43lT8A8mcKjW",
        "colab": {
          "base_uri": "https://localhost:8080/"
        },
        "outputId": "30217650-1e15-4f31-885d-525af9ba729b"
      },
      "source": [
        "#Primeira classe\n",
        "class Som:\n",
        "  som = None\n",
        "  \n",
        "  #Definição da função para exibir ao usuário o som do animal\n",
        "  def somAnimal(self):\n",
        "    print(self.som)\n",
        "\n",
        "#Segunda classe\n",
        "class Nome:\n",
        "  nome = None\n",
        "\n",
        "  #Definição da função para exibir ao usuário o nome do animal\n",
        "  def nomeAnimal(self):\n",
        "    print(self.nome)\n",
        "\n",
        "#Terceira classe -> Recebendo herança múltipla\n",
        "class Gato(Som, Nome):\n",
        "    som = \"meow\"\n",
        "    nome = 'Légolas'\n",
        "\n",
        "#Quarta classe -> Recebendo herança múltipla\n",
        "class Cachorro(Som, Nome):\n",
        "    som = \"auau\"\n",
        "    nome = 'Thor'\n",
        "\n",
        "#Conectando e exibindo as informações\n",
        "\n",
        "g = Gato()\n",
        "g.somAnimal()\n",
        "g.nomeAnimal()\n",
        "\n",
        "print()\n",
        "\n",
        "c = Cachorro()\n",
        "c.somAnimal()\n",
        "c.nomeAnimal()"
      ],
      "execution_count": null,
      "outputs": [
        {
          "output_type": "stream",
          "name": "stdout",
          "text": [
            "meow\n",
            "Légolas\n",
            "\n",
            "auau\n",
            "Thor\n"
          ]
        }
      ]
    },
    {
      "cell_type": "markdown",
      "metadata": {
        "id": "_o0vHz6IP1Vr"
      },
      "source": [
        "##***Magic Methods***"
      ]
    },
    {
      "cell_type": "markdown",
      "metadata": {
        "id": "FklTq_g6omT5"
      },
      "source": [
        "Os Métodos Mágicos/Especiais, ou *Magic Methods*, são estruturas utilizadas com o intuito de simplificar o desenvolvimento do código durante a construção e manipulação de objetos. \n",
        "\n",
        "Sendo, assim, métodos pré-definidos em todos os objetos, com uso sob circunstâncias especiais."
      ]
    },
    {
      "cell_type": "markdown",
      "metadata": {
        "id": "SPGhVUdTmD-S"
      },
      "source": [
        "###**new e init**"
      ]
    },
    {
      "cell_type": "markdown",
      "metadata": {
        "id": "B5wHgDDllsM1"
      },
      "source": [
        "```\n",
        "__new__ cria um novo objeto\n",
        "__init__ inicializa o objeto\n",
        "```"
      ]
    },
    {
      "cell_type": "markdown",
      "metadata": {
        "id": "4qRVlKkRmL50"
      },
      "source": [
        "###**str e repr**"
      ]
    },
    {
      "cell_type": "markdown",
      "metadata": {
        "id": "uXzJJnrgl3sd"
      },
      "source": [
        "```\n",
        "str(x) → x.__str__()\n",
        "Retorna uma string humanizada\n",
        "\n",
        "repr(x) → x.__repr__()\n",
        "Retorna uma descrição completa do objeto\n",
        "```"
      ]
    },
    {
      "cell_type": "markdown",
      "metadata": {
        "id": "J8VCWJYHmYSa"
      },
      "source": [
        "###**Comparações**"
      ]
    },
    {
      "cell_type": "markdown",
      "metadata": {
        "id": "IoH9DFhtmbAA"
      },
      "source": [
        "```\n",
        "x < y → x.__lt__(y)\n",
        "\n",
        "x > y → x.__gt__(y)\n",
        "\n",
        "x <= y → x.__le__(y)\n",
        "\n",
        "x >= y → x.__ge__(y)\n",
        "\n",
        "x == y → x.__eq__(y)\n",
        "\n",
        "x != y → x.__ne__(y)\n",
        "```"
      ]
    },
    {
      "cell_type": "markdown",
      "metadata": {
        "id": "ZThBrZaUmnAU"
      },
      "source": [
        "###**Operações Aritméticas**"
      ]
    },
    {
      "cell_type": "markdown",
      "metadata": {
        "id": "PXtNKlqwmqKT"
      },
      "source": [
        "Todas as operações aritméticas possuem métodos mágicos\n",
        "\n",
        "```\n",
        "Por exemplo:\n",
        "\n",
        "__add__ → para adicionar o operador + aos objetos\n",
        "__sub__ → para adicionar o operador - aos objetos\n",
        "__mul__ → para adicionar o operador * aos objetos\n",
        "__div__ → para adicionar o operador / aos objetos\n",
        "__mod__ → para adicionar o operador % aos objetos\n",
        "__pow__ → para adicionar o operador ** aos objetos\n",
        "```\n",
        "\n"
      ]
    },
    {
      "cell_type": "markdown",
      "metadata": {
        "id": "CLw_QBlZrYrT"
      },
      "source": [
        "Existem diversos outros métodos a serem explorados: https://www.phylos.net/2021-05-25/python-classes-metodos-especiais/"
      ]
    }
  ]
}