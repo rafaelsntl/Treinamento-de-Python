{
  "nbformat": 4,
  "nbformat_minor": 0,
  "metadata": {
    "colab": {
      "name": "SYMPY - TREINAMENTO DE PYTHON ",
      "provenance": [],
      "authorship_tag": "ABX9TyNURz+CTRU6Z2AJMz8u8sj4"
    },
    "kernelspec": {
      "name": "python3",
      "display_name": "Python 3"
    },
    "language_info": {
      "name": "python"
    }
  },
  "cells": [
    {
      "cell_type": "markdown",
      "metadata": {
        "id": "Lv_fEFtVpq6m"
      },
      "source": [
        "#**README**#\n",
        "\n",
        "O Treinamento de Python é um projeto desenvolvido pelo Laboratório de\n",
        "Instrumentação Eletrônica e Controle (LIEC) e pelo Programa de Educação Tutorial\n",
        "de Engenharia Elétrica da Universidade Federal de Campina Grande (PET Elétrica -\n",
        "UFCG), que tem como objetivo principal, durante a sua execução, desenvolver\n",
        "habilidades relacionadas a linguagem de programação Python, com foco em\n",
        "aplicações para engenheiros e para cientistas.\n",
        "\n",
        "Todo conteúdo produzido neste notebook foi adaptado por Rafael dos Santos Lima e por Tâmara Ruth Dantas dos Santos. Algumas sintaxes foram revisadas com auxilio da documentação do SymPy (https://docs.sympy.org/latest/tutorial/index.html).\n",
        "\n",
        "---\n",
        "\n",
        "Para mais informações e/ou sanar eventuais dúvidas, entrar em contato com:\n",
        "*   Rafael - rafaelsantos.lima@ee.ufcg.edu.br\n",
        "*   Tâmara - tamara.santos@ee.ufcg.edu.br"
      ]
    },
    {
      "cell_type": "markdown",
      "metadata": {
        "id": "DchSeBJc2vIy"
      },
      "source": [
        "#**SymPy**"
      ]
    },
    {
      "cell_type": "markdown",
      "metadata": {
        "id": "eVuXBMnYyHfP"
      },
      "source": [
        "**SymPy** é uma biblioteca Python para matemática simbólica. Ele tem como objetivo se tornar um sistema de álgebra computacional (CAS) completo, mantendo o código o mais simples possível para ser compreensível e facilmente extensível.\n",
        "\n",
        "Algumas funcionalidades são:\n",
        "\n",
        "* Trabalhar com matrizes\n",
        "* Realizar cálculo de limites, derivadas, integrais, etc.\n",
        "* Utilizar solvers"
      ]
    },
    {
      "cell_type": "markdown",
      "metadata": {
        "id": "Ky3gg1c85C5U"
      },
      "source": [
        "> **Importando a biblioteca:**"
      ]
    },
    {
      "cell_type": "code",
      "metadata": {
        "id": "bIX8xsH1P7gd"
      },
      "source": [
        "from sympy import *"
      ],
      "execution_count": null,
      "outputs": []
    },
    {
      "cell_type": "markdown",
      "metadata": {
        "id": "M7sPA4RdPKvo"
      },
      "source": [
        "## **Introdução**"
      ]
    },
    {
      "cell_type": "markdown",
      "metadata": {
        "id": "3xXwNwfCQlh2"
      },
      "source": [
        "### **O que é computação simbólica?**\n"
      ]
    },
    {
      "cell_type": "markdown",
      "metadata": {
        "id": "oBzOBhVXPObc"
      },
      "source": [
        "\n",
        "A computação simbólica lida com a computação de objetos matemáticos simbolicamente. Isso significa que os objetos matemáticos são representados exatamente, não aproximadamente, e as expressões matemáticas com variáveis ​​não avaliadas são deixadas na forma simbólica."
      ]
    },
    {
      "cell_type": "markdown",
      "metadata": {
        "id": "YYu1tmYXPU8E"
      },
      "source": [
        "No SymPy, as variáveis ​​são definidas usando symbols. Ao contrário de muitos sistemas de manipulação simbólica, **as variáveis ​​no SymPy devem ser definidas antes de serem usadas**, já que elas não são definidas automaticamente.\n",
        "\n",
        "Vamos definir uma expressão simbólica, representando a expressão matemática x+2y:"
      ]
    },
    {
      "cell_type": "code",
      "metadata": {
        "colab": {
          "base_uri": "https://localhost:8080/",
          "height": 39
        },
        "id": "yYJLkbbRPrDG",
        "outputId": "ff73a04b-e432-4465-b511-53bc3576dde9"
      },
      "source": [
        "x, y = symbols('x y')\n",
        "expr = x + 2*y\n",
        "expr"
      ],
      "execution_count": null,
      "outputs": [
        {
          "output_type": "execute_result",
          "data": {
            "image/png": "[encoded data removed]",
            "text/latex": "$\\displaystyle x + 2 y$",
            "text/plain": [
              "x + 2⋅y"
            ]
          },
          "metadata": {},
          "execution_count": 11
        }
      ]
    },
    {
      "cell_type": "markdown",
      "metadata": {
        "id": "qnF6YAopQNZw"
      },
      "source": [
        "Observe que escrevemos **x + 2 * y** exatamente como faríamos se **x** e **y** fossem variáveis comuns do Python. Mas, neste caso, em vez de avaliar para algo, a expressão permanece apenas **x + 2 * y**. Agora vamos brincar com isso:"
      ]
    },
    {
      "cell_type": "code",
      "metadata": {
        "colab": {
          "base_uri": "https://localhost:8080/",
          "height": 39
        },
        "id": "Ngxokf6cQ94h",
        "outputId": "777ba0eb-986e-4cce-f945-11b85ba14a48"
      },
      "source": [
        "expr - x"
      ],
      "execution_count": null,
      "outputs": [
        {
          "output_type": "execute_result",
          "data": {
            "image/png": "[encoded data removed]",
            "text/latex": "$\\displaystyle 2 y$",
            "text/plain": [
              "2⋅y"
            ]
          },
          "metadata": {},
          "execution_count": 22
        }
      ]
    },
    {
      "cell_type": "code",
      "metadata": {
        "colab": {
          "base_uri": "https://localhost:8080/",
          "height": 39
        },
        "id": "iXgygMsYQ7RG",
        "outputId": "b1f593f8-9cf1-4bc4-d2fa-1b426b8463f4"
      },
      "source": [
        "expr + 1"
      ],
      "execution_count": null,
      "outputs": [
        {
          "output_type": "execute_result",
          "data": {
            "image/png": "[encoded data removed]",
            "text/latex": "$\\displaystyle x + 2 y + 1$",
            "text/plain": [
              "x + 2⋅y + 1"
            ]
          },
          "metadata": {},
          "execution_count": 23
        }
      ]
    },
    {
      "cell_type": "markdown",
      "metadata": {
        "id": "Eq4MMLgIDLm7"
      },
      "source": [
        "## **Cálculo**"
      ]
    },
    {
      "cell_type": "markdown",
      "metadata": {
        "id": "-1cy-jscDctk"
      },
      "source": [
        "Esta seção abrange como fazer tarefas básicas de cálculo.\n",
        "\n",
        "- Derivada `diff(função,variável)`\n",
        "\n",
        "- Integral `integrate(função,(variável,início,fim))`\n",
        "\n",
        "- Limites `limit(função, variável, x0)`\n",
        "\n",
        "- Outras funções disponíveis são:  expansão de séries, diferenças finitas.\n",
        "\n",
        "- Para mais informações acesse: https://docs.sympy.org/latest/tutorial/calculus.html"
      ]
    },
    {
      "cell_type": "code",
      "metadata": {
        "id": "dPBU7rxQDkzE"
      },
      "source": [
        "x, y, z = symbols('x y z')\n",
        "init_printing(use_unicode=True) # Para imprimir os caracteres unicode "
      ],
      "execution_count": null,
      "outputs": []
    },
    {
      "cell_type": "markdown",
      "metadata": {
        "id": "7C0Uy8jVDwGG"
      },
      "source": [
        "### **Derivadas**"
      ]
    },
    {
      "cell_type": "markdown",
      "metadata": {
        "id": "NkDjxH7FD0WO"
      },
      "source": [
        "Para derivar, use a função `.diff(função,variável)`"
      ]
    },
    {
      "cell_type": "code",
      "metadata": {
        "colab": {
          "base_uri": "https://localhost:8080/",
          "height": 39
        },
        "id": "O1Bn2gTIEAcM",
        "outputId": "9a26a536-25e3-4f48-bfd9-bf374830c75d"
      },
      "source": [
        "diff(cos(x), x)"
      ],
      "execution_count": null,
      "outputs": [
        {
          "output_type": "execute_result",
          "data": {
            "image/png": "[encoded data removed]",
            "text/latex": "$\\displaystyle - \\sin{\\left(x \\right)}$",
            "text/plain": [
              "-sin(x)"
            ]
          },
          "metadata": {},
          "execution_count": 9
        }
      ]
    },
    {
      "cell_type": "code",
      "metadata": {
        "colab": {
          "base_uri": "https://localhost:8080/",
          "height": 41
        },
        "id": "pvSEldsLEG21",
        "outputId": "65a8d062-3851-484a-e7bb-9b70d57f8218"
      },
      "source": [
        "diff(exp(x**2), x)"
      ],
      "execution_count": null,
      "outputs": [
        {
          "output_type": "execute_result",
          "data": {
            "image/png": "[encoded data removed]",
            "text/latex": "$\\displaystyle 2 x e^{x^{2}}$",
            "text/plain": [
              "     ⎛ 2⎞\n",
              "     ⎝x ⎠\n",
              "2⋅x⋅ℯ    "
            ]
          },
          "metadata": {},
          "execution_count": 15
        }
      ]
    },
    {
      "cell_type": "markdown",
      "metadata": {
        "id": "LOGusZkNEg44"
      },
      "source": [
        ".`diff` pode tomar vários derivativos ao mesmo tempo. ***Para tomar vários derivativos, passe a variável quantas vezes desejar diferenciar ou passar um número após a variável***:"
      ]
    },
    {
      "cell_type": "code",
      "metadata": {
        "colab": {
          "base_uri": "https://localhost:8080/",
          "height": 38
        },
        "id": "jYM8L9EdEm-q",
        "outputId": "a5bf1eb3-0a22-4ad0-81f2-03e139a6ae2c"
      },
      "source": [
        "diff(x**4, x, x, x)"
      ],
      "execution_count": null,
      "outputs": [
        {
          "output_type": "execute_result",
          "data": {
            "image/png": "[encoded data removed]",
            "text/latex": "$\\displaystyle 24 x$",
            "text/plain": [
              "24⋅x"
            ]
          },
          "metadata": {},
          "execution_count": 60
        }
      ]
    },
    {
      "cell_type": "code",
      "metadata": {
        "colab": {
          "base_uri": "https://localhost:8080/",
          "height": 38
        },
        "id": "OQ0zqiOgE2wF",
        "outputId": "92328458-d642-43f9-ff50-d525a478bbfd"
      },
      "source": [
        "diff(x**4, x, 3)"
      ],
      "execution_count": null,
      "outputs": [
        {
          "output_type": "execute_result",
          "data": {
            "image/png": "[encoded data removed]",
            "text/latex": "$\\displaystyle 24 x$",
            "text/plain": [
              "24⋅x"
            ]
          },
          "metadata": {},
          "execution_count": 26
        }
      ]
    },
    {
      "cell_type": "markdown",
      "metadata": {
        "id": "zVeG9_DcFGyl"
      },
      "source": [
        "Você também pode tomar derivativos em relação a muitas variáveis ao mesmo tempo. Basta passar cada derivada em ordem, usando a mesma sintaxe que para derivativos de variável única. Por exemplo, cada um dos seguintes calculará:\n"
      ]
    },
    {
      "cell_type": "markdown",
      "metadata": {
        "id": "548eVnVOxhJ0"
      },
      "source": [
        "```\n",
        "      ∂7\n",
        "____________ e^(xyz)\n",
        "∂x ∂y^2 ∂z^4  \n",
        "```"
      ]
    },
    {
      "cell_type": "code",
      "metadata": {
        "id": "SwtxExL-FHQW"
      },
      "source": [
        "expr = exp(x*y*z)"
      ],
      "execution_count": null,
      "outputs": []
    },
    {
      "cell_type": "code",
      "metadata": {
        "colab": {
          "base_uri": "https://localhost:8080/",
          "height": 38
        },
        "id": "thn6j3u0FiCk",
        "outputId": "18a9714e-193c-4f35-883d-288c78fb189e"
      },
      "source": [
        "diff(expr, x, y, y, z, z, z, z)"
      ],
      "execution_count": null,
      "outputs": [
        {
          "output_type": "execute_result",
          "data": {
            "image/png": "[encoded data removed]",
            "text/latex": "$\\displaystyle x^{3} y^{2} \\left(x^{3} y^{3} z^{3} + 14 x^{2} y^{2} z^{2} + 52 x y z + 48\\right) e^{x y z}$",
            "text/plain": [
              " 3  2 ⎛ 3  3  3       2  2  2                ⎞  x⋅y⋅z\n",
              "x ⋅y ⋅⎝x ⋅y ⋅z  + 14⋅x ⋅y ⋅z  + 52⋅x⋅y⋅z + 48⎠⋅ℯ     "
            ]
          },
          "metadata": {},
          "execution_count": 29
        }
      ]
    },
    {
      "cell_type": "code",
      "metadata": {
        "colab": {
          "base_uri": "https://localhost:8080/",
          "height": 38
        },
        "id": "_IAujUZXFlol",
        "outputId": "4e4a3331-6fb0-4c7d-8875-eb92548f940b"
      },
      "source": [
        "diff(expr, x, y, 2, z, 4)"
      ],
      "execution_count": null,
      "outputs": [
        {
          "output_type": "execute_result",
          "data": {
            "image/png": "[encoded data removed]",
            "text/latex": "$\\displaystyle x^{3} y^{2} \\left(x^{3} y^{3} z^{3} + 14 x^{2} y^{2} z^{2} + 52 x y z + 48\\right) e^{x y z}$",
            "text/plain": [
              " 3  2 ⎛ 3  3  3       2  2  2                ⎞  x⋅y⋅z\n",
              "x ⋅y ⋅⎝x ⋅y ⋅z  + 14⋅x ⋅y ⋅z  + 52⋅x⋅y⋅z + 48⎠⋅ℯ     "
            ]
          },
          "metadata": {},
          "execution_count": 30
        }
      ]
    },
    {
      "cell_type": "markdown",
      "metadata": {
        "id": "orYcipt1Gf1l"
      },
      "source": [
        "Para criar uma derivada sem avaliação, use a classe Derivative. Tem a mesma sintaxe que  .diff"
      ]
    },
    {
      "cell_type": "code",
      "metadata": {
        "colab": {
          "base_uri": "https://localhost:8080/",
          "height": 57
        },
        "id": "WulaCJHuGl9v",
        "outputId": "cb3e2310-32da-4383-a583-4d43aedd55f2"
      },
      "source": [
        "deriv = Derivative(expr, x, y, 2, z, 4)\n",
        "deriv"
      ],
      "execution_count": null,
      "outputs": [
        {
          "output_type": "execute_result",
          "data": {
            "image/png": "[encoded data removed]",
            "text/latex": "$\\displaystyle \\frac{\\partial^{7}}{\\partial z^{4}\\partial y^{2}\\partial x} e^{x y z}$",
            "text/plain": [
              "     7            \n",
              "    ∂     ⎛ x⋅y⋅z⎞\n",
              "──────────⎝ℯ     ⎠\n",
              "  4   2           \n",
              "∂z  ∂y  ∂x        "
            ]
          },
          "metadata": {},
          "execution_count": 22
        }
      ]
    },
    {
      "cell_type": "markdown",
      "metadata": {
        "id": "U7E-Td_vG0Qx"
      },
      "source": [
        "Usando o método `doit()` no módulo sympy, podemos avaliá-la.\n",
        "\n"
      ]
    },
    {
      "cell_type": "code",
      "metadata": {
        "colab": {
          "base_uri": "https://localhost:8080/",
          "height": 38
        },
        "id": "Lkth_Ga2G2hG",
        "outputId": "df687879-9348-4add-fe5e-33f3e2763961"
      },
      "source": [
        "deriv.doit()"
      ],
      "execution_count": null,
      "outputs": [
        {
          "output_type": "execute_result",
          "data": {
            "image/png": "[encoded data removed]",
            "text/latex": "$\\displaystyle x^{3} y^{2} \\left(x^{3} y^{3} z^{3} + 14 x^{2} y^{2} z^{2} + 52 x y z + 48\\right) e^{x y z}$",
            "text/plain": [
              " 3  2 ⎛ 3  3  3       2  2  2                ⎞  x⋅y⋅z\n",
              "x ⋅y ⋅⎝x ⋅y ⋅z  + 14⋅x ⋅y ⋅z  + 52⋅x⋅y⋅z + 48⎠⋅ℯ     "
            ]
          },
          "metadata": {},
          "execution_count": 37
        }
      ]
    },
    {
      "cell_type": "markdown",
      "metadata": {
        "id": "Yjo2nmMXHDec"
      },
      "source": [
        "Esses objetos não avaliados são úteis para atrasar a avaliação da derivada, ou para fins de impressão. Eles também são usados quando o SymPy não sabe como calcular o derivado de uma expressão (por exemplo, se ele contém uma função indefinida)."
      ]
    },
    {
      "cell_type": "markdown",
      "metadata": {
        "id": "CExAXyjZHdjT"
      },
      "source": [
        "###**Integrais**"
      ]
    },
    {
      "cell_type": "markdown",
      "metadata": {
        "id": "zVVX0WdVHY7T"
      },
      "source": [
        "Para calcular uma integral, use a função `integrate(função,(variável,início,fim))`. Existem dois tipos de integrais, definitivas e indefinidas. Para calcular uma integral indefinida, **basta passar apenas a variável após a função** \n",
        "\n",
        "*Observe que o SymPy não inclui a constante de integração. Se você quiser, você pode adicionar um você mesmo"
      ]
    },
    {
      "cell_type": "code",
      "metadata": {
        "colab": {
          "base_uri": "https://localhost:8080/",
          "height": 38
        },
        "id": "9BM5EcdNHiGg",
        "outputId": "be7c2ae2-464d-43e1-dec7-4f0fa72a835f"
      },
      "source": [
        "integrate(cos(x), x) "
      ],
      "execution_count": null,
      "outputs": [
        {
          "output_type": "execute_result",
          "data": {
            "image/png": "[encoded data removed]",
            "text/latex": "$\\displaystyle \\sin{\\left(x \\right)}$",
            "text/plain": [
              "sin(x)"
            ]
          },
          "metadata": {},
          "execution_count": 39
        }
      ]
    },
    {
      "cell_type": "markdown",
      "metadata": {
        "id": "31hMwGQ9NyYK"
      },
      "source": [
        "Se quisermos adicionar uma constante, podemos fazer isso:"
      ]
    },
    {
      "cell_type": "code",
      "metadata": {
        "colab": {
          "base_uri": "https://localhost:8080/",
          "height": 39
        },
        "id": "n1DbRC-bNih6",
        "outputId": "c7d01d92-fa9e-453c-cbc3-1778b7a14727"
      },
      "source": [
        "k = symbols('k')\n",
        "integral2 = integrate(cos(x), x) \n",
        "integral2 += k  #adicionando a constante k \n",
        "integral2"
      ],
      "execution_count": null,
      "outputs": [
        {
          "output_type": "execute_result",
          "data": {
            "image/png": "[encoded data removed]",
            "text/latex": "$\\displaystyle k + \\sin{\\left(x \\right)}$",
            "text/plain": [
              "k + sin(x)"
            ]
          },
          "metadata": {},
          "execution_count": 35
        }
      ]
    },
    {
      "cell_type": "markdown",
      "metadata": {
        "id": "xzbvMRepH5GC"
      },
      "source": [
        "Para calcular uma integral definitiva, passe o argumento. Por exemplo, para calcular(Variavel, limite_inf, limite_sup)"
      ]
    },
    {
      "cell_type": "code",
      "metadata": {
        "colab": {
          "base_uri": "https://localhost:8080/",
          "height": 37
        },
        "id": "6FZFl2G8ILTQ",
        "outputId": "1b7f8aff-3c6f-44e7-dafd-5c20c305605f"
      },
      "source": [
        "integrate(exp(-x), (x, 0, oo))"
      ],
      "execution_count": null,
      "outputs": [
        {
          "output_type": "execute_result",
          "data": {
            "image/png": "[encoded data removed]",
            "text/latex": "$\\displaystyle 1$",
            "text/plain": [
              "1"
            ]
          },
          "metadata": {},
          "execution_count": 4
        }
      ]
    },
    {
      "cell_type": "markdown",
      "metadata": {
        "id": "yhe9jmErIdL4"
      },
      "source": [
        "Como acontece com as integrais indefinidas, você pode passar várias tuplas limite para executar uma integral múltipla. Por exemplo, para calcular: \n",
        "\n",
        "`∫-∞ ∞ ∫-∞ ∞ (e^(−x^2 − y^2)) dx dy`"
      ]
    },
    {
      "cell_type": "code",
      "metadata": {
        "colab": {
          "base_uri": "https://localhost:8080/",
          "height": 38
        },
        "id": "B82f47KBIotn",
        "outputId": "c9709801-e95f-424e-bf70-68b448ea27e0"
      },
      "source": [
        "integrate(exp(-x**2 - y**2), (x, -oo, oo), (y, -oo, oo))"
      ],
      "execution_count": null,
      "outputs": [
        {
          "output_type": "execute_result",
          "data": {
            "image/png": "[encoded data removed]",
            "text/latex": "$\\displaystyle \\pi$",
            "text/plain": [
              "π"
            ]
          },
          "metadata": {},
          "execution_count": 42
        }
      ]
    },
    {
      "cell_type": "markdown",
      "metadata": {
        "id": "PRGOc1fYJjXW"
      },
      "source": [
        "Se `integrate` não for capaz de calcular uma integral, ela retornará um objeto Integral não avaliado."
      ]
    },
    {
      "cell_type": "code",
      "metadata": {
        "colab": {
          "base_uri": "https://localhost:8080/",
          "height": 55
        },
        "id": "KZ_ESXzRI9tW",
        "outputId": "27e39adc-95d8-4d80-ad6c-a5a6ddbd2840"
      },
      "source": [
        "expr = integrate(x**x, x) #É uma função não integrável\n",
        "expr"
      ],
      "execution_count": null,
      "outputs": [
        {
          "output_type": "execute_result",
          "data": {
            "image/png": "[encoded data removed]",
            "text/latex": "$\\displaystyle \\int x^{x}\\, dx$",
            "text/plain": [
              "⌠      \n",
              "⎮  x   \n",
              "⎮ x  dx\n",
              "⌡      "
            ]
          },
          "metadata": {},
          "execution_count": 11
        }
      ]
    },
    {
      "cell_type": "markdown",
      "metadata": {
        "id": "-BRV8tzrJkMn"
      },
      "source": [
        "Tal como acontece com `Derivative`, você pode criar uma integral não avaliada usando `Integral`. Para avaliar posteriormente essa integral, chame `doit()`."
      ]
    },
    {
      "cell_type": "code",
      "metadata": {
        "colab": {
          "base_uri": "https://localhost:8080/",
          "height": 55
        },
        "id": "2AqBAnd-c3hS",
        "outputId": "039a9b7b-1a52-4904-800e-a817de5a91c4"
      },
      "source": [
        "expr = Integral(log(x)**2, x)\n",
        "expr"
      ],
      "execution_count": null,
      "outputs": [
        {
          "output_type": "execute_result",
          "data": {
            "image/png": "[encoded data removed]",
            "text/latex": "$\\displaystyle \\int \\log{\\left(x \\right)}^{2}\\, dx$",
            "text/plain": [
              "⌠           \n",
              "⎮    2      \n",
              "⎮ log (x) dx\n",
              "⌡           "
            ]
          },
          "metadata": {},
          "execution_count": 36
        }
      ]
    },
    {
      "cell_type": "code",
      "metadata": {
        "colab": {
          "base_uri": "https://localhost:8080/",
          "height": 39
        },
        "id": "ou-dKattJpAQ",
        "outputId": "eca6335b-22c9-49c6-e024-ac7f6e492ecd"
      },
      "source": [
        "expr.doit()"
      ],
      "execution_count": null,
      "outputs": [
        {
          "output_type": "execute_result",
          "data": {
            "image/png": "[encoded data removed]",
            "text/latex": "$\\displaystyle x \\log{\\left(x \\right)}^{2} - 2 x \\log{\\left(x \\right)} + 2 x$",
            "text/plain": [
              "     2                      \n",
              "x⋅log (x) - 2⋅x⋅log(x) + 2⋅x"
            ]
          },
          "metadata": {},
          "execution_count": 30
        }
      ]
    },
    {
      "cell_type": "code",
      "metadata": {
        "colab": {
          "base_uri": "https://localhost:8080/",
          "height": 39
        },
        "id": "C9fVA_JRQCgO",
        "outputId": "c563ed22-502a-47f1-f7b0-111be8be6a66"
      },
      "source": [
        "expr2 = integrate(log(x)**2, x)\n",
        "expr2"
      ],
      "execution_count": null,
      "outputs": [
        {
          "output_type": "execute_result",
          "data": {
            "image/png": "[encoded data removed]",
            "text/latex": "$\\displaystyle x \\log{\\left(x \\right)}^{2} - 2 x \\log{\\left(x \\right)} + 2 x$",
            "text/plain": [
              "     2                      \n",
              "x⋅log (x) - 2⋅x⋅log(x) + 2⋅x"
            ]
          },
          "metadata": {},
          "execution_count": 31
        }
      ]
    },
    {
      "cell_type": "markdown",
      "metadata": {
        "id": "ZSx-vvgCKvaP"
      },
      "source": [
        "###**Limites**"
      ]
    },
    {
      "cell_type": "markdown",
      "metadata": {
        "id": "1_XAFnDUK1rH"
      },
      "source": [
        "O SymPy pode calcular limites simbólicos com a função `limit`."
      ]
    },
    {
      "cell_type": "code",
      "metadata": {
        "colab": {
          "base_uri": "https://localhost:8080/",
          "height": 37
        },
        "id": "-oaM4LW0KaaD",
        "outputId": "0723c19f-f7ce-45f9-a49a-0779e09ffd49"
      },
      "source": [
        "limit(sin(x)/x, x, 0)"
      ],
      "execution_count": null,
      "outputs": [
        {
          "output_type": "execute_result",
          "data": {
            "image/png": "[encoded data removed]",
            "text/latex": "$\\displaystyle 1$",
            "text/plain": [
              "1"
            ]
          },
          "metadata": {},
          "execution_count": 19
        }
      ]
    },
    {
      "cell_type": "code",
      "metadata": {
        "colab": {
          "base_uri": "https://localhost:8080/",
          "height": 37
        },
        "id": "6NqSUO32188C",
        "outputId": "d69dac84-16cd-467b-b835-72b03f8b24a1"
      },
      "source": [
        "expr = x**2/exp(x)\n",
        "limit(expr, x, oo)"
      ],
      "execution_count": null,
      "outputs": [
        {
          "output_type": "execute_result",
          "data": {
            "image/png": "[encoded data removed]",
            "text/latex": "$\\displaystyle 0$",
            "text/plain": [
              "0"
            ]
          },
          "metadata": {},
          "execution_count": 38
        }
      ]
    },
    {
      "cell_type": "markdown",
      "metadata": {
        "id": "8PeocvYTLUEz"
      },
      "source": [
        "Como Derivativo e Integral, o limite tem uma contraparte não avaliada. Para avaliá-lo, use o doit."
      ]
    },
    {
      "cell_type": "code",
      "metadata": {
        "colab": {
          "base_uri": "https://localhost:8080/",
          "height": 57
        },
        "id": "yBYsTTmNLZXk",
        "outputId": "6b8cea7c-fa5f-43b0-8bf4-1c36c5ddce7f"
      },
      "source": [
        "expr = Limit((cos(x) - 1)/x, x, 0)\n",
        "expr  "
      ],
      "execution_count": null,
      "outputs": [
        {
          "output_type": "execute_result",
          "data": {
            "image/png": "[encoded data removed]",
            "text/latex": "$\\displaystyle \\lim_{x \\to 0^+}\\left(\\frac{\\cos{\\left(x \\right)} - 1}{x}\\right)$",
            "text/plain": [
              "     ⎛cos(x) - 1⎞\n",
              " lim ⎜──────────⎟\n",
              "x─→0⁺⎝    x     ⎠"
            ]
          },
          "metadata": {},
          "execution_count": 42
        }
      ]
    },
    {
      "cell_type": "code",
      "metadata": {
        "colab": {
          "base_uri": "https://localhost:8080/",
          "height": 37
        },
        "id": "cUsls8BMdmlB",
        "outputId": "1c37eecc-ee4a-4cbf-8d66-f6610b9983c2"
      },
      "source": [
        "expr.doit()"
      ],
      "execution_count": null,
      "outputs": [
        {
          "output_type": "execute_result",
          "data": {
            "image/png": "[encoded data removed]",
            "text/latex": "$\\displaystyle 0$",
            "text/plain": [
              "0"
            ]
          },
          "metadata": {},
          "execution_count": 43
        }
      ]
    },
    {
      "cell_type": "markdown",
      "metadata": {
        "id": "s-_Xo32BLjeQ"
      },
      "source": [
        "Para avaliar um limite em apenas um lado, passe `'+'` ou `'-'` como um quarto argumento para `limit`. Por exemplo, para calcular"
      ]
    },
    {
      "cell_type": "code",
      "metadata": {
        "colab": {
          "base_uri": "https://localhost:8080/",
          "height": 37
        },
        "id": "PpojNK43Ln1k",
        "outputId": "30039bae-eada-4429-c026-7b251b98f5c5"
      },
      "source": [
        "limit(1/x, x, 0, '+')"
      ],
      "execution_count": null,
      "outputs": [
        {
          "output_type": "execute_result",
          "data": {
            "image/png": "[encoded data removed]",
            "text/latex": "$\\displaystyle \\infty$",
            "text/plain": [
              "∞"
            ]
          },
          "metadata": {},
          "execution_count": 24
        }
      ]
    },
    {
      "cell_type": "markdown",
      "metadata": {
        "id": "_0CJPnBBmY-U"
      },
      "source": [
        "##**Matrizes**"
      ]
    },
    {
      "cell_type": "markdown",
      "metadata": {
        "id": "gMKkxov0mbxy"
      },
      "source": [
        "Para fazer uma matriz em SymPy, use o objeto. Uma matriz é construída fornecendo uma lista de vetores de linha que compõem a matriz. Por exemplo, para construir a matriz `Matrix`\n",
        "\n"
      ]
    },
    {
      "cell_type": "code",
      "metadata": {
        "colab": {
          "base_uri": "https://localhost:8080/",
          "height": 78
        },
        "id": "q5AK8WlYmg1j",
        "outputId": "aa2588ef-4e3b-4688-f2fd-de132d857ad2"
      },
      "source": [
        "Matrix([[1, -1], [3, 4], [0, 2]])"
      ],
      "execution_count": null,
      "outputs": [
        {
          "output_type": "execute_result",
          "data": {
            "text/latex": "$\\displaystyle \\left[\\begin{matrix}1 & -1\\\\3 & 4\\\\0 & 2\\end{matrix}\\right]$",
            "text/plain": [
              "Matrix([\n",
              "[1, -1],\n",
              "[3,  4],\n",
              "[0,  2]])"
            ]
          },
          "metadata": {},
          "execution_count": 2
        }
      ]
    },
    {
      "cell_type": "markdown",
      "metadata": {
        "id": "u23bHcusnAl6"
      },
      "source": [
        "As matrizes são manipuladas como qualquer outro objeto em SymPy ou Python.\n",
        "\n"
      ]
    },
    {
      "cell_type": "code",
      "metadata": {
        "colab": {
          "base_uri": "https://localhost:8080/",
          "height": 78
        },
        "id": "_ytPgBA7lThQ",
        "outputId": "5f7473d5-ecfa-4ff5-f887-8096b57796c2"
      },
      "source": [
        "N = Matrix([0, 1, 1])\n",
        "N"
      ],
      "execution_count": null,
      "outputs": [
        {
          "output_type": "execute_result",
          "data": {
            "text/latex": "$\\displaystyle \\left[\\begin{matrix}0\\\\1\\\\1\\end{matrix}\\right]$",
            "text/plain": [
              "⎡0⎤\n",
              "⎢ ⎥\n",
              "⎢1⎥\n",
              "⎢ ⎥\n",
              "⎣1⎦"
            ]
          },
          "metadata": {},
          "execution_count": 39
        }
      ]
    },
    {
      "cell_type": "code",
      "metadata": {
        "colab": {
          "base_uri": "https://localhost:8080/",
          "height": 57
        },
        "id": "JsJL7egknBIq",
        "outputId": "9ec8ce9e-50b5-492a-ab62-809837af4a02"
      },
      "source": [
        "M = Matrix([[1, 2, 3], [3, 2, 1]])\n",
        "N = Matrix([0, 1, 1])\n",
        "# print(M.shape)\n",
        "# print(N.shape)\n",
        "M * N"
      ],
      "execution_count": null,
      "outputs": [
        {
          "output_type": "execute_result",
          "data": {
            "text/latex": "$\\displaystyle \\left[\\begin{matrix}5\\\\3\\end{matrix}\\right]$",
            "text/plain": [
              "⎡5⎤\n",
              "⎢ ⎥\n",
              "⎣3⎦"
            ]
          },
          "metadata": {},
          "execution_count": 40
        }
      ]
    },
    {
      "cell_type": "markdown",
      "metadata": {
        "id": "SF4IGtBYmyIj"
      },
      "source": [
        "Uma coisa importante a se notar sobre as matrizes SymPy é que, ao contrário de todos os outros objetos no SymPy, elas são mutáveis. Isso significa que eles podem ser modificados no local, como veremos a seguir. A desvantagem disso é que o `Matrix` não pode ser usado em lugares que exigem imutabilidade, como dentro de outras expressões SymPy ou como chaves para dicionários. Se você precisar de uma versão imutável do `Matrix`, use `ImmutableMatrix`."
      ]
    },
    {
      "cell_type": "markdown",
      "metadata": {
        "id": "mrAGrMmznQhb"
      },
      "source": [
        "###**Operações Básicas**\n",
        "\n",
        "Aqui estão algumas operações básicas em .`Matrix`\n",
        "\n",
        "\n",
        "\n"
      ]
    },
    {
      "cell_type": "markdown",
      "metadata": {
        "id": "s1DRdrkpomOs"
      },
      "source": [
        "***Acessando linhas e colunas:***\n",
        "\n",
        "Para obter uma linha ou coluna individual de uma matriz, use row ou col. Por exemplo, M.row (0) obterá a primeira linha. M.col (-1) obterá a última coluna."
      ]
    },
    {
      "cell_type": "code",
      "metadata": {
        "colab": {
          "base_uri": "https://localhost:8080/",
          "height": 58
        },
        "id": "PywEjsFDo1bj",
        "outputId": "7012372f-ad91-411b-8840-1a25f2a0f095"
      },
      "source": [
        "M = Matrix([[1, 2, 3], [-2, 0, 4]])\n",
        "M"
      ],
      "execution_count": null,
      "outputs": [
        {
          "output_type": "execute_result",
          "data": {
            "text/latex": "$\\displaystyle \\left[\\begin{matrix}1 & 2 & 3\\\\-2 & 0 & 4\\end{matrix}\\right]$",
            "text/plain": [
              "Matrix([\n",
              "[ 1, 2, 3],\n",
              "[-2, 0, 4]])"
            ]
          },
          "metadata": {},
          "execution_count": 15
        }
      ]
    },
    {
      "cell_type": "code",
      "metadata": {
        "colab": {
          "base_uri": "https://localhost:8080/",
          "height": 38
        },
        "id": "RhwbO9WSo5q0",
        "outputId": "5dd6de44-c646-4b34-8a1a-359e567f308b"
      },
      "source": [
        "M.row(0)"
      ],
      "execution_count": null,
      "outputs": [
        {
          "output_type": "execute_result",
          "data": {
            "text/latex": "$\\displaystyle \\left[\\begin{matrix}1 & 2 & 3\\end{matrix}\\right]$",
            "text/plain": [
              "Matrix([[1, 2, 3]])"
            ]
          },
          "metadata": {},
          "execution_count": 16
        }
      ]
    },
    {
      "cell_type": "code",
      "metadata": {
        "colab": {
          "base_uri": "https://localhost:8080/",
          "height": 58
        },
        "id": "KeuFmz4Zo849",
        "outputId": "d5ee2fb4-35cf-4071-91af-67af9f5974b9"
      },
      "source": [
        "M.col(-1)"
      ],
      "execution_count": null,
      "outputs": [
        {
          "output_type": "execute_result",
          "data": {
            "text/latex": "$\\displaystyle \\left[\\begin{matrix}3\\\\4\\end{matrix}\\right]$",
            "text/plain": [
              "Matrix([\n",
              "[3],\n",
              "[4]])"
            ]
          },
          "metadata": {},
          "execution_count": 17
        }
      ]
    },
    {
      "cell_type": "markdown",
      "metadata": {
        "id": "o6mYOOpPpYfV"
      },
      "source": [
        "***Excluindo e inserindo linhas e colunas***\n",
        "\n",
        "Para excluir uma linha ou coluna, use `row_del` ou `col_del`. Essas operações modificarão a Matriz no local."
      ]
    },
    {
      "cell_type": "code",
      "metadata": {
        "colab": {
          "base_uri": "https://localhost:8080/",
          "height": 58
        },
        "id": "G3BZqwv9ph33",
        "outputId": "2a15d563-f435-485e-e0dd-4fafeb73812c"
      },
      "source": [
        "M.col_del(0)\n",
        "M"
      ],
      "execution_count": null,
      "outputs": [
        {
          "output_type": "execute_result",
          "data": {
            "text/latex": "$\\displaystyle \\left[\\begin{matrix}2 & 3\\\\0 & 4\\end{matrix}\\right]$",
            "text/plain": [
              "Matrix([\n",
              "[2, 3],\n",
              "[0, 4]])"
            ]
          },
          "metadata": {},
          "execution_count": 18
        }
      ]
    },
    {
      "cell_type": "code",
      "metadata": {
        "colab": {
          "base_uri": "https://localhost:8080/",
          "height": 38
        },
        "id": "LFLruV3kplqJ",
        "outputId": "0f5d9d4d-13ac-45cf-da41-43daedf760ef"
      },
      "source": [
        "M.row_del(1)\n",
        "M"
      ],
      "execution_count": null,
      "outputs": [
        {
          "output_type": "execute_result",
          "data": {
            "text/latex": "$\\displaystyle \\left[\\begin{matrix}2 & 3\\end{matrix}\\right]$",
            "text/plain": [
              "Matrix([[2, 3]])"
            ]
          },
          "metadata": {},
          "execution_count": 19
        }
      ]
    },
    {
      "cell_type": "markdown",
      "metadata": {
        "id": "_0O6xGRup202"
      },
      "source": [
        "Para inserir linhas ou colunas, use `row_insert` ou `col_insert`. Essas operações não funcionam no local."
      ]
    },
    {
      "cell_type": "code",
      "metadata": {
        "colab": {
          "base_uri": "https://localhost:8080/",
          "height": 38
        },
        "id": "pE5CyDiBp5BS",
        "outputId": "d843aeb0-208f-4962-8193-60b7d9b9cf06"
      },
      "source": [
        "M"
      ],
      "execution_count": null,
      "outputs": [
        {
          "output_type": "execute_result",
          "data": {
            "text/latex": "$\\displaystyle \\left[\\begin{matrix}2 & 3\\end{matrix}\\right]$",
            "text/plain": [
              "Matrix([[2, 3]])"
            ]
          },
          "metadata": {},
          "execution_count": 21
        }
      ]
    },
    {
      "cell_type": "code",
      "metadata": {
        "colab": {
          "base_uri": "https://localhost:8080/",
          "height": 58
        },
        "id": "tT98L1tqp_8_",
        "outputId": "b178a7d0-6972-4d69-87d9-18a0ae2a6d0d"
      },
      "source": [
        "M = M.row_insert(1, Matrix([[0, 4]]))\n",
        "M"
      ],
      "execution_count": null,
      "outputs": [
        {
          "output_type": "execute_result",
          "data": {
            "text/latex": "$\\displaystyle \\left[\\begin{matrix}2 & 3\\\\0 & 4\\end{matrix}\\right]$",
            "text/plain": [
              "Matrix([\n",
              "[2, 3],\n",
              "[0, 4]])"
            ]
          },
          "metadata": {},
          "execution_count": 22
        }
      ]
    },
    {
      "cell_type": "code",
      "metadata": {
        "colab": {
          "base_uri": "https://localhost:8080/",
          "height": 58
        },
        "id": "xFWgBuF1qCIU",
        "outputId": "9dae2573-975f-48f1-f0ea-e8ee4123616b"
      },
      "source": [
        "M = M.col_insert(0, Matrix([1, -2]))\n",
        "M"
      ],
      "execution_count": null,
      "outputs": [
        {
          "output_type": "execute_result",
          "data": {
            "text/latex": "$\\displaystyle \\left[\\begin{matrix}1 & 2 & 3\\\\-2 & 0 & 4\\end{matrix}\\right]$",
            "text/plain": [
              "Matrix([\n",
              "[ 1, 2, 3],\n",
              "[-2, 0, 4]])"
            ]
          },
          "metadata": {},
          "execution_count": 23
        }
      ]
    },
    {
      "cell_type": "markdown",
      "metadata": {
        "id": "N_jt1eYgqKPs"
      },
      "source": [
        "A menos que explicitamente declarado, os métodos mencionados abaixo não funcionam no local. Em geral, um método que não opera no local retornará uma nova `Matrix` e um método que opera no local retornará `Nome`."
      ]
    },
    {
      "cell_type": "markdown",
      "metadata": {
        "id": "9tTKcQSJqR2U"
      },
      "source": [
        "***Métodos Básicos***\n",
        "\n",
        "Conforme observado acima, operações simples como adição e multiplicação são feitas apenas usando `+`, `*` e `**`. Para encontrar o inverso de uma matriz, apenas eleve-a à potência `-1`."
      ]
    },
    {
      "cell_type": "code",
      "metadata": {
        "id": "CjXKqxBgqdbr"
      },
      "source": [
        "M = Matrix([[1, 3], [-2, 3]])\n",
        "N = Matrix([[0, 3], [0, 7]])"
      ],
      "execution_count": null,
      "outputs": []
    },
    {
      "cell_type": "code",
      "metadata": {
        "colab": {
          "base_uri": "https://localhost:8080/",
          "height": 58
        },
        "id": "1XuvQnPrqkQs",
        "outputId": "8f891263-0f7c-44a1-d062-52e789ce88b0"
      },
      "source": [
        "M + N"
      ],
      "execution_count": null,
      "outputs": [
        {
          "output_type": "execute_result",
          "data": {
            "text/latex": "$\\displaystyle \\left[\\begin{matrix}1 & 6\\\\-2 & 10\\end{matrix}\\right]$",
            "text/plain": [
              "Matrix([\n",
              "[ 1,  6],\n",
              "[-2, 10]])"
            ]
          },
          "metadata": {},
          "execution_count": 26
        }
      ]
    },
    {
      "cell_type": "code",
      "metadata": {
        "colab": {
          "base_uri": "https://localhost:8080/",
          "height": 58
        },
        "id": "jVaHqqdIqm6c",
        "outputId": "4b7b8703-baec-4ec7-e855-594a81507e76"
      },
      "source": [
        "M*N"
      ],
      "execution_count": null,
      "outputs": [
        {
          "output_type": "execute_result",
          "data": {
            "text/latex": "$\\displaystyle \\left[\\begin{matrix}0 & 24\\\\0 & 15\\end{matrix}\\right]$",
            "text/plain": [
              "Matrix([\n",
              "[0, 24],\n",
              "[0, 15]])"
            ]
          },
          "metadata": {},
          "execution_count": 27
        }
      ]
    },
    {
      "cell_type": "code",
      "metadata": {
        "colab": {
          "base_uri": "https://localhost:8080/",
          "height": 58
        },
        "id": "6QlZr5D-qqAU",
        "outputId": "82c0cd20-9992-4f00-8dcc-61ecb865e61c"
      },
      "source": [
        "M**2"
      ],
      "execution_count": null,
      "outputs": [
        {
          "output_type": "execute_result",
          "data": {
            "text/latex": "$\\displaystyle \\left[\\begin{matrix}-5 & 12\\\\-8 & 3\\end{matrix}\\right]$",
            "text/plain": [
              "Matrix([\n",
              "[-5, 12],\n",
              "[-8,  3]])"
            ]
          },
          "metadata": {},
          "execution_count": 28
        }
      ]
    },
    {
      "cell_type": "code",
      "metadata": {
        "id": "gVd_OHwIqws8"
      },
      "source": [
        "#NonInvertibleMatrixError: Matrix det == 0; não invertível.\n",
        "N ** -1"
      ],
      "execution_count": null,
      "outputs": []
    },
    {
      "cell_type": "markdown",
      "metadata": {
        "id": "8KheZqKiq9Hc"
      },
      "source": [
        "Para tomar a **transposição** de uma Matriz, use `.T`\n",
        "\n"
      ]
    },
    {
      "cell_type": "code",
      "metadata": {
        "colab": {
          "base_uri": "https://localhost:8080/",
          "height": 58
        },
        "id": "25RhOowqq_jM",
        "outputId": "2e2baa8d-f72f-4aa1-aa2b-5c2a5fa4be83"
      },
      "source": [
        "M = Matrix([[1, 2, 3], [4, 5, 6]])\n",
        "M"
      ],
      "execution_count": null,
      "outputs": [
        {
          "output_type": "execute_result",
          "data": {
            "text/latex": "$\\displaystyle \\left[\\begin{matrix}1 & 2 & 3\\\\4 & 5 & 6\\end{matrix}\\right]$",
            "text/plain": [
              "Matrix([\n",
              "[1, 2, 3],\n",
              "[4, 5, 6]])"
            ]
          },
          "metadata": {},
          "execution_count": 31
        }
      ]
    },
    {
      "cell_type": "code",
      "metadata": {
        "colab": {
          "base_uri": "https://localhost:8080/",
          "height": 78
        },
        "id": "HlQYwxGSrCjl",
        "outputId": "39c917a1-0028-4ce0-ae2b-1bc20dfe00f4"
      },
      "source": [
        "M.T"
      ],
      "execution_count": null,
      "outputs": [
        {
          "output_type": "execute_result",
          "data": {
            "text/latex": "$\\displaystyle \\left[\\begin{matrix}1 & 4\\\\2 & 5\\\\3 & 6\\end{matrix}\\right]$",
            "text/plain": [
              "Matrix([\n",
              "[1, 4],\n",
              "[2, 5],\n",
              "[3, 6]])"
            ]
          },
          "metadata": {},
          "execution_count": 32
        }
      ]
    },
    {
      "cell_type": "markdown",
      "metadata": {
        "id": "47jAlCxRrJCq"
      },
      "source": [
        "***Construtores matriciais***\n",
        "\n",
        "Existem vários construtores para criar matrizes comuns. Para criar uma ***matriz identidade***, use o `eye`. `eye`(n) criará um"
      ]
    },
    {
      "cell_type": "code",
      "metadata": {
        "colab": {
          "base_uri": "https://localhost:8080/",
          "height": 78
        },
        "id": "aZk9HRLUrXmW",
        "outputId": "c33aa95f-3d5e-4e6a-b388-ce2308838118"
      },
      "source": [
        "eye(3)"
      ],
      "execution_count": null,
      "outputs": [
        {
          "output_type": "execute_result",
          "data": {
            "text/latex": "$\\displaystyle \\left[\\begin{matrix}1 & 0 & 0\\\\0 & 1 & 0\\\\0 & 0 & 1\\end{matrix}\\right]$",
            "text/plain": [
              "Matrix([\n",
              "[1, 0, 0],\n",
              "[0, 1, 0],\n",
              "[0, 0, 1]])"
            ]
          },
          "metadata": {},
          "execution_count": 33
        }
      ]
    },
    {
      "cell_type": "markdown",
      "metadata": {
        "id": "SSzefZdfrgL2"
      },
      "source": [
        "Para criar uma **matriz de zeros**, use `zeros`. `zeros(n, m)` cria uma matriz n × m de 0s."
      ]
    },
    {
      "cell_type": "code",
      "metadata": {
        "colab": {
          "base_uri": "https://localhost:8080/",
          "height": 58
        },
        "id": "OovNEXH5rr3u",
        "outputId": "ac904feb-4033-4da2-c3b2-231fdd66b382"
      },
      "source": [
        "zeros(2,4)"
      ],
      "execution_count": null,
      "outputs": [
        {
          "output_type": "execute_result",
          "data": {
            "text/latex": "$\\displaystyle \\left[\\begin{matrix}0 & 0 & 0 & 0\\\\0 & 0 & 0 & 0\\end{matrix}\\right]$",
            "text/plain": [
              "Matrix([\n",
              "[0, 0, 0, 0],\n",
              "[0, 0, 0, 0]])"
            ]
          },
          "metadata": {},
          "execution_count": 34
        }
      ]
    },
    {
      "cell_type": "markdown",
      "metadata": {
        "id": "WTMGIQNIrv09"
      },
      "source": [
        "Da mesma forma, pode-se criar uma matriz de `ones`"
      ]
    },
    {
      "cell_type": "code",
      "metadata": {
        "colab": {
          "base_uri": "https://localhost:8080/",
          "height": 58
        },
        "id": "APJ9a0aBr1i1",
        "outputId": "1e74f032-1890-40d8-88fe-64ca93860422"
      },
      "source": [
        "ones(2,4)"
      ],
      "execution_count": null,
      "outputs": [
        {
          "output_type": "execute_result",
          "data": {
            "text/latex": "$\\displaystyle \\left[\\begin{matrix}1 & 1 & 1 & 1\\\\1 & 1 & 1 & 1\\end{matrix}\\right]$",
            "text/plain": [
              "Matrix([\n",
              "[1, 1, 1, 1],\n",
              "[1, 1, 1, 1]])"
            ]
          },
          "metadata": {},
          "execution_count": 35
        }
      ]
    },
    {
      "cell_type": "markdown",
      "metadata": {
        "id": "skGy-RHmr8yC"
      },
      "source": [
        "Para criar ***matrizes diagonais***, use `diag`. Os argumentos para `diag` podem ser números ou matrizes. Um número é interpretado como uma matriz 1 × 1. As matrizes são empilhadas diagonalmente. Os elementos restantes são preenchidos com 0s."
      ]
    },
    {
      "cell_type": "code",
      "metadata": {
        "colab": {
          "base_uri": "https://localhost:8080/",
          "height": 78
        },
        "id": "nfn3Qxz7sBp9",
        "outputId": "6ce31ae2-4e2b-4ccd-f9bb-177a07ffe11b"
      },
      "source": [
        "diag(1, 2, 3)"
      ],
      "execution_count": null,
      "outputs": [
        {
          "output_type": "execute_result",
          "data": {
            "text/latex": "$\\displaystyle \\left[\\begin{matrix}1 & 0 & 0\\\\0 & 2 & 0\\\\0 & 0 & 3\\end{matrix}\\right]$",
            "text/plain": [
              "Matrix([\n",
              "[1, 0, 0],\n",
              "[0, 2, 0],\n",
              "[0, 0, 3]])"
            ]
          },
          "metadata": {},
          "execution_count": 36
        }
      ]
    },
    {
      "cell_type": "code",
      "metadata": {
        "colab": {
          "base_uri": "https://localhost:8080/",
          "height": 139
        },
        "id": "WtM5g-C8sF1p",
        "outputId": "46415ef2-5ad0-4671-fcde-a6881a222850"
      },
      "source": [
        "diag(-1, ones(2, 2), Matrix([5, 7, 5]))"
      ],
      "execution_count": null,
      "outputs": [
        {
          "output_type": "execute_result",
          "data": {
            "text/latex": "$\\displaystyle \\left[\\begin{matrix}-1 & 0 & 0 & 0\\\\0 & 1 & 1 & 0\\\\0 & 1 & 1 & 0\\\\0 & 0 & 0 & 5\\\\0 & 0 & 0 & 7\\\\0 & 0 & 0 & 5\\end{matrix}\\right]$",
            "text/plain": [
              "Matrix([\n",
              "[-1, 0, 0, 0],\n",
              "[ 0, 1, 1, 0],\n",
              "[ 0, 1, 1, 0],\n",
              "[ 0, 0, 0, 5],\n",
              "[ 0, 0, 0, 7],\n",
              "[ 0, 0, 0, 5]])"
            ]
          },
          "metadata": {},
          "execution_count": 37
        }
      ]
    },
    {
      "cell_type": "markdown",
      "metadata": {
        "id": "g5jqaErmr84k"
      },
      "source": [
        "###**Métodos Avançados**"
      ]
    },
    {
      "cell_type": "markdown",
      "metadata": {
        "id": "KhcM16Y3sV_K"
      },
      "source": [
        "***Determinante***\n",
        "\n",
        "Para calcular o determinante de uma matriz, use `.det`"
      ]
    },
    {
      "cell_type": "code",
      "metadata": {
        "colab": {
          "base_uri": "https://localhost:8080/",
          "height": 78
        },
        "id": "tYEoAmxosd6O",
        "outputId": "1a781d37-f643-4766-c1f2-37917ce91448"
      },
      "source": [
        "M = Matrix([[1, 0, 1], [2, -1, 3], [4, 3, 2]])\n",
        "M"
      ],
      "execution_count": null,
      "outputs": [
        {
          "output_type": "execute_result",
          "data": {
            "text/latex": "$\\displaystyle \\left[\\begin{matrix}1 & 0 & 1\\\\2 & -1 & 3\\\\4 & 3 & 2\\end{matrix}\\right]$",
            "text/plain": [
              "Matrix([\n",
              "[1,  0, 1],\n",
              "[2, -1, 3],\n",
              "[4,  3, 2]])"
            ]
          },
          "metadata": {},
          "execution_count": 38
        }
      ]
    },
    {
      "cell_type": "code",
      "metadata": {
        "colab": {
          "base_uri": "https://localhost:8080/",
          "height": 37
        },
        "id": "8d3_iGT5sgRW",
        "outputId": "3e4cde8b-1970-44a8-cc9a-589edd7d05b2"
      },
      "source": [
        "M.det()"
      ],
      "execution_count": null,
      "outputs": [
        {
          "output_type": "execute_result",
          "data": {
            "text/latex": "$\\displaystyle -1$",
            "text/plain": [
              "-1"
            ]
          },
          "metadata": {},
          "execution_count": 39
        }
      ]
    },
    {
      "cell_type": "markdown",
      "metadata": {
        "id": "sBPPYjWdsqLU"
      },
      "source": [
        "***Matriz escalonada***\n",
        "\n",
        "Para colocar uma matriz na forma escalonada de linha reduzida, use `rref`. `rref` retorna uma tupla de dois elementos. A primeira é a forma escalonada de linha reduzida e a segunda é uma tupla de índices das colunas pivô."
      ]
    },
    {
      "cell_type": "code",
      "metadata": {
        "colab": {
          "base_uri": "https://localhost:8080/",
          "height": 78
        },
        "id": "rTELZZc2s0cV",
        "outputId": "820a0887-688b-4547-b358-4123a85b7ab0"
      },
      "source": [
        "M = Matrix([[1, 0, 1, 3], [2, 3, 4, 7], [-1, -3, -3, -4]])\n",
        "M"
      ],
      "execution_count": null,
      "outputs": [
        {
          "output_type": "execute_result",
          "data": {
            "text/latex": "$\\displaystyle \\left[\\begin{matrix}1 & 0 & 1 & 3\\\\2 & 3 & 4 & 7\\\\-1 & -3 & -3 & -4\\end{matrix}\\right]$",
            "text/plain": [
              "Matrix([\n",
              "[ 1,  0,  1,  3],\n",
              "[ 2,  3,  4,  7],\n",
              "[-1, -3, -3, -4]])"
            ]
          },
          "metadata": {},
          "execution_count": 40
        }
      ]
    },
    {
      "cell_type": "code",
      "metadata": {
        "colab": {
          "base_uri": "https://localhost:8080/"
        },
        "id": "oErkdGRWs3pT",
        "outputId": "9851e021-e471-4bd2-ee7a-171f93cbc521"
      },
      "source": [
        "M.rref()"
      ],
      "execution_count": null,
      "outputs": [
        {
          "output_type": "execute_result",
          "data": {
            "text/plain": [
              "(Matrix([\n",
              " [1, 0,   1,   3],\n",
              " [0, 1, 2/3, 1/3],\n",
              " [0, 0,   0,   0]]), (0, 1))"
            ]
          },
          "metadata": {},
          "execution_count": 41
        }
      ]
    },
    {
      "cell_type": "markdown",
      "metadata": {
        "id": "mKn7II1UtFM6"
      },
      "source": [
        "***Espaço nulo***\n",
        "\n",
        "Para encontrar o espaço nulo de uma matriz, use o `nullspace`. `nullspace` retorna uma `lista` de vetores de coluna que abrangem o espaço nulo da matriz."
      ]
    },
    {
      "cell_type": "code",
      "metadata": {
        "colab": {
          "base_uri": "https://localhost:8080/",
          "height": 58
        },
        "id": "5cItIzE7tRq4",
        "outputId": "d1b0dc5d-d177-4b0f-84f8-32bff3adba6b"
      },
      "source": [
        "M = Matrix([[1, 2, 3, 0, 0], [4, 10, 0, 0, 1]])\n",
        "M"
      ],
      "execution_count": null,
      "outputs": [
        {
          "output_type": "execute_result",
          "data": {
            "text/latex": "$\\displaystyle \\left[\\begin{matrix}1 & 2 & 3 & 0 & 0\\\\4 & 10 & 0 & 0 & 1\\end{matrix}\\right]$",
            "text/plain": [
              "Matrix([\n",
              "[1,  2, 3, 0, 0],\n",
              "[4, 10, 0, 0, 1]])"
            ]
          },
          "metadata": {},
          "execution_count": 42
        }
      ]
    },
    {
      "cell_type": "code",
      "metadata": {
        "colab": {
          "base_uri": "https://localhost:8080/"
        },
        "id": "fFzh_wS4tTEu",
        "outputId": "c4d29559-74a8-473e-ddec-162fe13fe007"
      },
      "source": [
        "M.nullspace()"
      ],
      "execution_count": null,
      "outputs": [
        {
          "output_type": "execute_result",
          "data": {
            "text/plain": [
              "[Matrix([\n",
              " [-15],\n",
              " [  6],\n",
              " [  1],\n",
              " [  0],\n",
              " [  0]]), Matrix([\n",
              " [0],\n",
              " [0],\n",
              " [0],\n",
              " [1],\n",
              " [0]]), Matrix([\n",
              " [   1],\n",
              " [-1/2],\n",
              " [   0],\n",
              " [   0],\n",
              " [   1]])]"
            ]
          },
          "metadata": {},
          "execution_count": 44
        }
      ]
    },
    {
      "cell_type": "markdown",
      "metadata": {
        "id": "gCQpthTRtgmq"
      },
      "source": [
        "***Espaço Coluna***\n",
        "\n",
        "Para encontrar o espaço da coluna de uma matriz, use o `columnspace`. `columnpace` retorna uma lista de vetores de coluna que abrangem o espaço de colunas da matriz."
      ]
    },
    {
      "cell_type": "code",
      "metadata": {
        "colab": {
          "base_uri": "https://localhost:8080/",
          "height": 78
        },
        "id": "mssWPaixtxTg",
        "outputId": "a6fd5cab-18af-419c-b769-8c56ef8536ab"
      },
      "source": [
        "M = Matrix([[1, 1, 2], [2 ,1 , 3], [3 , 1, 4]])\n",
        "M"
      ],
      "execution_count": null,
      "outputs": [
        {
          "output_type": "execute_result",
          "data": {
            "text/latex": "$\\displaystyle \\left[\\begin{matrix}1 & 1 & 2\\\\2 & 1 & 3\\\\3 & 1 & 4\\end{matrix}\\right]$",
            "text/plain": [
              "Matrix([\n",
              "[1, 1, 2],\n",
              "[2, 1, 3],\n",
              "[3, 1, 4]])"
            ]
          },
          "metadata": {},
          "execution_count": 45
        }
      ]
    },
    {
      "cell_type": "code",
      "metadata": {
        "colab": {
          "base_uri": "https://localhost:8080/"
        },
        "id": "7e8zrv-0t1p-",
        "outputId": "c0eff6f3-2cfa-4f00-d77a-9e4528fb9680"
      },
      "source": [
        "M.columnspace()"
      ],
      "execution_count": null,
      "outputs": [
        {
          "output_type": "execute_result",
          "data": {
            "text/plain": [
              "[Matrix([\n",
              " [1],\n",
              " [2],\n",
              " [3]]), Matrix([\n",
              " [1],\n",
              " [1],\n",
              " [1]])]"
            ]
          },
          "metadata": {},
          "execution_count": 46
        }
      ]
    },
    {
      "cell_type": "markdown",
      "metadata": {
        "id": "uKhdIwlUuDJH"
      },
      "source": [
        "***Autovalores, Autovetores e Diagonalização***\n",
        "\n",
        "Para encontrar os autovalores de uma matriz, use `eigenvals`. `eigenvals` retorna um dicionário de `autovalor: multiplicidade_algébrica` (similar à saída de raízes)."
      ]
    },
    {
      "cell_type": "code",
      "metadata": {
        "colab": {
          "base_uri": "https://localhost:8080/",
          "height": 98
        },
        "id": "XYk7hp9DuUzf",
        "outputId": "30c72b7c-906d-4e47-e724-8febe7c700a1"
      },
      "source": [
        "M = Matrix([[3, -2,  4, -2], [5,  3, -3, -2], [5, -2,  2, -2], [5, -2, -3,  3]])\n",
        "M"
      ],
      "execution_count": null,
      "outputs": [
        {
          "output_type": "execute_result",
          "data": {
            "text/latex": "$\\displaystyle \\left[\\begin{matrix}3 & -2 & 4 & -2\\\\5 & 3 & -3 & -2\\\\5 & -2 & 2 & -2\\\\5 & -2 & -3 & 3\\end{matrix}\\right]$",
            "text/plain": [
              "⎡3  -2  4   -2⎤\n",
              "⎢             ⎥\n",
              "⎢5  3   -3  -2⎥\n",
              "⎢             ⎥\n",
              "⎢5  -2  2   -2⎥\n",
              "⎢             ⎥\n",
              "⎣5  -2  -3  3 ⎦"
            ]
          },
          "metadata": {},
          "execution_count": 42
        }
      ]
    },
    {
      "cell_type": "code",
      "metadata": {
        "colab": {
          "base_uri": "https://localhost:8080/"
        },
        "id": "AboXX231uZUG",
        "outputId": "04521b95-f805-467b-cf84-f79818f24a5e"
      },
      "source": [
        "M.eigenvals()"
      ],
      "execution_count": null,
      "outputs": [
        {
          "output_type": "execute_result",
          "data": {
            "text/plain": [
              "{-2: 1, 3: 1, 5: 2}"
            ]
          },
          "metadata": {},
          "execution_count": 48
        }
      ]
    },
    {
      "cell_type": "markdown",
      "metadata": {
        "id": "MgOEWyHouane"
      },
      "source": [
        "Isso significa que M tem autovalores -2, 3 e 5, e que os autovalores -2 e 3 têm multiplicidade algébrica 1 e que o autovalor 5 tem multiplicidade algébrica 2."
      ]
    },
    {
      "cell_type": "markdown",
      "metadata": {
        "id": "Qa0zgD2-uir_"
      },
      "source": [
        "Para encontrar os autovetores de uma matriz, use os `eigenvects`. eigenvects retorna uma lista de tuplas da forma  `(autovalor, multiplicidade_algébrica, [autovetores])`."
      ]
    },
    {
      "cell_type": "code",
      "metadata": {
        "colab": {
          "base_uri": "https://localhost:8080/"
        },
        "id": "UOeWHfZ-uqs_",
        "outputId": "61ad6971-f8d5-4ad6-95de-1d48d80c0f9a"
      },
      "source": [
        "M.eigenvects()"
      ],
      "execution_count": null,
      "outputs": [
        {
          "output_type": "execute_result",
          "data": {
            "text/plain": [
              "[(-2, 1, [Matrix([\n",
              "   [0],\n",
              "   [1],\n",
              "   [1],\n",
              "   [1]])]), (3, 1, [Matrix([\n",
              "   [1],\n",
              "   [1],\n",
              "   [1],\n",
              "   [1]])]), (5, 2, [Matrix([\n",
              "   [1],\n",
              "   [1],\n",
              "   [1],\n",
              "   [0]]), Matrix([\n",
              "   [ 0],\n",
              "   [-1],\n",
              "   [ 0],\n",
              "   [ 1]])])]"
            ]
          },
          "metadata": {},
          "execution_count": 51
        }
      ]
    },
    {
      "cell_type": "markdown",
      "metadata": {
        "id": "WQbo4C_BvEl6"
      },
      "source": [
        "Isso nos mostra que, por exemplo, o autovalor 5 também possui multiplicidade geométrica 2, pois possui dois autovetores. Como as multiplicidades algébrica e geométrica são iguais para todos os autovalores, M é diagonalizável."
      ]
    },
    {
      "cell_type": "markdown",
      "metadata": {
        "id": "R3Wm5nJrvFQp"
      },
      "source": [
        "Para diagonalizar uma matriz, use `diagonalize`. `diagonalize` retorna uma tupla (P, D), onde D é diagonal e M = PDP ^ (−1)."
      ]
    },
    {
      "cell_type": "code",
      "metadata": {
        "colab": {
          "base_uri": "https://localhost:8080/",
          "height": 98
        },
        "id": "E77IE9CdkApa",
        "outputId": "1ea911e8-e5d4-4a43-e860-30b592a87042"
      },
      "source": [
        "M"
      ],
      "execution_count": null,
      "outputs": [
        {
          "output_type": "execute_result",
          "data": {
            "text/latex": "$\\displaystyle \\left[\\begin{matrix}3 & -2 & 4 & -2\\\\5 & 3 & -3 & -2\\\\5 & -2 & 2 & -2\\\\5 & -2 & -3 & 3\\end{matrix}\\right]$",
            "text/plain": [
              "⎡3  -2  4   -2⎤\n",
              "⎢             ⎥\n",
              "⎢5  3   -3  -2⎥\n",
              "⎢             ⎥\n",
              "⎢5  -2  2   -2⎥\n",
              "⎢             ⎥\n",
              "⎣5  -2  -3  3 ⎦"
            ]
          },
          "metadata": {},
          "execution_count": 43
        }
      ]
    },
    {
      "cell_type": "code",
      "metadata": {
        "id": "ZpeLBJs8vRuG"
      },
      "source": [
        "P, D = M.diagonalize()"
      ],
      "execution_count": null,
      "outputs": []
    },
    {
      "cell_type": "code",
      "metadata": {
        "colab": {
          "base_uri": "https://localhost:8080/",
          "height": 98
        },
        "id": "_7pcCwFAqjKY",
        "outputId": "08c75fa4-27ba-4f69-ca8e-8a16621c0c80"
      },
      "source": [
        "P"
      ],
      "execution_count": null,
      "outputs": [
        {
          "output_type": "execute_result",
          "data": {
            "text/latex": "$\\displaystyle \\left[\\begin{matrix}0 & 1 & 1 & 0\\\\1 & 1 & 1 & -1\\\\1 & 1 & 1 & 0\\\\1 & 1 & 0 & 1\\end{matrix}\\right]$",
            "text/plain": [
              "⎡0  1  1  0 ⎤\n",
              "⎢           ⎥\n",
              "⎢1  1  1  -1⎥\n",
              "⎢           ⎥\n",
              "⎢1  1  1  0 ⎥\n",
              "⎢           ⎥\n",
              "⎣1  1  0  1 ⎦"
            ]
          },
          "metadata": {},
          "execution_count": 45
        }
      ]
    },
    {
      "cell_type": "code",
      "metadata": {
        "colab": {
          "base_uri": "https://localhost:8080/",
          "height": 98
        },
        "id": "3i3vT3orqj8x",
        "outputId": "5e47f133-811a-46e1-9228-4f6d820b37b5"
      },
      "source": [
        "D"
      ],
      "execution_count": null,
      "outputs": [
        {
          "output_type": "execute_result",
          "data": {
            "text/latex": "$\\displaystyle \\left[\\begin{matrix}-2 & 0 & 0 & 0\\\\0 & 3 & 0 & 0\\\\0 & 0 & 5 & 0\\\\0 & 0 & 0 & 5\\end{matrix}\\right]$",
            "text/plain": [
              "⎡-2  0  0  0⎤\n",
              "⎢           ⎥\n",
              "⎢0   3  0  0⎥\n",
              "⎢           ⎥\n",
              "⎢0   0  5  0⎥\n",
              "⎢           ⎥\n",
              "⎣0   0  0  5⎦"
            ]
          },
          "metadata": {},
          "execution_count": 50
        }
      ]
    },
    {
      "cell_type": "code",
      "metadata": {
        "colab": {
          "base_uri": "https://localhost:8080/",
          "height": 98
        },
        "id": "djiq-TfPvaDT",
        "outputId": "8ab161de-ce47-457f-b609-12b030e90058"
      },
      "source": [
        "P*D*P**-1"
      ],
      "execution_count": null,
      "outputs": [
        {
          "output_type": "execute_result",
          "data": {
            "text/latex": "$\\displaystyle \\left[\\begin{matrix}3 & -2 & 4 & -2\\\\5 & 3 & -3 & -2\\\\5 & -2 & 2 & -2\\\\5 & -2 & -3 & 3\\end{matrix}\\right]$",
            "text/plain": [
              "Matrix([\n",
              "[3, -2,  4, -2],\n",
              "[5,  3, -3, -2],\n",
              "[5, -2,  2, -2],\n",
              "[5, -2, -3,  3]])"
            ]
          },
          "metadata": {},
          "execution_count": 54
        }
      ]
    },
    {
      "cell_type": "code",
      "metadata": {
        "colab": {
          "base_uri": "https://localhost:8080/"
        },
        "id": "3n1r2QPbvdph",
        "outputId": "2fdb0063-64c4-4e6b-832c-db48b79fda2c"
      },
      "source": [
        "P*D*P**-1 == M"
      ],
      "execution_count": null,
      "outputs": [
        {
          "output_type": "execute_result",
          "data": {
            "text/plain": [
              "True"
            ]
          },
          "metadata": {},
          "execution_count": 55
        }
      ]
    },
    {
      "cell_type": "markdown",
      "metadata": {
        "id": "0KNJF-eAvkV8"
      },
      "source": [
        "Observe que, uma vez que os autovetores também incluem os autovalores, você deve usá-los em vez dos autovalores se também quiser os autovetores. No entanto, como calcular os autovetores muitas vezes pode ser caro, os autovalores devem ser preferidos se você deseja apenas encontrar os autovalores."
      ]
    },
    {
      "cell_type": "markdown",
      "metadata": {
        "id": "BuVnnbj5vkbt"
      },
      "source": [
        "Se tudo o que você deseja é o polinômio característico, use `charpoly`. Isso é mais eficiente do que `eigenvals`, porque às vezes as raízes simbólicas podem ser caras para calcular."
      ]
    },
    {
      "cell_type": "code",
      "metadata": {
        "colab": {
          "base_uri": "https://localhost:8080/",
          "height": 39
        },
        "id": "Y_rXjQ4XvsKJ",
        "outputId": "f72773eb-9ab8-4496-fb91-0aa36a1d8047"
      },
      "source": [
        "lamda = symbols('lamda')\n",
        "p = M.charpoly(lamda)\n",
        "factor(p.as_expr())"
      ],
      "execution_count": null,
      "outputs": [
        {
          "output_type": "execute_result",
          "data": {
            "text/latex": "$\\displaystyle \\left(\\lambda - 5\\right)^{2} \\left(\\lambda - 3\\right) \\left(\\lambda + 2\\right)$",
            "text/plain": [
              "(lamda - 5)**2*(lamda - 3)*(lamda + 2)"
            ]
          },
          "metadata": {},
          "execution_count": 56
        }
      ]
    },
    {
      "cell_type": "markdown",
      "metadata": {
        "id": "li29GlcPRV5u"
      },
      "source": [
        "##**Solvers**"
      ]
    },
    {
      "cell_type": "code",
      "metadata": {
        "id": "0yyphanSSDGM"
      },
      "source": [
        "x, y, z = symbols('x y z')\n",
        "init_printing(use_unicode=True)"
      ],
      "execution_count": null,
      "outputs": []
    },
    {
      "cell_type": "markdown",
      "metadata": {
        "id": "hCIbkABsRdb2"
      },
      "source": [
        "###***Uma nota sobre equações:*** \n",
        "\n",
        "As equações simbólicas em SymPy não são representadas por `=` ou `==`, mas por `.Eq`"
      ]
    },
    {
      "cell_type": "code",
      "metadata": {
        "colab": {
          "base_uri": "https://localhost:8080/",
          "height": 38
        },
        "id": "b8JJ3VMGR8C2",
        "outputId": "309aa796-74ff-46a1-c791-bc8b7f007725"
      },
      "source": [
        "Eq(x, y)"
      ],
      "execution_count": null,
      "outputs": [
        {
          "output_type": "execute_result",
          "data": {
            "image/png": "[encoded data removed]",
            "text/latex": "$\\displaystyle x = y$",
            "text/plain": [
              "x = y"
            ]
          },
          "metadata": {},
          "execution_count": 4
        }
      ]
    },
    {
      "cell_type": "markdown",
      "metadata": {
        "id": "t9l-qJZgSLpP"
      },
      "source": [
        "No entanto, existe uma maneira ainda mais fácil. No SymPy, qualquer expressão que não esteja em uma `Eq` é automaticamente considerada igual a 0 pelas funções de resolução. Como ***a = b*** se e somente se ***a − b = 0***, isso significa que em vez de usar `x == y`, você pode apenas usar `x - y`. Por exemplo"
      ]
    },
    {
      "cell_type": "code",
      "metadata": {
        "colab": {
          "base_uri": "https://localhost:8080/",
          "height": 37
        },
        "id": "4Gk_euvWXPbL",
        "outputId": "0e9df8f5-840a-4765-be4b-812013d98993"
      },
      "source": [
        "solveset(x**2 - 1, x)"
      ],
      "execution_count": null,
      "outputs": [
        {
          "output_type": "execute_result",
          "data": {
            "image/png": "[encoded data removed]",
            "text/latex": "$\\displaystyle \\left\\{-1, 1\\right\\}$",
            "text/plain": [
              "{-1, 1}"
            ]
          },
          "metadata": {},
          "execution_count": 7
        }
      ]
    },
    {
      "cell_type": "code",
      "metadata": {
        "colab": {
          "base_uri": "https://localhost:8080/",
          "height": 37
        },
        "id": "p4WcV2YBSVmN",
        "outputId": "eb0bf1c9-c70e-494d-c643-baa5cf5d2b73"
      },
      "source": [
        "solveset(Eq(x**2, 1), x)"
      ],
      "execution_count": null,
      "outputs": [
        {
          "output_type": "execute_result",
          "data": {
            "image/png": "[encoded data removed]",
            "text/latex": "$\\displaystyle \\left\\{-1, 1\\right\\}$",
            "text/plain": [
              "{-1, 1}"
            ]
          },
          "metadata": {},
          "execution_count": 6
        }
      ]
    },
    {
      "cell_type": "markdown",
      "metadata": {
        "id": "DYN9vPTTSdPF"
      },
      "source": [
        "Isso é particularmente útil se a equação que você deseja resolver já é igual a 0. Em vez de digitar `solveset (Eq (expr, 0), x)`, você pode apenas usar `solveset (expr, x)`."
      ]
    },
    {
      "cell_type": "markdown",
      "metadata": {
        "id": "LW_274N-Sik4"
      },
      "source": [
        "###**Resolvendo Equações Algebricamente:**\n",
        "\n",
        "A principal função para resolver equações algébrias é `solveset`. A sintaxe para solveset é `solveset(equation, variable=None, domain=S.Complexes)`. Onde `equations` pode estar na forma de `Eq` instâncias ou expressões que se supõe ser igual a zero.\n",
        "\n",
        "***Nota:*** Há outra função chamada `solve` que também pode ser usada para resolver equações. A sintaxe é `solve(equations, variables)` No entanto, recomenda-se usar `solveset` em vez disso."
      ]
    },
    {
      "cell_type": "code",
      "metadata": {
        "colab": {
          "base_uri": "https://localhost:8080/",
          "height": 37
        },
        "id": "1AeUzGpiT90F",
        "outputId": "d1061b83-5457-49b7-b3af-6fba55399b9f"
      },
      "source": [
        "solveset(x**2 - x, x)"
      ],
      "execution_count": null,
      "outputs": [
        {
          "output_type": "execute_result",
          "data": {
            "image/png": "[encoded data removed]",
            "text/latex": "$\\displaystyle \\left\\{0, 1\\right\\}$",
            "text/plain": [
              "{0, 1}"
            ]
          },
          "metadata": {},
          "execution_count": 7
        }
      ]
    },
    {
      "cell_type": "code",
      "metadata": {
        "colab": {
          "base_uri": "https://localhost:8080/",
          "height": 38
        },
        "id": "8bwxc4b3UBYO",
        "outputId": "5496eab4-5ea2-4b5b-84b1-ad3733d6d099"
      },
      "source": [
        "solveset(x - x , x, domain=S.Reals)"
      ],
      "execution_count": null,
      "outputs": [
        {
          "output_type": "execute_result",
          "data": {
            "image/png": "[encoded data removed]",
            "text/latex": "$\\displaystyle \\mathbb{R}$",
            "text/plain": [
              "ℝ"
            ]
          },
          "metadata": {},
          "execution_count": 58
        }
      ]
    },
    {
      "cell_type": "code",
      "metadata": {
        "colab": {
          "base_uri": "https://localhost:8080/",
          "height": 48
        },
        "id": "ZLNDi50yT5Dn",
        "outputId": "32fbd14a-22c9-4cb0-ac03-d4f47f3fb24f"
      },
      "source": [
        "solveset(sin(x) - 1, x, domain=S.Reals)"
      ],
      "execution_count": null,
      "outputs": [
        {
          "output_type": "execute_result",
          "data": {
            "image/png": "[encoded data removed]",
            "text/latex": "$\\displaystyle \\left\\{2 n \\pi + \\frac{\\pi}{2}\\; |\\; n \\in \\mathbb{Z}\\right\\}$",
            "text/plain": [
              "⎧        π        ⎫\n",
              "⎨2⋅n⋅π + ─ | n ∊ ℤ⎬\n",
              "⎩        2        ⎭"
            ]
          },
          "metadata": {},
          "execution_count": 6
        }
      ]
    },
    {
      "cell_type": "markdown",
      "metadata": {
        "id": "s4oWhLGOUIk-"
      },
      "source": [
        "Se não houver soluções, um `EmptySet` será retornado e se não for capaz de encontrar soluções, um `ConditionSet` será retornado."
      ]
    },
    {
      "cell_type": "code",
      "metadata": {
        "colab": {
          "base_uri": "https://localhost:8080/",
          "height": 37
        },
        "id": "io9puqAfUIT2",
        "outputId": "6007537f-9bb3-403e-8c6d-93351aaf1421"
      },
      "source": [
        "solveset(exp(x), x)  #Não existe solução"
      ],
      "execution_count": null,
      "outputs": [
        {
          "output_type": "execute_result",
          "data": {
            "image/png": "[encoded data removed]",
            "text/latex": "$\\displaystyle \\emptyset$",
            "text/plain": [
              "∅"
            ]
          },
          "metadata": {},
          "execution_count": 9
        }
      ]
    },
    {
      "cell_type": "code",
      "metadata": {
        "colab": {
          "base_uri": "https://localhost:8080/",
          "height": 38
        },
        "id": "aPyi0_AOUTj1",
        "outputId": "bbd7453a-8439-4ade-bf50-fce1b3de1e36"
      },
      "source": [
        "solveset(cos(x) - x, x)  #Não foi possível encontrar solução"
      ],
      "execution_count": null,
      "outputs": [
        {
          "output_type": "execute_result",
          "data": {
            "image/png": "[encoded data removed]",
            "text/latex": "$\\displaystyle \\left\\{x \\mid x \\in \\mathbb{C} \\wedge - x + \\cos{\\left(x \\right)} = 0 \\right\\}$",
            "text/plain": [
              "{x | x ∊ ℂ ∧ (-x + cos(x) = 0)}"
            ]
          },
          "metadata": {},
          "execution_count": 10
        }
      ]
    },
    {
      "cell_type": "markdown",
      "metadata": {
        "id": "QMlxVxH5UflW"
      },
      "source": [
        "No módulo `solveset`, o sistema linear de equações é resolvido usando `linsolve((A, b), (x,y,z)`.\n",
        "\n",
        "Onde A é a matriz e b é o vetor de resultado"
      ]
    },
    {
      "cell_type": "markdown",
      "metadata": {
        "id": "aj2gn-7iUrd-"
      },
      "source": [
        "* Forma de Equações:\n",
        "\n"
      ]
    },
    {
      "cell_type": "code",
      "metadata": {
        "colab": {
          "base_uri": "https://localhost:8080/",
          "height": 38
        },
        "id": "Rd38R8R4UqtQ",
        "outputId": "6c18dbbe-059d-43e0-fc23-a436efb709e4"
      },
      "source": [
        "linsolve([x + y + z - 1, x + y + 2*z - 3 ], (x, y, z))"
      ],
      "execution_count": null,
      "outputs": [
        {
          "output_type": "execute_result",
          "data": {
            "image/png": "[encoded data removed]",
            "text/latex": "$\\displaystyle \\left\\{\\left( - y - 1, \\  y, \\  2\\right)\\right\\}$",
            "text/plain": [
              "{(-y - 1, y, 2)}"
            ]
          },
          "metadata": {},
          "execution_count": 11
        }
      ]
    },
    {
      "cell_type": "markdown",
      "metadata": {
        "id": "2Fjcfg9HUwlF"
      },
      "source": [
        "* Forma de matriz aumentada:\n",
        "\n"
      ]
    },
    {
      "cell_type": "code",
      "metadata": {
        "colab": {
          "base_uri": "https://localhost:8080/",
          "height": 38
        },
        "id": "ncL06wRBUymN",
        "outputId": "617e6acf-d776-47e5-aad6-c11345b21531"
      },
      "source": [
        "linsolve(Matrix(([1, 1, 1, 1], [1, 1, 2, 3])), (x, y, z))"
      ],
      "execution_count": null,
      "outputs": [
        {
          "output_type": "execute_result",
          "data": {
            "image/png": "[encoded data removed]",
            "text/latex": "$\\displaystyle \\left\\{\\left( - y - 1, \\  y, \\  2\\right)\\right\\}$",
            "text/plain": [
              "{(-y - 1, y, 2)}"
            ]
          },
          "metadata": {},
          "execution_count": 12
        }
      ]
    },
    {
      "cell_type": "markdown",
      "metadata": {
        "id": "DLa8H9WwVpp_"
      },
      "source": [
        "No módulo `solveset`, o sistema não linear de equações é resolvido usando `nonlinsolve(equation, variable)`. A seguir estão exemplos de `nonlinsolve`."
      ]
    },
    {
      "cell_type": "markdown",
      "metadata": {
        "id": "G3V2syysVwue"
      },
      "source": [
        "\n",
        "\n",
        "1.   Quando apenas a solução real está presente:\n",
        "\n"
      ]
    },
    {
      "cell_type": "code",
      "metadata": {
        "colab": {
          "base_uri": "https://localhost:8080/",
          "height": 37
        },
        "id": "F8smD77bVl2x",
        "outputId": "35847557-0216-4270-8173-501fb423cf00"
      },
      "source": [
        "a, b, c, d = symbols('a, b, c, d', real=True)\n",
        "nonlinsolve([a**2 + a, a - b], [a, b])"
      ],
      "execution_count": null,
      "outputs": [
        {
          "output_type": "execute_result",
          "data": {
            "image/png": "[encoded data removed]",
            "text/latex": "$\\displaystyle \\left\\{\\left( -1, \\  -1\\right), \\left( 0, \\  0\\right)\\right\\}$",
            "text/plain": [
              "{(-1, -1), (0, 0)}"
            ]
          },
          "metadata": {},
          "execution_count": 14
        }
      ]
    },
    {
      "cell_type": "code",
      "metadata": {
        "colab": {
          "base_uri": "https://localhost:8080/",
          "height": 58
        },
        "id": "r940VLGqWHeQ",
        "outputId": "e659345d-d7b7-4d29-9f22-d3b91c0a6028"
      },
      "source": [
        "nonlinsolve([x*y - 1, x - 2], x, y)"
      ],
      "execution_count": null,
      "outputs": [
        {
          "output_type": "execute_result",
          "data": {
            "image/png": "[encoded data removed]",
            "text/latex": "$\\displaystyle \\left\\{\\left( 2, \\  \\frac{1}{2}\\right)\\right\\}$",
            "text/plain": [
              "{(2, 1/2)}"
            ]
          },
          "metadata": {},
          "execution_count": 15
        }
      ]
    },
    {
      "cell_type": "markdown",
      "metadata": {
        "id": "-4_HfCKKWNDg"
      },
      "source": [
        "\n",
        "2.   Quando apenas uma solução complexa está presente:\n",
        "\n",
        "\n",
        "\n"
      ]
    },
    {
      "cell_type": "code",
      "metadata": {
        "colab": {
          "base_uri": "https://localhost:8080/",
          "height": 38
        },
        "id": "7xhIfwJvWPIm",
        "outputId": "9d9c7152-4fd2-4fd7-ea8e-36af3b69d2a6"
      },
      "source": [
        "nonlinsolve([x**2 + 1, y**2 + 1], [x, y])"
      ],
      "execution_count": null,
      "outputs": [
        {
          "output_type": "execute_result",
          "data": {
            "image/png": "[encoded data removed]",
            "text/latex": "$\\displaystyle \\left\\{\\left( - i, \\  - i\\right), \\left( - i, \\  i\\right), \\left( i, \\  - i\\right), \\left( i, \\  i\\right)\\right\\}$",
            "text/plain": [
              "{(-ⅈ, -ⅈ), (-ⅈ, ⅈ), (ⅈ, -ⅈ), (ⅈ, ⅈ)}"
            ]
          },
          "metadata": {},
          "execution_count": 16
        }
      ]
    },
    {
      "cell_type": "markdown",
      "metadata": {
        "id": "6JtYmtfHWRgu"
      },
      "source": [
        "\n",
        "\n",
        "3.   Quando ambas as soluções reais e complexas estiverem presentes:\n",
        "\n"
      ]
    },
    {
      "cell_type": "code",
      "metadata": {
        "colab": {
          "base_uri": "https://localhost:8080/",
          "height": 47
        },
        "id": "67_2f7JhWaNv",
        "outputId": "2ee8e6f7-6b21-4458-bea2-0da96a4a8473"
      },
      "source": [
        "system = [x**2 - 2*y**2 -2, x*y - 2]\n",
        "vars = [x, y]\n",
        "nonlinsolve(system, vars)"
      ],
      "execution_count": null,
      "outputs": [
        {
          "output_type": "execute_result",
          "data": {
            "image/png": "[encoded data removed]",
            "text/latex": "$\\displaystyle \\left\\{\\left( -2, \\  -1\\right), \\left( 2, \\  1\\right), \\left( - \\sqrt{2} i, \\  \\sqrt{2} i\\right), \\left( \\sqrt{2} i, \\  - \\sqrt{2} i\\right)\\right\\}$",
            "text/plain": [
              "{(-2, -1), (2, 1), (-√2⋅ⅈ, √2⋅ⅈ), (√2⋅ⅈ, -√2⋅ⅈ)}"
            ]
          },
          "metadata": {},
          "execution_count": 17
        }
      ]
    },
    {
      "cell_type": "code",
      "metadata": {
        "colab": {
          "base_uri": "https://localhost:8080/",
          "height": 58
        },
        "id": "fIIvyv7kWfDB",
        "outputId": "30850ab1-7cb9-479d-a9e1-f03d1516507f"
      },
      "source": [
        "system = [exp(x) - sin(y), 1/y - 3]\n",
        "nonlinsolve(system, vars)"
      ],
      "execution_count": null,
      "outputs": [
        {
          "output_type": "execute_result",
          "data": {
            "image/png": "[encoded data removed]",
            "text/latex": "$\\displaystyle \\left\\{\\left( \\left\\{2 n i \\pi + \\log{\\left(\\sin{\\left(\\frac{1}{3} \\right)} \\right)}\\; |\\; n \\in \\mathbb{Z}\\right\\}, \\  \\frac{1}{3}\\right)\\right\\}$",
            "text/plain": [
              "{({2⋅n⋅ⅈ⋅π + log(sin(1/3)) | n ∊ ℤ}, 1/3)}"
            ]
          },
          "metadata": {},
          "execution_count": 18
        }
      ]
    },
    {
      "cell_type": "markdown",
      "metadata": {
        "id": "vDIh1UJXW2On"
      },
      "source": [
        "Para resolver **equações diferenciais**, use `dsolve`. Primeiro, crie uma função indefinida passando `cls = Function` para a função de símbolos."
      ]
    },
    {
      "cell_type": "code",
      "metadata": {
        "id": "bQIMXEFtW_u6"
      },
      "source": [
        "f, g = symbols('f g', cls=Function)"
      ],
      "execution_count": null,
      "outputs": []
    },
    {
      "cell_type": "markdown",
      "metadata": {
        "id": "MyI7nIluXDeL"
      },
      "source": [
        "`f` e `g` agora são funções indefinidas. Podemos chamar `f (x)`, e isso representará uma função desconhecida."
      ]
    },
    {
      "cell_type": "code",
      "metadata": {
        "colab": {
          "base_uri": "https://localhost:8080/",
          "height": 38
        },
        "id": "n011lFLAXGXE",
        "outputId": "ef72edba-d6a8-4099-9392-39b076f75779"
      },
      "source": [
        "f(x)"
      ],
      "execution_count": null,
      "outputs": [
        {
          "output_type": "execute_result",
          "data": {
            "image/png": "[encoded data removed]",
            "text/latex": "$\\displaystyle f{\\left(x \\right)}$",
            "text/plain": [
              "f(x)"
            ]
          },
          "metadata": {},
          "execution_count": 22
        }
      ]
    },
    {
      "cell_type": "markdown",
      "metadata": {
        "id": "rZqgkobMXJMC"
      },
      "source": [
        "Os derivados de `f (x)` não são avaliados."
      ]
    },
    {
      "cell_type": "code",
      "metadata": {
        "colab": {
          "base_uri": "https://localhost:8080/",
          "height": 52
        },
        "id": "jSHYDdu5XOws",
        "outputId": "860583f0-b006-47e3-b613-9dd695a101a6"
      },
      "source": [
        "f(x).diff(x)"
      ],
      "execution_count": null,
      "outputs": [
        {
          "output_type": "execute_result",
          "data": {
            "image/png": "[encoded data removed]",
            "text/latex": "$\\displaystyle \\frac{d}{d x} f{\\left(x \\right)}$",
            "text/plain": [
              "d       \n",
              "──(f(x))\n",
              "dx      "
            ]
          },
          "metadata": {},
          "execution_count": 23
        }
      ]
    },
    {
      "cell_type": "markdown",
      "metadata": {
        "id": "XCIGOmhHXV5j"
      },
      "source": [
        "Para representar a equação diferencial, usaríamos assim `f′′(x)−2f′(x)+f(x)=sin(x)`"
      ]
    },
    {
      "cell_type": "code",
      "metadata": {
        "colab": {
          "base_uri": "https://localhost:8080/",
          "height": 54
        },
        "id": "2UTGR7yZXcVn",
        "outputId": "0dc2b316-7441-45c8-8a49-0b9f07d2254e"
      },
      "source": [
        "diffeq = Eq(f(x).diff(x, x) - 2*f(x).diff(x) + f(x), sin(x))\n",
        "diffeq"
      ],
      "execution_count": null,
      "outputs": [
        {
          "output_type": "execute_result",
          "data": {
            "image/png": "[encoded data removed]",
            "text/latex": "$\\displaystyle f{\\left(x \\right)} - 2 \\frac{d}{d x} f{\\left(x \\right)} + \\frac{d^{2}}{d x^{2}} f{\\left(x \\right)} = \\sin{\\left(x \\right)}$",
            "text/plain": [
              "                      2               \n",
              "         d           d                \n",
              "f(x) - 2⋅──(f(x)) + ───(f(x)) = sin(x)\n",
              "         dx           2               \n",
              "                    dx                "
            ]
          },
          "metadata": {},
          "execution_count": 24
        }
      ]
    },
    {
      "cell_type": "markdown",
      "metadata": {
        "id": "G3EJkeW0XhAw"
      },
      "source": [
        "Para resolver o EDO, passe-o e a função para resolver para `.dsolve`\n",
        "\n"
      ]
    },
    {
      "cell_type": "code",
      "metadata": {
        "colab": {
          "base_uri": "https://localhost:8080/",
          "height": 53
        },
        "id": "NbDpmT0PXewg",
        "outputId": "9a1ebeef-569d-4004-b4ad-4243eb041fde"
      },
      "source": [
        "dsolve(diffeq, f(x))"
      ],
      "execution_count": null,
      "outputs": [
        {
          "output_type": "execute_result",
          "data": {
            "image/png": "[encoded data removed]",
            "text/latex": "$\\displaystyle f{\\left(x \\right)} = \\left(C_{1} + C_{2} x\\right) e^{x} + \\frac{\\cos{\\left(x \\right)}}{2}$",
            "text/plain": [
              "                    x   cos(x)\n",
              "f(x) = (C₁ + C₂⋅x)⋅ℯ  + ──────\n",
              "                          2   "
            ]
          },
          "metadata": {},
          "execution_count": 25
        }
      ]
    },
    {
      "cell_type": "markdown",
      "metadata": {
        "id": "qS2hO_95XsiA"
      },
      "source": [
        "`dsolve` retorna uma instância da `Eq`. Isso ocorre porque, em geral, as soluções para equações diferenciais não podem ser resolvidas explicitamente para a função."
      ]
    },
    {
      "cell_type": "code",
      "metadata": {
        "colab": {
          "base_uri": "https://localhost:8080/",
          "height": 38
        },
        "id": "hAw1xR9EX1hL",
        "outputId": "d38f4569-c67d-484c-d0fb-e0a57b4d87dd"
      },
      "source": [
        "dsolve(f(x).diff(x)*(1 - sin(f(x))) - 1, f(x))"
      ],
      "execution_count": null,
      "outputs": [
        {
          "output_type": "execute_result",
          "data": {
            "image/png": "[encoded data removed]",
            "text/latex": "$\\displaystyle x - f{\\left(x \\right)} - \\cos{\\left(f{\\left(x \\right)} \\right)} = C_{1}$",
            "text/plain": [
              "x - f(x) - cos(f(x)) = C₁"
            ]
          },
          "metadata": {},
          "execution_count": 26
        }
      ]
    },
    {
      "cell_type": "markdown",
      "metadata": {
        "id": "tsHll1ECX6ZQ"
      },
      "source": [
        "As constantes arbitrárias nas soluções de dsolve são símbolos da forma C1, C2, C3 e assim por diante."
      ]
    }
  ]
}