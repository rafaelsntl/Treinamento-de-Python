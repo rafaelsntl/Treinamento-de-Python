{
  "nbformat": 4,
  "nbformat_minor": 0,
  "metadata": {
    "colab": {
      "name": "ENCONTRO 5 (PANDAS) - TREINAMENTO DE PYTHON",
      "provenance": [],
      "authorship_tag": "ABX9TyP0lGhWOaXPM9UTTGtVPche"
    },
    "kernelspec": {
      "name": "python3",
      "display_name": "Python 3"
    },
    "language_info": {
      "name": "python"
    }
  },
  "cells": [
    {
      "cell_type": "markdown",
      "metadata": {
        "id": "TEjj8JRITJO6"
      },
      "source": [
        "#**README**#\n",
        "\n",
        "O Treinamento de Python é um projeto desenvolvido pelo Laboratório de\n",
        "Instrumentação Eletrônica e Controle (LIEC) e pelo Programa de Educação Tutorial\n",
        "de Engenharia Elétrica da Universidade Federal de Campina Grande (PET Elétrica -\n",
        "UFCG), que tem como objetivo principal, durante a sua execução, desenvolver\n",
        "habilidades relacionadas a linguagem de programação Python, com foco em\n",
        "aplicações para engenheiros e para cientistas.\n",
        "\n",
        "Todo conteúdo produzido neste notebook foi adaptado por Rafael dos Santos Lima e por Tâmara Ruth Dantas dos Santos. Algumas sintaxes foram revisadas com auxilio da documentação do Pandas (https://pandas.pydata.org/pandas-docs/stable/user_guide/), do W3Schools (https://www.w3schools.com/python/pandas/) e do curso \"Python para Engenheiros e Cientistas\", de Rafael Pereira,\n",
        "\n",
        "---\n",
        "\n",
        "Para mais informações e/ou sanar eventuais dúvidas, entrar em contato com:\n",
        "*   Rafael - rafaelsantos.lima@ee.ufcg.edu.br\n",
        "*   Tâmara - tamara.santos@ee.ufcg.edu.br"
      ]
    },
    {
      "cell_type": "markdown",
      "metadata": {
        "id": "hos3dOCv2FhU"
      },
      "source": [
        "#**PANDAS**\n"
      ]
    },
    {
      "cell_type": "markdown",
      "metadata": {
        "id": "xUkQsVWBR44R"
      },
      "source": [
        "##***Introdução***"
      ]
    },
    {
      "cell_type": "markdown",
      "metadata": {
        "id": "7VBhAPlh3b5F"
      },
      "source": [
        "**O que é?**\n",
        "\n",
        "> Pandas é uma Biblioteca Python de código aberto que fornece ferramentas de manipulação e análise de dados de alto desempenho usando suas poderosas estruturas de dados.\n",
        "\n",
        "**Por que usar pandas?**\n",
        "\n",
        "- Pandas nos permite analisar big data e tirar conclusões baseadas em teorias estatísticas.\n",
        "\n",
        "- Pandas podem limpar conjuntos de dados confusos, e torná-los legíveis e relevantes.\n",
        "\n",
        "- Dados relevantes são muito importantes na ciência de dados."
      ]
    },
    {
      "cell_type": "markdown",
      "metadata": {
        "id": "InzUrBu_YPbV"
      },
      "source": [
        "Importando a biblioteca:"
      ]
    },
    {
      "cell_type": "code",
      "metadata": {
        "id": "qRSQsH4SI68z"
      },
      "source": [
        "import pandas as pd\n",
        "import numpy as np"
      ],
      "execution_count": 3,
      "outputs": []
    },
    {
      "cell_type": "markdown",
      "metadata": {
        "id": "sbL7LUVsJFPl"
      },
      "source": [
        "##***Série Pandas***"
      ]
    },
    {
      "cell_type": "markdown",
      "metadata": {
        "id": "BSruRnOdViq5"
      },
      "source": [
        "Uma Série Pandas é como uma coluna em uma mesa.\n",
        "\n",
        "É uma matriz unidimensional que guarda dados de qualquer tipo."
      ]
    },
    {
      "cell_type": "code",
      "metadata": {
        "colab": {
          "base_uri": "https://localhost:8080/"
        },
        "id": "GN0Cnz7cJM5z",
        "outputId": "8c41113d-3c89-4593-efc0-871e88f4c172"
      },
      "source": [
        "a = [1, 7, 2]\n",
        "\n",
        "myvar = pd.Series(a)\n",
        "\n",
        "print(myvar)"
      ],
      "execution_count": null,
      "outputs": [
        {
          "output_type": "stream",
          "name": "stdout",
          "text": [
            "0    1\n",
            "1    7\n",
            "2    2\n",
            "dtype: int64\n"
          ]
        }
      ]
    },
    {
      "cell_type": "markdown",
      "metadata": {
        "id": "iavWTTJsJWnC"
      },
      "source": [
        "###***Rótulos***\n"
      ]
    },
    {
      "cell_type": "markdown",
      "metadata": {
        "id": "eto3KCgxY2U8"
      },
      "source": [
        "Se nada mais for especificado, os valores são rotulados com o número do índice.Este rótulo pode ser usado para acessar um valor especificado."
      ]
    },
    {
      "cell_type": "code",
      "metadata": {
        "colab": {
          "base_uri": "https://localhost:8080/"
        },
        "id": "VvC8oGbLJcAY",
        "outputId": "0e3b824d-d396-473d-96e1-46d5e3b4f15f"
      },
      "source": [
        "print(myvar[0])"
      ],
      "execution_count": null,
      "outputs": [
        {
          "output_type": "stream",
          "name": "stdout",
          "text": [
            "1\n"
          ]
        }
      ]
    },
    {
      "cell_type": "markdown",
      "metadata": {
        "id": "ckiegS2WJfwC"
      },
      "source": [
        "###***Criar rótulos***\n",
        "\n"
      ]
    },
    {
      "cell_type": "markdown",
      "metadata": {
        "id": "vfeeHyIaY1Mm"
      },
      "source": [
        "Com o argumento, você pode nomear seus próprios rótulos `.index`\n"
      ]
    },
    {
      "cell_type": "code",
      "metadata": {
        "colab": {
          "base_uri": "https://localhost:8080/"
        },
        "id": "1UNgukQPJVNM",
        "outputId": "69140665-0c65-4531-e198-4f9bb245d5e8"
      },
      "source": [
        "a = [1, 7, 2]\n",
        "\n",
        "myvar = pd.Series(a, index = [\"x\", \"y\", \"z\"])\n",
        "\n",
        "print(myvar)"
      ],
      "execution_count": null,
      "outputs": [
        {
          "output_type": "stream",
          "name": "stdout",
          "text": [
            "x    1\n",
            "y    7\n",
            "z    2\n",
            "dtype: int64\n"
          ]
        }
      ]
    },
    {
      "cell_type": "markdown",
      "metadata": {
        "id": "QoV7izJrJrr7"
      },
      "source": [
        "Quando você criou rótulos, você pode acessar um item referindo-se ao rótulo."
      ]
    },
    {
      "cell_type": "code",
      "metadata": {
        "colab": {
          "base_uri": "https://localhost:8080/"
        },
        "id": "iiEGRz4bJqUk",
        "outputId": "8dbf39ad-8a56-4954-fbf9-84123793d125"
      },
      "source": [
        "print(myvar[\"y\"])"
      ],
      "execution_count": null,
      "outputs": [
        {
          "output_type": "stream",
          "name": "stdout",
          "text": [
            "7\n"
          ]
        }
      ]
    },
    {
      "cell_type": "markdown",
      "metadata": {
        "id": "3SlAA8NkJzdU"
      },
      "source": [
        "###***Objetos de chave/valor como série***\n",
        "\n"
      ]
    },
    {
      "cell_type": "markdown",
      "metadata": {
        "id": "FENMKL1wYzYy"
      },
      "source": [
        "Você também pode usar um objeto de chave/valor, como um dicionário, ao criar uma Série."
      ]
    },
    {
      "cell_type": "code",
      "metadata": {
        "colab": {
          "base_uri": "https://localhost:8080/"
        },
        "id": "drDjExIWJ3By",
        "outputId": "24876679-bc19-4cd3-84f7-f5c543baf9b6"
      },
      "source": [
        "calories = {\"day1\": 420, \"day2\": 380, \"day3\": 390}\n",
        "\n",
        "myvar = pd.Series(calories)\n",
        "\n",
        "print(myvar)"
      ],
      "execution_count": null,
      "outputs": [
        {
          "output_type": "stream",
          "name": "stdout",
          "text": [
            "day1    420\n",
            "day2    380\n",
            "day3    390\n",
            "dtype: int64\n"
          ]
        }
      ]
    },
    {
      "cell_type": "markdown",
      "metadata": {
        "id": "ZVcKZ8GiJ7LK"
      },
      "source": [
        "Para selecionar apenas alguns dos itens do dicionário, use o argumento `index` e especifique apenas os itens que deseja incluir na Série."
      ]
    },
    {
      "cell_type": "code",
      "metadata": {
        "colab": {
          "base_uri": "https://localhost:8080/"
        },
        "id": "ITrTC1IxKB4t",
        "outputId": "60134cbf-86c2-4eb8-c2d9-b988372870a3"
      },
      "source": [
        "calories = {\"day1\": 420, \"day2\": 380, \"day3\": 390}\n",
        "\n",
        "myvar = pd.Series(calories, index = [\"day1\", \"day2\"])\n",
        "\n",
        "print(myvar)"
      ],
      "execution_count": null,
      "outputs": [
        {
          "output_type": "stream",
          "name": "stdout",
          "text": [
            "day1    420\n",
            "day2    380\n",
            "dtype: int64\n"
          ]
        }
      ]
    },
    {
      "cell_type": "markdown",
      "metadata": {
        "id": "O1zEx1PgKHdM"
      },
      "source": [
        "##***DataFrames***\n"
      ]
    },
    {
      "cell_type": "markdown",
      "metadata": {
        "id": "SdKUWrcyVnNp"
      },
      "source": [
        "DataFrame é uma estrutura de dados bidimensional.\n",
        "\n",
        "Série é como uma coluna, um DataFrame é toda a tabela."
      ]
    },
    {
      "cell_type": "code",
      "metadata": {
        "colab": {
          "base_uri": "https://localhost:8080/"
        },
        "id": "qO2t84AtKLnL",
        "outputId": "8137c24b-a269-4e4f-d553-5ed7a738b315"
      },
      "source": [
        "data = {\n",
        "  \"calories\": [420, 380, 390],\n",
        "  \"duration\": [50, 40, 45]\n",
        "  }\n",
        "\n",
        "df = pd.DataFrame(data)\n",
        "\n",
        "print(df) "
      ],
      "execution_count": null,
      "outputs": [
        {
          "output_type": "stream",
          "name": "stdout",
          "text": [
            "   calories  duration\n",
            "0       420        50\n",
            "1       380        40\n",
            "2       390        45\n"
          ]
        }
      ]
    },
    {
      "cell_type": "markdown",
      "metadata": {
        "id": "Udy_B9WAKY8s"
      },
      "source": [
        "###***Localizar linha***\n",
        "\n",
        "Como você pode ver no resultado acima, o DataFrame é como uma tabela com linhas e colunas.\n",
        "\n",
        "Pandas usam o atributo `loc` para retornar uma ou mais linhas especificadas"
      ]
    },
    {
      "cell_type": "code",
      "metadata": {
        "colab": {
          "base_uri": "https://localhost:8080/"
        },
        "id": "rd1roMacKNej",
        "outputId": "19233ae3-c20d-460f-edc0-f812e0847b90"
      },
      "source": [
        "print(df.loc[0])"
      ],
      "execution_count": null,
      "outputs": [
        {
          "output_type": "stream",
          "name": "stdout",
          "text": [
            "calories    420\n",
            "duration     50\n",
            "Name: 0, dtype: int64\n"
          ]
        }
      ]
    },
    {
      "cell_type": "code",
      "metadata": {
        "colab": {
          "base_uri": "https://localhost:8080/"
        },
        "id": "FTokEK68KsC7",
        "outputId": "016f4b7e-4e45-4659-dfd5-9d6c0079ac2d"
      },
      "source": [
        "print(df.loc[0 : ])"
      ],
      "execution_count": null,
      "outputs": [
        {
          "output_type": "stream",
          "name": "stdout",
          "text": [
            "   calories  duration\n",
            "0       420        50\n",
            "1       380        40\n"
          ]
        }
      ]
    },
    {
      "cell_type": "markdown",
      "metadata": {
        "id": "w0F-7RnTKxda"
      },
      "source": [
        "###***Índices nomeados***\n"
      ]
    },
    {
      "cell_type": "markdown",
      "metadata": {
        "id": "K-KH7eIzZ2U4"
      },
      "source": [
        "como argumento, você pode usar o `.index`"
      ]
    },
    {
      "cell_type": "code",
      "metadata": {
        "colab": {
          "base_uri": "https://localhost:8080/"
        },
        "id": "awJjzM9rK3uj",
        "outputId": "9c41ce21-f21b-42dd-e5ea-dd9e2c94b5c4"
      },
      "source": [
        "data = {\n",
        "  \"calories\": [420, 380, 390],\n",
        "  \"duration\": [50, 40, 45]\n",
        "}\n",
        "\n",
        "df = pd.DataFrame(data, index = [\"day1\", \"day2\", \"day3\"])\n",
        "\n",
        "print(df) "
      ],
      "execution_count": null,
      "outputs": [
        {
          "output_type": "stream",
          "name": "stdout",
          "text": [
            "      calories  duration\n",
            "day1       420        50\n",
            "day2       380        40\n",
            "day3       390        45\n"
          ]
        }
      ]
    },
    {
      "cell_type": "markdown",
      "metadata": {
        "id": "Oz2ORFrlLA8C"
      },
      "source": [
        "Use o índice nomeado no atributo `loc` para retornar as linhas especificadas. \n",
        "\n"
      ]
    },
    {
      "cell_type": "code",
      "metadata": {
        "colab": {
          "base_uri": "https://localhost:8080/"
        },
        "id": "IKBZSXxoK77T",
        "outputId": "4f747b10-9526-44a8-8a11-8b79880b888b"
      },
      "source": [
        "print(df.loc[\"day2\"])"
      ],
      "execution_count": null,
      "outputs": [
        {
          "output_type": "stream",
          "name": "stdout",
          "text": [
            "calories    380\n",
            "duration     40\n",
            "Name: day2, dtype: int64\n"
          ]
        }
      ]
    },
    {
      "cell_type": "markdown",
      "metadata": {
        "id": "jA2ADfA9jn7N"
      },
      "source": [
        "Para selecionar com base na posição do índice, em vez de rótulo, use `iloc` em vez de função loc"
      ]
    },
    {
      "cell_type": "code",
      "metadata": {
        "colab": {
          "base_uri": "https://localhost:8080/"
        },
        "id": "4DQDuQfHjp1g",
        "outputId": "520cfedd-3dc4-4c86-871b-3221b8d72ed0"
      },
      "source": [
        "print(df.iloc[1])"
      ],
      "execution_count": null,
      "outputs": [
        {
          "output_type": "stream",
          "name": "stdout",
          "text": [
            "calories    380\n",
            "duration     40\n",
            "Name: day2, dtype: int64\n"
          ]
        }
      ]
    },
    {
      "cell_type": "markdown",
      "metadata": {
        "id": "viuE-IxwLNA2"
      },
      "source": [
        "##***Lendo arquivos CSV***"
      ]
    },
    {
      "cell_type": "markdown",
      "metadata": {
        "id": "Xyi6XJ5sVrqL"
      },
      "source": [
        "Uma maneira simples de armazenar conjuntos de big data é usar arquivos CSV (arquivos de texto simples).\n",
        "\n",
        "Os arquivos CSV contêm texto simples e é um formato bem conhecido que pode ser lido por todos, incluindo Pandas.\n",
        "\n",
        "Em nossos exemplos iniciais, usaremos um arquivo CSV chamado 'Players.csv', retirado do Kaggle: https://www.kaggle.com/drgilermo/nba-players-stats"
      ]
    },
    {
      "cell_type": "markdown",
      "metadata": {
        "id": "llh-JGxaL9N2"
      },
      "source": [
        "Por padrão, quando você imprimir um DataFrame, você só terá as primeiras 5 linhas e as últimas 5 linhas:\n",
        "\n"
      ]
    },
    {
      "cell_type": "code",
      "metadata": {
        "colab": {
          "base_uri": "https://localhost:8080/",
          "height": 753
        },
        "id": "Og0eZ9cAL9tj",
        "outputId": "b70f3445-2644-4975-c89a-2783dafb3db9"
      },
      "source": [
        "df = pd.read_csv('/content/Players.csv')\n",
        "df"
      ],
      "execution_count": 4,
      "outputs": [
        {
          "output_type": "execute_result",
          "data": {
            "text/html": [
              "<div>\n",
              "<style scoped>\n",
              "    .dataframe tbody tr th:only-of-type {\n",
              "        vertical-align: middle;\n",
              "    }\n",
              "\n",
              "    .dataframe tbody tr th {\n",
              "        vertical-align: top;\n",
              "    }\n",
              "\n",
              "    .dataframe thead th {\n",
              "        text-align: right;\n",
              "    }\n",
              "</style>\n",
              "<table border=\"1\" class=\"dataframe\">\n",
              "  <thead>\n",
              "    <tr style=\"text-align: right;\">\n",
              "      <th></th>\n",
              "      <th>Unnamed: 0</th>\n",
              "      <th>Player</th>\n",
              "      <th>height</th>\n",
              "      <th>weight</th>\n",
              "      <th>collage</th>\n",
              "      <th>born</th>\n",
              "      <th>birth_city</th>\n",
              "      <th>birth_state</th>\n",
              "    </tr>\n",
              "  </thead>\n",
              "  <tbody>\n",
              "    <tr>\n",
              "      <th>0</th>\n",
              "      <td>0</td>\n",
              "      <td>Curly Armstrong</td>\n",
              "      <td>180.0</td>\n",
              "      <td>77.0</td>\n",
              "      <td>Indiana University</td>\n",
              "      <td>1918.0</td>\n",
              "      <td>NaN</td>\n",
              "      <td>NaN</td>\n",
              "    </tr>\n",
              "    <tr>\n",
              "      <th>1</th>\n",
              "      <td>1</td>\n",
              "      <td>Cliff Barker</td>\n",
              "      <td>188.0</td>\n",
              "      <td>83.0</td>\n",
              "      <td>University of Kentucky</td>\n",
              "      <td>1921.0</td>\n",
              "      <td>Yorktown</td>\n",
              "      <td>Indiana</td>\n",
              "    </tr>\n",
              "    <tr>\n",
              "      <th>2</th>\n",
              "      <td>2</td>\n",
              "      <td>Leo Barnhorst</td>\n",
              "      <td>193.0</td>\n",
              "      <td>86.0</td>\n",
              "      <td>University of Notre Dame</td>\n",
              "      <td>1924.0</td>\n",
              "      <td>NaN</td>\n",
              "      <td>NaN</td>\n",
              "    </tr>\n",
              "    <tr>\n",
              "      <th>3</th>\n",
              "      <td>3</td>\n",
              "      <td>Ed Bartels</td>\n",
              "      <td>196.0</td>\n",
              "      <td>88.0</td>\n",
              "      <td>North Carolina State University</td>\n",
              "      <td>1925.0</td>\n",
              "      <td>NaN</td>\n",
              "      <td>NaN</td>\n",
              "    </tr>\n",
              "    <tr>\n",
              "      <th>4</th>\n",
              "      <td>4</td>\n",
              "      <td>Ralph Beard</td>\n",
              "      <td>178.0</td>\n",
              "      <td>79.0</td>\n",
              "      <td>University of Kentucky</td>\n",
              "      <td>1927.0</td>\n",
              "      <td>Hardinsburg</td>\n",
              "      <td>Kentucky</td>\n",
              "    </tr>\n",
              "    <tr>\n",
              "      <th>...</th>\n",
              "      <td>...</td>\n",
              "      <td>...</td>\n",
              "      <td>...</td>\n",
              "      <td>...</td>\n",
              "      <td>...</td>\n",
              "      <td>...</td>\n",
              "      <td>...</td>\n",
              "      <td>...</td>\n",
              "    </tr>\n",
              "    <tr>\n",
              "      <th>3917</th>\n",
              "      <td>3917</td>\n",
              "      <td>Troy Williams</td>\n",
              "      <td>198.0</td>\n",
              "      <td>97.0</td>\n",
              "      <td>South Carolina State University</td>\n",
              "      <td>1969.0</td>\n",
              "      <td>Columbia</td>\n",
              "      <td>South Carolina</td>\n",
              "    </tr>\n",
              "    <tr>\n",
              "      <th>3918</th>\n",
              "      <td>3918</td>\n",
              "      <td>Kyle Wiltjer</td>\n",
              "      <td>208.0</td>\n",
              "      <td>108.0</td>\n",
              "      <td>Gonzaga University</td>\n",
              "      <td>1992.0</td>\n",
              "      <td>Portland</td>\n",
              "      <td>Oregon</td>\n",
              "    </tr>\n",
              "    <tr>\n",
              "      <th>3919</th>\n",
              "      <td>3919</td>\n",
              "      <td>Stephen Zimmerman</td>\n",
              "      <td>213.0</td>\n",
              "      <td>108.0</td>\n",
              "      <td>University of Nevada, Las Vegas</td>\n",
              "      <td>1996.0</td>\n",
              "      <td>Hendersonville</td>\n",
              "      <td>Tennessee</td>\n",
              "    </tr>\n",
              "    <tr>\n",
              "      <th>3920</th>\n",
              "      <td>3920</td>\n",
              "      <td>Paul Zipser</td>\n",
              "      <td>203.0</td>\n",
              "      <td>97.0</td>\n",
              "      <td>NaN</td>\n",
              "      <td>1994.0</td>\n",
              "      <td>Heidelberg</td>\n",
              "      <td>Germany</td>\n",
              "    </tr>\n",
              "    <tr>\n",
              "      <th>3921</th>\n",
              "      <td>3921</td>\n",
              "      <td>Ivica Zubac</td>\n",
              "      <td>216.0</td>\n",
              "      <td>120.0</td>\n",
              "      <td>NaN</td>\n",
              "      <td>1997.0</td>\n",
              "      <td>Mostar</td>\n",
              "      <td>Bosnia and Herzegovina</td>\n",
              "    </tr>\n",
              "  </tbody>\n",
              "</table>\n",
              "<p>3922 rows × 8 columns</p>\n",
              "</div>"
            ],
            "text/plain": [
              "      Unnamed: 0             Player  ...      birth_city             birth_state\n",
              "0              0    Curly Armstrong  ...             NaN                     NaN\n",
              "1              1       Cliff Barker  ...        Yorktown                 Indiana\n",
              "2              2      Leo Barnhorst  ...             NaN                     NaN\n",
              "3              3         Ed Bartels  ...             NaN                     NaN\n",
              "4              4        Ralph Beard  ...     Hardinsburg                Kentucky\n",
              "...          ...                ...  ...             ...                     ...\n",
              "3917        3917      Troy Williams  ...        Columbia          South Carolina\n",
              "3918        3918       Kyle Wiltjer  ...        Portland                  Oregon\n",
              "3919        3919  Stephen Zimmerman  ...  Hendersonville               Tennessee\n",
              "3920        3920        Paul Zipser  ...      Heidelberg                 Germany\n",
              "3921        3921        Ivica Zubac  ...          Mostar  Bosnia and Herzegovina\n",
              "\n",
              "[3922 rows x 8 columns]"
            ]
          },
          "metadata": {},
          "execution_count": 4
        }
      ]
    },
    {
      "cell_type": "markdown",
      "metadata": {
        "id": "C7CQy7lXNnZ7"
      },
      "source": [
        "##***Informações sobre os Dados***\n",
        "\n"
      ]
    },
    {
      "cell_type": "markdown",
      "metadata": {
        "id": "WBWxKctxV2Sh"
      },
      "source": [
        "O objeto DataFrames tem um método chamado `info()`, que fornece mais informações sobre o conjunto de dados."
      ]
    },
    {
      "cell_type": "code",
      "metadata": {
        "colab": {
          "base_uri": "https://localhost:8080/"
        },
        "id": "pJvsHb6RNvSU",
        "outputId": "ab88d006-c555-4708-c4a1-4efa4d75b21d"
      },
      "source": [
        "df.info()"
      ],
      "execution_count": null,
      "outputs": [
        {
          "output_type": "stream",
          "name": "stdout",
          "text": [
            "<class 'pandas.core.frame.DataFrame'>\n",
            "RangeIndex: 3922 entries, 0 to 3921\n",
            "Data columns (total 8 columns):\n",
            " #   Column       Non-Null Count  Dtype  \n",
            "---  ------       --------------  -----  \n",
            " 0   Unnamed: 0   3922 non-null   int64  \n",
            " 1   Player       3921 non-null   object \n",
            " 2   height       3921 non-null   float64\n",
            " 3   weight       3921 non-null   float64\n",
            " 4   collage      3573 non-null   object \n",
            " 5   born         3921 non-null   float64\n",
            " 6   birth_city   3452 non-null   object \n",
            " 7   birth_state  3439 non-null   object \n",
            "dtypes: float64(3), int64(1), object(4)\n",
            "memory usage: 245.2+ KB\n"
          ]
        }
      ]
    },
    {
      "cell_type": "markdown",
      "metadata": {
        "id": "Tf4jWY3wkMx2"
      },
      "source": [
        "- O resultado nos diz que há 3922 linhas e 8 colunas\n",
        "- O nome de cada coluna, com o tipo de dados\n",
        "- O método também nos diz quantos valores não-nulos existem presentes em cada coluna. Por exemplo, em nosso conjunto de dados parece que há 3573 valores não-nulos dos 3922 valores na coluna \"collage\""
      ]
    },
    {
      "cell_type": "markdown",
      "metadata": {
        "id": "FvOeNpa6MqjS"
      },
      "source": [
        "##***Visualização dos Dados***"
      ]
    },
    {
      "cell_type": "markdown",
      "metadata": {
        "id": "6BiVDAc_V49x"
      },
      "source": [
        "Um dos métodos mais usados para obter uma visão geral rápida do DataFrame, é o método `.head()`\n",
        "\n",
        "O método retorna os cabeçalhos e um número especificado de linhas, começando a partir do topo.head()"
      ]
    },
    {
      "cell_type": "code",
      "metadata": {
        "colab": {
          "base_uri": "https://localhost:8080/",
          "height": 362
        },
        "id": "otoGILlcM7uT",
        "outputId": "eb911c4a-eca0-4e55-bb2d-b6f5cc671c2f"
      },
      "source": [
        "df.head(10)"
      ],
      "execution_count": null,
      "outputs": [
        {
          "output_type": "execute_result",
          "data": {
            "text/html": [
              "<div>\n",
              "<style scoped>\n",
              "    .dataframe tbody tr th:only-of-type {\n",
              "        vertical-align: middle;\n",
              "    }\n",
              "\n",
              "    .dataframe tbody tr th {\n",
              "        vertical-align: top;\n",
              "    }\n",
              "\n",
              "    .dataframe thead th {\n",
              "        text-align: right;\n",
              "    }\n",
              "</style>\n",
              "<table border=\"1\" class=\"dataframe\">\n",
              "  <thead>\n",
              "    <tr style=\"text-align: right;\">\n",
              "      <th></th>\n",
              "      <th>Unnamed: 0</th>\n",
              "      <th>Player</th>\n",
              "      <th>height</th>\n",
              "      <th>weight</th>\n",
              "      <th>collage</th>\n",
              "      <th>born</th>\n",
              "      <th>birth_city</th>\n",
              "      <th>birth_state</th>\n",
              "    </tr>\n",
              "  </thead>\n",
              "  <tbody>\n",
              "    <tr>\n",
              "      <th>0</th>\n",
              "      <td>0</td>\n",
              "      <td>Curly Armstrong</td>\n",
              "      <td>180.0</td>\n",
              "      <td>77.0</td>\n",
              "      <td>Indiana University</td>\n",
              "      <td>1918.0</td>\n",
              "      <td>NaN</td>\n",
              "      <td>NaN</td>\n",
              "    </tr>\n",
              "    <tr>\n",
              "      <th>1</th>\n",
              "      <td>1</td>\n",
              "      <td>Cliff Barker</td>\n",
              "      <td>188.0</td>\n",
              "      <td>83.0</td>\n",
              "      <td>University of Kentucky</td>\n",
              "      <td>1921.0</td>\n",
              "      <td>Yorktown</td>\n",
              "      <td>Indiana</td>\n",
              "    </tr>\n",
              "    <tr>\n",
              "      <th>2</th>\n",
              "      <td>2</td>\n",
              "      <td>Leo Barnhorst</td>\n",
              "      <td>193.0</td>\n",
              "      <td>86.0</td>\n",
              "      <td>University of Notre Dame</td>\n",
              "      <td>1924.0</td>\n",
              "      <td>NaN</td>\n",
              "      <td>NaN</td>\n",
              "    </tr>\n",
              "    <tr>\n",
              "      <th>3</th>\n",
              "      <td>3</td>\n",
              "      <td>Ed Bartels</td>\n",
              "      <td>196.0</td>\n",
              "      <td>88.0</td>\n",
              "      <td>North Carolina State University</td>\n",
              "      <td>1925.0</td>\n",
              "      <td>NaN</td>\n",
              "      <td>NaN</td>\n",
              "    </tr>\n",
              "    <tr>\n",
              "      <th>4</th>\n",
              "      <td>4</td>\n",
              "      <td>Ralph Beard</td>\n",
              "      <td>178.0</td>\n",
              "      <td>79.0</td>\n",
              "      <td>University of Kentucky</td>\n",
              "      <td>1927.0</td>\n",
              "      <td>Hardinsburg</td>\n",
              "      <td>Kentucky</td>\n",
              "    </tr>\n",
              "    <tr>\n",
              "      <th>5</th>\n",
              "      <td>5</td>\n",
              "      <td>Gene Berce</td>\n",
              "      <td>180.0</td>\n",
              "      <td>79.0</td>\n",
              "      <td>Marquette University</td>\n",
              "      <td>1926.0</td>\n",
              "      <td>NaN</td>\n",
              "      <td>NaN</td>\n",
              "    </tr>\n",
              "    <tr>\n",
              "      <th>6</th>\n",
              "      <td>6</td>\n",
              "      <td>Charlie Black</td>\n",
              "      <td>196.0</td>\n",
              "      <td>90.0</td>\n",
              "      <td>University of Kansas</td>\n",
              "      <td>1921.0</td>\n",
              "      <td>Arco</td>\n",
              "      <td>Idaho</td>\n",
              "    </tr>\n",
              "    <tr>\n",
              "      <th>7</th>\n",
              "      <td>7</td>\n",
              "      <td>Nelson Bobb</td>\n",
              "      <td>183.0</td>\n",
              "      <td>77.0</td>\n",
              "      <td>Temple University</td>\n",
              "      <td>1924.0</td>\n",
              "      <td>Philadelphia</td>\n",
              "      <td>Pennsylvania</td>\n",
              "    </tr>\n",
              "    <tr>\n",
              "      <th>8</th>\n",
              "      <td>8</td>\n",
              "      <td>Jake Bornheimer</td>\n",
              "      <td>196.0</td>\n",
              "      <td>90.0</td>\n",
              "      <td>Muhlenberg College</td>\n",
              "      <td>1927.0</td>\n",
              "      <td>New Brunswick</td>\n",
              "      <td>New Jersey</td>\n",
              "    </tr>\n",
              "    <tr>\n",
              "      <th>9</th>\n",
              "      <td>9</td>\n",
              "      <td>Vince Boryla</td>\n",
              "      <td>196.0</td>\n",
              "      <td>95.0</td>\n",
              "      <td>University of Denver</td>\n",
              "      <td>1927.0</td>\n",
              "      <td>East Chicago</td>\n",
              "      <td>Indiana</td>\n",
              "    </tr>\n",
              "  </tbody>\n",
              "</table>\n",
              "</div>"
            ],
            "text/plain": [
              "   Unnamed: 0           Player  height  ...    born     birth_city   birth_state\n",
              "0           0  Curly Armstrong   180.0  ...  1918.0            NaN           NaN\n",
              "1           1     Cliff Barker   188.0  ...  1921.0       Yorktown       Indiana\n",
              "2           2    Leo Barnhorst   193.0  ...  1924.0            NaN           NaN\n",
              "3           3       Ed Bartels   196.0  ...  1925.0            NaN           NaN\n",
              "4           4      Ralph Beard   178.0  ...  1927.0    Hardinsburg      Kentucky\n",
              "5           5       Gene Berce   180.0  ...  1926.0            NaN           NaN\n",
              "6           6    Charlie Black   196.0  ...  1921.0           Arco         Idaho\n",
              "7           7      Nelson Bobb   183.0  ...  1924.0   Philadelphia  Pennsylvania\n",
              "8           8  Jake Bornheimer   196.0  ...  1927.0  New Brunswick    New Jersey\n",
              "9           9     Vince Boryla   196.0  ...  1927.0   East Chicago       Indiana\n",
              "\n",
              "[10 rows x 8 columns]"
            ]
          },
          "metadata": {},
          "execution_count": 149
        }
      ]
    },
    {
      "cell_type": "markdown",
      "metadata": {
        "id": "2VQEIZUvNGdT"
      },
      "source": [
        "Nota: se o número de linhas não for especificado, o método retornará as 5 linhas"
      ]
    },
    {
      "cell_type": "code",
      "metadata": {
        "colab": {
          "base_uri": "https://localhost:8080/",
          "height": 205
        },
        "id": "ECHDd57cNJBj",
        "outputId": "4b85ca62-8c7c-4275-f5ca-0e6201b193ef"
      },
      "source": [
        "df.head()"
      ],
      "execution_count": null,
      "outputs": [
        {
          "output_type": "execute_result",
          "data": {
            "text/html": [
              "<div>\n",
              "<style scoped>\n",
              "    .dataframe tbody tr th:only-of-type {\n",
              "        vertical-align: middle;\n",
              "    }\n",
              "\n",
              "    .dataframe tbody tr th {\n",
              "        vertical-align: top;\n",
              "    }\n",
              "\n",
              "    .dataframe thead th {\n",
              "        text-align: right;\n",
              "    }\n",
              "</style>\n",
              "<table border=\"1\" class=\"dataframe\">\n",
              "  <thead>\n",
              "    <tr style=\"text-align: right;\">\n",
              "      <th></th>\n",
              "      <th>Unnamed: 0</th>\n",
              "      <th>Player</th>\n",
              "      <th>height</th>\n",
              "      <th>weight</th>\n",
              "      <th>collage</th>\n",
              "      <th>born</th>\n",
              "      <th>birth_city</th>\n",
              "      <th>birth_state</th>\n",
              "    </tr>\n",
              "  </thead>\n",
              "  <tbody>\n",
              "    <tr>\n",
              "      <th>0</th>\n",
              "      <td>0</td>\n",
              "      <td>Curly Armstrong</td>\n",
              "      <td>180.0</td>\n",
              "      <td>77.0</td>\n",
              "      <td>Indiana University</td>\n",
              "      <td>1918.0</td>\n",
              "      <td>NaN</td>\n",
              "      <td>NaN</td>\n",
              "    </tr>\n",
              "    <tr>\n",
              "      <th>1</th>\n",
              "      <td>1</td>\n",
              "      <td>Cliff Barker</td>\n",
              "      <td>188.0</td>\n",
              "      <td>83.0</td>\n",
              "      <td>University of Kentucky</td>\n",
              "      <td>1921.0</td>\n",
              "      <td>Yorktown</td>\n",
              "      <td>Indiana</td>\n",
              "    </tr>\n",
              "    <tr>\n",
              "      <th>2</th>\n",
              "      <td>2</td>\n",
              "      <td>Leo Barnhorst</td>\n",
              "      <td>193.0</td>\n",
              "      <td>86.0</td>\n",
              "      <td>University of Notre Dame</td>\n",
              "      <td>1924.0</td>\n",
              "      <td>NaN</td>\n",
              "      <td>NaN</td>\n",
              "    </tr>\n",
              "    <tr>\n",
              "      <th>3</th>\n",
              "      <td>3</td>\n",
              "      <td>Ed Bartels</td>\n",
              "      <td>196.0</td>\n",
              "      <td>88.0</td>\n",
              "      <td>North Carolina State University</td>\n",
              "      <td>1925.0</td>\n",
              "      <td>NaN</td>\n",
              "      <td>NaN</td>\n",
              "    </tr>\n",
              "    <tr>\n",
              "      <th>4</th>\n",
              "      <td>4</td>\n",
              "      <td>Ralph Beard</td>\n",
              "      <td>178.0</td>\n",
              "      <td>79.0</td>\n",
              "      <td>University of Kentucky</td>\n",
              "      <td>1927.0</td>\n",
              "      <td>Hardinsburg</td>\n",
              "      <td>Kentucky</td>\n",
              "    </tr>\n",
              "  </tbody>\n",
              "</table>\n",
              "</div>"
            ],
            "text/plain": [
              "   Unnamed: 0           Player  height  ...    born   birth_city  birth_state\n",
              "0           0  Curly Armstrong   180.0  ...  1918.0          NaN          NaN\n",
              "1           1     Cliff Barker   188.0  ...  1921.0     Yorktown      Indiana\n",
              "2           2    Leo Barnhorst   193.0  ...  1924.0          NaN          NaN\n",
              "3           3       Ed Bartels   196.0  ...  1925.0          NaN          NaN\n",
              "4           4      Ralph Beard   178.0  ...  1927.0  Hardinsburg     Kentucky\n",
              "\n",
              "[5 rows x 8 columns]"
            ]
          },
          "metadata": {},
          "execution_count": 150
        }
      ]
    },
    {
      "cell_type": "markdown",
      "metadata": {
        "id": "MuzkelPqNXn7"
      },
      "source": [
        "Há também um método `.tail()` para visualizar as últimas linhas do DataFrame\n",
        "\n",
        "O método retorna os cabeçalhos e um número especificado de linhas, começando a partir da parte inferior"
      ]
    },
    {
      "cell_type": "code",
      "metadata": {
        "colab": {
          "base_uri": "https://localhost:8080/",
          "height": 205
        },
        "id": "TBmSiNvgNhzQ",
        "outputId": "ae846df7-902a-423c-d804-41ee65cf4a5c"
      },
      "source": [
        "df.tail()"
      ],
      "execution_count": null,
      "outputs": [
        {
          "output_type": "execute_result",
          "data": {
            "text/html": [
              "<div>\n",
              "<style scoped>\n",
              "    .dataframe tbody tr th:only-of-type {\n",
              "        vertical-align: middle;\n",
              "    }\n",
              "\n",
              "    .dataframe tbody tr th {\n",
              "        vertical-align: top;\n",
              "    }\n",
              "\n",
              "    .dataframe thead th {\n",
              "        text-align: right;\n",
              "    }\n",
              "</style>\n",
              "<table border=\"1\" class=\"dataframe\">\n",
              "  <thead>\n",
              "    <tr style=\"text-align: right;\">\n",
              "      <th></th>\n",
              "      <th>Unnamed: 0</th>\n",
              "      <th>Player</th>\n",
              "      <th>height</th>\n",
              "      <th>weight</th>\n",
              "      <th>collage</th>\n",
              "      <th>born</th>\n",
              "      <th>birth_city</th>\n",
              "      <th>birth_state</th>\n",
              "    </tr>\n",
              "  </thead>\n",
              "  <tbody>\n",
              "    <tr>\n",
              "      <th>3917</th>\n",
              "      <td>3917</td>\n",
              "      <td>Troy Williams</td>\n",
              "      <td>198.0</td>\n",
              "      <td>97.0</td>\n",
              "      <td>South Carolina State University</td>\n",
              "      <td>1969.0</td>\n",
              "      <td>Columbia</td>\n",
              "      <td>South Carolina</td>\n",
              "    </tr>\n",
              "    <tr>\n",
              "      <th>3918</th>\n",
              "      <td>3918</td>\n",
              "      <td>Kyle Wiltjer</td>\n",
              "      <td>208.0</td>\n",
              "      <td>108.0</td>\n",
              "      <td>Gonzaga University</td>\n",
              "      <td>1992.0</td>\n",
              "      <td>Portland</td>\n",
              "      <td>Oregon</td>\n",
              "    </tr>\n",
              "    <tr>\n",
              "      <th>3919</th>\n",
              "      <td>3919</td>\n",
              "      <td>Stephen Zimmerman</td>\n",
              "      <td>213.0</td>\n",
              "      <td>108.0</td>\n",
              "      <td>University of Nevada, Las Vegas</td>\n",
              "      <td>1996.0</td>\n",
              "      <td>Hendersonville</td>\n",
              "      <td>Tennessee</td>\n",
              "    </tr>\n",
              "    <tr>\n",
              "      <th>3920</th>\n",
              "      <td>3920</td>\n",
              "      <td>Paul Zipser</td>\n",
              "      <td>203.0</td>\n",
              "      <td>97.0</td>\n",
              "      <td>NaN</td>\n",
              "      <td>1994.0</td>\n",
              "      <td>Heidelberg</td>\n",
              "      <td>Germany</td>\n",
              "    </tr>\n",
              "    <tr>\n",
              "      <th>3921</th>\n",
              "      <td>3921</td>\n",
              "      <td>Ivica Zubac</td>\n",
              "      <td>216.0</td>\n",
              "      <td>120.0</td>\n",
              "      <td>NaN</td>\n",
              "      <td>1997.0</td>\n",
              "      <td>Mostar</td>\n",
              "      <td>Bosnia and Herzegovina</td>\n",
              "    </tr>\n",
              "  </tbody>\n",
              "</table>\n",
              "</div>"
            ],
            "text/plain": [
              "      Unnamed: 0             Player  ...      birth_city             birth_state\n",
              "3917        3917      Troy Williams  ...        Columbia          South Carolina\n",
              "3918        3918       Kyle Wiltjer  ...        Portland                  Oregon\n",
              "3919        3919  Stephen Zimmerman  ...  Hendersonville               Tennessee\n",
              "3920        3920        Paul Zipser  ...      Heidelberg                 Germany\n",
              "3921        3921        Ivica Zubac  ...          Mostar  Bosnia and Herzegovina\n",
              "\n",
              "[5 rows x 8 columns]"
            ]
          },
          "metadata": {},
          "execution_count": 151
        }
      ]
    },
    {
      "cell_type": "markdown",
      "metadata": {
        "id": "ywa5KokRkoRr"
      },
      "source": [
        "###***Tratando dados (Exemplo prático)***"
      ]
    },
    {
      "cell_type": "markdown",
      "metadata": {
        "id": "Z3vS_4gKktJJ"
      },
      "source": [
        "A partir dos dados de jogadores da NBA, pede-se:\n",
        "\n",
        "1. Qual a média de altura e de peso dos jogadores?\n",
        "2. Crie uma nova coluna com a razão peso/altura.\n",
        "3.  Qual a maior altura, o maior peso, a menor altura e menor peso?\n",
        "4. Qual é o estado onde nasce o maior número de jogadores?\n",
        "5. Qual o jogador mais alto?\n"
      ]
    },
    {
      "cell_type": "markdown",
      "metadata": {
        "id": "cXzpYuY9lM8h"
      },
      "source": [
        "Antes de mais nada, vejamos alguns métodos para DataFrames:    \n",
        "\n",
        "\n",
        "|**Métodos aplicados ao DataFrame**|**EXEMPLOS**|\n",
        "|:----------:|:----------------------------:  |\n",
        "| .min(axis), .max(axis), .cumsum(),mean() | Mínimo, máximo, soma acumulada e média |,\n",
        "| .value_counts() | Faz uma contagem de aparições de determinado valor  |,\n",
        "| .sort_values(by=column) | Ordena valores. |\n",
        "\n"
      ]
    },
    {
      "cell_type": "markdown",
      "metadata": {
        "id": "J-cp50erlnKm"
      },
      "source": [
        "***1. Qual a média de altura e de peso dos jogadores?***"
      ]
    },
    {
      "cell_type": "code",
      "metadata": {
        "colab": {
          "base_uri": "https://localhost:8080/"
        },
        "id": "PhLJR1PblYhr",
        "outputId": "397399ec-b78c-49c4-cb81-3a62d051ad2e"
      },
      "source": [
        "print(df['height'].mean())#altura\n",
        "print(df['weight'].mean())#peso"
      ],
      "execution_count": null,
      "outputs": [
        {
          "output_type": "stream",
          "name": "stdout",
          "text": [
            "198.70492221372098\n",
            "94.78321856669217\n"
          ]
        }
      ]
    },
    {
      "cell_type": "markdown",
      "metadata": {
        "id": "q5IjJwEBl9mC"
      },
      "source": [
        "***2. Crie uma nova coluna com a razão peso/altura.***"
      ]
    },
    {
      "cell_type": "markdown",
      "metadata": {
        "id": "3kG9u9eIMfCx"
      },
      "source": [
        "Criando uma relação com o IMC"
      ]
    },
    {
      "cell_type": "code",
      "metadata": {
        "colab": {
          "base_uri": "https://localhost:8080/"
        },
        "id": "1pxYk4wjmAZI",
        "outputId": "8301a0ba-bdd3-44fa-ca1a-78e32dddd8c6"
      },
      "source": [
        "IMC = df['weight']/((df['height']/100)**2) #IMC = peso/(altura x altura)\n",
        "IMC"
      ],
      "execution_count": null,
      "outputs": [
        {
          "output_type": "execute_result",
          "data": {
            "text/plain": [
              "0       23.765432\n",
              "1       23.483477\n",
              "2       23.087868\n",
              "3       22.907122\n",
              "4       24.933720\n",
              "          ...    \n",
              "3917    24.742373\n",
              "3918    24.963018\n",
              "3919    23.804801\n",
              "3920    23.538547\n",
              "3921    25.720165\n",
              "Length: 3922, dtype: float64"
            ]
          },
          "metadata": {},
          "execution_count": 153
        }
      ]
    },
    {
      "cell_type": "markdown",
      "metadata": {
        "id": "W2zBo6K6mHj8"
      },
      "source": [
        "Agora que criamos a razão, podemos adicioná-la ao DataFrame"
      ]
    },
    {
      "cell_type": "code",
      "metadata": {
        "colab": {
          "base_uri": "https://localhost:8080/",
          "height": 205
        },
        "id": "8QmrGQyGmY6L",
        "outputId": "c67faab4-db48-4118-f7c2-004cd1a56015"
      },
      "source": [
        "df['IMC'] = IMC #É como adicionar em um dicionário\n",
        "df.head()"
      ],
      "execution_count": null,
      "outputs": [
        {
          "output_type": "execute_result",
          "data": {
            "text/html": [
              "<div>\n",
              "<style scoped>\n",
              "    .dataframe tbody tr th:only-of-type {\n",
              "        vertical-align: middle;\n",
              "    }\n",
              "\n",
              "    .dataframe tbody tr th {\n",
              "        vertical-align: top;\n",
              "    }\n",
              "\n",
              "    .dataframe thead th {\n",
              "        text-align: right;\n",
              "    }\n",
              "</style>\n",
              "<table border=\"1\" class=\"dataframe\">\n",
              "  <thead>\n",
              "    <tr style=\"text-align: right;\">\n",
              "      <th></th>\n",
              "      <th>Unnamed: 0</th>\n",
              "      <th>Player</th>\n",
              "      <th>height</th>\n",
              "      <th>weight</th>\n",
              "      <th>collage</th>\n",
              "      <th>born</th>\n",
              "      <th>birth_city</th>\n",
              "      <th>birth_state</th>\n",
              "      <th>IMC</th>\n",
              "    </tr>\n",
              "  </thead>\n",
              "  <tbody>\n",
              "    <tr>\n",
              "      <th>0</th>\n",
              "      <td>0</td>\n",
              "      <td>Curly Armstrong</td>\n",
              "      <td>180.0</td>\n",
              "      <td>77.0</td>\n",
              "      <td>Indiana University</td>\n",
              "      <td>1918.0</td>\n",
              "      <td>NaN</td>\n",
              "      <td>NaN</td>\n",
              "      <td>23.765432</td>\n",
              "    </tr>\n",
              "    <tr>\n",
              "      <th>1</th>\n",
              "      <td>1</td>\n",
              "      <td>Cliff Barker</td>\n",
              "      <td>188.0</td>\n",
              "      <td>83.0</td>\n",
              "      <td>University of Kentucky</td>\n",
              "      <td>1921.0</td>\n",
              "      <td>Yorktown</td>\n",
              "      <td>Indiana</td>\n",
              "      <td>23.483477</td>\n",
              "    </tr>\n",
              "    <tr>\n",
              "      <th>2</th>\n",
              "      <td>2</td>\n",
              "      <td>Leo Barnhorst</td>\n",
              "      <td>193.0</td>\n",
              "      <td>86.0</td>\n",
              "      <td>University of Notre Dame</td>\n",
              "      <td>1924.0</td>\n",
              "      <td>NaN</td>\n",
              "      <td>NaN</td>\n",
              "      <td>23.087868</td>\n",
              "    </tr>\n",
              "    <tr>\n",
              "      <th>3</th>\n",
              "      <td>3</td>\n",
              "      <td>Ed Bartels</td>\n",
              "      <td>196.0</td>\n",
              "      <td>88.0</td>\n",
              "      <td>North Carolina State University</td>\n",
              "      <td>1925.0</td>\n",
              "      <td>NaN</td>\n",
              "      <td>NaN</td>\n",
              "      <td>22.907122</td>\n",
              "    </tr>\n",
              "    <tr>\n",
              "      <th>4</th>\n",
              "      <td>4</td>\n",
              "      <td>Ralph Beard</td>\n",
              "      <td>178.0</td>\n",
              "      <td>79.0</td>\n",
              "      <td>University of Kentucky</td>\n",
              "      <td>1927.0</td>\n",
              "      <td>Hardinsburg</td>\n",
              "      <td>Kentucky</td>\n",
              "      <td>24.933720</td>\n",
              "    </tr>\n",
              "  </tbody>\n",
              "</table>\n",
              "</div>"
            ],
            "text/plain": [
              "   Unnamed: 0           Player  height  ...   birth_city birth_state        IMC\n",
              "0           0  Curly Armstrong   180.0  ...          NaN         NaN  23.765432\n",
              "1           1     Cliff Barker   188.0  ...     Yorktown     Indiana  23.483477\n",
              "2           2    Leo Barnhorst   193.0  ...          NaN         NaN  23.087868\n",
              "3           3       Ed Bartels   196.0  ...          NaN         NaN  22.907122\n",
              "4           4      Ralph Beard   178.0  ...  Hardinsburg    Kentucky  24.933720\n",
              "\n",
              "[5 rows x 9 columns]"
            ]
          },
          "metadata": {},
          "execution_count": 154
        }
      ]
    },
    {
      "cell_type": "markdown",
      "metadata": {
        "id": "j2seR1mAmkGI"
      },
      "source": [
        "***3.  Qual a maior altura, o maior peso, a menor altura e menor peso?***"
      ]
    },
    {
      "cell_type": "markdown",
      "metadata": {
        "id": "I6gAWpIvM5um"
      },
      "source": [
        "Nesse caso, vamos pedir os dados de todo o DataFrame e apenas identificar os dados pedidos"
      ]
    },
    {
      "cell_type": "code",
      "metadata": {
        "colab": {
          "base_uri": "https://localhost:8080/"
        },
        "id": "A-5Ir9ZDmy4K",
        "outputId": "c14e0398-8241-4f15-d474-2ed47287c205"
      },
      "source": [
        "df.mean()"
      ],
      "execution_count": null,
      "outputs": [
        {
          "output_type": "execute_result",
          "data": {
            "text/plain": [
              "Unnamed: 0    1960.500000\n",
              "height         198.704922\n",
              "weight          94.783219\n",
              "born          1962.379750\n",
              "IMC             23.926953\n",
              "dtype: float64"
            ]
          },
          "metadata": {},
          "execution_count": 155
        }
      ]
    },
    {
      "cell_type": "code",
      "metadata": {
        "colab": {
          "base_uri": "https://localhost:8080/"
        },
        "id": "5omuqJu4mzj0",
        "outputId": "f25ae18f-e2a0-4d11-87c6-244597c07839"
      },
      "source": [
        "df.max()"
      ],
      "execution_count": null,
      "outputs": [
        {
          "output_type": "execute_result",
          "data": {
            "text/plain": [
              "Unnamed: 0    3921.000000\n",
              "height         231.000000\n",
              "weight         163.000000\n",
              "born          1997.000000\n",
              "IMC             31.913227\n",
              "dtype: float64"
            ]
          },
          "metadata": {},
          "execution_count": 156
        }
      ]
    },
    {
      "cell_type": "markdown",
      "metadata": {
        "id": "25SUg_-Qm6Gd"
      },
      "source": [
        "***4. Qual é o estado onde nasce o maior número de jogadores?***"
      ]
    },
    {
      "cell_type": "code",
      "metadata": {
        "colab": {
          "base_uri": "https://localhost:8080/"
        },
        "id": "oAhC4fcbnCIA",
        "outputId": "54b2dae0-de12-4bfc-af6b-1da05fbf2bc0"
      },
      "source": [
        "df['birth_state'].value_counts()"
      ],
      "execution_count": null,
      "outputs": [
        {
          "output_type": "execute_result",
          "data": {
            "text/plain": [
              "California               344\n",
              "New York                 290\n",
              "Illinois                 209\n",
              "Pennsylvania             163\n",
              "Ohio                     137\n",
              "                        ... \n",
              "Norway                     1\n",
              "Austria                    1\n",
              "FYR Macedonia              1\n",
              "Morocco                    1\n",
              "Republic of the Congo      1\n",
              "Name: birth_state, Length: 128, dtype: int64"
            ]
          },
          "metadata": {},
          "execution_count": 157
        }
      ]
    },
    {
      "cell_type": "markdown",
      "metadata": {
        "id": "OcmnuPQpm7So"
      },
      "source": [
        "***5. Qual o jogador mais alto?***"
      ]
    },
    {
      "cell_type": "code",
      "metadata": {
        "colab": {
          "base_uri": "https://localhost:8080/",
          "height": 205
        },
        "id": "JAmlNVUznD19",
        "outputId": "d29cb1ea-074b-41fc-f362-bc0ea225dc43"
      },
      "source": [
        "df.sort_values(by='height').tail()#Vamos fazer uma ordenação com o tail para encontrar"
      ],
      "execution_count": null,
      "outputs": [
        {
          "output_type": "execute_result",
          "data": {
            "text/html": [
              "<div>\n",
              "<style scoped>\n",
              "    .dataframe tbody tr th:only-of-type {\n",
              "        vertical-align: middle;\n",
              "    }\n",
              "\n",
              "    .dataframe tbody tr th {\n",
              "        vertical-align: top;\n",
              "    }\n",
              "\n",
              "    .dataframe thead th {\n",
              "        text-align: right;\n",
              "    }\n",
              "</style>\n",
              "<table border=\"1\" class=\"dataframe\">\n",
              "  <thead>\n",
              "    <tr style=\"text-align: right;\">\n",
              "      <th></th>\n",
              "      <th>Unnamed: 0</th>\n",
              "      <th>Player</th>\n",
              "      <th>height</th>\n",
              "      <th>weight</th>\n",
              "      <th>collage</th>\n",
              "      <th>born</th>\n",
              "      <th>birth_city</th>\n",
              "      <th>birth_state</th>\n",
              "      <th>IMC</th>\n",
              "    </tr>\n",
              "  </thead>\n",
              "  <tbody>\n",
              "    <tr>\n",
              "      <th>2249</th>\n",
              "      <td>2249</td>\n",
              "      <td>P.J. Brown</td>\n",
              "      <td>229.0</td>\n",
              "      <td>106.0</td>\n",
              "      <td>NaN</td>\n",
              "      <td>1972.0</td>\n",
              "      <td>NaN</td>\n",
              "      <td>NaN</td>\n",
              "      <td>20.213192</td>\n",
              "    </tr>\n",
              "    <tr>\n",
              "      <th>2248</th>\n",
              "      <td>2248</td>\n",
              "      <td>Shawn Bradley</td>\n",
              "      <td>229.0</td>\n",
              "      <td>106.0</td>\n",
              "      <td>Brigham Young University</td>\n",
              "      <td>1972.0</td>\n",
              "      <td>Landstuhl</td>\n",
              "      <td>Germany</td>\n",
              "      <td>20.213192</td>\n",
              "    </tr>\n",
              "    <tr>\n",
              "      <th>1711</th>\n",
              "      <td>1711</td>\n",
              "      <td>Manute Bol</td>\n",
              "      <td>231.0</td>\n",
              "      <td>90.0</td>\n",
              "      <td>University of Bridgeport</td>\n",
              "      <td>1962.0</td>\n",
              "      <td>Gogrial</td>\n",
              "      <td>South Sudan</td>\n",
              "      <td>16.866251</td>\n",
              "    </tr>\n",
              "    <tr>\n",
              "      <th>2297</th>\n",
              "      <td>2297</td>\n",
              "      <td>Gheorghe Muresan</td>\n",
              "      <td>231.0</td>\n",
              "      <td>137.0</td>\n",
              "      <td>NaN</td>\n",
              "      <td>1971.0</td>\n",
              "      <td>Triteni</td>\n",
              "      <td>Romania</td>\n",
              "      <td>25.674182</td>\n",
              "    </tr>\n",
              "    <tr>\n",
              "      <th>223</th>\n",
              "      <td>223</td>\n",
              "      <td>NaN</td>\n",
              "      <td>NaN</td>\n",
              "      <td>NaN</td>\n",
              "      <td>NaN</td>\n",
              "      <td>NaN</td>\n",
              "      <td>NaN</td>\n",
              "      <td>NaN</td>\n",
              "      <td>NaN</td>\n",
              "    </tr>\n",
              "  </tbody>\n",
              "</table>\n",
              "</div>"
            ],
            "text/plain": [
              "      Unnamed: 0            Player  height  ...  birth_city  birth_state        IMC\n",
              "2249        2249        P.J. Brown   229.0  ...         NaN          NaN  20.213192\n",
              "2248        2248     Shawn Bradley   229.0  ...   Landstuhl      Germany  20.213192\n",
              "1711        1711        Manute Bol   231.0  ...     Gogrial  South Sudan  16.866251\n",
              "2297        2297  Gheorghe Muresan   231.0  ...     Triteni      Romania  25.674182\n",
              "223          223               NaN     NaN  ...         NaN          NaN        NaN\n",
              "\n",
              "[5 rows x 9 columns]"
            ]
          },
          "metadata": {},
          "execution_count": 158
        }
      ]
    },
    {
      "cell_type": "markdown",
      "metadata": {
        "id": "maMlOO2QnVbh"
      },
      "source": [
        "##***Fatiando DataFrames com loc e iloc***"
      ]
    },
    {
      "cell_type": "markdown",
      "metadata": {
        "id": "6Xv_PWL-nZ9F"
      },
      "source": [
        "- loc[i,j], onde i e j são os nomes dos índices\n",
        "- iloc[i,j], onde i e j são os números dos índices\n"
      ]
    },
    {
      "cell_type": "code",
      "metadata": {
        "colab": {
          "base_uri": "https://localhost:8080/"
        },
        "id": "0Htb_0R6nmqQ",
        "outputId": "8e29d27f-1cbc-4a79-89b0-7102f718a371"
      },
      "source": [
        "df.columns"
      ],
      "execution_count": null,
      "outputs": [
        {
          "output_type": "execute_result",
          "data": {
            "text/plain": [
              "Index(['Unnamed: 0', 'Player', 'height', 'weight', 'collage', 'born',\n",
              "       'birth_city', 'birth_state', 'IMC'],\n",
              "      dtype='object')"
            ]
          },
          "metadata": {},
          "execution_count": 159
        }
      ]
    },
    {
      "cell_type": "code",
      "metadata": {
        "colab": {
          "base_uri": "https://localhost:8080/",
          "height": 175
        },
        "id": "pttsgR5_ntiS",
        "outputId": "d20f7c05-701c-42f4-cacb-d1a2259e36b4"
      },
      "source": [
        "df.loc[1:4,['height','birth_state']]"
      ],
      "execution_count": null,
      "outputs": [
        {
          "output_type": "execute_result",
          "data": {
            "text/html": [
              "<div>\n",
              "<style scoped>\n",
              "    .dataframe tbody tr th:only-of-type {\n",
              "        vertical-align: middle;\n",
              "    }\n",
              "\n",
              "    .dataframe tbody tr th {\n",
              "        vertical-align: top;\n",
              "    }\n",
              "\n",
              "    .dataframe thead th {\n",
              "        text-align: right;\n",
              "    }\n",
              "</style>\n",
              "<table border=\"1\" class=\"dataframe\">\n",
              "  <thead>\n",
              "    <tr style=\"text-align: right;\">\n",
              "      <th></th>\n",
              "      <th>height</th>\n",
              "      <th>birth_state</th>\n",
              "    </tr>\n",
              "  </thead>\n",
              "  <tbody>\n",
              "    <tr>\n",
              "      <th>1</th>\n",
              "      <td>188.0</td>\n",
              "      <td>Indiana</td>\n",
              "    </tr>\n",
              "    <tr>\n",
              "      <th>2</th>\n",
              "      <td>193.0</td>\n",
              "      <td>NaN</td>\n",
              "    </tr>\n",
              "    <tr>\n",
              "      <th>3</th>\n",
              "      <td>196.0</td>\n",
              "      <td>NaN</td>\n",
              "    </tr>\n",
              "    <tr>\n",
              "      <th>4</th>\n",
              "      <td>178.0</td>\n",
              "      <td>Kentucky</td>\n",
              "    </tr>\n",
              "  </tbody>\n",
              "</table>\n",
              "</div>"
            ],
            "text/plain": [
              "   height birth_state\n",
              "1   188.0     Indiana\n",
              "2   193.0         NaN\n",
              "3   196.0         NaN\n",
              "4   178.0    Kentucky"
            ]
          },
          "metadata": {},
          "execution_count": 160
        }
      ]
    },
    {
      "cell_type": "markdown",
      "metadata": {
        "id": "oMrNFBCpn65A"
      },
      "source": [
        "Indo de um até o outro:"
      ]
    },
    {
      "cell_type": "code",
      "metadata": {
        "colab": {
          "base_uri": "https://localhost:8080/",
          "height": 175
        },
        "id": "dd4gyfbjn8l8",
        "outputId": "8f486543-9a8f-4184-c99d-626a2070f237"
      },
      "source": [
        "df.loc[1:4,'height':'birth_state'] # dos dados de altura até os dados de estado de nascimento"
      ],
      "execution_count": null,
      "outputs": [
        {
          "output_type": "execute_result",
          "data": {
            "text/html": [
              "<div>\n",
              "<style scoped>\n",
              "    .dataframe tbody tr th:only-of-type {\n",
              "        vertical-align: middle;\n",
              "    }\n",
              "\n",
              "    .dataframe tbody tr th {\n",
              "        vertical-align: top;\n",
              "    }\n",
              "\n",
              "    .dataframe thead th {\n",
              "        text-align: right;\n",
              "    }\n",
              "</style>\n",
              "<table border=\"1\" class=\"dataframe\">\n",
              "  <thead>\n",
              "    <tr style=\"text-align: right;\">\n",
              "      <th></th>\n",
              "      <th>height</th>\n",
              "      <th>weight</th>\n",
              "      <th>collage</th>\n",
              "      <th>born</th>\n",
              "      <th>birth_city</th>\n",
              "      <th>birth_state</th>\n",
              "    </tr>\n",
              "  </thead>\n",
              "  <tbody>\n",
              "    <tr>\n",
              "      <th>1</th>\n",
              "      <td>188.0</td>\n",
              "      <td>83.0</td>\n",
              "      <td>University of Kentucky</td>\n",
              "      <td>1921.0</td>\n",
              "      <td>Yorktown</td>\n",
              "      <td>Indiana</td>\n",
              "    </tr>\n",
              "    <tr>\n",
              "      <th>2</th>\n",
              "      <td>193.0</td>\n",
              "      <td>86.0</td>\n",
              "      <td>University of Notre Dame</td>\n",
              "      <td>1924.0</td>\n",
              "      <td>NaN</td>\n",
              "      <td>NaN</td>\n",
              "    </tr>\n",
              "    <tr>\n",
              "      <th>3</th>\n",
              "      <td>196.0</td>\n",
              "      <td>88.0</td>\n",
              "      <td>North Carolina State University</td>\n",
              "      <td>1925.0</td>\n",
              "      <td>NaN</td>\n",
              "      <td>NaN</td>\n",
              "    </tr>\n",
              "    <tr>\n",
              "      <th>4</th>\n",
              "      <td>178.0</td>\n",
              "      <td>79.0</td>\n",
              "      <td>University of Kentucky</td>\n",
              "      <td>1927.0</td>\n",
              "      <td>Hardinsburg</td>\n",
              "      <td>Kentucky</td>\n",
              "    </tr>\n",
              "  </tbody>\n",
              "</table>\n",
              "</div>"
            ],
            "text/plain": [
              "   height  weight  ...   birth_city  birth_state\n",
              "1   188.0    83.0  ...     Yorktown      Indiana\n",
              "2   193.0    86.0  ...          NaN          NaN\n",
              "3   196.0    88.0  ...          NaN          NaN\n",
              "4   178.0    79.0  ...  Hardinsburg     Kentucky\n",
              "\n",
              "[4 rows x 6 columns]"
            ]
          },
          "metadata": {},
          "execution_count": 161
        }
      ]
    },
    {
      "cell_type": "markdown",
      "metadata": {
        "id": "jeiW_py1N0Ey"
      },
      "source": [
        "Usando o iloc:"
      ]
    },
    {
      "cell_type": "code",
      "metadata": {
        "colab": {
          "base_uri": "https://localhost:8080/",
          "height": 175
        },
        "id": "gyLkd2x9oT2v",
        "outputId": "3a738d21-f9ce-470e-d759-5ab77829c143"
      },
      "source": [
        "df.iloc[0:4,2:5]"
      ],
      "execution_count": null,
      "outputs": [
        {
          "output_type": "execute_result",
          "data": {
            "text/html": [
              "<div>\n",
              "<style scoped>\n",
              "    .dataframe tbody tr th:only-of-type {\n",
              "        vertical-align: middle;\n",
              "    }\n",
              "\n",
              "    .dataframe tbody tr th {\n",
              "        vertical-align: top;\n",
              "    }\n",
              "\n",
              "    .dataframe thead th {\n",
              "        text-align: right;\n",
              "    }\n",
              "</style>\n",
              "<table border=\"1\" class=\"dataframe\">\n",
              "  <thead>\n",
              "    <tr style=\"text-align: right;\">\n",
              "      <th></th>\n",
              "      <th>height</th>\n",
              "      <th>weight</th>\n",
              "      <th>collage</th>\n",
              "    </tr>\n",
              "  </thead>\n",
              "  <tbody>\n",
              "    <tr>\n",
              "      <th>0</th>\n",
              "      <td>180.0</td>\n",
              "      <td>77.0</td>\n",
              "      <td>Indiana University</td>\n",
              "    </tr>\n",
              "    <tr>\n",
              "      <th>1</th>\n",
              "      <td>188.0</td>\n",
              "      <td>83.0</td>\n",
              "      <td>University of Kentucky</td>\n",
              "    </tr>\n",
              "    <tr>\n",
              "      <th>2</th>\n",
              "      <td>193.0</td>\n",
              "      <td>86.0</td>\n",
              "      <td>University of Notre Dame</td>\n",
              "    </tr>\n",
              "    <tr>\n",
              "      <th>3</th>\n",
              "      <td>196.0</td>\n",
              "      <td>88.0</td>\n",
              "      <td>North Carolina State University</td>\n",
              "    </tr>\n",
              "  </tbody>\n",
              "</table>\n",
              "</div>"
            ],
            "text/plain": [
              "   height  weight                          collage\n",
              "0   180.0    77.0               Indiana University\n",
              "1   188.0    83.0           University of Kentucky\n",
              "2   193.0    86.0         University of Notre Dame\n",
              "3   196.0    88.0  North Carolina State University"
            ]
          },
          "metadata": {},
          "execution_count": 162
        }
      ]
    },
    {
      "cell_type": "markdown",
      "metadata": {
        "id": "ed4x22m3pezg"
      },
      "source": [
        "Usando o iloc é o índice e no loc é o nome."
      ]
    },
    {
      "cell_type": "markdown",
      "metadata": {
        "id": "CkzNcldYqHYj"
      },
      "source": [
        "##***Função merge e função concat***"
      ]
    },
    {
      "cell_type": "markdown",
      "metadata": {
        "id": "d6-3r8DhqKDh"
      },
      "source": [
        "De forma resumida, a função concat nos auxilia em combinar, concatenar os DataFrames. A função merge nos ajuda a fundir os DataFrames, tendo uma funcionalidade parecida com o procv do Excel.\n",
        "\n",
        "- .concat(objs: Union[Iterable[FrameOrSeries], Mapping[Label, FrameOrSeries]], axis='0', join: str = \"'outer'\", ignore_index: bool = 'False', keys='None', levels='None', names='None', verify_integrity: bool = 'False', sort: bool = 'False', copy: bool = 'True')\n",
        "- pd.merge(left, right, how='inner', on=None, left_on=None, right_on=None, left_index=False, right_index=False, sort=True, suffixes=('_x', '_y'), copy=True, indicator=False,validate=None)"
      ]
    },
    {
      "cell_type": "code",
      "metadata": {
        "id": "3A82eImCqYf8"
      },
      "source": [
        "df1= pd.DataFrame(np.arange(15).reshape(5,3))\n",
        "df2= pd.DataFrame((np.arange(9)**2).reshape(3,3))"
      ],
      "execution_count": null,
      "outputs": []
    },
    {
      "cell_type": "code",
      "metadata": {
        "colab": {
          "base_uri": "https://localhost:8080/",
          "height": 205
        },
        "id": "KKE1EkacqynH",
        "outputId": "34714e27-1a42-4643-9bd4-c93fe3956d95"
      },
      "source": [
        "df1"
      ],
      "execution_count": null,
      "outputs": [
        {
          "output_type": "execute_result",
          "data": {
            "text/html": [
              "<div>\n",
              "<style scoped>\n",
              "    .dataframe tbody tr th:only-of-type {\n",
              "        vertical-align: middle;\n",
              "    }\n",
              "\n",
              "    .dataframe tbody tr th {\n",
              "        vertical-align: top;\n",
              "    }\n",
              "\n",
              "    .dataframe thead th {\n",
              "        text-align: right;\n",
              "    }\n",
              "</style>\n",
              "<table border=\"1\" class=\"dataframe\">\n",
              "  <thead>\n",
              "    <tr style=\"text-align: right;\">\n",
              "      <th></th>\n",
              "      <th>0</th>\n",
              "      <th>1</th>\n",
              "      <th>2</th>\n",
              "    </tr>\n",
              "  </thead>\n",
              "  <tbody>\n",
              "    <tr>\n",
              "      <th>0</th>\n",
              "      <td>0</td>\n",
              "      <td>1</td>\n",
              "      <td>2</td>\n",
              "    </tr>\n",
              "    <tr>\n",
              "      <th>1</th>\n",
              "      <td>3</td>\n",
              "      <td>4</td>\n",
              "      <td>5</td>\n",
              "    </tr>\n",
              "    <tr>\n",
              "      <th>2</th>\n",
              "      <td>6</td>\n",
              "      <td>7</td>\n",
              "      <td>8</td>\n",
              "    </tr>\n",
              "    <tr>\n",
              "      <th>3</th>\n",
              "      <td>9</td>\n",
              "      <td>10</td>\n",
              "      <td>11</td>\n",
              "    </tr>\n",
              "    <tr>\n",
              "      <th>4</th>\n",
              "      <td>12</td>\n",
              "      <td>13</td>\n",
              "      <td>14</td>\n",
              "    </tr>\n",
              "  </tbody>\n",
              "</table>\n",
              "</div>"
            ],
            "text/plain": [
              "    0   1   2\n",
              "0   0   1   2\n",
              "1   3   4   5\n",
              "2   6   7   8\n",
              "3   9  10  11\n",
              "4  12  13  14"
            ]
          },
          "metadata": {},
          "execution_count": 164
        }
      ]
    },
    {
      "cell_type": "code",
      "metadata": {
        "colab": {
          "base_uri": "https://localhost:8080/",
          "height": 143
        },
        "id": "NgizYPrbqz70",
        "outputId": "0fc3f807-2a9e-4d0a-ebbc-1de66b7d3c55"
      },
      "source": [
        "df2"
      ],
      "execution_count": null,
      "outputs": [
        {
          "output_type": "execute_result",
          "data": {
            "text/html": [
              "<div>\n",
              "<style scoped>\n",
              "    .dataframe tbody tr th:only-of-type {\n",
              "        vertical-align: middle;\n",
              "    }\n",
              "\n",
              "    .dataframe tbody tr th {\n",
              "        vertical-align: top;\n",
              "    }\n",
              "\n",
              "    .dataframe thead th {\n",
              "        text-align: right;\n",
              "    }\n",
              "</style>\n",
              "<table border=\"1\" class=\"dataframe\">\n",
              "  <thead>\n",
              "    <tr style=\"text-align: right;\">\n",
              "      <th></th>\n",
              "      <th>0</th>\n",
              "      <th>1</th>\n",
              "      <th>2</th>\n",
              "    </tr>\n",
              "  </thead>\n",
              "  <tbody>\n",
              "    <tr>\n",
              "      <th>0</th>\n",
              "      <td>0</td>\n",
              "      <td>1</td>\n",
              "      <td>4</td>\n",
              "    </tr>\n",
              "    <tr>\n",
              "      <th>1</th>\n",
              "      <td>9</td>\n",
              "      <td>16</td>\n",
              "      <td>25</td>\n",
              "    </tr>\n",
              "    <tr>\n",
              "      <th>2</th>\n",
              "      <td>36</td>\n",
              "      <td>49</td>\n",
              "      <td>64</td>\n",
              "    </tr>\n",
              "  </tbody>\n",
              "</table>\n",
              "</div>"
            ],
            "text/plain": [
              "    0   1   2\n",
              "0   0   1   4\n",
              "1   9  16  25\n",
              "2  36  49  64"
            ]
          },
          "metadata": {},
          "execution_count": 165
        }
      ]
    },
    {
      "cell_type": "code",
      "metadata": {
        "colab": {
          "base_uri": "https://localhost:8080/",
          "height": 295
        },
        "id": "DB6O78QTqdC3",
        "outputId": "336a7645-2174-436d-b7a7-51beacdad2c0"
      },
      "source": [
        "pd.concat([df1,df2],ignore_index=True)"
      ],
      "execution_count": null,
      "outputs": [
        {
          "output_type": "execute_result",
          "data": {
            "text/html": [
              "<div>\n",
              "<style scoped>\n",
              "    .dataframe tbody tr th:only-of-type {\n",
              "        vertical-align: middle;\n",
              "    }\n",
              "\n",
              "    .dataframe tbody tr th {\n",
              "        vertical-align: top;\n",
              "    }\n",
              "\n",
              "    .dataframe thead th {\n",
              "        text-align: right;\n",
              "    }\n",
              "</style>\n",
              "<table border=\"1\" class=\"dataframe\">\n",
              "  <thead>\n",
              "    <tr style=\"text-align: right;\">\n",
              "      <th></th>\n",
              "      <th>0</th>\n",
              "      <th>1</th>\n",
              "      <th>2</th>\n",
              "    </tr>\n",
              "  </thead>\n",
              "  <tbody>\n",
              "    <tr>\n",
              "      <th>0</th>\n",
              "      <td>0</td>\n",
              "      <td>1</td>\n",
              "      <td>2</td>\n",
              "    </tr>\n",
              "    <tr>\n",
              "      <th>1</th>\n",
              "      <td>3</td>\n",
              "      <td>4</td>\n",
              "      <td>5</td>\n",
              "    </tr>\n",
              "    <tr>\n",
              "      <th>2</th>\n",
              "      <td>6</td>\n",
              "      <td>7</td>\n",
              "      <td>8</td>\n",
              "    </tr>\n",
              "    <tr>\n",
              "      <th>3</th>\n",
              "      <td>9</td>\n",
              "      <td>10</td>\n",
              "      <td>11</td>\n",
              "    </tr>\n",
              "    <tr>\n",
              "      <th>4</th>\n",
              "      <td>12</td>\n",
              "      <td>13</td>\n",
              "      <td>14</td>\n",
              "    </tr>\n",
              "    <tr>\n",
              "      <th>5</th>\n",
              "      <td>0</td>\n",
              "      <td>1</td>\n",
              "      <td>4</td>\n",
              "    </tr>\n",
              "    <tr>\n",
              "      <th>6</th>\n",
              "      <td>9</td>\n",
              "      <td>16</td>\n",
              "      <td>25</td>\n",
              "    </tr>\n",
              "    <tr>\n",
              "      <th>7</th>\n",
              "      <td>36</td>\n",
              "      <td>49</td>\n",
              "      <td>64</td>\n",
              "    </tr>\n",
              "  </tbody>\n",
              "</table>\n",
              "</div>"
            ],
            "text/plain": [
              "    0   1   2\n",
              "0   0   1   2\n",
              "1   3   4   5\n",
              "2   6   7   8\n",
              "3   9  10  11\n",
              "4  12  13  14\n",
              "5   0   1   4\n",
              "6   9  16  25\n",
              "7  36  49  64"
            ]
          },
          "metadata": {},
          "execution_count": 225
        }
      ]
    },
    {
      "cell_type": "code",
      "metadata": {
        "id": "Wmkh-Wjjq5rc"
      },
      "source": [
        "df1 = pd.DataFrame({'id':[1,2,3],\n",
        " 'cor':['branco','preto','verde']})\n",
        "df2 = pd.DataFrame({'times':['time1','time2','time3','time4','time5'],\n",
        " 'id_cor':[1,1,2,3,2]})"
      ],
      "execution_count": null,
      "outputs": []
    },
    {
      "cell_type": "code",
      "metadata": {
        "colab": {
          "base_uri": "https://localhost:8080/",
          "height": 143
        },
        "id": "T6HH9n6ZuHY4",
        "outputId": "2d7d6925-bc62-4c8a-ed69-e202878c7442"
      },
      "source": [
        "df1"
      ],
      "execution_count": null,
      "outputs": [
        {
          "output_type": "execute_result",
          "data": {
            "text/html": [
              "<div>\n",
              "<style scoped>\n",
              "    .dataframe tbody tr th:only-of-type {\n",
              "        vertical-align: middle;\n",
              "    }\n",
              "\n",
              "    .dataframe tbody tr th {\n",
              "        vertical-align: top;\n",
              "    }\n",
              "\n",
              "    .dataframe thead th {\n",
              "        text-align: right;\n",
              "    }\n",
              "</style>\n",
              "<table border=\"1\" class=\"dataframe\">\n",
              "  <thead>\n",
              "    <tr style=\"text-align: right;\">\n",
              "      <th></th>\n",
              "      <th>id</th>\n",
              "      <th>cor</th>\n",
              "    </tr>\n",
              "  </thead>\n",
              "  <tbody>\n",
              "    <tr>\n",
              "      <th>0</th>\n",
              "      <td>1</td>\n",
              "      <td>branco</td>\n",
              "    </tr>\n",
              "    <tr>\n",
              "      <th>1</th>\n",
              "      <td>2</td>\n",
              "      <td>preto</td>\n",
              "    </tr>\n",
              "    <tr>\n",
              "      <th>2</th>\n",
              "      <td>3</td>\n",
              "      <td>verde</td>\n",
              "    </tr>\n",
              "  </tbody>\n",
              "</table>\n",
              "</div>"
            ],
            "text/plain": [
              "   id     cor\n",
              "0   1  branco\n",
              "1   2   preto\n",
              "2   3   verde"
            ]
          },
          "metadata": {},
          "execution_count": 167
        }
      ]
    },
    {
      "cell_type": "code",
      "metadata": {
        "colab": {
          "base_uri": "https://localhost:8080/",
          "height": 205
        },
        "id": "hJWnIm5tuIQ4",
        "outputId": "3569e896-ab30-49d2-9341-19f1b38f9023"
      },
      "source": [
        "df2"
      ],
      "execution_count": null,
      "outputs": [
        {
          "output_type": "execute_result",
          "data": {
            "text/html": [
              "<div>\n",
              "<style scoped>\n",
              "    .dataframe tbody tr th:only-of-type {\n",
              "        vertical-align: middle;\n",
              "    }\n",
              "\n",
              "    .dataframe tbody tr th {\n",
              "        vertical-align: top;\n",
              "    }\n",
              "\n",
              "    .dataframe thead th {\n",
              "        text-align: right;\n",
              "    }\n",
              "</style>\n",
              "<table border=\"1\" class=\"dataframe\">\n",
              "  <thead>\n",
              "    <tr style=\"text-align: right;\">\n",
              "      <th></th>\n",
              "      <th>times</th>\n",
              "      <th>id_cor</th>\n",
              "    </tr>\n",
              "  </thead>\n",
              "  <tbody>\n",
              "    <tr>\n",
              "      <th>0</th>\n",
              "      <td>time1</td>\n",
              "      <td>1</td>\n",
              "    </tr>\n",
              "    <tr>\n",
              "      <th>1</th>\n",
              "      <td>time2</td>\n",
              "      <td>1</td>\n",
              "    </tr>\n",
              "    <tr>\n",
              "      <th>2</th>\n",
              "      <td>time3</td>\n",
              "      <td>2</td>\n",
              "    </tr>\n",
              "    <tr>\n",
              "      <th>3</th>\n",
              "      <td>time4</td>\n",
              "      <td>3</td>\n",
              "    </tr>\n",
              "    <tr>\n",
              "      <th>4</th>\n",
              "      <td>time5</td>\n",
              "      <td>2</td>\n",
              "    </tr>\n",
              "  </tbody>\n",
              "</table>\n",
              "</div>"
            ],
            "text/plain": [
              "   times  id_cor\n",
              "0  time1       1\n",
              "1  time2       1\n",
              "2  time3       2\n",
              "3  time4       3\n",
              "4  time5       2"
            ]
          },
          "metadata": {},
          "execution_count": 168
        }
      ]
    },
    {
      "cell_type": "code",
      "metadata": {
        "colab": {
          "base_uri": "https://localhost:8080/",
          "height": 203
        },
        "id": "ie38fKtMuJaZ",
        "outputId": "004c9770-5ed3-4177-b51f-3749e2ab27cf"
      },
      "source": [
        "#left_on e right_on são pra dizer que são os mesmos tipos de dados c nomes diferentes\n",
        "pd.merge(df1,df2,left_on='id',right_on='id_cor')"
      ],
      "execution_count": null,
      "outputs": [
        {
          "output_type": "execute_result",
          "data": {
            "text/html": [
              "<div>\n",
              "<style scoped>\n",
              "    .dataframe tbody tr th:only-of-type {\n",
              "        vertical-align: middle;\n",
              "    }\n",
              "\n",
              "    .dataframe tbody tr th {\n",
              "        vertical-align: top;\n",
              "    }\n",
              "\n",
              "    .dataframe thead th {\n",
              "        text-align: right;\n",
              "    }\n",
              "</style>\n",
              "<table border=\"1\" class=\"dataframe\">\n",
              "  <thead>\n",
              "    <tr style=\"text-align: right;\">\n",
              "      <th></th>\n",
              "      <th>id</th>\n",
              "      <th>cor</th>\n",
              "      <th>times</th>\n",
              "      <th>id_cor</th>\n",
              "    </tr>\n",
              "  </thead>\n",
              "  <tbody>\n",
              "    <tr>\n",
              "      <th>0</th>\n",
              "      <td>1</td>\n",
              "      <td>branco</td>\n",
              "      <td>time1</td>\n",
              "      <td>1</td>\n",
              "    </tr>\n",
              "    <tr>\n",
              "      <th>1</th>\n",
              "      <td>1</td>\n",
              "      <td>branco</td>\n",
              "      <td>time2</td>\n",
              "      <td>1</td>\n",
              "    </tr>\n",
              "    <tr>\n",
              "      <th>2</th>\n",
              "      <td>2</td>\n",
              "      <td>preto</td>\n",
              "      <td>time3</td>\n",
              "      <td>2</td>\n",
              "    </tr>\n",
              "    <tr>\n",
              "      <th>3</th>\n",
              "      <td>2</td>\n",
              "      <td>preto</td>\n",
              "      <td>time5</td>\n",
              "      <td>2</td>\n",
              "    </tr>\n",
              "    <tr>\n",
              "      <th>4</th>\n",
              "      <td>3</td>\n",
              "      <td>verde</td>\n",
              "      <td>time4</td>\n",
              "      <td>3</td>\n",
              "    </tr>\n",
              "  </tbody>\n",
              "</table>\n",
              "</div>"
            ],
            "text/plain": [
              "   id     cor  times  id_cor\n",
              "0   1  branco  time1       1\n",
              "1   1  branco  time2       1\n",
              "2   2   preto  time3       2\n",
              "3   2   preto  time5       2\n",
              "4   3   verde  time4       3"
            ]
          },
          "metadata": {},
          "execution_count": 228
        }
      ]
    },
    {
      "cell_type": "markdown",
      "metadata": {
        "id": "Nz2n3C1uundV"
      },
      "source": [
        "##***Índices booleanos***"
      ]
    },
    {
      "cell_type": "markdown",
      "metadata": {
        "id": "0EyxhdAJusuN"
      },
      "source": [
        "Para isso, usaremos os dados dos jogadores da NBA!"
      ]
    },
    {
      "cell_type": "code",
      "metadata": {
        "colab": {
          "base_uri": "https://localhost:8080/"
        },
        "id": "lD5C-p1Ku_oZ",
        "outputId": "04560069-5b04-43e4-d5b9-b45aca38be6b"
      },
      "source": [
        "df = pd.read_csv('/content/Players.csv')\n",
        "From_California = df['birth_state'] == 'California'\n",
        "From_California.value_counts()"
      ],
      "execution_count": 7,
      "outputs": [
        {
          "output_type": "execute_result",
          "data": {
            "text/plain": [
              "False    3578\n",
              "True      344\n",
              "Name: birth_state, dtype: int64"
            ]
          },
          "metadata": {},
          "execution_count": 7
        }
      ]
    },
    {
      "cell_type": "markdown",
      "metadata": {
        "id": "QI7joSvyvSGa"
      },
      "source": [
        "Pegar todos os jogadores que nasceram depois de 1970:"
      ]
    },
    {
      "cell_type": "code",
      "metadata": {
        "colab": {
          "base_uri": "https://localhost:8080/",
          "height": 786
        },
        "id": "-E2DbG3_vWO2",
        "outputId": "c6c2db88-3f4d-41ec-fb6e-c0578e126bbe"
      },
      "source": [
        "after_1970 = df['born'] > 1970\n",
        "df[after_1970]"
      ],
      "execution_count": 6,
      "outputs": [
        {
          "output_type": "execute_result",
          "data": {
            "text/html": [
              "<div>\n",
              "<style scoped>\n",
              "    .dataframe tbody tr th:only-of-type {\n",
              "        vertical-align: middle;\n",
              "    }\n",
              "\n",
              "    .dataframe tbody tr th {\n",
              "        vertical-align: top;\n",
              "    }\n",
              "\n",
              "    .dataframe thead th {\n",
              "        text-align: right;\n",
              "    }\n",
              "</style>\n",
              "<table border=\"1\" class=\"dataframe\">\n",
              "  <thead>\n",
              "    <tr style=\"text-align: right;\">\n",
              "      <th></th>\n",
              "      <th>Unnamed: 0</th>\n",
              "      <th>Player</th>\n",
              "      <th>height</th>\n",
              "      <th>weight</th>\n",
              "      <th>collage</th>\n",
              "      <th>born</th>\n",
              "      <th>birth_city</th>\n",
              "      <th>birth_state</th>\n",
              "    </tr>\n",
              "  </thead>\n",
              "  <tbody>\n",
              "    <tr>\n",
              "      <th>2217</th>\n",
              "      <td>2217</td>\n",
              "      <td>Harold Miner</td>\n",
              "      <td>196.0</td>\n",
              "      <td>95.0</td>\n",
              "      <td>University of Southern California</td>\n",
              "      <td>1971.0</td>\n",
              "      <td>Inglewood</td>\n",
              "      <td>California</td>\n",
              "    </tr>\n",
              "    <tr>\n",
              "      <th>2220</th>\n",
              "      <td>2220</td>\n",
              "      <td>Tracy Murray</td>\n",
              "      <td>201.0</td>\n",
              "      <td>102.0</td>\n",
              "      <td>University of California, Los Angeles</td>\n",
              "      <td>1971.0</td>\n",
              "      <td>Los Angeles</td>\n",
              "      <td>California</td>\n",
              "    </tr>\n",
              "    <tr>\n",
              "      <th>2222</th>\n",
              "      <td>2222</td>\n",
              "      <td>Shaquille O'Neal*</td>\n",
              "      <td>216.0</td>\n",
              "      <td>147.0</td>\n",
              "      <td>Louisiana State University</td>\n",
              "      <td>1972.0</td>\n",
              "      <td>Newark</td>\n",
              "      <td>New Jersey</td>\n",
              "    </tr>\n",
              "    <tr>\n",
              "      <th>2246</th>\n",
              "      <td>2246</td>\n",
              "      <td>Vin Baker</td>\n",
              "      <td>211.0</td>\n",
              "      <td>105.0</td>\n",
              "      <td>University of Hartford</td>\n",
              "      <td>1971.0</td>\n",
              "      <td>Lake Wales</td>\n",
              "      <td>Florida</td>\n",
              "    </tr>\n",
              "    <tr>\n",
              "      <th>2248</th>\n",
              "      <td>2248</td>\n",
              "      <td>Shawn Bradley</td>\n",
              "      <td>229.0</td>\n",
              "      <td>106.0</td>\n",
              "      <td>Brigham Young University</td>\n",
              "      <td>1972.0</td>\n",
              "      <td>Landstuhl</td>\n",
              "      <td>Germany</td>\n",
              "    </tr>\n",
              "    <tr>\n",
              "      <th>...</th>\n",
              "      <td>...</td>\n",
              "      <td>...</td>\n",
              "      <td>...</td>\n",
              "      <td>...</td>\n",
              "      <td>...</td>\n",
              "      <td>...</td>\n",
              "      <td>...</td>\n",
              "      <td>...</td>\n",
              "    </tr>\n",
              "    <tr>\n",
              "      <th>3916</th>\n",
              "      <td>3916</td>\n",
              "      <td>Isaiah Whitehead</td>\n",
              "      <td>193.0</td>\n",
              "      <td>96.0</td>\n",
              "      <td>Seton Hall University</td>\n",
              "      <td>1995.0</td>\n",
              "      <td>Brooklyn</td>\n",
              "      <td>New York</td>\n",
              "    </tr>\n",
              "    <tr>\n",
              "      <th>3918</th>\n",
              "      <td>3918</td>\n",
              "      <td>Kyle Wiltjer</td>\n",
              "      <td>208.0</td>\n",
              "      <td>108.0</td>\n",
              "      <td>Gonzaga University</td>\n",
              "      <td>1992.0</td>\n",
              "      <td>Portland</td>\n",
              "      <td>Oregon</td>\n",
              "    </tr>\n",
              "    <tr>\n",
              "      <th>3919</th>\n",
              "      <td>3919</td>\n",
              "      <td>Stephen Zimmerman</td>\n",
              "      <td>213.0</td>\n",
              "      <td>108.0</td>\n",
              "      <td>University of Nevada, Las Vegas</td>\n",
              "      <td>1996.0</td>\n",
              "      <td>Hendersonville</td>\n",
              "      <td>Tennessee</td>\n",
              "    </tr>\n",
              "    <tr>\n",
              "      <th>3920</th>\n",
              "      <td>3920</td>\n",
              "      <td>Paul Zipser</td>\n",
              "      <td>203.0</td>\n",
              "      <td>97.0</td>\n",
              "      <td>NaN</td>\n",
              "      <td>1994.0</td>\n",
              "      <td>Heidelberg</td>\n",
              "      <td>Germany</td>\n",
              "    </tr>\n",
              "    <tr>\n",
              "      <th>3921</th>\n",
              "      <td>3921</td>\n",
              "      <td>Ivica Zubac</td>\n",
              "      <td>216.0</td>\n",
              "      <td>120.0</td>\n",
              "      <td>NaN</td>\n",
              "      <td>1997.0</td>\n",
              "      <td>Mostar</td>\n",
              "      <td>Bosnia and Herzegovina</td>\n",
              "    </tr>\n",
              "  </tbody>\n",
              "</table>\n",
              "<p>1487 rows × 8 columns</p>\n",
              "</div>"
            ],
            "text/plain": [
              "      Unnamed: 0             Player  ...      birth_city             birth_state\n",
              "2217        2217       Harold Miner  ...       Inglewood              California\n",
              "2220        2220       Tracy Murray  ...     Los Angeles              California\n",
              "2222        2222  Shaquille O'Neal*  ...          Newark              New Jersey\n",
              "2246        2246          Vin Baker  ...      Lake Wales                 Florida\n",
              "2248        2248      Shawn Bradley  ...       Landstuhl                 Germany\n",
              "...          ...                ...  ...             ...                     ...\n",
              "3916        3916   Isaiah Whitehead  ...        Brooklyn                New York\n",
              "3918        3918       Kyle Wiltjer  ...        Portland                  Oregon\n",
              "3919        3919  Stephen Zimmerman  ...  Hendersonville               Tennessee\n",
              "3920        3920        Paul Zipser  ...      Heidelberg                 Germany\n",
              "3921        3921        Ivica Zubac  ...          Mostar  Bosnia and Herzegovina\n",
              "\n",
              "[1487 rows x 8 columns]"
            ]
          },
          "metadata": {},
          "execution_count": 6
        }
      ]
    },
    {
      "cell_type": "markdown",
      "metadata": {
        "id": "mp6UaQXW8rf8"
      },
      "source": [
        "##***Visualização de gráficos com Pandas***"
      ]
    },
    {
      "cell_type": "markdown",
      "metadata": {
        "id": "9pmkWtu48vzb"
      },
      "source": [
        "O pacote pandas já tem o plot. Então, não precisaremos importar o Matplotlib.\n",
        "\n",
        "Nesta seção veremos:\n",
        "- df.plot(x='x',y='y')\n",
        "- df.plot.bar(x='x',y='y')\n",
        "- df.plot.pie(subplots=True ou y='y')\n",
        "- df.plot.scatter(x='x',y='y')\n",
        "\n",
        "Acesse: https://pandas.pydata.org/docs/user_guide/visualization.html#visualization-hist\n",
        "(https://pandas.pydata.org/docs/user_guide/visualization.html#visualization-hist)"
      ]
    },
    {
      "cell_type": "markdown",
      "metadata": {
        "id": "L3yVW80X87wh"
      },
      "source": [
        "###***Gráfico básico***"
      ]
    },
    {
      "cell_type": "code",
      "metadata": {
        "colab": {
          "base_uri": "https://localhost:8080/"
        },
        "id": "akbqfF2v8trh",
        "outputId": "a864b1a1-519d-4650-dc52-c7c77317f8bc"
      },
      "source": [
        "arr = np.arange(10)\n",
        "arr\n",
        "serie_1 = pd.Series(arr.cumsum()) #criando uma serie com soma acumulada\n",
        "serie_1"
      ],
      "execution_count": null,
      "outputs": [
        {
          "output_type": "execute_result",
          "data": {
            "text/plain": [
              "0     0\n",
              "1     1\n",
              "2     3\n",
              "3     6\n",
              "4    10\n",
              "5    15\n",
              "6    21\n",
              "7    28\n",
              "8    36\n",
              "9    45\n",
              "dtype: int64"
            ]
          },
          "metadata": {},
          "execution_count": 172
        }
      ]
    },
    {
      "cell_type": "code",
      "metadata": {
        "colab": {
          "base_uri": "https://localhost:8080/",
          "height": 283
        },
        "id": "ma0POEh89EwN",
        "outputId": "c6fe92ec-def3-4b6d-9c06-01e4eef33d24"
      },
      "source": [
        "serie_1.plot()"
      ],
      "execution_count": null,
      "outputs": [
        {
          "output_type": "execute_result",
          "data": {
            "text/plain": [
              "<matplotlib.axes._subplots.AxesSubplot at 0x7fd2d3bd5d10>"
            ]
          },
          "metadata": {},
          "execution_count": 173
        },
        {
          "output_type": "display_data",
          "data": {
            "image/png": "[encoded data removed]",
            "text/plain": [
              "<Figure size 432x288 with 1 Axes>"
            ]
          },
          "metadata": {
            "needs_background": "light"
          }
        }
      ]
    },
    {
      "cell_type": "code",
      "metadata": {
        "colab": {
          "base_uri": "https://localhost:8080/",
          "height": 300
        },
        "id": "Fp5Q-pIc9Rym",
        "outputId": "6d6e1b3e-f031-441e-c21b-865cc1a027cc"
      },
      "source": [
        "df1 = pd.DataFrame({'a':np.arange(50)**2,\n",
        "                    'b':np.arange(50)*3,\n",
        "                    'c':np.arange(50)*5})\n",
        "\n",
        "df1.plot(x='c',y=['a','b']) #escolhendo o C pra ser o X e o A e B para o Y"
      ],
      "execution_count": null,
      "outputs": [
        {
          "output_type": "execute_result",
          "data": {
            "text/plain": [
              "<matplotlib.axes._subplots.AxesSubplot at 0x7fd2d2d2aed0>"
            ]
          },
          "metadata": {},
          "execution_count": 174
        },
        {
          "output_type": "display_data",
          "data": {
            "image/png": "[encoded data removed]",
            "text/plain": [
              "<Figure size 432x288 with 1 Axes>"
            ]
          },
          "metadata": {
            "needs_background": "light"
          }
        }
      ]
    },
    {
      "cell_type": "markdown",
      "metadata": {
        "id": "3WJr_wA193Ks"
      },
      "source": [
        "###***Gráfico de barras***"
      ]
    },
    {
      "cell_type": "markdown",
      "metadata": {
        "id": "FK_cZupo_cJB"
      },
      "source": [
        "Parâmetros: \n",
        "- x: rótulo ou posição, opcional\n",
        "\n",
        "- y: rótulo ou posição, opcional\n",
        "\n",
        "- color: str, array-like, ou dicct, opcional"
      ]
    },
    {
      "cell_type": "code",
      "metadata": {
        "colab": {
          "base_uri": "https://localhost:8080/",
          "height": 279
        },
        "id": "hDXgC0at9-GO",
        "outputId": "c6d56d59-d116-42c3-ab79-7b45e7bcbb78"
      },
      "source": [
        "df = pd.DataFrame({'lab':['A', 'B', 'C'], 'val':[10, 30, 20]})\n",
        "ax = df.plot.bar(x='lab', y='val', rot=0)"
      ],
      "execution_count": null,
      "outputs": [
        {
          "output_type": "display_data",
          "data": {
            "image/png": "[encoded data removed]",
            "text/plain": [
              "<Figure size 432x288 with 1 Axes>"
            ]
          },
          "metadata": {
            "needs_background": "light"
          }
        }
      ]
    },
    {
      "cell_type": "markdown",
      "metadata": {
        "id": "kvQX52eC_5lh"
      },
      "source": [
        "Plote um dataframe inteiro para um gráfico de barras. Cada coluna é atribuída uma cor distinta, e cada linha é aninhada em um grupo ao longo do eixo horizontal.\n",
        "\n"
      ]
    },
    {
      "cell_type": "code",
      "metadata": {
        "colab": {
          "base_uri": "https://localhost:8080/",
          "height": 265
        },
        "id": "bupW7RGX_5-G",
        "outputId": "7b4d684a-4680-4d1b-affa-3770863fa5e2"
      },
      "source": [
        "speed = [0.1, 17.5, 40, 48, 52, 69, 88]\n",
        "lifespan = [2, 8, 70, 1.5, 25, 12, 28]\n",
        "index = ['snail', 'pig', 'elephant',\n",
        "         'rabbit', 'giraffe', 'coyote', 'horse']\n",
        "\n",
        "df = pd.DataFrame({'speed': speed,\n",
        "                   'lifespan': lifespan}, index=index)\n",
        "\n",
        "ax = df.plot.bar(rot=0)"
      ],
      "execution_count": null,
      "outputs": [
        {
          "output_type": "display_data",
          "data": {
            "image/png": "[encoded data removed]",
            "text/plain": [
              "<Figure size 432x288 with 1 Axes>"
            ]
          },
          "metadata": {
            "needs_background": "light"
          }
        }
      ]
    },
    {
      "cell_type": "markdown",
      "metadata": {
        "id": "IAEH8voOAUID"
      },
      "source": [
        "###***Gráfico de pizza***"
      ]
    },
    {
      "cell_type": "markdown",
      "metadata": {
        "id": "u-qyXlVQAV80"
      },
      "source": [
        "No exemplo abaixo temos um DataFrame com as informações sobre a massa e o raio do planeta. Passamos a coluna 'massa' para a função torta para obter um enredo de torta.\n",
        "\n"
      ]
    },
    {
      "cell_type": "code",
      "metadata": {
        "colab": {
          "base_uri": "https://localhost:8080/",
          "height": 303
        },
        "id": "JAUPTfn1AZdB",
        "outputId": "eac6a867-7fa8-42d1-92bc-57a79503c409"
      },
      "source": [
        "df = pd.DataFrame({'mass': [0.330, 4.87 , 5.97],\n",
        "                   'radius': [2439.7, 6051.8, 6378.1]},\n",
        "                  index=['Mercury', 'Venus', 'Earth'])\n",
        "plot = df.plot.pie(y='mass', figsize=(5, 5))"
      ],
      "execution_count": null,
      "outputs": [
        {
          "output_type": "display_data",
          "data": {
            "image/png": "[encoded data removed]",
            "text/plain": [
              "<Figure size 360x360 with 1 Axes>"
            ]
          },
          "metadata": {}
        }
      ]
    },
    {
      "cell_type": "markdown",
      "metadata": {
        "id": "mBMerY5kA0Xy"
      },
      "source": [
        "###***Scatter***"
      ]
    },
    {
      "cell_type": "markdown",
      "metadata": {
        "id": "0hvNMePhA-P2"
      },
      "source": [
        "Cria um gráfico de dispersão com tamanho e cor de ponto de marcador variados.\n",
        "\n",
        "É útil para ver correlações complexas entre duas variáveis. Os pontos podem ser, por exemplo, coordenadas 2D naturais como longitude e latitude em um mapa ou, em geral, qualquer par de métricas que possam ser plotadas umas contra as outras.\n",
        "\n",
        "> Sintaxe: DataFrame.plot.scatter(x, y, s=None, c=None, **kwargs), onde:     \n",
        "\n",
        "s = O tamanho de cada ponto;\n",
        "\n",
        "c= A cor de cada ponto;\n",
        "\n",
        "kwargs = Argumentos de palavra-chave para passar para DataFrame.plot ()"
      ]
    },
    {
      "cell_type": "markdown",
      "metadata": {
        "id": "zKrTa0N_BrCb"
      },
      "source": [
        "Vamos ver como desenhar um plot de dispersão usando coordenadas dos valores nas colunas de um DataFrame:"
      ]
    },
    {
      "cell_type": "code",
      "metadata": {
        "colab": {
          "base_uri": "https://localhost:8080/",
          "height": 203
        },
        "id": "K5AO2yfyBByr",
        "outputId": "21bbb1df-7800-412f-8771-6f623570fd0d"
      },
      "source": [
        "file = '/content/Players.csv'\n",
        "df2 = pd.read_csv(file)\n",
        "df2.head()"
      ],
      "execution_count": null,
      "outputs": [
        {
          "output_type": "execute_result",
          "data": {
            "text/html": [
              "<div>\n",
              "<style scoped>\n",
              "    .dataframe tbody tr th:only-of-type {\n",
              "        vertical-align: middle;\n",
              "    }\n",
              "\n",
              "    .dataframe tbody tr th {\n",
              "        vertical-align: top;\n",
              "    }\n",
              "\n",
              "    .dataframe thead th {\n",
              "        text-align: right;\n",
              "    }\n",
              "</style>\n",
              "<table border=\"1\" class=\"dataframe\">\n",
              "  <thead>\n",
              "    <tr style=\"text-align: right;\">\n",
              "      <th></th>\n",
              "      <th>Unnamed: 0</th>\n",
              "      <th>Player</th>\n",
              "      <th>height</th>\n",
              "      <th>weight</th>\n",
              "      <th>collage</th>\n",
              "      <th>born</th>\n",
              "      <th>birth_city</th>\n",
              "      <th>birth_state</th>\n",
              "    </tr>\n",
              "  </thead>\n",
              "  <tbody>\n",
              "    <tr>\n",
              "      <th>0</th>\n",
              "      <td>0</td>\n",
              "      <td>Curly Armstrong</td>\n",
              "      <td>180.0</td>\n",
              "      <td>77.0</td>\n",
              "      <td>Indiana University</td>\n",
              "      <td>1918.0</td>\n",
              "      <td>NaN</td>\n",
              "      <td>NaN</td>\n",
              "    </tr>\n",
              "    <tr>\n",
              "      <th>1</th>\n",
              "      <td>1</td>\n",
              "      <td>Cliff Barker</td>\n",
              "      <td>188.0</td>\n",
              "      <td>83.0</td>\n",
              "      <td>University of Kentucky</td>\n",
              "      <td>1921.0</td>\n",
              "      <td>Yorktown</td>\n",
              "      <td>Indiana</td>\n",
              "    </tr>\n",
              "    <tr>\n",
              "      <th>2</th>\n",
              "      <td>2</td>\n",
              "      <td>Leo Barnhorst</td>\n",
              "      <td>193.0</td>\n",
              "      <td>86.0</td>\n",
              "      <td>University of Notre Dame</td>\n",
              "      <td>1924.0</td>\n",
              "      <td>NaN</td>\n",
              "      <td>NaN</td>\n",
              "    </tr>\n",
              "    <tr>\n",
              "      <th>3</th>\n",
              "      <td>3</td>\n",
              "      <td>Ed Bartels</td>\n",
              "      <td>196.0</td>\n",
              "      <td>88.0</td>\n",
              "      <td>North Carolina State University</td>\n",
              "      <td>1925.0</td>\n",
              "      <td>NaN</td>\n",
              "      <td>NaN</td>\n",
              "    </tr>\n",
              "    <tr>\n",
              "      <th>4</th>\n",
              "      <td>4</td>\n",
              "      <td>Ralph Beard</td>\n",
              "      <td>178.0</td>\n",
              "      <td>79.0</td>\n",
              "      <td>University of Kentucky</td>\n",
              "      <td>1927.0</td>\n",
              "      <td>Hardinsburg</td>\n",
              "      <td>Kentucky</td>\n",
              "    </tr>\n",
              "  </tbody>\n",
              "</table>\n",
              "</div>"
            ],
            "text/plain": [
              "   Unnamed: 0           Player  height  ...    born   birth_city  birth_state\n",
              "0           0  Curly Armstrong   180.0  ...  1918.0          NaN          NaN\n",
              "1           1     Cliff Barker   188.0  ...  1921.0     Yorktown      Indiana\n",
              "2           2    Leo Barnhorst   193.0  ...  1924.0          NaN          NaN\n",
              "3           3       Ed Bartels   196.0  ...  1925.0          NaN          NaN\n",
              "4           4      Ralph Beard   178.0  ...  1927.0  Hardinsburg     Kentucky\n",
              "\n",
              "[5 rows x 8 columns]"
            ]
          },
          "metadata": {},
          "execution_count": 232
        }
      ]
    },
    {
      "cell_type": "markdown",
      "metadata": {
        "id": "rNumXf6eBtkF"
      },
      "source": [
        "Fazendo uma relação do peso e a altura:"
      ]
    },
    {
      "cell_type": "code",
      "metadata": {
        "colab": {
          "base_uri": "https://localhost:8080/",
          "height": 297
        },
        "id": "dYV-W_oaBvWI",
        "outputId": "ee0f6438-732a-4381-a94c-0893ed786037"
      },
      "source": [
        "df2.plot.scatter(x='weight',y='height')"
      ],
      "execution_count": null,
      "outputs": [
        {
          "output_type": "execute_result",
          "data": {
            "text/plain": [
              "<matplotlib.axes._subplots.AxesSubplot at 0x7fd2ca18ec50>"
            ]
          },
          "metadata": {},
          "execution_count": 179
        },
        {
          "output_type": "display_data",
          "data": {
            "image/png": "[encoded data removed]",
            "text/plain": [
              "<Figure size 432x288 with 1 Axes>"
            ]
          },
          "metadata": {
            "needs_background": "light"
          }
        }
      ]
    },
    {
      "cell_type": "markdown",
      "metadata": {
        "id": "HNW79bGFOLrT"
      },
      "source": [
        "##***Limpeza de dados***"
      ]
    },
    {
      "cell_type": "markdown",
      "metadata": {
        "id": "xQ_Pl196V9uQ"
      },
      "source": [
        "A limpeza de dados significa corrigir dados ruins no conjunto de dados.\n",
        "\n",
        "Dados ruins podem ser:\n",
        "\n",
        "- Células vazias\n",
        "- Dados em formato errado\n",
        "- Dados errados\n",
        "- Duplicatas"
      ]
    },
    {
      "cell_type": "markdown",
      "metadata": {
        "id": "Dgc9peoyOxKQ"
      },
      "source": [
        "Em nossos exemplos de limpeza, usaremos um arquivo CSV chamado 'dirtydata.csv'."
      ]
    },
    {
      "cell_type": "markdown",
      "metadata": {
        "id": "XaMrV58zOa4J"
      },
      "source": [
        "O conjunto de dados contém algumas células vazias (\"Data\" na linha 22 e \"Calorias\" na linha 18 e 28).\n",
        "\n",
        "O conjunto de dados contém formato errado (\"Data\" na linha 26).\n",
        "\n",
        "O conjunto de dados contém dados errados (\"Duração\" na linha 7).\n",
        "\n",
        "O conjunto de dados contém duplicatas (linha 11 e 12).\n",
        "\n"
      ]
    },
    {
      "cell_type": "code",
      "metadata": {
        "colab": {
          "base_uri": "https://localhost:8080/"
        },
        "id": "E4FQ1i1Me8H-",
        "outputId": "8e11e4dc-762f-4359-a523-c63f7355f31e"
      },
      "source": [
        "df = pd.read_csv('dirtydata.csv')\n",
        "print(df)"
      ],
      "execution_count": null,
      "outputs": [
        {
          "output_type": "stream",
          "name": "stdout",
          "text": [
            "    Duration          Date  Pulse  Maxpulse  Calories\n",
            "0         60  '2020/12/01'    110       130     409.1\n",
            "1         60  '2020/12/02'    117       145     479.0\n",
            "2         60  '2020/12/03'    103       135     340.0\n",
            "3         45  '2020/12/04'    109       175     282.4\n",
            "4         45  '2020/12/05'    117       148     406.0\n",
            "5         60  '2020/12/06'    102       127     300.0\n",
            "6         60  '2020/12/07'    110       136     374.0\n",
            "7        450  '2020/12/08'    104       134     253.3\n",
            "8         30  '2020/12/09'    109       133     195.1\n",
            "9         60  '2020/12/10'     98       124     269.0\n",
            "10        60  '2020/12/11'    103       147     329.3\n",
            "11        60  '2020/12/12'    100       120     250.7\n",
            "12        60  '2020/12/12'    100       120     250.7\n",
            "13        60  '2020/12/13'    106       128     345.3\n",
            "14        60  '2020/12/14'    104       132     379.3\n",
            "15        60  '2020/12/15'     98       123     275.0\n",
            "16        60  '2020/12/16'     98       120     215.2\n",
            "17        60  '2020/12/17'    100       120     300.0\n",
            "18        45  '2020/12/18'     90       112       NaN\n",
            "19        60  '2020/12/19'    103       123     323.0\n",
            "20        45  '2020/12/20'     97       125     243.0\n",
            "21        60  '2020/12/21'    108       131     364.2\n",
            "22        45           NaN    100       119     282.0\n",
            "23        60  '2020/12/23'    130       101     300.0\n",
            "24        45  '2020/12/24'    105       132     246.0\n",
            "25        60  '2020/12/25'    102       126     334.5\n",
            "26        60      20201226    100       120     250.0\n",
            "27        60  '2020/12/27'     92       118     241.0\n",
            "28        60  '2020/12/28'    103       132       NaN\n",
            "29        60  '2020/12/29'    100       132     280.0\n",
            "30        60  '2020/12/30'    102       129     380.3\n",
            "31        60  '2020/12/31'     92       115     243.0\n"
          ]
        }
      ]
    },
    {
      "cell_type": "code",
      "metadata": {
        "colab": {
          "base_uri": "https://localhost:8080/"
        },
        "id": "S52XQ6xpfBvC",
        "outputId": "da27fedb-c69f-435a-90a9-a87b9eed2bcd"
      },
      "source": [
        "df.info()"
      ],
      "execution_count": null,
      "outputs": [
        {
          "output_type": "stream",
          "name": "stdout",
          "text": [
            "<class 'pandas.core.frame.DataFrame'>\n",
            "RangeIndex: 32 entries, 0 to 31\n",
            "Data columns (total 5 columns):\n",
            " #   Column    Non-Null Count  Dtype  \n",
            "---  ------    --------------  -----  \n",
            " 0   Duration  32 non-null     int64  \n",
            " 1   Date      31 non-null     object \n",
            " 2   Pulse     32 non-null     int64  \n",
            " 3   Maxpulse  32 non-null     int64  \n",
            " 4   Calories  30 non-null     float64\n",
            "dtypes: float64(1), int64(3), object(1)\n",
            "memory usage: 1.4+ KB\n"
          ]
        }
      ]
    },
    {
      "cell_type": "markdown",
      "metadata": {
        "id": "VtXATkkwPOdb"
      },
      "source": [
        "###***Células Vazias:***\n"
      ]
    },
    {
      "cell_type": "markdown",
      "metadata": {
        "id": "JmneByN7WTiq"
      },
      "source": [
        "Células vazias podem potencialmente dar-lhe um resultado errado quando você analisa dados."
      ]
    },
    {
      "cell_type": "markdown",
      "metadata": {
        "id": "DsE6QPEdPUbL"
      },
      "source": [
        "####***Remover linhas:***"
      ]
    },
    {
      "cell_type": "markdown",
      "metadata": {
        "id": "X1O3rmK4a_cg"
      },
      "source": [
        "\n",
        "Uma maneira de lidar com células vazias é remover linhas que contêm células vazias.\n",
        "\n",
        "Isso geralmente é tranquilo, já que os conjuntos de dados podem ser muito grandes, e remover algumas linhas não terá um grande impacto no resultado."
      ]
    },
    {
      "cell_type": "code",
      "metadata": {
        "colab": {
          "base_uri": "https://localhost:8080/"
        },
        "id": "pj4Umn6XOUZc",
        "outputId": "c9c160f8-655f-4a88-b048-a3c94e505280"
      },
      "source": [
        "df = pd.read_csv('dirtydata.csv')\n",
        "#Retorna um novo Data Frame sem células vazias\n",
        "new_df = df.dropna()\n",
        "#As linhas 18, 22 e 28 vão ser removidas\n",
        "print(new_df.to_string())"
      ],
      "execution_count": null,
      "outputs": [
        {
          "output_type": "stream",
          "name": "stdout",
          "text": [
            "    Duration          Date  Pulse  Maxpulse  Calories\n",
            "0         60  '2020/12/01'    110       130     409.1\n",
            "1         60  '2020/12/02'    117       145     479.0\n",
            "2         60  '2020/12/03'    103       135     340.0\n",
            "3         45  '2020/12/04'    109       175     282.4\n",
            "4         45  '2020/12/05'    117       148     406.0\n",
            "5         60  '2020/12/06'    102       127     300.0\n",
            "6         60  '2020/12/07'    110       136     374.0\n",
            "7        450  '2020/12/08'    104       134     253.3\n",
            "8         30  '2020/12/09'    109       133     195.1\n",
            "9         60  '2020/12/10'     98       124     269.0\n",
            "10        60  '2020/12/11'    103       147     329.3\n",
            "11        60  '2020/12/12'    100       120     250.7\n",
            "12        60  '2020/12/12'    100       120     250.7\n",
            "13        60  '2020/12/13'    106       128     345.3\n",
            "14        60  '2020/12/14'    104       132     379.3\n",
            "15        60  '2020/12/15'     98       123     275.0\n",
            "16        60  '2020/12/16'     98       120     215.2\n",
            "17        60  '2020/12/17'    100       120     300.0\n",
            "19        60  '2020/12/19'    103       123     323.0\n",
            "20        45  '2020/12/20'     97       125     243.0\n",
            "21        60  '2020/12/21'    108       131     364.2\n",
            "23        60  '2020/12/23'    130       101     300.0\n",
            "24        45  '2020/12/24'    105       132     246.0\n",
            "25        60  '2020/12/25'    102       126     334.5\n",
            "26        60      20201226    100       120     250.0\n",
            "27        60  '2020/12/27'     92       118     241.0\n",
            "29        60  '2020/12/29'    100       132     280.0\n",
            "30        60  '2020/12/30'    102       129     380.3\n",
            "31        60  '2020/12/31'     92       115     243.0\n"
          ]
        }
      ]
    },
    {
      "cell_type": "markdown",
      "metadata": {
        "id": "shU-OnKqPlWy"
      },
      "source": [
        "Nota: Por padrão, o método `dropna()` retorna um novo DataFrame e não alterará o original.\n",
        "\n",
        "Se você quiser alterar o DataFrame original, use o argumento: `inplace = True`"
      ]
    },
    {
      "cell_type": "markdown",
      "metadata": {
        "id": "OQrv87sdOa9u"
      },
      "source": [
        "####***Substituir valores vazios***"
      ]
    },
    {
      "cell_type": "markdown",
      "metadata": {
        "id": "8-c46QF-bMOf"
      },
      "source": [
        "\n",
        "Outra maneira de lidar com células vazias é inserir um novo valor em vez disso.\n",
        "\n",
        "Dessa forma, você não precisa excluir linhas inteiras apenas por causa de algumas células vazias.\n",
        "\n",
        "O método `fillna()` nos permite substituir células vazias por um valor:"
      ]
    },
    {
      "cell_type": "code",
      "metadata": {
        "colab": {
          "base_uri": "https://localhost:8080/"
        },
        "id": "hZN--fQ2P726",
        "outputId": "6015f2ac-9751-4de2-9c76-fa2a5c8899aa"
      },
      "source": [
        "#Adiciona um valor onde estiver vazio\n",
        "df.fillna(130, inplace = True)\n",
        "print(df)"
      ],
      "execution_count": null,
      "outputs": [
        {
          "output_type": "stream",
          "name": "stdout",
          "text": [
            "    Duration          Date  Pulse  Maxpulse  Calories\n",
            "0         60  '2020/12/01'    110       130     409.1\n",
            "1         60  '2020/12/02'    117       145     479.0\n",
            "2         60  '2020/12/03'    103       135     340.0\n",
            "3         45  '2020/12/04'    109       175     282.4\n",
            "4         45  '2020/12/05'    117       148     406.0\n",
            "5         60  '2020/12/06'    102       127     300.0\n",
            "6         60  '2020/12/07'    110       136     374.0\n",
            "7        450  '2020/12/08'    104       134     253.3\n",
            "8         30  '2020/12/09'    109       133     195.1\n",
            "9         60  '2020/12/10'     98       124     269.0\n",
            "10        60  '2020/12/11'    103       147     329.3\n",
            "11        60  '2020/12/12'    100       120     250.7\n",
            "12        60  '2020/12/12'    100       120     250.7\n",
            "13        60  '2020/12/13'    106       128     345.3\n",
            "14        60  '2020/12/14'    104       132     379.3\n",
            "15        60  '2020/12/15'     98       123     275.0\n",
            "16        60  '2020/12/16'     98       120     215.2\n",
            "17        60  '2020/12/17'    100       120     300.0\n",
            "18        45  '2020/12/18'     90       112     130.0\n",
            "19        60  '2020/12/19'    103       123     323.0\n",
            "20        45  '2020/12/20'     97       125     243.0\n",
            "21        60  '2020/12/21'    108       131     364.2\n",
            "22        45           130    100       119     282.0\n",
            "23        60  '2020/12/23'    130       101     300.0\n",
            "24        45  '2020/12/24'    105       132     246.0\n",
            "25        60  '2020/12/25'    102       126     334.5\n",
            "26        60      20201226    100       120     250.0\n",
            "27        60  '2020/12/27'     92       118     241.0\n",
            "28        60  '2020/12/28'    103       132     130.0\n",
            "29        60  '2020/12/29'    100       132     280.0\n",
            "30        60  '2020/12/30'    102       129     380.3\n",
            "31        60  '2020/12/31'     92       115     243.0\n"
          ]
        }
      ]
    },
    {
      "cell_type": "markdown",
      "metadata": {
        "id": "39NxWgWEQOEE"
      },
      "source": [
        "####***Substituir somente para uma coluna especificada***\n",
        "O exemplo acima substitui todas as células vazias em todo o Data Frame.\n",
        "\n",
        "Para substituir apenas valores vazios por uma coluna, especifique o nome da coluna para o DataFrame:"
      ]
    },
    {
      "cell_type": "code",
      "metadata": {
        "colab": {
          "base_uri": "https://localhost:8080/"
        },
        "id": "oYjNyiX7QQYN",
        "outputId": "6d7c4673-be4c-43be-abac-2c43a7f4aecb"
      },
      "source": [
        "df = pd.read_csv('dirtydata.csv')\n",
        "\n",
        "df[\"Calories\"].fillna(130, inplace = True)\n",
        "print(df)"
      ],
      "execution_count": null,
      "outputs": [
        {
          "output_type": "stream",
          "name": "stdout",
          "text": [
            "    Duration          Date  Pulse  Maxpulse  Calories\n",
            "0         60  '2020/12/01'    110       130     409.1\n",
            "1         60  '2020/12/02'    117       145     479.0\n",
            "2         60  '2020/12/03'    103       135     340.0\n",
            "3         45  '2020/12/04'    109       175     282.4\n",
            "4         45  '2020/12/05'    117       148     406.0\n",
            "5         60  '2020/12/06'    102       127     300.0\n",
            "6         60  '2020/12/07'    110       136     374.0\n",
            "7        450  '2020/12/08'    104       134     253.3\n",
            "8         30  '2020/12/09'    109       133     195.1\n",
            "9         60  '2020/12/10'     98       124     269.0\n",
            "10        60  '2020/12/11'    103       147     329.3\n",
            "11        60  '2020/12/12'    100       120     250.7\n",
            "12        60  '2020/12/12'    100       120     250.7\n",
            "13        60  '2020/12/13'    106       128     345.3\n",
            "14        60  '2020/12/14'    104       132     379.3\n",
            "15        60  '2020/12/15'     98       123     275.0\n",
            "16        60  '2020/12/16'     98       120     215.2\n",
            "17        60  '2020/12/17'    100       120     300.0\n",
            "18        45  '2020/12/18'     90       112     130.0\n",
            "19        60  '2020/12/19'    103       123     323.0\n",
            "20        45  '2020/12/20'     97       125     243.0\n",
            "21        60  '2020/12/21'    108       131     364.2\n",
            "22        45           NaN    100       119     282.0\n",
            "23        60  '2020/12/23'    130       101     300.0\n",
            "24        45  '2020/12/24'    105       132     246.0\n",
            "25        60  '2020/12/25'    102       126     334.5\n",
            "26        60      20201226    100       120     250.0\n",
            "27        60  '2020/12/27'     92       118     241.0\n",
            "28        60  '2020/12/28'    103       132     130.0\n",
            "29        60  '2020/12/29'    100       132     280.0\n",
            "30        60  '2020/12/30'    102       129     380.3\n",
            "31        60  '2020/12/31'     92       115     243.0\n"
          ]
        }
      ]
    },
    {
      "cell_type": "markdown",
      "metadata": {
        "id": "9gqL3F6qQgMz"
      },
      "source": [
        "####***Substituir usando média, mediana ou modo***\n",
        "\n",
        "Uma maneira comum de substituir células vazias é calcular o valor médio, médio ou de modo da coluna.\n",
        "\n",
        "Pandas usa os métodos e para calcular os respectivos valores para uma coluna especificada: `mean()` `median()` `mode()`"
      ]
    },
    {
      "cell_type": "code",
      "metadata": {
        "colab": {
          "base_uri": "https://localhost:8080/"
        },
        "id": "dpzY4JrQQrEA",
        "outputId": "03774166-d601-46fd-c6f2-1c5f29d5544f"
      },
      "source": [
        "df = pd.read_csv('dirtydata.csv')\n",
        "\n",
        "x = df[\"Calories\"].mean()\n",
        "\n",
        "df[\"Calories\"].fillna(x, inplace = True)\n",
        "#Nas linhas 18 e 28, os valores vazios de 'Calorias' foram substituídos p 304,68\n",
        "print(df)"
      ],
      "execution_count": null,
      "outputs": [
        {
          "output_type": "stream",
          "name": "stdout",
          "text": [
            "    Duration          Date  Pulse  Maxpulse  Calories\n",
            "0         60  '2020/12/01'    110       130    409.10\n",
            "1         60  '2020/12/02'    117       145    479.00\n",
            "2         60  '2020/12/03'    103       135    340.00\n",
            "3         45  '2020/12/04'    109       175    282.40\n",
            "4         45  '2020/12/05'    117       148    406.00\n",
            "5         60  '2020/12/06'    102       127    300.00\n",
            "6         60  '2020/12/07'    110       136    374.00\n",
            "7        450  '2020/12/08'    104       134    253.30\n",
            "8         30  '2020/12/09'    109       133    195.10\n",
            "9         60  '2020/12/10'     98       124    269.00\n",
            "10        60  '2020/12/11'    103       147    329.30\n",
            "11        60  '2020/12/12'    100       120    250.70\n",
            "12        60  '2020/12/12'    100       120    250.70\n",
            "13        60  '2020/12/13'    106       128    345.30\n",
            "14        60  '2020/12/14'    104       132    379.30\n",
            "15        60  '2020/12/15'     98       123    275.00\n",
            "16        60  '2020/12/16'     98       120    215.20\n",
            "17        60  '2020/12/17'    100       120    300.00\n",
            "18        45  '2020/12/18'     90       112    304.68\n",
            "19        60  '2020/12/19'    103       123    323.00\n",
            "20        45  '2020/12/20'     97       125    243.00\n",
            "21        60  '2020/12/21'    108       131    364.20\n",
            "22        45           NaN    100       119    282.00\n",
            "23        60  '2020/12/23'    130       101    300.00\n",
            "24        45  '2020/12/24'    105       132    246.00\n",
            "25        60  '2020/12/25'    102       126    334.50\n",
            "26        60      20201226    100       120    250.00\n",
            "27        60  '2020/12/27'     92       118    241.00\n",
            "28        60  '2020/12/28'    103       132    304.68\n",
            "29        60  '2020/12/29'    100       132    280.00\n",
            "30        60  '2020/12/30'    102       129    380.30\n",
            "31        60  '2020/12/31'     92       115    243.00\n"
          ]
        }
      ]
    },
    {
      "cell_type": "markdown",
      "metadata": {
        "id": "K3OsK0zTSQPY"
      },
      "source": [
        "###***Dados de Formato Errado***\n"
      ]
    },
    {
      "cell_type": "markdown",
      "metadata": {
        "id": "2ssi4U0IWQ1j"
      },
      "source": [
        "Células com dados de formato errado podem dificultar, ou até mesmo impossível, analisar dados.\n",
        "\n",
        "Para corrigi-lo, você tem duas opções: remover as linhas ou converter todas as células das colunas no mesmo formato."
      ]
    },
    {
      "cell_type": "code",
      "metadata": {
        "colab": {
          "base_uri": "https://localhost:8080/"
        },
        "id": "8ckjVG4LSrMy",
        "outputId": "4cc6e43c-7677-4f2d-f1d2-275dabbe376b"
      },
      "source": [
        "df = pd.read_csv('dirtydata.csv')\n",
        "print(df)"
      ],
      "execution_count": null,
      "outputs": [
        {
          "output_type": "stream",
          "name": "stdout",
          "text": [
            "    Duration          Date  Pulse  Maxpulse  Calories\n",
            "0         60  '2020/12/01'    110       130     409.1\n",
            "1         60  '2020/12/02'    117       145     479.0\n",
            "2         60  '2020/12/03'    103       135     340.0\n",
            "3         45  '2020/12/04'    109       175     282.4\n",
            "4         45  '2020/12/05'    117       148     406.0\n",
            "5         60  '2020/12/06'    102       127     300.0\n",
            "6         60  '2020/12/07'    110       136     374.0\n",
            "7        450  '2020/12/08'    104       134     253.3\n",
            "8         30  '2020/12/09'    109       133     195.1\n",
            "9         60  '2020/12/10'     98       124     269.0\n",
            "10        60  '2020/12/11'    103       147     329.3\n",
            "11        60  '2020/12/12'    100       120     250.7\n",
            "12        60  '2020/12/12'    100       120     250.7\n",
            "13        60  '2020/12/13'    106       128     345.3\n",
            "14        60  '2020/12/14'    104       132     379.3\n",
            "15        60  '2020/12/15'     98       123     275.0\n",
            "16        60  '2020/12/16'     98       120     215.2\n",
            "17        60  '2020/12/17'    100       120     300.0\n",
            "18        45  '2020/12/18'     90       112       NaN\n",
            "19        60  '2020/12/19'    103       123     323.0\n",
            "20        45  '2020/12/20'     97       125     243.0\n",
            "21        60  '2020/12/21'    108       131     364.2\n",
            "22        45           NaN    100       119     282.0\n",
            "23        60  '2020/12/23'    130       101     300.0\n",
            "24        45  '2020/12/24'    105       132     246.0\n",
            "25        60  '2020/12/25'    102       126     334.5\n",
            "26        60      20201226    100       120     250.0\n",
            "27        60  '2020/12/27'     92       118     241.0\n",
            "28        60  '2020/12/28'    103       132       NaN\n",
            "29        60  '2020/12/29'    100       132     280.0\n",
            "30        60  '2020/12/30'    102       129     380.3\n",
            "31        60  '2020/12/31'     92       115     243.0\n"
          ]
        }
      ]
    },
    {
      "cell_type": "markdown",
      "metadata": {
        "id": "cNSP67s4SgPR"
      },
      "source": [
        "####***Converter em um formato correto***"
      ]
    },
    {
      "cell_type": "markdown",
      "metadata": {
        "id": "I-dNGBjMcPYb"
      },
      "source": [
        "\n",
        "Em nosso Data Frame, temos duas células com o formato errado. Confira as linhas 22 e 26, a coluna 'Data' deve ser uma string que representa uma data.\n",
        "\n",
        "Vamos tentar converter todas as células da coluna 'Data' em datas.\n",
        "\n",
        "Pandas tem um método para isso: `to_datetime()`"
      ]
    },
    {
      "cell_type": "code",
      "metadata": {
        "colab": {
          "base_uri": "https://localhost:8080/"
        },
        "id": "KTRJuxKLSbVy",
        "outputId": "d9693811-1e3d-497b-b0ea-1ae51cee6690"
      },
      "source": [
        "df['Date'] = pd.to_datetime(df['Date'])\n",
        "\n",
        "print(df.to_string()) #to_string() renderiza uma representação de sequência da Série."
      ],
      "execution_count": null,
      "outputs": [
        {
          "output_type": "stream",
          "name": "stdout",
          "text": [
            "    Duration       Date  Pulse  Maxpulse  Calories\n",
            "0         60 2020-12-01    110       130     409.1\n",
            "1         60 2020-12-02    117       145     479.0\n",
            "2         60 2020-12-03    103       135     340.0\n",
            "3         45 2020-12-04    109       175     282.4\n",
            "4         45 2020-12-05    117       148     406.0\n",
            "5         60 2020-12-06    102       127     300.0\n",
            "6         60 2020-12-07    110       136     374.0\n",
            "7        450 2020-12-08    104       134     253.3\n",
            "8         30 2020-12-09    109       133     195.1\n",
            "9         60 2020-12-10     98       124     269.0\n",
            "10        60 2020-12-11    103       147     329.3\n",
            "11        60 2020-12-12    100       120     250.7\n",
            "12        60 2020-12-12    100       120     250.7\n",
            "13        60 2020-12-13    106       128     345.3\n",
            "14        60 2020-12-14    104       132     379.3\n",
            "15        60 2020-12-15     98       123     275.0\n",
            "16        60 2020-12-16     98       120     215.2\n",
            "17        60 2020-12-17    100       120     300.0\n",
            "18        45 2020-12-18     90       112       NaN\n",
            "19        60 2020-12-19    103       123     323.0\n",
            "20        45 2020-12-20     97       125     243.0\n",
            "21        60 2020-12-21    108       131     364.2\n",
            "22        45        NaT    100       119     282.0\n",
            "23        60 2020-12-23    130       101     300.0\n",
            "24        45 2020-12-24    105       132     246.0\n",
            "25        60 2020-12-25    102       126     334.5\n",
            "26        60 2020-12-26    100       120     250.0\n",
            "27        60 2020-12-27     92       118     241.0\n",
            "28        60 2020-12-28    103       132       NaN\n",
            "29        60 2020-12-29    100       132     280.0\n",
            "30        60 2020-12-30    102       129     380.3\n",
            "31        60 2020-12-31     92       115     243.0\n"
          ]
        }
      ]
    },
    {
      "cell_type": "markdown",
      "metadata": {
        "id": "qJgpkR2rTNTk"
      },
      "source": [
        "Como você pode ver no resultado, a data na linha 26 foi fixada, mas a data vazia na linha 22 recebeu um valor NaT (Not a Time), ou seja, um valor vazio. Uma maneira de lidar com valores vazios é simplesmente remover toda a linha.\n",
        "\n"
      ]
    },
    {
      "cell_type": "markdown",
      "metadata": {
        "id": "ZyYC_C3zTOMj"
      },
      "source": [
        "####***Remoção de linhas***\n",
        "\n",
        "O resultado da conversão no exemplo acima nos deu um valor NaT, que pode ser tratado como um valor NULL, e podemos remover a linha usando o método `.dropna()`"
      ]
    },
    {
      "cell_type": "code",
      "metadata": {
        "colab": {
          "base_uri": "https://localhost:8080/"
        },
        "id": "sI-wrtMETNsJ",
        "outputId": "56ae5f5b-de47-4620-d9b0-43e3b1d817c0"
      },
      "source": [
        "df.dropna(subset=['Date'], inplace = True)\n",
        "print(df)"
      ],
      "execution_count": null,
      "outputs": [
        {
          "output_type": "stream",
          "name": "stdout",
          "text": [
            "    Duration       Date  Pulse  Maxpulse  Calories\n",
            "0         60 2020-12-01    110       130     409.1\n",
            "1         60 2020-12-02    117       145     479.0\n",
            "2         60 2020-12-03    103       135     340.0\n",
            "3         45 2020-12-04    109       175     282.4\n",
            "4         45 2020-12-05    117       148     406.0\n",
            "5         60 2020-12-06    102       127     300.0\n",
            "6         60 2020-12-07    110       136     374.0\n",
            "7        450 2020-12-08    104       134     253.3\n",
            "8         30 2020-12-09    109       133     195.1\n",
            "9         60 2020-12-10     98       124     269.0\n",
            "10        60 2020-12-11    103       147     329.3\n",
            "11        60 2020-12-12    100       120     250.7\n",
            "12        60 2020-12-12    100       120     250.7\n",
            "13        60 2020-12-13    106       128     345.3\n",
            "14        60 2020-12-14    104       132     379.3\n",
            "15        60 2020-12-15     98       123     275.0\n",
            "16        60 2020-12-16     98       120     215.2\n",
            "17        60 2020-12-17    100       120     300.0\n",
            "18        45 2020-12-18     90       112       NaN\n",
            "19        60 2020-12-19    103       123     323.0\n",
            "20        45 2020-12-20     97       125     243.0\n",
            "21        60 2020-12-21    108       131     364.2\n",
            "23        60 2020-12-23    130       101     300.0\n",
            "24        45 2020-12-24    105       132     246.0\n",
            "25        60 2020-12-25    102       126     334.5\n",
            "26        60 2020-12-26    100       120     250.0\n",
            "27        60 2020-12-27     92       118     241.0\n",
            "28        60 2020-12-28    103       132       NaN\n",
            "29        60 2020-12-29    100       132     280.0\n",
            "30        60 2020-12-30    102       129     380.3\n",
            "31        60 2020-12-31     92       115     243.0\n"
          ]
        }
      ]
    },
    {
      "cell_type": "markdown",
      "metadata": {
        "id": "JC1Et3mMTlqY"
      },
      "source": [
        "###***Dados errados***"
      ]
    },
    {
      "cell_type": "markdown",
      "metadata": {
        "id": "PGojQZLuTptc"
      },
      "source": [
        "Dados errados não precisam ser células vazias ou no formato errado, pode ser apenas errado, como se alguém registrasse \"199\" em vez de \"1.99\".\n",
        "\n",
        "Às vezes você pode detectar dados errados olhando para o conjunto de dados, porque você tem uma expectativa do que deve ser.\n",
        "\n",
        "Se você der uma olhada no nosso conjunto de dados, você pode ver que na linha 7, a duração é de 450, mas para todas as outras linhas a duração é entre 30 e 60.\n",
        "\n",
        "Não precisa estar errado, mas levando em consideração que este é o conjunto de dados das sessões de treino de alguém, concluímos com o fato de que essa pessoa não deu certo em 450 minutos.\n",
        "\n",
        "Como podemos corrigir valores errados, como o de \"Duração\" na linha 7?"
      ]
    },
    {
      "cell_type": "markdown",
      "metadata": {
        "id": "hTCmKaGYT89b"
      },
      "source": [
        "####***Substituição de Valores***"
      ]
    },
    {
      "cell_type": "markdown",
      "metadata": {
        "id": "iggtE8hYT_9i"
      },
      "source": [
        "Uma maneira de corrigir valores errados é substituí-los por outra coisa.\n",
        "\n",
        "Em nosso exemplo, é mais provável que seja um erro de digitação, e o valor deve ser \"45\" em vez de \"450\", e poderíamos apenas inserir \"45\" na linha 7:"
      ]
    },
    {
      "cell_type": "code",
      "metadata": {
        "colab": {
          "base_uri": "https://localhost:8080/"
        },
        "id": "gk3JCUMpUBy6",
        "outputId": "397f8b86-12fe-4724-a677-1f1625ee4caa"
      },
      "source": [
        "df.loc[7, 'Duration'] = 45\n",
        "print(df)"
      ],
      "execution_count": null,
      "outputs": [
        {
          "output_type": "stream",
          "name": "stdout",
          "text": [
            "    Duration       Date  Pulse  Maxpulse  Calories\n",
            "0         60 2020-12-01    110       130     409.1\n",
            "1         60 2020-12-02    117       145     479.0\n",
            "2         60 2020-12-03    103       135     340.0\n",
            "3         45 2020-12-04    109       175     282.4\n",
            "4         45 2020-12-05    117       148     406.0\n",
            "5         60 2020-12-06    102       127     300.0\n",
            "6         60 2020-12-07    110       136     374.0\n",
            "7         45 2020-12-08    104       134     253.3\n",
            "8         30 2020-12-09    109       133     195.1\n",
            "9         60 2020-12-10     98       124     269.0\n",
            "10        60 2020-12-11    103       147     329.3\n",
            "11        60 2020-12-12    100       120     250.7\n",
            "12        60 2020-12-12    100       120     250.7\n",
            "13        60 2020-12-13    106       128     345.3\n",
            "14        60 2020-12-14    104       132     379.3\n",
            "15        60 2020-12-15     98       123     275.0\n",
            "16        60 2020-12-16     98       120     215.2\n",
            "17        60 2020-12-17    100       120     300.0\n",
            "18        45 2020-12-18     90       112       NaN\n",
            "19        60 2020-12-19    103       123     323.0\n",
            "20        45 2020-12-20     97       125     243.0\n",
            "21        60 2020-12-21    108       131     364.2\n",
            "22        45        NaT    100       119     282.0\n",
            "23        60 2020-12-23    130       101     300.0\n",
            "24        45 2020-12-24    105       132     246.0\n",
            "25        60 2020-12-25    102       126     334.5\n",
            "26        60 2020-12-26    100       120     250.0\n",
            "27        60 2020-12-27     92       118     241.0\n",
            "28        60 2020-12-28    103       132       NaN\n",
            "29        60 2020-12-29    100       132     280.0\n",
            "30        60 2020-12-30    102       129     380.3\n",
            "31        60 2020-12-31     92       115     243.0\n"
          ]
        }
      ]
    },
    {
      "cell_type": "markdown",
      "metadata": {
        "id": "6HTvAONiUJuK"
      },
      "source": [
        "Para pequenos conjuntos de dados, você pode ser capaz de substituir os dados errados um por um, mas não para conjuntos de big data.\n",
        "\n",
        "Para substituir dados errados por conjuntos de dados maiores, você pode criar algumas regras, por exemplo, **definir alguns limites para valores legais e substituir quaisquer valores que estejam fora dos limites.**"
      ]
    },
    {
      "cell_type": "code",
      "metadata": {
        "colab": {
          "base_uri": "https://localhost:8080/"
        },
        "id": "w2UiXUAmUJbl",
        "outputId": "391f6ea6-539a-4fea-dcb1-7cd062ccc984"
      },
      "source": [
        "df = pd.read_csv('dirtydata.csv')\n",
        "#Entre em loop todos os valores na coluna \"Duração\"\n",
        "#e se o valor for superior a 120, defina-o para 120:\n",
        "for x in df.index:\n",
        "  if df.loc[x, \"Duration\"] > 120:\n",
        "    df.loc[x, \"Duration\"] = 120\n",
        "print(df)"
      ],
      "execution_count": null,
      "outputs": [
        {
          "output_type": "stream",
          "name": "stdout",
          "text": [
            "    Duration          Date  Pulse  Maxpulse  Calories\n",
            "0         60  '2020/12/01'    110       130     409.1\n",
            "1         60  '2020/12/02'    117       145     479.0\n",
            "2         60  '2020/12/03'    103       135     340.0\n",
            "3         45  '2020/12/04'    109       175     282.4\n",
            "4         45  '2020/12/05'    117       148     406.0\n",
            "5         60  '2020/12/06'    102       127     300.0\n",
            "6         60  '2020/12/07'    110       136     374.0\n",
            "7        120  '2020/12/08'    104       134     253.3\n",
            "8         30  '2020/12/09'    109       133     195.1\n",
            "9         60  '2020/12/10'     98       124     269.0\n",
            "10        60  '2020/12/11'    103       147     329.3\n",
            "11        60  '2020/12/12'    100       120     250.7\n",
            "12        60  '2020/12/12'    100       120     250.7\n",
            "13        60  '2020/12/13'    106       128     345.3\n",
            "14        60  '2020/12/14'    104       132     379.3\n",
            "15        60  '2020/12/15'     98       123     275.0\n",
            "16        60  '2020/12/16'     98       120     215.2\n",
            "17        60  '2020/12/17'    100       120     300.0\n",
            "18        45  '2020/12/18'     90       112       NaN\n",
            "19        60  '2020/12/19'    103       123     323.0\n",
            "20        45  '2020/12/20'     97       125     243.0\n",
            "21        60  '2020/12/21'    108       131     364.2\n",
            "22        45           NaN    100       119     282.0\n",
            "23        60  '2020/12/23'    130       101     300.0\n",
            "24        45  '2020/12/24'    105       132     246.0\n",
            "25        60  '2020/12/25'    102       126     334.5\n",
            "26        60      20201226    100       120     250.0\n",
            "27        60  '2020/12/27'     92       118     241.0\n",
            "28        60  '2020/12/28'    103       132       NaN\n",
            "29        60  '2020/12/29'    100       132     280.0\n",
            "30        60  '2020/12/30'    102       129     380.3\n",
            "31        60  '2020/12/31'     92       115     243.0\n"
          ]
        }
      ]
    },
    {
      "cell_type": "markdown",
      "metadata": {
        "id": "J9N1P1_KUno7"
      },
      "source": [
        "####***Remoção de linhas***"
      ]
    },
    {
      "cell_type": "markdown",
      "metadata": {
        "id": "txNoenzIUp6S"
      },
      "source": [
        "Outra maneira de lidar com dados errados é remover as linhas que contêm dados errados.\n",
        "\n",
        "Dessa forma, você não precisa descobrir com o que substituí-los, e há uma boa chance de você não precisar deles para fazer suas análises."
      ]
    },
    {
      "cell_type": "code",
      "metadata": {
        "id": "7lvwQz06TycZ",
        "colab": {
          "base_uri": "https://localhost:8080/"
        },
        "outputId": "a2cd2b2a-4c63-4d5b-8fab-dddb7227a1cd"
      },
      "source": [
        "#Excluir linhas onde \"Duração\" é maior que 120:\n",
        "for x in df.index:\n",
        "  if df.loc[x, \"Duration\"] > 120:\n",
        "    df.drop(x, inplace = True)\n",
        "print(df)"
      ],
      "execution_count": null,
      "outputs": [
        {
          "output_type": "stream",
          "name": "stdout",
          "text": [
            "    Duration          Date  Pulse  Maxpulse  Calories\n",
            "0         60  '2020/12/01'    110       130     409.1\n",
            "1         60  '2020/12/02'    117       145     479.0\n",
            "2         60  '2020/12/03'    103       135     340.0\n",
            "3         45  '2020/12/04'    109       175     282.4\n",
            "4         45  '2020/12/05'    117       148     406.0\n",
            "5         60  '2020/12/06'    102       127     300.0\n",
            "6         60  '2020/12/07'    110       136     374.0\n",
            "8         30  '2020/12/09'    109       133     195.1\n",
            "9         60  '2020/12/10'     98       124     269.0\n",
            "10        60  '2020/12/11'    103       147     329.3\n",
            "11        60  '2020/12/12'    100       120     250.7\n",
            "12        60  '2020/12/12'    100       120     250.7\n",
            "13        60  '2020/12/13'    106       128     345.3\n",
            "14        60  '2020/12/14'    104       132     379.3\n",
            "15        60  '2020/12/15'     98       123     275.0\n",
            "16        60  '2020/12/16'     98       120     215.2\n",
            "17        60  '2020/12/17'    100       120     300.0\n",
            "18        45  '2020/12/18'     90       112     130.0\n",
            "19        60  '2020/12/19'    103       123     323.0\n",
            "20        45  '2020/12/20'     97       125     243.0\n",
            "21        60  '2020/12/21'    108       131     364.2\n",
            "22        45           NaN    100       119     282.0\n",
            "23        60  '2020/12/23'    130       101     300.0\n",
            "24        45  '2020/12/24'    105       132     246.0\n",
            "25        60  '2020/12/25'    102       126     334.5\n",
            "26        60      20201226    100       120     250.0\n",
            "27        60  '2020/12/27'     92       118     241.0\n",
            "28        60  '2020/12/28'    103       132     130.0\n",
            "29        60  '2020/12/29'    100       132     280.0\n",
            "30        60  '2020/12/30'    102       129     380.3\n",
            "31        60  '2020/12/31'     92       115     243.0\n"
          ]
        }
      ]
    },
    {
      "cell_type": "markdown",
      "metadata": {
        "id": "Cwi7Qo9wU4pl"
      },
      "source": [
        "###***Remoção de Duplicatas*** "
      ]
    },
    {
      "cell_type": "markdown",
      "metadata": {
        "id": "y1aqgCGvU8ra"
      },
      "source": [
        "####***Descobrindo duplicatas***"
      ]
    },
    {
      "cell_type": "markdown",
      "metadata": {
        "id": "kkmHZkk7VBXk"
      },
      "source": [
        "Linhas duplicadas são linhas que foram registradas mais de uma vez."
      ]
    },
    {
      "cell_type": "markdown",
      "metadata": {
        "id": "dBe5oxafVGhT"
      },
      "source": [
        "Ao dar uma olhada no nosso conjunto de dados de teste, podemos assumir que as linhas 11 e 12 são duplicatas.\n",
        "\n",
        "Para descobrir duplicatas, podemos usar o método`.duplicated()`\n",
        "\n",
        "O método retorna um valor booleano para cada linha:`duplicated()`"
      ]
    },
    {
      "cell_type": "code",
      "metadata": {
        "colab": {
          "base_uri": "https://localhost:8080/"
        },
        "id": "1MUaMuvtU3Wq",
        "outputId": "950d9466-9eb6-48cb-d88d-a5e70a431c9a"
      },
      "source": [
        "print(df.duplicated())"
      ],
      "execution_count": null,
      "outputs": [
        {
          "output_type": "stream",
          "name": "stdout",
          "text": [
            "0     False\n",
            "1     False\n",
            "2     False\n",
            "3     False\n",
            "4     False\n",
            "5     False\n",
            "6     False\n",
            "7     False\n",
            "8     False\n",
            "9     False\n",
            "10    False\n",
            "11    False\n",
            "12     True\n",
            "13    False\n",
            "14    False\n",
            "15    False\n",
            "16    False\n",
            "17    False\n",
            "18    False\n",
            "19    False\n",
            "20    False\n",
            "21    False\n",
            "22    False\n",
            "23    False\n",
            "24    False\n",
            "25    False\n",
            "26    False\n",
            "27    False\n",
            "28    False\n",
            "29    False\n",
            "30    False\n",
            "31    False\n",
            "dtype: bool\n"
          ]
        }
      ]
    },
    {
      "cell_type": "markdown",
      "metadata": {
        "id": "TFJ9JjLMVNNK"
      },
      "source": [
        "####***Remoção de duplicatas***"
      ]
    },
    {
      "cell_type": "markdown",
      "metadata": {
        "id": "O6Z0Drg5VPD5"
      },
      "source": [
        "Para remover duplicatas, use o método`.drop_duplicates()`"
      ]
    },
    {
      "cell_type": "code",
      "metadata": {
        "colab": {
          "base_uri": "https://localhost:8080/"
        },
        "id": "RRklay2DVRrU",
        "outputId": "89193474-6515-491c-b872-3d1b070af440"
      },
      "source": [
        "df.drop_duplicates(inplace = True)\n",
        "print(df)"
      ],
      "execution_count": null,
      "outputs": [
        {
          "output_type": "stream",
          "name": "stdout",
          "text": [
            "    Duration          Date  Pulse  Maxpulse  Calories\n",
            "0         60  '2020/12/01'    110       130     409.1\n",
            "1         60  '2020/12/02'    117       145     479.0\n",
            "2         60  '2020/12/03'    103       135     340.0\n",
            "3         45  '2020/12/04'    109       175     282.4\n",
            "4         45  '2020/12/05'    117       148     406.0\n",
            "5         60  '2020/12/06'    102       127     300.0\n",
            "6         60  '2020/12/07'    110       136     374.0\n",
            "7        120  '2020/12/08'    104       134     253.3\n",
            "8         30  '2020/12/09'    109       133     195.1\n",
            "9         60  '2020/12/10'     98       124     269.0\n",
            "10        60  '2020/12/11'    103       147     329.3\n",
            "11        60  '2020/12/12'    100       120     250.7\n",
            "13        60  '2020/12/13'    106       128     345.3\n",
            "14        60  '2020/12/14'    104       132     379.3\n",
            "15        60  '2020/12/15'     98       123     275.0\n",
            "16        60  '2020/12/16'     98       120     215.2\n",
            "17        60  '2020/12/17'    100       120     300.0\n",
            "18        45  '2020/12/18'     90       112       NaN\n",
            "19        60  '2020/12/19'    103       123     323.0\n",
            "20        45  '2020/12/20'     97       125     243.0\n",
            "21        60  '2020/12/21'    108       131     364.2\n",
            "22        45           NaN    100       119     282.0\n",
            "23        60  '2020/12/23'    130       101     300.0\n",
            "24        45  '2020/12/24'    105       132     246.0\n",
            "25        60  '2020/12/25'    102       126     334.5\n",
            "26        60      20201226    100       120     250.0\n",
            "27        60  '2020/12/27'     92       118     241.0\n",
            "28        60  '2020/12/28'    103       132       NaN\n",
            "29        60  '2020/12/29'    100       132     280.0\n",
            "30        60  '2020/12/30'    102       129     380.3\n",
            "31        60  '2020/12/31'     92       115     243.0\n"
          ]
        }
      ]
    }
  ]
}