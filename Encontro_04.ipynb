{
  "nbformat": 4,
  "nbformat_minor": 0,
  "metadata": {
    "colab": {
      "name": "ENCONTRO 04 (NUMPY) - TREINAMENTO DE PYTHON ",
      "provenance": []
    },
    "kernelspec": {
      "name": "python3",
      "display_name": "Python 3"
    },
    "language_info": {
      "name": "python"
    }
  },
  "cells": [
    {
      "cell_type": "markdown",
      "metadata": {
        "id": "oNsLCZOl6kCX"
      },
      "source": [
        "#**README**#\n",
        "\n",
        "O Treinamento de Python é um projeto desenvolvido pelo Laboratório de\n",
        "Instrumentação Eletrônica e Controle (LIEC) e pelo Programa de Educação Tutorial\n",
        "de Engenharia Elétrica da Universidade Federal de Campina Grande (PET Elétrica\n",
        "UFCG), que tem como objetivo principal, durante a sua execução, desenvolver\n",
        "habilidades relacionadas a linguagem de programação Python, com foco em\n",
        "aplicações para engenheiros e para cientistas.\n",
        "\n",
        "Todo conteúdo produzido neste notebook foi adaptado por Rafael dos Santos Lima e por Tâmara Ruth Dantas dos Santos. Algumas sintaxes foram revisadas com auxilio da documentação da própria biblioteca NumPy (https://numpy.org/doc/1.21/), do curso \"Python para Engenheiros e Cientistas\", de Rafael Pereira, e do W3Schools (https://www.w3schools.com/python/numpy/numpy_intro.asp).\n",
        "\n",
        "Este notebook será atualizado frequentemente.\n",
        "\n",
        "---\n",
        "\n",
        "Para mais informações e/ou sanar eventuais dúvidas, entrar em contato com:\n",
        "*   Rafael - rafaelsantos.lima@ee.ufcg.edu.br\n",
        "*   Tâmara - tamara.santos@ee.ufcg.edu.br"
      ]
    },
    {
      "cell_type": "markdown",
      "metadata": {
        "id": "4Wnp4nJjjzqY"
      },
      "source": [
        "#**NumPy**"
      ]
    },
    {
      "cell_type": "markdown",
      "metadata": {
        "id": "HKTEjpw1j3x3"
      },
      "source": [
        "NumPy é o pacote fundamental para a **computação científica em Python**. \n",
        "\n",
        "É uma biblioteca que fornece um objeto de array multidimensional e vários objetos derivados (como arrays mascaradas e matrizes), além de uma variedade de rotinas para operações rápidas em arrays, incluindo: \n",
        "\n",
        "*   Matemática\n",
        "*   Lógica\n",
        "*   Manipulação de forma\n",
        "*   Classificação\n",
        "*   Seleção\n",
        "*   Transformações originais de Fourier\n",
        "*   Álgebra linear básica\n",
        "*   Operações estatísticas básicas\n",
        "*   Simulação aleatória\n",
        "*   E muito mais..."
      ]
    },
    {
      "cell_type": "markdown",
      "metadata": {
        "id": "UgQQx8DGB96e"
      },
      "source": [
        "**Carecterísticas**\n",
        "\n",
        "*   Rápida\n",
        "*   Versátil\n",
        "*   Ideal para manipulação de dados\n",
        "\n"
      ]
    },
    {
      "cell_type": "markdown",
      "metadata": {
        "id": "eXBsN4PjJQ2C"
      },
      "source": [
        "##**Primeiro passo**"
      ]
    },
    {
      "cell_type": "markdown",
      "metadata": {
        "id": "tHOJ7q-nlvQg"
      },
      "source": [
        "**Importando a biblioteca:**\n",
        "\n",
        "```\n",
        "import numpy as np\n",
        "```\n"
      ]
    },
    {
      "cell_type": "code",
      "metadata": {
        "id": "cJi9uymuHyRl"
      },
      "source": [
        "import numpy as np"
      ],
      "execution_count": null,
      "outputs": []
    },
    {
      "cell_type": "markdown",
      "metadata": {
        "id": "8n1p9CN7lXSg"
      },
      "source": [
        "##**Arrays NumPy**"
      ]
    },
    {
      "cell_type": "markdown",
      "metadata": {
        "id": "BeYZTdycK_m1"
      },
      "source": [
        "###**array**"
      ]
    },
    {
      "cell_type": "markdown",
      "metadata": {
        "id": "HktFZ-iDLC9Z"
      },
      "source": [
        "Cria um array"
      ]
    },
    {
      "cell_type": "code",
      "metadata": {
        "colab": {
          "base_uri": "https://localhost:8080/"
        },
        "id": "eqbZWcMNLEp4",
        "outputId": "1db61221-1f24-494e-81ff-ba50a2e8adbe"
      },
      "source": [
        "a1 = np.array([1,1,1])\n",
        "a1"
      ],
      "execution_count": null,
      "outputs": [
        {
          "output_type": "execute_result",
          "data": {
            "text/plain": [
              "array([1, 1, 1])"
            ]
          },
          "metadata": {},
          "execution_count": 139
        }
      ]
    },
    {
      "cell_type": "code",
      "metadata": {
        "colab": {
          "base_uri": "https://localhost:8080/"
        },
        "id": "mLAY8bStIf8K",
        "outputId": "14f2d2a3-6918-4df3-8f6d-d1e3eba7d147"
      },
      "source": [
        "a3 = np.array([[1,1,1]])\n",
        "a3"
      ],
      "execution_count": null,
      "outputs": [
        {
          "output_type": "execute_result",
          "data": {
            "text/plain": [
              "array([[1, 1, 1]])"
            ]
          },
          "metadata": {},
          "execution_count": 140
        }
      ]
    },
    {
      "cell_type": "code",
      "metadata": {
        "colab": {
          "base_uri": "https://localhost:8080/"
        },
        "id": "HqL-Fgb7MCNO",
        "outputId": "8ade8dca-9601-46c1-cc54-0f211808eb69"
      },
      "source": [
        "a2 = np.array([[1,1,1],[1,1,1],[2,2,2],[3,3,3]])\n",
        "a2"
      ],
      "execution_count": null,
      "outputs": [
        {
          "output_type": "execute_result",
          "data": {
            "text/plain": [
              "array([[1, 1, 1],\n",
              "       [1, 1, 1],\n",
              "       [2, 2, 2],\n",
              "       [3, 3, 3]])"
            ]
          },
          "metadata": {},
          "execution_count": 141
        }
      ]
    },
    {
      "cell_type": "markdown",
      "metadata": {
        "id": "EpYW2eG8RkAS"
      },
      "source": [
        "##**Manipulação de arrays**"
      ]
    },
    {
      "cell_type": "markdown",
      "metadata": {
        "id": "NaKg0SfjBZEl"
      },
      "source": [
        "###**ndim**\n"
      ]
    },
    {
      "cell_type": "markdown",
      "metadata": {
        "id": "PNnjLMf4IjC5"
      },
      "source": [
        "O número de eixos (dimensões) do array"
      ]
    },
    {
      "cell_type": "code",
      "metadata": {
        "colab": {
          "base_uri": "https://localhost:8080/"
        },
        "id": "QGS8VsA4HawG",
        "outputId": "1570417b-bebc-4cdf-976e-df2ced252641"
      },
      "source": [
        "a1 = np.array([1,2,3])\n",
        "\n",
        "a1.ndim"
      ],
      "execution_count": null,
      "outputs": [
        {
          "output_type": "execute_result",
          "data": {
            "text/plain": [
              "1"
            ]
          },
          "metadata": {},
          "execution_count": 142
        }
      ]
    },
    {
      "cell_type": "code",
      "metadata": {
        "colab": {
          "base_uri": "https://localhost:8080/"
        },
        "id": "Wqb96wlVKIHX",
        "outputId": "3b06b57e-a917-4f3d-b0bf-515553dd290d"
      },
      "source": [
        "a2 = np.array([[1,2,3]])\n",
        "\n",
        "a2.ndim"
      ],
      "execution_count": null,
      "outputs": [
        {
          "output_type": "execute_result",
          "data": {
            "text/plain": [
              "2"
            ]
          },
          "metadata": {},
          "execution_count": 143
        }
      ]
    },
    {
      "cell_type": "code",
      "metadata": {
        "colab": {
          "base_uri": "https://localhost:8080/"
        },
        "id": "HtrD_b2lKISU",
        "outputId": "363f00b3-d52e-48d1-e74c-22aa5e68b398"
      },
      "source": [
        "a3 = np.array([[1,2,3],[4,5,6],[7,8,9]])\n",
        "\n",
        "a3.ndim"
      ],
      "execution_count": null,
      "outputs": [
        {
          "output_type": "execute_result",
          "data": {
            "text/plain": [
              "2"
            ]
          },
          "metadata": {},
          "execution_count": 145
        }
      ]
    },
    {
      "cell_type": "code",
      "metadata": {
        "colab": {
          "base_uri": "https://localhost:8080/"
        },
        "id": "ZHovUDWGPhG6",
        "outputId": "21331eb1-7473-4f1b-caef-46b136a199d5"
      },
      "source": [
        "a4 = np.array([[[1,2,3]]])\n",
        "\n",
        "a4.ndim"
      ],
      "execution_count": null,
      "outputs": [
        {
          "output_type": "execute_result",
          "data": {
            "text/plain": [
              "3"
            ]
          },
          "metadata": {},
          "execution_count": 146
        }
      ]
    },
    {
      "cell_type": "markdown",
      "metadata": {
        "id": "gc-SQ0YGHa7F"
      },
      "source": [
        "###**shape**"
      ]
    },
    {
      "cell_type": "markdown",
      "metadata": {
        "id": "ujPrUjZWKspI"
      },
      "source": [
        "As dimensões do array"
      ]
    },
    {
      "cell_type": "code",
      "metadata": {
        "colab": {
          "base_uri": "https://localhost:8080/"
        },
        "id": "DRNQViVNMU0P",
        "outputId": "c81aec00-1ce4-4f36-bf83-e73e34d11809"
      },
      "source": [
        "a1 = np.array([[1,2,3]])\n",
        "\n",
        "a1.shape"
      ],
      "execution_count": null,
      "outputs": [
        {
          "output_type": "execute_result",
          "data": {
            "text/plain": [
              "(1, 3)"
            ]
          },
          "metadata": {},
          "execution_count": 147
        }
      ]
    },
    {
      "cell_type": "code",
      "metadata": {
        "colab": {
          "base_uri": "https://localhost:8080/"
        },
        "id": "245yQm3CJStR",
        "outputId": "1b533eb1-4041-4915-e1e4-3a7468de8e0b"
      },
      "source": [
        "a4 = np.array([1,2,3])\n",
        "\n",
        "a4.shape"
      ],
      "execution_count": null,
      "outputs": [
        {
          "output_type": "execute_result",
          "data": {
            "text/plain": [
              "(3,)"
            ]
          },
          "metadata": {},
          "execution_count": 148
        }
      ]
    },
    {
      "cell_type": "code",
      "metadata": {
        "colab": {
          "base_uri": "https://localhost:8080/"
        },
        "id": "ZYJ9iRFxMV8K",
        "outputId": "c7a4b386-ddba-488d-8731-9bfc758896ee"
      },
      "source": [
        "a2 = np.array([[1,2,3],[4,5,6]])\n",
        "\n",
        "a2.shape"
      ],
      "execution_count": null,
      "outputs": [
        {
          "output_type": "execute_result",
          "data": {
            "text/plain": [
              "(2, 3)"
            ]
          },
          "metadata": {},
          "execution_count": 26
        }
      ]
    },
    {
      "cell_type": "code",
      "metadata": {
        "colab": {
          "base_uri": "https://localhost:8080/"
        },
        "id": "r1q0RTdpNdda",
        "outputId": "2ac7fd7a-07bf-4af7-cef8-95944bf568fd"
      },
      "source": [
        "a3 = np.array([[1,2,3],[4,5,6],[7,8,9]])\n",
        "\n",
        "a3.shape"
      ],
      "execution_count": null,
      "outputs": [
        {
          "output_type": "execute_result",
          "data": {
            "text/plain": [
              "(3, 3)"
            ]
          },
          "metadata": {},
          "execution_count": 32
        }
      ]
    },
    {
      "cell_type": "code",
      "metadata": {
        "colab": {
          "base_uri": "https://localhost:8080/"
        },
        "id": "iAa490q2JvnC",
        "outputId": "9fc79dad-0737-42ac-f83c-3c7bfbed4fcd"
      },
      "source": [
        "a3.size"
      ],
      "execution_count": null,
      "outputs": [
        {
          "output_type": "execute_result",
          "data": {
            "text/plain": [
              "9"
            ]
          },
          "metadata": {},
          "execution_count": 149
        }
      ]
    },
    {
      "cell_type": "markdown",
      "metadata": {
        "id": "NUeCK78JHehd"
      },
      "source": [
        "###**size**"
      ]
    },
    {
      "cell_type": "markdown",
      "metadata": {
        "id": "lXBGR1GWM1CT"
      },
      "source": [
        "O número total de elementos do array\n",
        "\n",
        "> Importante: valor igual ao produto dos valores retornados no .shape"
      ]
    },
    {
      "cell_type": "code",
      "metadata": {
        "id": "od_bguyNHgcu",
        "colab": {
          "base_uri": "https://localhost:8080/"
        },
        "outputId": "7aa34306-7837-4397-8d20-7d17310291a4"
      },
      "source": [
        "a1 = np.array([[1,2,3]])\n",
        "\n",
        "a1.size"
      ],
      "execution_count": null,
      "outputs": [
        {
          "output_type": "execute_result",
          "data": {
            "text/plain": [
              "3"
            ]
          },
          "metadata": {},
          "execution_count": 150
        }
      ]
    },
    {
      "cell_type": "code",
      "metadata": {
        "colab": {
          "base_uri": "https://localhost:8080/"
        },
        "id": "zEEWrEGcNT0Q",
        "outputId": "96da40ba-0651-4b55-e103-852722955897"
      },
      "source": [
        "a2 = np.array([[1,2,3],[4,5,6]])\n",
        "\n",
        "a2.size"
      ],
      "execution_count": null,
      "outputs": [
        {
          "output_type": "execute_result",
          "data": {
            "text/plain": [
              "6"
            ]
          },
          "metadata": {},
          "execution_count": 151
        }
      ]
    },
    {
      "cell_type": "code",
      "metadata": {
        "colab": {
          "base_uri": "https://localhost:8080/"
        },
        "id": "-MLQid2MNXrT",
        "outputId": "86a6b261-afe1-490f-f32b-4260ff7e8259"
      },
      "source": [
        "a3 = np.array([[1,2,3],[4,5,6],[7,8,9]])\n",
        "\n",
        "a3.size"
      ],
      "execution_count": null,
      "outputs": [
        {
          "output_type": "execute_result",
          "data": {
            "text/plain": [
              "9"
            ]
          },
          "metadata": {},
          "execution_count": 152
        }
      ]
    },
    {
      "cell_type": "markdown",
      "metadata": {
        "id": "TFY3ypvnHg4X"
      },
      "source": [
        "###**dtype**"
      ]
    },
    {
      "cell_type": "markdown",
      "metadata": {
        "id": "sG1sTWyENkzK"
      },
      "source": [
        "Um objeto descrevendo o tipo de elementos"
      ]
    },
    {
      "cell_type": "code",
      "metadata": {
        "id": "3HpgaM4FHk8P",
        "colab": {
          "base_uri": "https://localhost:8080/"
        },
        "outputId": "ef678192-e604-44f1-fd48-cfe5dbb02153"
      },
      "source": [
        "a1 = np.array([[1,2,3],[4,5,6]])\n",
        "\n",
        "a1.dtype"
      ],
      "execution_count": null,
      "outputs": [
        {
          "output_type": "execute_result",
          "data": {
            "text/plain": [
              "dtype('int64')"
            ]
          },
          "metadata": {},
          "execution_count": 36
        }
      ]
    },
    {
      "cell_type": "code",
      "metadata": {
        "colab": {
          "base_uri": "https://localhost:8080/"
        },
        "id": "FcgYhJvvNxtG",
        "outputId": "62776169-7a29-478b-bd00-c125e9b6d432"
      },
      "source": [
        "a2 = np.array([['EE','UFCG'],['PET','LIEC']])\n",
        "\n",
        "a2.dtype"
      ],
      "execution_count": null,
      "outputs": [
        {
          "output_type": "execute_result",
          "data": {
            "text/plain": [
              "dtype('<U4')"
            ]
          },
          "metadata": {},
          "execution_count": 37
        }
      ]
    },
    {
      "cell_type": "code",
      "metadata": {
        "colab": {
          "base_uri": "https://localhost:8080/"
        },
        "id": "NaEOjyFIOOIU",
        "outputId": "298e95cf-703d-44f3-eb94-47e85dbd7db3"
      },
      "source": [
        "a3 = np.array([['anna',2,3],[4,5,6]])\n",
        "\n",
        "a3.dtype"
      ],
      "execution_count": null,
      "outputs": [
        {
          "output_type": "execute_result",
          "data": {
            "text/plain": [
              "dtype('<U4')"
            ]
          },
          "metadata": {},
          "execution_count": 155
        }
      ]
    },
    {
      "cell_type": "code",
      "metadata": {
        "colab": {
          "base_uri": "https://localhost:8080/"
        },
        "id": "-dmtC9byKVg4",
        "outputId": "4ad1124d-dd85-4d59-a6d7-3beee4159142"
      },
      "source": [
        "a3"
      ],
      "execution_count": null,
      "outputs": [
        {
          "output_type": "execute_result",
          "data": {
            "text/plain": [
              "array([['anna', '2', '3'],\n",
              "       ['4', '5', '6']], dtype='<U4')"
            ]
          },
          "metadata": {},
          "execution_count": 156
        }
      ]
    },
    {
      "cell_type": "code",
      "metadata": {
        "colab": {
          "base_uri": "https://localhost:8080/"
        },
        "id": "EU3nXCkEQC-O",
        "outputId": "22b5a3db-fbea-4269-fc13-c6ad441e5d3b"
      },
      "source": [
        "a4 = np.array([[1, 2], [3, 4]], dtype=complex)\n",
        "a4"
      ],
      "execution_count": null,
      "outputs": [
        {
          "output_type": "execute_result",
          "data": {
            "text/plain": [
              "array([[1.+0.j, 2.+0.j],\n",
              "       [3.+0.j, 4.+0.j]])"
            ]
          },
          "metadata": {},
          "execution_count": 157
        }
      ]
    },
    {
      "cell_type": "markdown",
      "metadata": {
        "id": "IXsOVjdMHlGZ"
      },
      "source": [
        "###**itemsize**"
      ]
    },
    {
      "cell_type": "markdown",
      "metadata": {
        "id": "r3IYGvAWOeQM"
      },
      "source": [
        "O tamanho em bytes de cada elemento do array"
      ]
    },
    {
      "cell_type": "code",
      "metadata": {
        "id": "9mziXBRwHo0G",
        "colab": {
          "base_uri": "https://localhost:8080/"
        },
        "outputId": "bece0e4f-07a3-4dd4-d9be-372b27005fa4"
      },
      "source": [
        "a1 = np.array([[1,2,3]])\n",
        "\n",
        "a1.itemsize"
      ],
      "execution_count": null,
      "outputs": [
        {
          "output_type": "execute_result",
          "data": {
            "text/plain": [
              "8"
            ]
          },
          "metadata": {},
          "execution_count": 158
        }
      ]
    },
    {
      "cell_type": "markdown",
      "metadata": {
        "id": "fvd3gWuYlbuQ"
      },
      "source": [
        "##**Operações com arrays**"
      ]
    },
    {
      "cell_type": "markdown",
      "metadata": {
        "id": "jpTeDztrPwvE"
      },
      "source": [
        "###**sin**"
      ]
    },
    {
      "cell_type": "markdown",
      "metadata": {
        "id": "XfUP_nY-SX-7"
      },
      "source": [
        "Seno"
      ]
    },
    {
      "cell_type": "code",
      "metadata": {
        "colab": {
          "base_uri": "https://localhost:8080/"
        },
        "id": "UjtK4twVSWOF",
        "outputId": "1ced5ed6-b4e3-4b0d-87e0-cc16a3b66363"
      },
      "source": [
        "a1 = np.sin(0)\n",
        "a1"
      ],
      "execution_count": null,
      "outputs": [
        {
          "output_type": "execute_result",
          "data": {
            "text/plain": [
              "0.0"
            ]
          },
          "metadata": {},
          "execution_count": 49
        }
      ]
    },
    {
      "cell_type": "code",
      "metadata": {
        "colab": {
          "base_uri": "https://localhost:8080/"
        },
        "id": "JmCtcakOSx12",
        "outputId": "54279d66-bff1-4d37-e664-83c7a9ca4323"
      },
      "source": [
        "a2 = np.sin(1)\n",
        "a2"
      ],
      "execution_count": null,
      "outputs": [
        {
          "output_type": "execute_result",
          "data": {
            "text/plain": [
              "0.8414709848078965"
            ]
          },
          "metadata": {},
          "execution_count": 159
        }
      ]
    },
    {
      "cell_type": "code",
      "metadata": {
        "colab": {
          "base_uri": "https://localhost:8080/"
        },
        "id": "vh_S36fiS1HO",
        "outputId": "00740df0-e583-4401-f816-309ef9f31b79"
      },
      "source": [
        "a3 = np.sin(90)\n",
        "a3"
      ],
      "execution_count": null,
      "outputs": [
        {
          "output_type": "execute_result",
          "data": {
            "text/plain": [
              "0.8939966636005579"
            ]
          },
          "metadata": {},
          "execution_count": 160
        }
      ]
    },
    {
      "cell_type": "markdown",
      "metadata": {
        "id": "MUkVt0fSSPiL"
      },
      "source": [
        "###**cos**"
      ]
    },
    {
      "cell_type": "markdown",
      "metadata": {
        "id": "ObeAqtvDSY6O"
      },
      "source": [
        "Cosseno"
      ]
    },
    {
      "cell_type": "code",
      "metadata": {
        "colab": {
          "base_uri": "https://localhost:8080/"
        },
        "id": "j4kx5DrhSWkG",
        "outputId": "7007bc26-68d7-461b-d7a8-fcc9bb1f2b38"
      },
      "source": [
        "a1 = np.cos(0)\n",
        "a1"
      ],
      "execution_count": null,
      "outputs": [
        {
          "output_type": "execute_result",
          "data": {
            "text/plain": [
              "1.0"
            ]
          },
          "metadata": {},
          "execution_count": 161
        }
      ]
    },
    {
      "cell_type": "code",
      "metadata": {
        "colab": {
          "base_uri": "https://localhost:8080/"
        },
        "id": "id1klqbqTQT7",
        "outputId": "4b3a6436-17c3-4905-b2a7-d8c40c357254"
      },
      "source": [
        "a2 = np.cos(1)\n",
        "a2"
      ],
      "execution_count": null,
      "outputs": [
        {
          "output_type": "execute_result",
          "data": {
            "text/plain": [
              "0.5403023058681398"
            ]
          },
          "metadata": {},
          "execution_count": 162
        }
      ]
    },
    {
      "cell_type": "code",
      "metadata": {
        "colab": {
          "base_uri": "https://localhost:8080/"
        },
        "id": "9TOfV39BTSyN",
        "outputId": "89e3a65c-8020-4be6-96dc-8baef3a39f1b"
      },
      "source": [
        "a3 = np.cos(180)\n",
        "a3"
      ],
      "execution_count": null,
      "outputs": [
        {
          "output_type": "execute_result",
          "data": {
            "text/plain": [
              "-0.5984600690578581"
            ]
          },
          "metadata": {},
          "execution_count": 163
        }
      ]
    },
    {
      "cell_type": "markdown",
      "metadata": {
        "id": "qhIbeEmSSQ5U"
      },
      "source": [
        "###**exp**"
      ]
    },
    {
      "cell_type": "markdown",
      "metadata": {
        "id": "F_XioKj8SZ5V"
      },
      "source": [
        "Exponencial"
      ]
    },
    {
      "cell_type": "code",
      "metadata": {
        "colab": {
          "base_uri": "https://localhost:8080/"
        },
        "id": "ZLptyCB2SW_7",
        "outputId": "266a9e02-c5a8-4044-e4b8-8c3a363d212b"
      },
      "source": [
        "a1 = np.exp(0)\n",
        "a1"
      ],
      "execution_count": null,
      "outputs": [
        {
          "output_type": "execute_result",
          "data": {
            "text/plain": [
              "1.0"
            ]
          },
          "metadata": {},
          "execution_count": 164
        }
      ]
    },
    {
      "cell_type": "markdown",
      "metadata": {
        "id": "iHkxZh0-STQi"
      },
      "source": [
        "###**sqrt**"
      ]
    },
    {
      "cell_type": "markdown",
      "metadata": {
        "id": "-5vd3ACPSbEo"
      },
      "source": [
        "Raiz"
      ]
    },
    {
      "cell_type": "code",
      "metadata": {
        "colab": {
          "base_uri": "https://localhost:8080/"
        },
        "id": "FEDnoFTRSXiE",
        "outputId": "62648ad8-0443-42c9-a4e1-be522bfbb1b2"
      },
      "source": [
        "a1 = np.sqrt(25)\n",
        "a1"
      ],
      "execution_count": null,
      "outputs": [
        {
          "output_type": "execute_result",
          "data": {
            "text/plain": [
              "5.0"
            ]
          },
          "metadata": {},
          "execution_count": 165
        }
      ]
    },
    {
      "cell_type": "code",
      "metadata": {
        "colab": {
          "base_uri": "https://localhost:8080/"
        },
        "id": "PX2KBOS_Tz-f",
        "outputId": "954d0a75-2c1e-4fdf-d55d-e217b8d6c274"
      },
      "source": [
        "a2 = np.sqrt(10)\n",
        "a2"
      ],
      "execution_count": null,
      "outputs": [
        {
          "output_type": "execute_result",
          "data": {
            "text/plain": [
              "3.1622776601683795"
            ]
          },
          "metadata": {},
          "execution_count": 166
        }
      ]
    },
    {
      "cell_type": "markdown",
      "metadata": {
        "id": "SHT4RVUhT5F0"
      },
      "source": [
        "###**pi**"
      ]
    },
    {
      "cell_type": "markdown",
      "metadata": {
        "id": "sbU-v8QHUDJ6"
      },
      "source": [
        "Valor de pi"
      ]
    },
    {
      "cell_type": "code",
      "metadata": {
        "colab": {
          "base_uri": "https://localhost:8080/"
        },
        "id": "3kcpQll9UDSh",
        "outputId": "ee538f9f-cca5-480e-dd1c-0880fe31720d"
      },
      "source": [
        "a1 = np.pi\n",
        "a1"
      ],
      "execution_count": null,
      "outputs": [
        {
          "output_type": "execute_result",
          "data": {
            "text/plain": [
              "3.141592653589793"
            ]
          },
          "metadata": {},
          "execution_count": 58
        }
      ]
    },
    {
      "cell_type": "markdown",
      "metadata": {
        "id": "kvm7ZuPGT-cd"
      },
      "source": [
        "###**nan**"
      ]
    },
    {
      "cell_type": "markdown",
      "metadata": {
        "id": "PkH36rRQUJS3"
      },
      "source": [
        "Similar ao None, mas só que retorna um dado do tipo float "
      ]
    },
    {
      "cell_type": "code",
      "metadata": {
        "colab": {
          "base_uri": "https://localhost:8080/"
        },
        "id": "51WLVhSvUJap",
        "outputId": "fac7c5ae-366e-4e8a-c345-7b0b8c1a4947"
      },
      "source": [
        "a1 = np.nan\n",
        "a1"
      ],
      "execution_count": null,
      "outputs": [
        {
          "output_type": "execute_result",
          "data": {
            "text/plain": [
              "nan"
            ]
          },
          "metadata": {},
          "execution_count": 60
        }
      ]
    },
    {
      "cell_type": "code",
      "metadata": {
        "colab": {
          "base_uri": "https://localhost:8080/"
        },
        "id": "N_Z_YDKaUVOT",
        "outputId": "8057a1c7-7aea-4b44-e4df-0a819f8fa17c"
      },
      "source": [
        "type(a1)"
      ],
      "execution_count": null,
      "outputs": [
        {
          "output_type": "execute_result",
          "data": {
            "text/plain": [
              "float"
            ]
          },
          "metadata": {},
          "execution_count": 67
        }
      ]
    },
    {
      "cell_type": "code",
      "metadata": {
        "colab": {
          "base_uri": "https://localhost:8080/"
        },
        "id": "MveyOjd_UZN0",
        "outputId": "8ce24bac-0ee4-4442-f0a2-e89732c13431"
      },
      "source": [
        "aux = None\n",
        "type(aux)"
      ],
      "execution_count": null,
      "outputs": [
        {
          "output_type": "execute_result",
          "data": {
            "text/plain": [
              "NoneType"
            ]
          },
          "metadata": {},
          "execution_count": 63
        }
      ]
    },
    {
      "cell_type": "markdown",
      "metadata": {
        "id": "96-IjI0WUA8P"
      },
      "source": [
        "###**inf**"
      ]
    },
    {
      "cell_type": "markdown",
      "metadata": {
        "id": "4BrHU7M7UkXn"
      },
      "source": [
        "Infinito"
      ]
    },
    {
      "cell_type": "code",
      "metadata": {
        "colab": {
          "base_uri": "https://localhost:8080/"
        },
        "id": "xsekdH3rUkdD",
        "outputId": "79ec92ee-8377-402b-befe-452d819d4c45"
      },
      "source": [
        "a1 = np.inf\n",
        "a1"
      ],
      "execution_count": null,
      "outputs": [
        {
          "output_type": "execute_result",
          "data": {
            "text/plain": [
              "inf"
            ]
          },
          "metadata": {},
          "execution_count": 65
        }
      ]
    },
    {
      "cell_type": "code",
      "metadata": {
        "colab": {
          "base_uri": "https://localhost:8080/"
        },
        "id": "nB-kovMgUypc",
        "outputId": "e1dd5aef-a582-4821-8370-bff81b79940f"
      },
      "source": [
        "type(a1)"
      ],
      "execution_count": null,
      "outputs": [
        {
          "output_type": "execute_result",
          "data": {
            "text/plain": [
              "float"
            ]
          },
          "metadata": {},
          "execution_count": 66
        }
      ]
    },
    {
      "cell_type": "markdown",
      "metadata": {
        "id": "miAZsrL8U-F8"
      },
      "source": [
        "###**+**"
      ]
    },
    {
      "cell_type": "markdown",
      "metadata": {
        "id": "xZkvlQmjVUVE"
      },
      "source": [
        "Adição de arrays"
      ]
    },
    {
      "cell_type": "code",
      "metadata": {
        "colab": {
          "base_uri": "https://localhost:8080/"
        },
        "id": "vxRiX6NlVUdq",
        "outputId": "df7c005c-6aff-4c02-ecaf-8051aa8f7324"
      },
      "source": [
        "a1 = np.array([[1,2,3]])\n",
        "a1"
      ],
      "execution_count": null,
      "outputs": [
        {
          "output_type": "execute_result",
          "data": {
            "text/plain": [
              "array([[1, 2, 3]])"
            ]
          },
          "metadata": {},
          "execution_count": 68
        }
      ]
    },
    {
      "cell_type": "code",
      "metadata": {
        "colab": {
          "base_uri": "https://localhost:8080/"
        },
        "id": "Ia-cwu1LVvnc",
        "outputId": "cb8f0c73-db4b-4208-d759-cd29f3e1a2f8"
      },
      "source": [
        "a2 = np.array([[3,4,5]])\n",
        "a2"
      ],
      "execution_count": null,
      "outputs": [
        {
          "output_type": "execute_result",
          "data": {
            "text/plain": [
              "array([[3, 4, 5]])"
            ]
          },
          "metadata": {},
          "execution_count": 69
        }
      ]
    },
    {
      "cell_type": "code",
      "metadata": {
        "colab": {
          "base_uri": "https://localhost:8080/"
        },
        "id": "TQfHryhOVx9g",
        "outputId": "871601ab-eb2f-49b0-dd4b-f85aa9039b8c"
      },
      "source": [
        "a1 + a2"
      ],
      "execution_count": null,
      "outputs": [
        {
          "output_type": "execute_result",
          "data": {
            "text/plain": [
              "array([[4, 6, 8]])"
            ]
          },
          "metadata": {},
          "execution_count": 70
        }
      ]
    },
    {
      "cell_type": "code",
      "metadata": {
        "colab": {
          "base_uri": "https://localhost:8080/"
        },
        "id": "dxWgNV4UV1mI",
        "outputId": "eb645f50-fc63-47a7-fc9e-2c6f535584b6"
      },
      "source": [
        "a1 + 2"
      ],
      "execution_count": null,
      "outputs": [
        {
          "output_type": "execute_result",
          "data": {
            "text/plain": [
              "array([[3, 4, 5]])"
            ]
          },
          "metadata": {},
          "execution_count": 71
        }
      ]
    },
    {
      "cell_type": "code",
      "metadata": {
        "colab": {
          "base_uri": "https://localhost:8080/"
        },
        "id": "oSD2f34RV3jo",
        "outputId": "fae80c25-5618-4837-8c05-71065ec5c21f"
      },
      "source": [
        "a2 + 2"
      ],
      "execution_count": null,
      "outputs": [
        {
          "output_type": "execute_result",
          "data": {
            "text/plain": [
              "array([[5, 6, 7]])"
            ]
          },
          "metadata": {},
          "execution_count": 72
        }
      ]
    },
    {
      "cell_type": "markdown",
      "metadata": {
        "id": "iob2HdY7V_W_"
      },
      "source": [
        "> **OBS:** cuidado, pois essas operações não existem na matemática!"
      ]
    },
    {
      "cell_type": "markdown",
      "metadata": {
        "id": "ZJn8BHseVFd0"
      },
      "source": [
        "###**-**"
      ]
    },
    {
      "cell_type": "markdown",
      "metadata": {
        "id": "M5agVyYIVU74"
      },
      "source": [
        "Subtração de arrays"
      ]
    },
    {
      "cell_type": "code",
      "metadata": {
        "colab": {
          "base_uri": "https://localhost:8080/"
        },
        "id": "DqoVsZBTVVFV",
        "outputId": "01896239-1dd2-4866-95f6-b416f0a310f4"
      },
      "source": [
        "a1 = np.array([[1,2,3]])\n",
        "a1"
      ],
      "execution_count": null,
      "outputs": [
        {
          "output_type": "execute_result",
          "data": {
            "text/plain": [
              "array([[1, 2, 3]])"
            ]
          },
          "metadata": {},
          "execution_count": 167
        }
      ]
    },
    {
      "cell_type": "code",
      "metadata": {
        "colab": {
          "base_uri": "https://localhost:8080/"
        },
        "id": "WeAPwDoDWT1M",
        "outputId": "c2bff25e-c701-40b6-cc12-b192e69bbbf2"
      },
      "source": [
        "a2 = np.array([[4,5,6]])\n",
        "a2"
      ],
      "execution_count": null,
      "outputs": [
        {
          "output_type": "execute_result",
          "data": {
            "text/plain": [
              "array([[4, 5, 6]])"
            ]
          },
          "metadata": {},
          "execution_count": 168
        }
      ]
    },
    {
      "cell_type": "code",
      "metadata": {
        "colab": {
          "base_uri": "https://localhost:8080/"
        },
        "id": "j2r_Z17EWYwG",
        "outputId": "a665d161-1595-4549-b017-dfb8b38650b7"
      },
      "source": [
        "a2 - a1"
      ],
      "execution_count": null,
      "outputs": [
        {
          "output_type": "execute_result",
          "data": {
            "text/plain": [
              "array([[3, 3, 3]])"
            ]
          },
          "metadata": {},
          "execution_count": 169
        }
      ]
    },
    {
      "cell_type": "code",
      "metadata": {
        "colab": {
          "base_uri": "https://localhost:8080/"
        },
        "id": "CJZ3wvE6Wba2",
        "outputId": "697dc2cb-cad4-40a4-b020-981b3f5e5ed4"
      },
      "source": [
        "a1 - a2"
      ],
      "execution_count": null,
      "outputs": [
        {
          "output_type": "execute_result",
          "data": {
            "text/plain": [
              "array([[-3, -3, -3]])"
            ]
          },
          "metadata": {},
          "execution_count": 170
        }
      ]
    },
    {
      "cell_type": "code",
      "metadata": {
        "colab": {
          "base_uri": "https://localhost:8080/"
        },
        "id": "Y4Ixns0FWei8",
        "outputId": "f651662f-6859-4cf4-b069-65f2eebcb7fd"
      },
      "source": [
        "a1 - 10"
      ],
      "execution_count": null,
      "outputs": [
        {
          "output_type": "execute_result",
          "data": {
            "text/plain": [
              "array([[-9, -8, -7]])"
            ]
          },
          "metadata": {},
          "execution_count": 171
        }
      ]
    },
    {
      "cell_type": "code",
      "metadata": {
        "colab": {
          "base_uri": "https://localhost:8080/"
        },
        "id": "fkw5xnDvWhTx",
        "outputId": "95594144-9af7-4b33-e8b4-0ceff36cfbc5"
      },
      "source": [
        "a2 - 1"
      ],
      "execution_count": null,
      "outputs": [
        {
          "output_type": "execute_result",
          "data": {
            "text/plain": [
              "array([[3, 4, 5]])"
            ]
          },
          "metadata": {},
          "execution_count": 172
        }
      ]
    },
    {
      "cell_type": "markdown",
      "metadata": {
        "id": "6_OZxZDPWn__"
      },
      "source": [
        "> **OBS:** cuidado, pois essas operações não existem na matemática!"
      ]
    },
    {
      "cell_type": "markdown",
      "metadata": {
        "id": "ecLbZwV5VG0W"
      },
      "source": [
        "###*"
      ]
    },
    {
      "cell_type": "markdown",
      "metadata": {
        "id": "hviUpH0_VVpb"
      },
      "source": [
        "Multiplicação de arrays"
      ]
    },
    {
      "cell_type": "code",
      "metadata": {
        "colab": {
          "base_uri": "https://localhost:8080/"
        },
        "id": "TuWrXJBvVVwl",
        "outputId": "c67493d2-052e-4008-c41c-1a5d32bf67da"
      },
      "source": [
        "a1 = np.array([[1,2,3]])\n",
        "a1"
      ],
      "execution_count": null,
      "outputs": [
        {
          "output_type": "execute_result",
          "data": {
            "text/plain": [
              "array([[1, 2, 3]])"
            ]
          },
          "metadata": {},
          "execution_count": 173
        }
      ]
    },
    {
      "cell_type": "code",
      "metadata": {
        "colab": {
          "base_uri": "https://localhost:8080/"
        },
        "id": "zXHBZ2QlM2j_",
        "outputId": "3ca9d5a5-d462-432f-df5e-99dcab6365ff"
      },
      "source": [
        "a1.shape"
      ],
      "execution_count": null,
      "outputs": [
        {
          "output_type": "execute_result",
          "data": {
            "text/plain": [
              "(1, 3)"
            ]
          },
          "metadata": {},
          "execution_count": 176
        }
      ]
    },
    {
      "cell_type": "code",
      "metadata": {
        "colab": {
          "base_uri": "https://localhost:8080/"
        },
        "id": "Gvm6UDToWz1W",
        "outputId": "bbd7c54e-e989-4ff6-a628-a22c129def31"
      },
      "source": [
        "a2 = np.array([[4,5,6]])\n",
        "a2"
      ],
      "execution_count": null,
      "outputs": [
        {
          "output_type": "execute_result",
          "data": {
            "text/plain": [
              "array([[4, 5, 6]])"
            ]
          },
          "metadata": {},
          "execution_count": 177
        }
      ]
    },
    {
      "cell_type": "code",
      "metadata": {
        "colab": {
          "base_uri": "https://localhost:8080/"
        },
        "id": "LxerrJoIM5-f",
        "outputId": "e287ea73-4972-4444-b4a7-ad6e53ff75af"
      },
      "source": [
        "a2.shape"
      ],
      "execution_count": null,
      "outputs": [
        {
          "output_type": "execute_result",
          "data": {
            "text/plain": [
              "(1, 3)"
            ]
          },
          "metadata": {},
          "execution_count": 178
        }
      ]
    },
    {
      "cell_type": "code",
      "metadata": {
        "colab": {
          "base_uri": "https://localhost:8080/"
        },
        "id": "L-UE6DqOW8UM",
        "outputId": "1e79332e-935f-445d-deeb-7475fe71e409"
      },
      "source": [
        "a1 * 5"
      ],
      "execution_count": null,
      "outputs": [
        {
          "output_type": "execute_result",
          "data": {
            "text/plain": [
              "array([[ 5, 10, 15]])"
            ]
          },
          "metadata": {},
          "execution_count": 175
        }
      ]
    },
    {
      "cell_type": "code",
      "metadata": {
        "colab": {
          "base_uri": "https://localhost:8080/"
        },
        "id": "cQEAQcxFW96p",
        "outputId": "07fc681c-820c-43d9-82a4-b39462d65b5b"
      },
      "source": [
        "a2 * 2"
      ],
      "execution_count": null,
      "outputs": [
        {
          "output_type": "execute_result",
          "data": {
            "text/plain": [
              "array([[ 8, 10, 12]])"
            ]
          },
          "metadata": {},
          "execution_count": 85
        }
      ]
    },
    {
      "cell_type": "code",
      "metadata": {
        "colab": {
          "base_uri": "https://localhost:8080/"
        },
        "id": "9ya626X8W3j3",
        "outputId": "c1732246-4bf5-4fe5-a31c-dcd01e33bc17"
      },
      "source": [
        "a1 * a2"
      ],
      "execution_count": null,
      "outputs": [
        {
          "output_type": "execute_result",
          "data": {
            "text/plain": [
              "array([[ 4, 10, 18]])"
            ]
          },
          "metadata": {},
          "execution_count": 180
        }
      ]
    },
    {
      "cell_type": "markdown",
      "metadata": {
        "id": "6KthsLzEXHFU"
      },
      "source": [
        "> **OBS:** cuidado, pois essa operação não pode ser feita de qualquer modo na matemática como numpy considera!"
      ]
    },
    {
      "cell_type": "markdown",
      "metadata": {
        "id": "y37U2_A2VRlo"
      },
      "source": [
        "###**/**"
      ]
    },
    {
      "cell_type": "markdown",
      "metadata": {
        "id": "iFfiBixBVWU4"
      },
      "source": [
        "Divisão de arrays"
      ]
    },
    {
      "cell_type": "code",
      "metadata": {
        "colab": {
          "base_uri": "https://localhost:8080/"
        },
        "id": "tgTQflVFVREE",
        "outputId": "c8822e41-cc1e-4d81-cf3f-e744246c7d51"
      },
      "source": [
        "a1 = np.array([[2,4,6]])\n",
        "a1"
      ],
      "execution_count": null,
      "outputs": [
        {
          "output_type": "execute_result",
          "data": {
            "text/plain": [
              "array([[2, 4, 6]])"
            ]
          },
          "metadata": {},
          "execution_count": 181
        }
      ]
    },
    {
      "cell_type": "code",
      "metadata": {
        "colab": {
          "base_uri": "https://localhost:8080/"
        },
        "id": "3gKVx6NKXbfr",
        "outputId": "1b70e6ec-da4a-47c1-887a-e4e129ce27b6"
      },
      "source": [
        "a2 = np.array([[4,8,12]])\n",
        "a2"
      ],
      "execution_count": null,
      "outputs": [
        {
          "output_type": "execute_result",
          "data": {
            "text/plain": [
              "array([[ 4,  8, 12]])"
            ]
          },
          "metadata": {},
          "execution_count": 182
        }
      ]
    },
    {
      "cell_type": "code",
      "metadata": {
        "colab": {
          "base_uri": "https://localhost:8080/"
        },
        "id": "vz2Qb1IyXmZo",
        "outputId": "862bb659-aee2-447c-d944-e86c34cd16aa"
      },
      "source": [
        "a2 / a1"
      ],
      "execution_count": null,
      "outputs": [
        {
          "output_type": "execute_result",
          "data": {
            "text/plain": [
              "array([[2., 2., 2.]])"
            ]
          },
          "metadata": {},
          "execution_count": 183
        }
      ]
    },
    {
      "cell_type": "code",
      "metadata": {
        "colab": {
          "base_uri": "https://localhost:8080/"
        },
        "id": "LNA6wnlkNTe8",
        "outputId": "6b6390ad-728f-4012-c66d-e09e618d0ee3"
      },
      "source": [
        "a2 / 5"
      ],
      "execution_count": null,
      "outputs": [
        {
          "output_type": "execute_result",
          "data": {
            "text/plain": [
              "array([[0.8, 1.6, 2.4]])"
            ]
          },
          "metadata": {},
          "execution_count": 185
        }
      ]
    },
    {
      "cell_type": "code",
      "metadata": {
        "colab": {
          "base_uri": "https://localhost:8080/"
        },
        "id": "jgsua529Xrp5",
        "outputId": "d560a292-dc13-45ab-cbe0-1d24d4a01973"
      },
      "source": [
        "a1 / 2"
      ],
      "execution_count": null,
      "outputs": [
        {
          "output_type": "execute_result",
          "data": {
            "text/plain": [
              "array([[1., 2., 3.]])"
            ]
          },
          "metadata": {},
          "execution_count": 186
        }
      ]
    },
    {
      "cell_type": "code",
      "metadata": {
        "colab": {
          "base_uri": "https://localhost:8080/"
        },
        "id": "6FVQw877XtI0",
        "outputId": "3d37b772-3153-4a1b-809d-8012ea57b807"
      },
      "source": [
        "a2 / 4"
      ],
      "execution_count": null,
      "outputs": [
        {
          "output_type": "execute_result",
          "data": {
            "text/plain": [
              "array([[1., 2., 3.]])"
            ]
          },
          "metadata": {},
          "execution_count": 187
        }
      ]
    },
    {
      "cell_type": "markdown",
      "metadata": {
        "id": "TQ46cY6dYMI8"
      },
      "source": [
        "###**dot**"
      ]
    },
    {
      "cell_type": "markdown",
      "metadata": {
        "id": "ogisBSoiYMnG"
      },
      "source": [
        "Multiplicação matricial"
      ]
    },
    {
      "cell_type": "code",
      "metadata": {
        "colab": {
          "base_uri": "https://localhost:8080/"
        },
        "id": "wd1WbGXxYRwb",
        "outputId": "d7385504-c66b-4a54-920a-6a84fda1ae05"
      },
      "source": [
        "#MATRIZ 1X3 ---> 1 LINHA , 3 COLUNAS\n",
        "\n",
        "a1 = np.array([[1,2,3]])\n",
        "a1\n",
        "\n",
        "#a1.shape"
      ],
      "execution_count": null,
      "outputs": [
        {
          "output_type": "execute_result",
          "data": {
            "text/plain": [
              "array([[1, 2, 3]])"
            ]
          },
          "metadata": {},
          "execution_count": 190
        }
      ]
    },
    {
      "cell_type": "code",
      "metadata": {
        "colab": {
          "base_uri": "https://localhost:8080/"
        },
        "id": "JbpwlzJjYZLP",
        "outputId": "6b5faca4-1a58-41b0-e178-edf8234f3f84"
      },
      "source": [
        "#MATRIZ 3X1 ---> 3 LINHAS , 1 COLUNA\n",
        "\n",
        "a2 = np.array([4,5,6])\n",
        "a2\n",
        "\n",
        "a2.shape"
      ],
      "execution_count": null,
      "outputs": [
        {
          "output_type": "execute_result",
          "data": {
            "text/plain": [
              "(3,)"
            ]
          },
          "metadata": {},
          "execution_count": 191
        }
      ]
    },
    {
      "cell_type": "code",
      "metadata": {
        "colab": {
          "base_uri": "https://localhost:8080/"
        },
        "id": "XNxwJhQGYiJ2",
        "outputId": "48d049b3-069f-40e4-b481-e47998f0aec0"
      },
      "source": [
        "a1.dot(a2)"
      ],
      "execution_count": null,
      "outputs": [
        {
          "output_type": "execute_result",
          "data": {
            "text/plain": [
              "array([32])"
            ]
          },
          "metadata": {},
          "execution_count": 192
        }
      ]
    },
    {
      "cell_type": "markdown",
      "metadata": {
        "id": "LZrJJiYwlf-w"
      },
      "source": [
        "##**Criação de arrays**"
      ]
    },
    {
      "cell_type": "markdown",
      "metadata": {
        "id": "i1VDrCZ7aZ4y"
      },
      "source": [
        "###**zeros**"
      ]
    },
    {
      "cell_type": "markdown",
      "metadata": {
        "id": "9qZw8LsUaz7n"
      },
      "source": [
        "Constrói um array composto por 0"
      ]
    },
    {
      "cell_type": "code",
      "metadata": {
        "colab": {
          "base_uri": "https://localhost:8080/"
        },
        "id": "PZHnHhw7a0I4",
        "outputId": "143a0ab3-e915-4374-a519-84f4ed172179"
      },
      "source": [
        "a1 = np.zeros(100)\n",
        "a1"
      ],
      "execution_count": null,
      "outputs": [
        {
          "output_type": "execute_result",
          "data": {
            "text/plain": [
              "array([0., 0., 0., 0., 0., 0., 0., 0., 0., 0., 0., 0., 0., 0., 0., 0., 0.,\n",
              "       0., 0., 0., 0., 0., 0., 0., 0., 0., 0., 0., 0., 0., 0., 0., 0., 0.,\n",
              "       0., 0., 0., 0., 0., 0., 0., 0., 0., 0., 0., 0., 0., 0., 0., 0., 0.,\n",
              "       0., 0., 0., 0., 0., 0., 0., 0., 0., 0., 0., 0., 0., 0., 0., 0., 0.,\n",
              "       0., 0., 0., 0., 0., 0., 0., 0., 0., 0., 0., 0., 0., 0., 0., 0., 0.,\n",
              "       0., 0., 0., 0., 0., 0., 0., 0., 0., 0., 0., 0., 0., 0., 0.])"
            ]
          },
          "metadata": {},
          "execution_count": 194
        }
      ]
    },
    {
      "cell_type": "markdown",
      "metadata": {
        "id": "H1N8dwFhacnb"
      },
      "source": [
        "###**ones**"
      ]
    },
    {
      "cell_type": "markdown",
      "metadata": {
        "id": "duaG6GN-a1NU"
      },
      "source": [
        "Constrói um array composto por 1"
      ]
    },
    {
      "cell_type": "code",
      "metadata": {
        "colab": {
          "base_uri": "https://localhost:8080/"
        },
        "id": "vbsrQKVGbq41",
        "outputId": "ac348b7d-fba9-4cce-db6a-331dd086c5e7"
      },
      "source": [
        "a1 = np.ones(20)\n",
        "a1"
      ],
      "execution_count": null,
      "outputs": [
        {
          "output_type": "execute_result",
          "data": {
            "text/plain": [
              "array([1., 1., 1., 1., 1., 1., 1., 1., 1., 1., 1., 1., 1., 1., 1., 1., 1.,\n",
              "       1., 1., 1.])"
            ]
          },
          "metadata": {},
          "execution_count": 195
        }
      ]
    },
    {
      "cell_type": "code",
      "metadata": {
        "colab": {
          "base_uri": "https://localhost:8080/"
        },
        "id": "dD_YPwyJbvn0",
        "outputId": "ff49a059-bbbf-421c-fabf-2d21b47399ce"
      },
      "source": [
        "a2 = np.ones(10)*9.99\n",
        "a2"
      ],
      "execution_count": null,
      "outputs": [
        {
          "output_type": "execute_result",
          "data": {
            "text/plain": [
              "array([9.99, 9.99, 9.99, 9.99, 9.99, 9.99, 9.99, 9.99, 9.99, 9.99])"
            ]
          },
          "metadata": {},
          "execution_count": 199
        }
      ]
    },
    {
      "cell_type": "markdown",
      "metadata": {
        "id": "PAq4qni-aeli"
      },
      "source": [
        "###**eye**"
      ]
    },
    {
      "cell_type": "markdown",
      "metadata": {
        "id": "r_qPbd5sa1rx"
      },
      "source": [
        "Monta uma matriz identidade"
      ]
    },
    {
      "cell_type": "code",
      "metadata": {
        "colab": {
          "base_uri": "https://localhost:8080/"
        },
        "id": "YrxVAmPkb6ut",
        "outputId": "27c877e9-b16c-4bf5-f04c-acabbeeb735b"
      },
      "source": [
        "a1 = np.eye(10)\n",
        "a1"
      ],
      "execution_count": null,
      "outputs": [
        {
          "output_type": "execute_result",
          "data": {
            "text/plain": [
              "array([[1., 0., 0., 0., 0., 0., 0., 0., 0., 0.],\n",
              "       [0., 1., 0., 0., 0., 0., 0., 0., 0., 0.],\n",
              "       [0., 0., 1., 0., 0., 0., 0., 0., 0., 0.],\n",
              "       [0., 0., 0., 1., 0., 0., 0., 0., 0., 0.],\n",
              "       [0., 0., 0., 0., 1., 0., 0., 0., 0., 0.],\n",
              "       [0., 0., 0., 0., 0., 1., 0., 0., 0., 0.],\n",
              "       [0., 0., 0., 0., 0., 0., 1., 0., 0., 0.],\n",
              "       [0., 0., 0., 0., 0., 0., 0., 1., 0., 0.],\n",
              "       [0., 0., 0., 0., 0., 0., 0., 0., 1., 0.],\n",
              "       [0., 0., 0., 0., 0., 0., 0., 0., 0., 1.]])"
            ]
          },
          "metadata": {},
          "execution_count": 116
        }
      ]
    },
    {
      "cell_type": "code",
      "metadata": {
        "colab": {
          "base_uri": "https://localhost:8080/"
        },
        "id": "A6KsDENIb62G",
        "outputId": "970289b4-dad4-4338-bc9d-e2235d2c7edc"
      },
      "source": [
        "a2 = np.eye(5)*np.pi\n",
        "a2"
      ],
      "execution_count": null,
      "outputs": [
        {
          "output_type": "execute_result",
          "data": {
            "text/plain": [
              "array([[3.14159265, 0.        , 0.        , 0.        , 0.        ],\n",
              "       [0.        , 3.14159265, 0.        , 0.        , 0.        ],\n",
              "       [0.        , 0.        , 3.14159265, 0.        , 0.        ],\n",
              "       [0.        , 0.        , 0.        , 3.14159265, 0.        ],\n",
              "       [0.        , 0.        , 0.        , 0.        , 3.14159265]])"
            ]
          },
          "metadata": {},
          "execution_count": 205
        }
      ]
    },
    {
      "cell_type": "markdown",
      "metadata": {
        "id": "G8YGSV8magVk"
      },
      "source": [
        "###**arange**"
      ]
    },
    {
      "cell_type": "markdown",
      "metadata": {
        "id": "4R5lGR26a2Lk"
      },
      "source": [
        "Cria uma array a partir das informações inseridas, como: início, fim e passo"
      ]
    },
    {
      "cell_type": "code",
      "metadata": {
        "colab": {
          "base_uri": "https://localhost:8080/"
        },
        "id": "aqSA-UyjcoA7",
        "outputId": "b2301e45-bb96-4903-bce7-1f9eef552873"
      },
      "source": [
        "a1 = np.arange(1,5,0.5)\n",
        "a1"
      ],
      "execution_count": null,
      "outputs": [
        {
          "output_type": "execute_result",
          "data": {
            "text/plain": [
              "array([1. , 1.5, 2. , 2.5, 3. , 3.5, 4. , 4.5])"
            ]
          },
          "metadata": {},
          "execution_count": 208
        }
      ]
    },
    {
      "cell_type": "code",
      "metadata": {
        "colab": {
          "base_uri": "https://localhost:8080/"
        },
        "id": "a1OIf8c5coG_",
        "outputId": "a1ea1bc2-e2ec-44d6-81e0-8d18c976b2dc"
      },
      "source": [
        "a2 = np.arange(1,10,2)\n",
        "a2"
      ],
      "execution_count": null,
      "outputs": [
        {
          "output_type": "execute_result",
          "data": {
            "text/plain": [
              "array([1, 3, 5, 7, 9])"
            ]
          },
          "metadata": {},
          "execution_count": 209
        }
      ]
    },
    {
      "cell_type": "code",
      "metadata": {
        "colab": {
          "base_uri": "https://localhost:8080/"
        },
        "id": "DivGmuTUcyoF",
        "outputId": "b9dbb6bf-cba4-46d6-d567-ff2120e33dc1"
      },
      "source": [
        "a3 = np.arange(10)\n",
        "\n",
        "#início = 0\n",
        "#passo = 1\n",
        "\n",
        "a3"
      ],
      "execution_count": null,
      "outputs": [
        {
          "output_type": "execute_result",
          "data": {
            "text/plain": [
              "array([0, 1, 2, 3, 4, 5, 6, 7, 8, 9])"
            ]
          },
          "metadata": {},
          "execution_count": 210
        }
      ]
    },
    {
      "cell_type": "code",
      "metadata": {
        "colab": {
          "base_uri": "https://localhost:8080/"
        },
        "id": "re0uxdqVc2_-",
        "outputId": "77badb47-e8cd-459e-9fef-dc7d173c2dfa"
      },
      "source": [
        "a4 = np.arange(100)\n",
        "a4"
      ],
      "execution_count": null,
      "outputs": [
        {
          "output_type": "execute_result",
          "data": {
            "text/plain": [
              "array([ 0,  1,  2,  3,  4,  5,  6,  7,  8,  9, 10, 11, 12, 13, 14, 15, 16,\n",
              "       17, 18, 19, 20, 21, 22, 23, 24, 25, 26, 27, 28, 29, 30, 31, 32, 33,\n",
              "       34, 35, 36, 37, 38, 39, 40, 41, 42, 43, 44, 45, 46, 47, 48, 49, 50,\n",
              "       51, 52, 53, 54, 55, 56, 57, 58, 59, 60, 61, 62, 63, 64, 65, 66, 67,\n",
              "       68, 69, 70, 71, 72, 73, 74, 75, 76, 77, 78, 79, 80, 81, 82, 83, 84,\n",
              "       85, 86, 87, 88, 89, 90, 91, 92, 93, 94, 95, 96, 97, 98, 99])"
            ]
          },
          "metadata": {},
          "execution_count": 211
        }
      ]
    },
    {
      "cell_type": "code",
      "metadata": {
        "colab": {
          "base_uri": "https://localhost:8080/"
        },
        "id": "XPnW0YAidBTE",
        "outputId": "56f98f06-5f71-4173-b1ec-33b3fad3218f"
      },
      "source": [
        "a5 = np.array([5,6,7,8,9])\n",
        "a6 = np.arange(5)\n",
        "\n",
        "print(a5)\n",
        "print(a6)\n",
        "\n",
        "a5 - a6"
      ],
      "execution_count": null,
      "outputs": [
        {
          "output_type": "stream",
          "name": "stdout",
          "text": [
            "[5 6 7 8 9]\n",
            "[0 1 2 3 4]\n"
          ]
        },
        {
          "output_type": "execute_result",
          "data": {
            "text/plain": [
              "array([5, 5, 5, 5, 5])"
            ]
          },
          "metadata": {},
          "execution_count": 213
        }
      ]
    },
    {
      "cell_type": "markdown",
      "metadata": {
        "id": "R7c2nOjgain3"
      },
      "source": [
        "###**linspace**"
      ]
    },
    {
      "cell_type": "markdown",
      "metadata": {
        "id": "mpZbVPMUa2od"
      },
      "source": [
        "Cria uma array a partir das informações inseridas, como: início, fim e quantidade"
      ]
    },
    {
      "cell_type": "code",
      "metadata": {
        "colab": {
          "base_uri": "https://localhost:8080/"
        },
        "id": "nAZedciKdvUe",
        "outputId": "2c1c30da-b1cc-4600-961d-9423a09a4f64"
      },
      "source": [
        "a1 = np.linspace(1,5,7)\n",
        "a1"
      ],
      "execution_count": null,
      "outputs": [
        {
          "output_type": "execute_result",
          "data": {
            "text/plain": [
              "array([1.        , 1.66666667, 2.33333333, 3.        , 3.66666667,\n",
              "       4.33333333, 5.        ])"
            ]
          },
          "metadata": {},
          "execution_count": 214
        }
      ]
    },
    {
      "cell_type": "code",
      "metadata": {
        "colab": {
          "base_uri": "https://localhost:8080/"
        },
        "id": "4Y0BKhlsdvdD",
        "outputId": "97482adb-0675-447d-d682-40ff3b86800e"
      },
      "source": [
        "a2 = np.linspace(1,10,12)\n",
        "a2"
      ],
      "execution_count": null,
      "outputs": [
        {
          "output_type": "execute_result",
          "data": {
            "text/plain": [
              "array([ 1.        ,  1.81818182,  2.63636364,  3.45454545,  4.27272727,\n",
              "        5.09090909,  5.90909091,  6.72727273,  7.54545455,  8.36363636,\n",
              "        9.18181818, 10.        ])"
            ]
          },
          "metadata": {},
          "execution_count": 220
        }
      ]
    },
    {
      "cell_type": "code",
      "metadata": {
        "colab": {
          "base_uri": "https://localhost:8080/"
        },
        "id": "WOlrXfHlRA5_",
        "outputId": "357e08ce-ce49-4be9-bd36-8bfced9019a3"
      },
      "source": [
        "a2.size"
      ],
      "execution_count": null,
      "outputs": [
        {
          "output_type": "execute_result",
          "data": {
            "text/plain": [
              "12"
            ]
          },
          "metadata": {},
          "execution_count": 221
        }
      ]
    },
    {
      "cell_type": "code",
      "metadata": {
        "colab": {
          "base_uri": "https://localhost:8080/"
        },
        "id": "pTcF6jc5dvht",
        "outputId": "30d135a6-4b16-492a-fa6d-d39887449e72"
      },
      "source": [
        "a1.size"
      ],
      "execution_count": null,
      "outputs": [
        {
          "output_type": "execute_result",
          "data": {
            "text/plain": [
              "7"
            ]
          },
          "metadata": {},
          "execution_count": 215
        }
      ]
    },
    {
      "cell_type": "code",
      "metadata": {
        "colab": {
          "base_uri": "https://localhost:8080/"
        },
        "id": "qL1cWQUJnYFl",
        "outputId": "100fa82a-1aa2-43d3-a288-a01639c29bed"
      },
      "source": [
        "a3 = np.linspace(0,np.pi,3)\n",
        "a3"
      ],
      "execution_count": null,
      "outputs": [
        {
          "output_type": "execute_result",
          "data": {
            "text/plain": [
              "array([0.        , 1.57079633, 3.14159265])"
            ]
          },
          "metadata": {},
          "execution_count": 222
        }
      ]
    },
    {
      "cell_type": "markdown",
      "metadata": {
        "id": "YLXCfshqatvB"
      },
      "source": [
        "###**reshape**"
      ]
    },
    {
      "cell_type": "markdown",
      "metadata": {
        "id": "iYdSxy2la4T0"
      },
      "source": [
        "Retorna um array com o shape indicado"
      ]
    },
    {
      "cell_type": "code",
      "metadata": {
        "colab": {
          "base_uri": "https://localhost:8080/"
        },
        "id": "zWD27iLNn6TL",
        "outputId": "cb337fd4-0d48-4e8c-c644-f42e0e867c9c"
      },
      "source": [
        "a1 = np.zeros(8)\n",
        "a1"
      ],
      "execution_count": null,
      "outputs": [
        {
          "output_type": "execute_result",
          "data": {
            "text/plain": [
              "array([0., 0., 0., 0., 0., 0., 0., 0.])"
            ]
          },
          "metadata": {},
          "execution_count": 223
        }
      ]
    },
    {
      "cell_type": "code",
      "metadata": {
        "colab": {
          "base_uri": "https://localhost:8080/"
        },
        "id": "dLuegBzuofeq",
        "outputId": "fab4ad91-8f47-4d17-e524-ce095060fd21"
      },
      "source": [
        "a1.shape"
      ],
      "execution_count": null,
      "outputs": [
        {
          "output_type": "execute_result",
          "data": {
            "text/plain": [
              "(8,)"
            ]
          },
          "metadata": {},
          "execution_count": 224
        }
      ]
    },
    {
      "cell_type": "code",
      "metadata": {
        "colab": {
          "base_uri": "https://localhost:8080/"
        },
        "id": "TmKPYDusoBjN",
        "outputId": "011fb623-8f3c-44c4-ecbc-4253f9f01597"
      },
      "source": [
        "a1 = a1.reshape(4,2)\n",
        "a1"
      ],
      "execution_count": null,
      "outputs": [
        {
          "output_type": "execute_result",
          "data": {
            "text/plain": [
              "array([[0., 0.],\n",
              "       [0., 0.],\n",
              "       [0., 0.],\n",
              "       [0., 0.]])"
            ]
          },
          "metadata": {},
          "execution_count": 228
        }
      ]
    },
    {
      "cell_type": "code",
      "metadata": {
        "colab": {
          "base_uri": "https://localhost:8080/"
        },
        "id": "aAJe-O1hoir5",
        "outputId": "14b41432-ff2f-456c-c2eb-9f58db1ff0b6"
      },
      "source": [
        "a1.shape"
      ],
      "execution_count": null,
      "outputs": [
        {
          "output_type": "execute_result",
          "data": {
            "text/plain": [
              "(4, 2)"
            ]
          },
          "metadata": {},
          "execution_count": 229
        }
      ]
    },
    {
      "cell_type": "markdown",
      "metadata": {
        "id": "PaBskcypaxEc"
      },
      "source": [
        "###**resize**"
      ]
    },
    {
      "cell_type": "markdown",
      "metadata": {
        "id": "PtMS42Jca4s0"
      },
      "source": [
        "Modificado o shape do array em que está sendo aplicado"
      ]
    },
    {
      "cell_type": "code",
      "metadata": {
        "colab": {
          "base_uri": "https://localhost:8080/"
        },
        "id": "vtAnJn5Fo0Fh",
        "outputId": "4f12ea2b-28ab-4d06-fd2f-25d31d9edcbb"
      },
      "source": [
        "a1 = np.ones(10)\n",
        "a1"
      ],
      "execution_count": null,
      "outputs": [
        {
          "output_type": "execute_result",
          "data": {
            "text/plain": [
              "array([1., 1., 1., 1., 1., 1., 1., 1., 1., 1.])"
            ]
          },
          "metadata": {},
          "execution_count": 230
        }
      ]
    },
    {
      "cell_type": "code",
      "metadata": {
        "colab": {
          "base_uri": "https://localhost:8080/"
        },
        "id": "77oXOEe4o3A0",
        "outputId": "157c1d14-4639-4161-af6f-fbae0f78ddf4"
      },
      "source": [
        "a1.size"
      ],
      "execution_count": null,
      "outputs": [
        {
          "output_type": "execute_result",
          "data": {
            "text/plain": [
              "10"
            ]
          },
          "metadata": {},
          "execution_count": 231
        }
      ]
    },
    {
      "cell_type": "code",
      "metadata": {
        "colab": {
          "base_uri": "https://localhost:8080/"
        },
        "id": "sgacNJQfp1-G",
        "outputId": "6796671b-32fd-47f7-a3b7-dd3b71299783"
      },
      "source": [
        "a1.resize(2,5)\n",
        "a1"
      ],
      "execution_count": null,
      "outputs": [
        {
          "output_type": "execute_result",
          "data": {
            "text/plain": [
              "array([[1., 1., 1., 1., 1.],\n",
              "       [1., 1., 1., 1., 1.]])"
            ]
          },
          "metadata": {},
          "execution_count": 63
        }
      ]
    },
    {
      "cell_type": "markdown",
      "metadata": {
        "id": "o8NnLU30qcpI"
      },
      "source": [
        "###**vstack**"
      ]
    },
    {
      "cell_type": "markdown",
      "metadata": {
        "id": "Jb1uMOY0qhpA"
      },
      "source": [
        "Adiciona elementos de um ou mais array"
      ]
    },
    {
      "cell_type": "code",
      "metadata": {
        "colab": {
          "base_uri": "https://localhost:8080/"
        },
        "id": "CQPx40g-qiFS",
        "outputId": "471362a0-b494-4ca5-c483-434c56358b1b"
      },
      "source": [
        "a1 = np.zeros(5)\n",
        "a1"
      ],
      "execution_count": null,
      "outputs": [
        {
          "output_type": "execute_result",
          "data": {
            "text/plain": [
              "array([0., 0., 0., 0., 0.])"
            ]
          },
          "metadata": {},
          "execution_count": 235
        }
      ]
    },
    {
      "cell_type": "code",
      "metadata": {
        "colab": {
          "base_uri": "https://localhost:8080/"
        },
        "id": "lSjHyCaWqqMx",
        "outputId": "f99c7041-572d-4b95-f05b-088a7b418874"
      },
      "source": [
        "a2 = np.ones(5)\n",
        "a2"
      ],
      "execution_count": null,
      "outputs": [
        {
          "output_type": "execute_result",
          "data": {
            "text/plain": [
              "array([1., 1., 1., 1., 1.])"
            ]
          },
          "metadata": {},
          "execution_count": 236
        }
      ]
    },
    {
      "cell_type": "code",
      "metadata": {
        "colab": {
          "base_uri": "https://localhost:8080/"
        },
        "id": "JfKLCYliSXgN",
        "outputId": "72a3b2e8-d1e9-4f2e-9fa4-1f81e97ca8a8"
      },
      "source": [
        "a3 = np.vstack((a1,a2))\n",
        "a3"
      ],
      "execution_count": null,
      "outputs": [
        {
          "output_type": "execute_result",
          "data": {
            "text/plain": [
              "array([[0., 0., 0., 0., 0.],\n",
              "       [1., 1., 1., 1., 1.]])"
            ]
          },
          "metadata": {},
          "execution_count": 237
        }
      ]
    },
    {
      "cell_type": "code",
      "metadata": {
        "colab": {
          "base_uri": "https://localhost:8080/"
        },
        "id": "k4NgvdCFq37o",
        "outputId": "01f426e4-ec4b-4c23-ef35-e6d661ad4984"
      },
      "source": [
        "a4 = np.hstack((a1,a2))\n",
        "a4"
      ],
      "execution_count": null,
      "outputs": [
        {
          "output_type": "execute_result",
          "data": {
            "text/plain": [
              "array([0., 0., 0., 0., 0., 1., 1., 1., 1., 1.])"
            ]
          },
          "metadata": {},
          "execution_count": 68
        }
      ]
    },
    {
      "cell_type": "markdown",
      "metadata": {
        "id": "5bqLZdD5lh_B"
      },
      "source": [
        "##**Métodos matemáticos**"
      ]
    },
    {
      "cell_type": "markdown",
      "metadata": {
        "id": "7yBroiGcsbje"
      },
      "source": [
        "###**max**"
      ]
    },
    {
      "cell_type": "markdown",
      "metadata": {
        "id": "s8O42CfXs5au"
      },
      "source": [
        "Retorna o valor máximo"
      ]
    },
    {
      "cell_type": "code",
      "metadata": {
        "colab": {
          "base_uri": "https://localhost:8080/"
        },
        "id": "Aje7NpSQtOJk",
        "outputId": "12c5e1bd-565a-4329-de82-561ebf6040d3"
      },
      "source": [
        "a1 = np.arange(6).reshape(2,3)\n",
        "a1"
      ],
      "execution_count": null,
      "outputs": [
        {
          "output_type": "execute_result",
          "data": {
            "text/plain": [
              "array([[0, 1, 2],\n",
              "       [3, 4, 5]])"
            ]
          },
          "metadata": {},
          "execution_count": 238
        }
      ]
    },
    {
      "cell_type": "code",
      "metadata": {
        "colab": {
          "base_uri": "https://localhost:8080/"
        },
        "id": "6Mc4DhirtVss",
        "outputId": "5d7ab820-9983-44f0-87e6-46ed2adf62d6"
      },
      "source": [
        "a1.max()"
      ],
      "execution_count": null,
      "outputs": [
        {
          "output_type": "execute_result",
          "data": {
            "text/plain": [
              "5"
            ]
          },
          "metadata": {},
          "execution_count": 239
        }
      ]
    },
    {
      "cell_type": "code",
      "metadata": {
        "colab": {
          "base_uri": "https://localhost:8080/"
        },
        "id": "QjWGboBLuIZZ",
        "outputId": "d33570d5-6818-45e8-812d-70bf47493c37"
      },
      "source": [
        "a1[1][0] = 20\n",
        "\n",
        "print(a1)\n",
        "\n",
        "a1.max()"
      ],
      "execution_count": null,
      "outputs": [
        {
          "output_type": "stream",
          "name": "stdout",
          "text": [
            "[[ 0  1  2]\n",
            " [20  4  5]]\n"
          ]
        },
        {
          "output_type": "execute_result",
          "data": {
            "text/plain": [
              "20"
            ]
          },
          "metadata": {},
          "execution_count": 240
        }
      ]
    },
    {
      "cell_type": "markdown",
      "metadata": {
        "id": "U79r85MmsfQL"
      },
      "source": [
        "###**min**"
      ]
    },
    {
      "cell_type": "markdown",
      "metadata": {
        "id": "pz4NyncMs7A7"
      },
      "source": [
        "Retorna o valor mínimo"
      ]
    },
    {
      "cell_type": "code",
      "metadata": {
        "colab": {
          "base_uri": "https://localhost:8080/"
        },
        "id": "oO2grJe1tqif",
        "outputId": "f1fc6ebe-3b6f-42dc-d333-fbd40d336d62"
      },
      "source": [
        "a2 = np.arange(12).reshape(3,4)\n",
        "a2"
      ],
      "execution_count": null,
      "outputs": [
        {
          "output_type": "execute_result",
          "data": {
            "text/plain": [
              "array([[ 0,  1,  2,  3],\n",
              "       [ 4,  5,  6,  7],\n",
              "       [ 8,  9, 10, 11]])"
            ]
          },
          "metadata": {},
          "execution_count": 243
        }
      ]
    },
    {
      "cell_type": "code",
      "metadata": {
        "colab": {
          "base_uri": "https://localhost:8080/"
        },
        "id": "BlQW-GZdt6ju",
        "outputId": "28d5a85f-2bd0-4120-d496-735a0f5fdb5c"
      },
      "source": [
        "a2.min()"
      ],
      "execution_count": null,
      "outputs": [
        {
          "output_type": "execute_result",
          "data": {
            "text/plain": [
              "0"
            ]
          },
          "metadata": {},
          "execution_count": 244
        }
      ]
    },
    {
      "cell_type": "code",
      "metadata": {
        "colab": {
          "base_uri": "https://localhost:8080/"
        },
        "id": "Nh78g-D8t-py",
        "outputId": "224f2f37-009e-48bc-9acb-5de0d2e94839"
      },
      "source": [
        "a2[0][0] = 10\n",
        "a2[2][3] = -1\n",
        "\n",
        "a2.min()"
      ],
      "execution_count": null,
      "outputs": [
        {
          "output_type": "execute_result",
          "data": {
            "text/plain": [
              "-1"
            ]
          },
          "metadata": {},
          "execution_count": 246
        }
      ]
    },
    {
      "cell_type": "code",
      "metadata": {
        "colab": {
          "base_uri": "https://localhost:8080/"
        },
        "id": "nJYatOWCT52X",
        "outputId": "0c037e4d-e3ba-499c-e9d1-82fc96ee2102"
      },
      "source": [
        "a2"
      ],
      "execution_count": null,
      "outputs": [
        {
          "output_type": "execute_result",
          "data": {
            "text/plain": [
              "array([[10,  1,  2,  3],\n",
              "       [ 4,  5,  6,  7],\n",
              "       [ 8,  9, 10, -1]])"
            ]
          },
          "metadata": {},
          "execution_count": 247
        }
      ]
    },
    {
      "cell_type": "markdown",
      "metadata": {
        "id": "Z337KQCasgy7"
      },
      "source": [
        "###**argmax**"
      ]
    },
    {
      "cell_type": "markdown",
      "metadata": {
        "id": "eWVghG8Ws9rA"
      },
      "source": [
        "Retorna o índice do valor máximo"
      ]
    },
    {
      "cell_type": "code",
      "metadata": {
        "colab": {
          "base_uri": "https://localhost:8080/"
        },
        "id": "L_CcxcuEuOFh",
        "outputId": "1a59813e-3f47-4c1e-b1c7-528f77b6058b"
      },
      "source": [
        "a1 = np.arange(10).reshape(2,5)\n",
        "a1"
      ],
      "execution_count": null,
      "outputs": [
        {
          "output_type": "execute_result",
          "data": {
            "text/plain": [
              "array([[0, 1, 2, 3, 4],\n",
              "       [5, 6, 7, 8, 9]])"
            ]
          },
          "metadata": {},
          "execution_count": 250
        }
      ]
    },
    {
      "cell_type": "code",
      "metadata": {
        "colab": {
          "base_uri": "https://localhost:8080/"
        },
        "id": "6bUjs7m_umXT",
        "outputId": "13d2e7c1-7a77-4928-dbb8-abfc8ca28e89"
      },
      "source": [
        "a1.argmax()"
      ],
      "execution_count": null,
      "outputs": [
        {
          "output_type": "execute_result",
          "data": {
            "text/plain": [
              "9"
            ]
          },
          "metadata": {},
          "execution_count": 251
        }
      ]
    },
    {
      "cell_type": "markdown",
      "metadata": {
        "id": "4VFfsEbvsja_"
      },
      "source": [
        "###**argmin**"
      ]
    },
    {
      "cell_type": "markdown",
      "metadata": {
        "id": "febv2lt-s_vG"
      },
      "source": [
        "Retorna o índice do valor mínimo"
      ]
    },
    {
      "cell_type": "code",
      "metadata": {
        "colab": {
          "base_uri": "https://localhost:8080/"
        },
        "id": "PB5k-A-luqEE",
        "outputId": "dfebc874-ec40-466c-c6f2-7f39575dacbe"
      },
      "source": [
        "a2 = np.arange(20).reshape(4,5)\n",
        "a2"
      ],
      "execution_count": null,
      "outputs": [
        {
          "output_type": "execute_result",
          "data": {
            "text/plain": [
              "array([[ 0,  1,  2,  3,  4],\n",
              "       [ 5,  6,  7,  8,  9],\n",
              "       [10, 11, 12, 13, 14],\n",
              "       [15, 16, 17, 18, 19]])"
            ]
          },
          "metadata": {},
          "execution_count": 252
        }
      ]
    },
    {
      "cell_type": "code",
      "metadata": {
        "colab": {
          "base_uri": "https://localhost:8080/"
        },
        "id": "vJIE0c9MUaQK",
        "outputId": "3a8543f9-1d82-4545-cc6c-b6ad4fef8340"
      },
      "source": [
        "a2[3][4] = -1\n",
        "\n",
        "a2"
      ],
      "execution_count": null,
      "outputs": [
        {
          "output_type": "execute_result",
          "data": {
            "text/plain": [
              "array([[ 0,  1,  2,  3,  4],\n",
              "       [ 5,  6,  7,  8,  9],\n",
              "       [10, 11, 12, 13, 14],\n",
              "       [15, 16, 17, 18, -1]])"
            ]
          },
          "metadata": {},
          "execution_count": 255
        }
      ]
    },
    {
      "cell_type": "code",
      "metadata": {
        "colab": {
          "base_uri": "https://localhost:8080/"
        },
        "id": "pJR7fVi6uxEZ",
        "outputId": "7bbb0e70-79bf-4193-9def-b640602e85b6"
      },
      "source": [
        "a2.argmin()"
      ],
      "execution_count": null,
      "outputs": [
        {
          "output_type": "execute_result",
          "data": {
            "text/plain": [
              "19"
            ]
          },
          "metadata": {},
          "execution_count": 256
        }
      ]
    },
    {
      "cell_type": "code",
      "metadata": {
        "colab": {
          "base_uri": "https://localhost:8080/"
        },
        "id": "gWeqLhsUu1i6",
        "outputId": "8c09b25a-1cf3-4694-b95c-e507ad4a264a"
      },
      "source": [
        "a2[0][0] = 20\n",
        "a2.argmin()"
      ],
      "execution_count": null,
      "outputs": [
        {
          "output_type": "execute_result",
          "data": {
            "text/plain": [
              "19"
            ]
          },
          "metadata": {},
          "execution_count": 257
        }
      ]
    },
    {
      "cell_type": "markdown",
      "metadata": {
        "id": "emS-aeA1slY-"
      },
      "source": [
        "###**sum**"
      ]
    },
    {
      "cell_type": "markdown",
      "metadata": {
        "id": "9PqoWqaTtDGa"
      },
      "source": [
        "Retorna a soma"
      ]
    },
    {
      "cell_type": "code",
      "metadata": {
        "colab": {
          "base_uri": "https://localhost:8080/"
        },
        "id": "vEmwH1pXvA7u",
        "outputId": "8b0525cc-d48f-4d52-ee5e-dc778c074523"
      },
      "source": [
        "a1 = np.arange(10).reshape(2,5)\n",
        "\n",
        "print(a1)\n",
        "\n",
        "a1.sum()"
      ],
      "execution_count": null,
      "outputs": [
        {
          "output_type": "stream",
          "name": "stdout",
          "text": [
            "[[0 1 2 3 4]\n",
            " [5 6 7 8 9]]\n"
          ]
        },
        {
          "output_type": "execute_result",
          "data": {
            "text/plain": [
              "45"
            ]
          },
          "metadata": {},
          "execution_count": 258
        }
      ]
    },
    {
      "cell_type": "code",
      "metadata": {
        "colab": {
          "base_uri": "https://localhost:8080/"
        },
        "id": "t12g6Hd-vBNN",
        "outputId": "668c4206-3184-4fc7-d727-496a977bac94"
      },
      "source": [
        "a2 = np.arange(6).reshape(2,3)\n",
        "\n",
        "print(a2)\n",
        "\n",
        "a2.sum()"
      ],
      "execution_count": null,
      "outputs": [
        {
          "output_type": "stream",
          "name": "stdout",
          "text": [
            "[[0 1 2]\n",
            " [3 4 5]]\n"
          ]
        },
        {
          "output_type": "execute_result",
          "data": {
            "text/plain": [
              "15"
            ]
          },
          "metadata": {},
          "execution_count": 259
        }
      ]
    },
    {
      "cell_type": "markdown",
      "metadata": {
        "id": "00Cj3KV_sn1e"
      },
      "source": [
        "###**mean**"
      ]
    },
    {
      "cell_type": "markdown",
      "metadata": {
        "id": "o8Le6itwtE2f"
      },
      "source": [
        "Retorna a média"
      ]
    },
    {
      "cell_type": "code",
      "metadata": {
        "colab": {
          "base_uri": "https://localhost:8080/"
        },
        "id": "b_frMOqSvVta",
        "outputId": "3b86ba42-83fb-4eac-ee69-380cf18857e0"
      },
      "source": [
        "a1 = np.arange(10).reshape(2,5)\n",
        "\n",
        "print(a1)\n",
        "\n",
        "a1.mean()"
      ],
      "execution_count": null,
      "outputs": [
        {
          "output_type": "stream",
          "name": "stdout",
          "text": [
            "[[0 1 2 3 4]\n",
            " [5 6 7 8 9]]\n"
          ]
        },
        {
          "output_type": "execute_result",
          "data": {
            "text/plain": [
              "4.5"
            ]
          },
          "metadata": {},
          "execution_count": 260
        }
      ]
    },
    {
      "cell_type": "code",
      "metadata": {
        "colab": {
          "base_uri": "https://localhost:8080/"
        },
        "id": "HKYSLp_IvVwI",
        "outputId": "859ba762-400f-4835-a4a0-29b6d8d8e096"
      },
      "source": [
        "a2 = np.arange(6).reshape(2,3)\n",
        "\n",
        "print(a2)\n",
        "\n",
        "a2.mean()"
      ],
      "execution_count": null,
      "outputs": [
        {
          "output_type": "stream",
          "name": "stdout",
          "text": [
            "[[0 1 2]\n",
            " [3 4 5]]\n"
          ]
        },
        {
          "output_type": "execute_result",
          "data": {
            "text/plain": [
              "2.5"
            ]
          },
          "metadata": {},
          "execution_count": 261
        }
      ]
    },
    {
      "cell_type": "markdown",
      "metadata": {
        "id": "TcAaAv2lspec"
      },
      "source": [
        "###**std**"
      ]
    },
    {
      "cell_type": "markdown",
      "metadata": {
        "id": "e0sD-J0QtE7s"
      },
      "source": [
        "Retorna o desvio padrão"
      ]
    },
    {
      "cell_type": "code",
      "metadata": {
        "colab": {
          "base_uri": "https://localhost:8080/"
        },
        "id": "LEni_TgXvcV6",
        "outputId": "d8cf4a94-ea7f-494e-c4ff-61f240eec380"
      },
      "source": [
        "a1 = np.arange(10).reshape(2,5)\n",
        "\n",
        "print(a1)\n",
        "\n",
        "a1.std()"
      ],
      "execution_count": null,
      "outputs": [
        {
          "output_type": "stream",
          "name": "stdout",
          "text": [
            "[[0 1 2 3 4]\n",
            " [5 6 7 8 9]]\n"
          ]
        },
        {
          "output_type": "execute_result",
          "data": {
            "text/plain": [
              "2.8722813232690143"
            ]
          },
          "metadata": {},
          "execution_count": 262
        }
      ]
    },
    {
      "cell_type": "code",
      "metadata": {
        "colab": {
          "base_uri": "https://localhost:8080/"
        },
        "id": "i19sC4YTvcZK",
        "outputId": "74345de5-1b06-4be6-b003-91b28f9a6e8f"
      },
      "source": [
        "a2 = np.arange(6).reshape(2,3)\n",
        "\n",
        "print(a2)\n",
        "\n",
        "a2.std()"
      ],
      "execution_count": null,
      "outputs": [
        {
          "output_type": "stream",
          "name": "stdout",
          "text": [
            "[[0 1 2]\n",
            " [3 4 5]]\n"
          ]
        },
        {
          "output_type": "execute_result",
          "data": {
            "text/plain": [
              "1.707825127659933"
            ]
          },
          "metadata": {},
          "execution_count": 263
        }
      ]
    },
    {
      "cell_type": "markdown",
      "metadata": {
        "id": "YNO004_plk9S"
      },
      "source": [
        "##**Índices e Fatias**"
      ]
    },
    {
      "cell_type": "code",
      "metadata": {
        "colab": {
          "base_uri": "https://localhost:8080/"
        },
        "id": "Md-8441dwV-6",
        "outputId": "6c79b1fd-c192-4a39-ac35-c4dfa68440f1"
      },
      "source": [
        "a = np.arange(20)**2\n",
        "a"
      ],
      "execution_count": null,
      "outputs": [
        {
          "output_type": "execute_result",
          "data": {
            "text/plain": [
              "array([  0,   1,   4,   9,  16,  25,  36,  49,  64,  81, 100, 121, 144,\n",
              "       169, 196, 225, 256, 289, 324, 361])"
            ]
          },
          "metadata": {},
          "execution_count": 264
        }
      ]
    },
    {
      "cell_type": "markdown",
      "metadata": {
        "id": "12m75T-7v6pJ"
      },
      "source": [
        "###**[i]**\n"
      ]
    },
    {
      "cell_type": "code",
      "metadata": {
        "colab": {
          "base_uri": "https://localhost:8080/"
        },
        "id": "dp4g8qk2wx1d",
        "outputId": "829b4001-051b-4cd8-8002-29d75f441f2c"
      },
      "source": [
        "a[10]"
      ],
      "execution_count": null,
      "outputs": [
        {
          "output_type": "execute_result",
          "data": {
            "text/plain": [
              "100"
            ]
          },
          "metadata": {},
          "execution_count": 265
        }
      ]
    },
    {
      "cell_type": "markdown",
      "metadata": {
        "id": "M-ypzDL_v6t-"
      },
      "source": [
        "###**[:i]**"
      ]
    },
    {
      "cell_type": "code",
      "metadata": {
        "colab": {
          "base_uri": "https://localhost:8080/"
        },
        "id": "nYTwuuUDw7Cr",
        "outputId": "8252d828-da8e-4241-867b-30ac58b9c413"
      },
      "source": [
        "a[:10]"
      ],
      "execution_count": null,
      "outputs": [
        {
          "output_type": "execute_result",
          "data": {
            "text/plain": [
              "array([ 0,  1,  4,  9, 16, 25, 36, 49, 64, 81])"
            ]
          },
          "metadata": {},
          "execution_count": 115
        }
      ]
    },
    {
      "cell_type": "markdown",
      "metadata": {
        "id": "_ETqlPtOv6yh"
      },
      "source": [
        "###**[i:]**"
      ]
    },
    {
      "cell_type": "code",
      "metadata": {
        "colab": {
          "base_uri": "https://localhost:8080/"
        },
        "id": "nILMizlXw-0X",
        "outputId": "1d9541d2-3f79-464e-8ecb-d2e0a5fd5b59"
      },
      "source": [
        "a[10:]"
      ],
      "execution_count": null,
      "outputs": [
        {
          "output_type": "execute_result",
          "data": {
            "text/plain": [
              "array([100, 121, 144, 169, 196, 225, 256, 289, 324, 361])"
            ]
          },
          "metadata": {},
          "execution_count": 116
        }
      ]
    },
    {
      "cell_type": "markdown",
      "metadata": {
        "id": "U_joXHt8v63S"
      },
      "source": [
        "###**[i1:i2]**"
      ]
    },
    {
      "cell_type": "code",
      "metadata": {
        "colab": {
          "base_uri": "https://localhost:8080/"
        },
        "id": "f-PU-C9txBvX",
        "outputId": "ebc40f2c-0cef-4988-87c7-56ae716642e5"
      },
      "source": [
        "a[2:13]"
      ],
      "execution_count": null,
      "outputs": [
        {
          "output_type": "execute_result",
          "data": {
            "text/plain": [
              "array([  4,   9,  16,  25,  36,  49,  64,  81, 100, 121, 144])"
            ]
          },
          "metadata": {},
          "execution_count": 117
        }
      ]
    },
    {
      "cell_type": "markdown",
      "metadata": {
        "id": "BsWCZMpEv65_"
      },
      "source": [
        "###**[::i]**"
      ]
    },
    {
      "cell_type": "code",
      "metadata": {
        "colab": {
          "base_uri": "https://localhost:8080/"
        },
        "id": "IjNP5cpnxGll",
        "outputId": "4e0d1591-de1a-4e47-836f-fd6103d89992"
      },
      "source": [
        "a[::2]"
      ],
      "execution_count": null,
      "outputs": [
        {
          "output_type": "execute_result",
          "data": {
            "text/plain": [
              "array([  0,   4,  16,  36,  64, 100, 144, 196, 256, 324])"
            ]
          },
          "metadata": {},
          "execution_count": 118
        }
      ]
    },
    {
      "cell_type": "markdown",
      "metadata": {
        "id": "iLjAW7ADwPMv"
      },
      "source": [
        "###**[::-1]**"
      ]
    },
    {
      "cell_type": "code",
      "metadata": {
        "colab": {
          "base_uri": "https://localhost:8080/"
        },
        "id": "FDqRBcwBxQzY",
        "outputId": "f3d9d903-40bf-4ca3-dba7-5cc0fe1a1e9c"
      },
      "source": [
        "a[::-1]"
      ],
      "execution_count": null,
      "outputs": [
        {
          "output_type": "execute_result",
          "data": {
            "text/plain": [
              "array([361, 324, 289, 256, 225, 196, 169, 144, 121, 100,  81,  64,  49,\n",
              "        36,  25,  16,   9,   4,   1,   0])"
            ]
          },
          "metadata": {},
          "execution_count": 119
        }
      ]
    },
    {
      "cell_type": "markdown",
      "metadata": {
        "id": "twRfbxRcwQ4a"
      },
      "source": [
        "###**[i1:i2:i3]**"
      ]
    },
    {
      "cell_type": "code",
      "metadata": {
        "colab": {
          "base_uri": "https://localhost:8080/"
        },
        "id": "cnBvRxoQxYTt",
        "outputId": "f46ba611-f8c9-49e4-9811-073b03502553"
      },
      "source": [
        "a[2:14:2]"
      ],
      "execution_count": null,
      "outputs": [
        {
          "output_type": "execute_result",
          "data": {
            "text/plain": [
              "array([  4,  16,  36,  64, 100, 144])"
            ]
          },
          "metadata": {},
          "execution_count": 121
        }
      ]
    },
    {
      "cell_type": "markdown",
      "metadata": {
        "id": "-2iEQKIcxwMy"
      },
      "source": [
        "###**[i,j]**"
      ]
    },
    {
      "cell_type": "code",
      "metadata": {
        "colab": {
          "base_uri": "https://localhost:8080/"
        },
        "id": "UCK2HIEwxmkS",
        "outputId": "db580a2e-3fbb-4adc-988b-d3f14950c286"
      },
      "source": [
        "a = np.arange(20).reshape(2,10)**2\n",
        "a"
      ],
      "execution_count": null,
      "outputs": [
        {
          "output_type": "execute_result",
          "data": {
            "text/plain": [
              "array([[  0,   1,   4,   9,  16,  25,  36,  49,  64,  81],\n",
              "       [100, 121, 144, 169, 196, 225, 256, 289, 324, 361]])"
            ]
          },
          "metadata": {},
          "execution_count": 268
        }
      ]
    },
    {
      "cell_type": "code",
      "metadata": {
        "colab": {
          "base_uri": "https://localhost:8080/"
        },
        "id": "C_63ZZZ9x239",
        "outputId": "ad58e3e8-090a-4ea7-b083-4115dc359ffb"
      },
      "source": [
        "a[1,8]"
      ],
      "execution_count": null,
      "outputs": [
        {
          "output_type": "execute_result",
          "data": {
            "text/plain": [
              "324"
            ]
          },
          "metadata": {},
          "execution_count": 269
        }
      ]
    },
    {
      "cell_type": "code",
      "metadata": {
        "colab": {
          "base_uri": "https://localhost:8080/"
        },
        "id": "5eiLvyUrx7uB",
        "outputId": "6fe51ea6-9487-4499-d0ca-6caad61c127a"
      },
      "source": [
        "a[0,5]"
      ],
      "execution_count": null,
      "outputs": [
        {
          "output_type": "execute_result",
          "data": {
            "text/plain": [
              "25"
            ]
          },
          "metadata": {},
          "execution_count": 270
        }
      ]
    },
    {
      "cell_type": "markdown",
      "metadata": {
        "id": "_K3gP8C5yAXI"
      },
      "source": [
        "###**[i,i1:i2]**"
      ]
    },
    {
      "cell_type": "code",
      "metadata": {
        "colab": {
          "base_uri": "https://localhost:8080/"
        },
        "id": "EOEO3o6KyAgv",
        "outputId": "d657600e-6d18-4d87-b7ea-a84761b394a2"
      },
      "source": [
        "a[0,2:7]"
      ],
      "execution_count": null,
      "outputs": [
        {
          "output_type": "execute_result",
          "data": {
            "text/plain": [
              "array([ 4,  9, 16, 25, 36])"
            ]
          },
          "metadata": {},
          "execution_count": 271
        }
      ]
    },
    {
      "cell_type": "code",
      "metadata": {
        "id": "ZfWO30ZjyOdo",
        "colab": {
          "base_uri": "https://localhost:8080/"
        },
        "outputId": "b05ab2e8-6e9f-43e6-a27f-b8db91f01137"
      },
      "source": [
        "a[1:3,9]"
      ],
      "execution_count": null,
      "outputs": [
        {
          "output_type": "execute_result",
          "data": {
            "text/plain": [
              "array([361])"
            ]
          },
          "metadata": {},
          "execution_count": 272
        }
      ]
    }
  ]
}